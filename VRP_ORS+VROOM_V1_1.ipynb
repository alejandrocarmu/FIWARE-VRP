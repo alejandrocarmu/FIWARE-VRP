{
  "cells": [
    {
      "cell_type": "markdown",
      "metadata": {
        "id": "view-in-github",
        "colab_type": "text"
      },
      "source": [
        "<a href=\"https://colab.research.google.com/github/alejandrocarmu/FIWARE-VRP/blob/main/VRP_ORS%2BVROOM_V1_1.ipynb\" target=\"_parent\"><img src=\"https://colab.research.google.com/assets/colab-badge.svg\" alt=\"Open In Colab\"/></a>"
      ]
    },
    {
      "cell_type": "markdown",
      "metadata": {
        "id": "yic_8unNSaTD"
      },
      "source": [
        "## VRP con Open Route Service y VROOM\n",
        "#### ORS + VROOM\n",
        "\n",
        "* https://github.com/GIScience/openrouteservice-py\n",
        "* https://openrouteservice.org/\n",
        "* https://openrouteservice-py.readthedocs.io/en/latest/\n",
        "* https://github.com/VROOM-Project/vroom/blob/master/docs/API.md"
      ]
    },
    {
      "cell_type": "markdown",
      "source": [
        "### Instalación de librerías\n",
        "Se instalan las librerías necesarias para poder hacer uso del notebook."
      ],
      "metadata": {
        "id": "0wNMlKPbSl13"
      }
    },
    {
      "cell_type": "code",
      "source": [
        "!pip install pandas\n",
        "!pip install datetime\n",
        "!pip install openrouteservice\n",
        "!pip install folium"
      ],
      "metadata": {
        "colab": {
          "base_uri": "https://localhost:8080/"
        },
        "id": "RqenrttSS9z6",
        "outputId": "61b95ac0-82e9-44c5-d459-8cd4bbcd58e8"
      },
      "execution_count": 22,
      "outputs": [
        {
          "output_type": "stream",
          "name": "stdout",
          "text": [
            "Requirement already satisfied: pandas in /usr/local/lib/python3.7/dist-packages (1.3.5)\n",
            "Requirement already satisfied: numpy>=1.17.3 in /usr/local/lib/python3.7/dist-packages (from pandas) (1.19.5)\n",
            "Requirement already satisfied: python-dateutil>=2.7.3 in /usr/local/lib/python3.7/dist-packages (from pandas) (2.8.2)\n",
            "Requirement already satisfied: pytz>=2017.3 in /usr/local/lib/python3.7/dist-packages (from pandas) (2018.9)\n",
            "Requirement already satisfied: six>=1.5 in /usr/local/lib/python3.7/dist-packages (from python-dateutil>=2.7.3->pandas) (1.15.0)\n",
            "Collecting datetime\n",
            "  Downloading DateTime-4.3-py2.py3-none-any.whl (60 kB)\n",
            "\u001b[K     |████████████████████████████████| 60 kB 3.1 MB/s \n",
            "\u001b[?25hCollecting zope.interface\n",
            "  Downloading zope.interface-5.4.0-cp37-cp37m-manylinux2010_x86_64.whl (251 kB)\n",
            "\u001b[K     |████████████████████████████████| 251 kB 11.3 MB/s \n",
            "\u001b[?25hRequirement already satisfied: pytz in /usr/local/lib/python3.7/dist-packages (from datetime) (2018.9)\n",
            "Requirement already satisfied: setuptools in /usr/local/lib/python3.7/dist-packages (from zope.interface->datetime) (57.4.0)\n",
            "Installing collected packages: zope.interface, datetime\n",
            "Successfully installed datetime-4.3 zope.interface-5.4.0\n",
            "Requirement already satisfied: openrouteservice in /usr/local/lib/python3.7/dist-packages (2.3.3)\n",
            "Requirement already satisfied: requests>=2.0 in /usr/local/lib/python3.7/dist-packages (from openrouteservice) (2.23.0)\n",
            "Requirement already satisfied: urllib3!=1.25.0,!=1.25.1,<1.26,>=1.21.1 in /usr/local/lib/python3.7/dist-packages (from requests>=2.0->openrouteservice) (1.24.3)\n",
            "Requirement already satisfied: certifi>=2017.4.17 in /usr/local/lib/python3.7/dist-packages (from requests>=2.0->openrouteservice) (2021.10.8)\n",
            "Requirement already satisfied: chardet<4,>=3.0.2 in /usr/local/lib/python3.7/dist-packages (from requests>=2.0->openrouteservice) (3.0.4)\n",
            "Requirement already satisfied: idna<3,>=2.5 in /usr/local/lib/python3.7/dist-packages (from requests>=2.0->openrouteservice) (2.10)\n",
            "Requirement already satisfied: folium in /usr/local/lib/python3.7/dist-packages (0.8.3)\n",
            "Requirement already satisfied: numpy in /usr/local/lib/python3.7/dist-packages (from folium) (1.19.5)\n",
            "Requirement already satisfied: six in /usr/local/lib/python3.7/dist-packages (from folium) (1.15.0)\n",
            "Requirement already satisfied: branca>=0.3.0 in /usr/local/lib/python3.7/dist-packages (from folium) (0.4.2)\n",
            "Requirement already satisfied: requests in /usr/local/lib/python3.7/dist-packages (from folium) (2.23.0)\n",
            "Requirement already satisfied: jinja2 in /usr/local/lib/python3.7/dist-packages (from folium) (2.11.3)\n",
            "Requirement already satisfied: MarkupSafe>=0.23 in /usr/local/lib/python3.7/dist-packages (from jinja2->folium) (2.0.1)\n",
            "Requirement already satisfied: chardet<4,>=3.0.2 in /usr/local/lib/python3.7/dist-packages (from requests->folium) (3.0.4)\n",
            "Requirement already satisfied: urllib3!=1.25.0,!=1.25.1,<1.26,>=1.21.1 in /usr/local/lib/python3.7/dist-packages (from requests->folium) (1.24.3)\n",
            "Requirement already satisfied: certifi>=2017.4.17 in /usr/local/lib/python3.7/dist-packages (from requests->folium) (2021.10.8)\n",
            "Requirement already satisfied: idna<3,>=2.5 in /usr/local/lib/python3.7/dist-packages (from requests->folium) (2.10)\n"
          ]
        }
      ]
    },
    {
      "cell_type": "markdown",
      "metadata": {
        "id": "w7U_ljOXSaTH"
      },
      "source": [
        "### Configurar la llave API de ORS\n",
        "\n",
        "Para correr el notebook, es necesario usar una llave API de la plataforma de Open Route Service."
      ]
    },
    {
      "cell_type": "code",
      "execution_count": 3,
      "metadata": {
        "id": "_1uVmXaMSaTI"
      },
      "outputs": [],
      "source": [
        "import pandas as pd\n",
        "import datetime\n",
        "import openrouteservice as ors\n",
        "\n",
        "API_KEY = '5b3ce3597851110001cf62482d6296cdeb7c4441a0b91f42ea31b15a'\n",
        "client = ors.Client(key=API_KEY)"
      ]
    },
    {
      "cell_type": "markdown",
      "metadata": {
        "id": "aMl3nVbVSaTJ"
      },
      "source": [
        "### Crear el Depósito\n",
        "El primer paso es crear un depósito y las ubicaciones de recogida. El depósito es la casa o base de los vehículos de recogida y las ubicaciones son los puntos de recogida. Estos lugares son determinados con los puntos de contenedores de basura que se tendrían en Fiware."
      ]
    },
    {
      "cell_type": "code",
      "execution_count": 4,
      "metadata": {
        "id": "CBGoDqwYSaTK"
      },
      "outputs": [],
      "source": [
        "depot = {   'name': 'Relleno Sanitario La Pradera',\n",
        "            'location': (6.5171946910919, -75.25502818729257)}"
      ]
    },
    {
      "cell_type": "markdown",
      "metadata": {
        "id": "G-7cpF6fSaTK"
      },
      "source": [
        "### Configurar el Número de Vehículos\n",
        "El número de vehículos se configura como 3. Después de correr todo el notebook se puede cambiar esta cantidad para observar su impacto en las rutas generadas."
      ]
    },
    {
      "cell_type": "code",
      "execution_count": 5,
      "metadata": {
        "id": "xx8LH0weSaTL"
      },
      "outputs": [],
      "source": [
        "num_vehicles = 3"
      ]
    },
    {
      "cell_type": "markdown",
      "metadata": {
        "id": "Um2OOrmRSaTL"
      },
      "source": [
        "### Crear los contenedores\n",
        "Se crea un diccionario con los datos de cada uno de los contenedores a recoger. Cuando se tengan los dispositivos instalados para los contenedores se buscaría tomar los datos directamente desde Orion con este formato."
      ]
    },
    {
      "cell_type": "code",
      "execution_count": 6,
      "metadata": {
        "id": "1azbpKLnSaTM"
      },
      "outputs": [],
      "source": [
        "contenedores = [\n",
        "    { \n",
        "        'name': 'Plaza Botero',\n",
        "        'location': (6.2524857541249315, -75.5686261812429),\n",
        "        'level': 100,\n",
        "        'weight': 60,\n",
        "        'open_time': datetime.datetime(2022, 1, 17, 8, 0, 0),\n",
        "        'close_time': datetime.datetime(2022, 1, 17, 20, 0, 0),\n",
        "    },\n",
        "    {\n",
        "        'name': 'Universidad de Medellín',\n",
        "        'location': (6.231704691813073, -75.61160925921747),\n",
        "        'level': 75,\n",
        "        'weight': 39,\n",
        "        'open_time': datetime.datetime(2022, 1, 17, 8, 0, 0),\n",
        "        'close_time': datetime.datetime(2022, 1, 17, 20, 0, 0),\n",
        "    },\n",
        "    {\n",
        "        'name': 'Parque Juanes de la Paz',\n",
        "        'location': (6.290384323934336, -75.56945687270888),\n",
        "        'level': 90,\n",
        "        'weight': 54,\n",
        "        'open_time': datetime.datetime(2022, 1, 17, 8, 0, 0),\n",
        "        'close_time': datetime.datetime(2022, 1, 17, 20, 0, 0),\n",
        "    },\n",
        "    {\n",
        "        'name': 'Parque del Poblado',\n",
        "        'location': (6.210362095508166, -75.57088108434691),\n",
        "        'level': 75,\n",
        "        'weight': 42,\n",
        "        'open_time': datetime.datetime(2022, 1, 17, 8, 0, 0),\n",
        "        'close_time': datetime.datetime(2022, 1, 17, 20, 0, 0),\n",
        "    },\n",
        "    {\n",
        "        'name': 'Alcaldía de Medellín',\n",
        "        'location': (6.2451496127526225, -75.57371337731854),\n",
        "        'level': 75,\n",
        "        'weight': 42,\n",
        "        'open_time': datetime.datetime(2022, 1, 17, 8, 0, 0),\n",
        "        'close_time': datetime.datetime(2022, 1, 17, 20, 0, 0),\n",
        "    },\n",
        "    {\n",
        "        'name': 'Parque Explora',\n",
        "        'location': (6.271208962002754, -75.56556245591827),\n",
        "        'level': 90,\n",
        "        'weight': 54,\n",
        "        'open_time': datetime.datetime(2022, 1, 17, 8, 0, 0),\n",
        "        'close_time': datetime.datetime(2022, 1, 17, 20, 0, 0),\n",
        "    },\n",
        "    {\n",
        "        'name': 'Museo de Arte Moderno de Medellín',\n",
        "        'location': (6.2240110064206, -75.57412303992716),\n",
        "        'level': 50,\n",
        "        'weight': 30,\n",
        "        'open_time': datetime.datetime(2022, 1, 17, 8, 0, 0),\n",
        "        'close_time': datetime.datetime(2022, 1, 17, 20, 0, 0),\n",
        "    },\n",
        "    {\n",
        "        'name': 'Parque de Belén',\n",
        "        'location': (6.232689716085326, -75.59665353624818),\n",
        "        'level': 60,\n",
        "        'weight': 36,\n",
        "        'open_time': datetime.datetime(2022, 1, 17, 8, 0, 0),\n",
        "        'close_time': datetime.datetime(2022, 1, 17, 20, 0, 0),\n",
        "    }\n",
        "]\n"
      ]
    },
    {
      "cell_type": "markdown",
      "metadata": {
        "id": "WCZy_R-BSaTN"
      },
      "source": [
        "### Graficar mapa con todas las ubicaciones y el depósito\n",
        "Se crea una gráfica del mapa con open street maps para visualizar todas las ubicaciones de recogida y el depósito."
      ]
    },
    {
      "cell_type": "code",
      "execution_count": 7,
      "metadata": {
        "colab": {
          "base_uri": "https://localhost:8080/",
          "height": 1000
        },
        "id": "rC-TwXxVSaTO",
        "outputId": "d63f64e1-e4de-4753-bd43-3aef11fe5cd9"
      },
      "outputs": [
        {
          "output_type": "execute_result",
          "data": {
            "text/html": [
              "<div style=\"width:100%;\"><div style=\"position:relative;width:100%;height:0;padding-bottom:60%;\"><span style=\"color:#565656\">Make this Notebook Trusted to load map: File -> Trust Notebook</span><iframe src=\"about:blank\" style=\"position:absolute;width:100%;height:100%;left:0;top:0;border:none !important;\" data-html=%3C%21DOCTYPE%20html%3E%0A%3Chead%3E%20%20%20%20%0A%20%20%20%20%3Cmeta%20http-equiv%3D%22content-type%22%20content%3D%22text/html%3B%20charset%3DUTF-8%22%20/%3E%0A%20%20%20%20%3Cscript%3EL_PREFER_CANVAS%3Dfalse%3B%20L_NO_TOUCH%3Dfalse%3B%20L_DISABLE_3D%3Dfalse%3B%3C/script%3E%0A%20%20%20%20%3Cscript%20src%3D%22https%3A//cdn.jsdelivr.net/npm/leaflet%401.4.0/dist/leaflet.js%22%3E%3C/script%3E%0A%20%20%20%20%3Cscript%20src%3D%22https%3A//code.jquery.com/jquery-1.12.4.min.js%22%3E%3C/script%3E%0A%20%20%20%20%3Cscript%20src%3D%22https%3A//maxcdn.bootstrapcdn.com/bootstrap/3.2.0/js/bootstrap.min.js%22%3E%3C/script%3E%0A%20%20%20%20%3Cscript%20src%3D%22https%3A//cdnjs.cloudflare.com/ajax/libs/Leaflet.awesome-markers/2.0.2/leaflet.awesome-markers.js%22%3E%3C/script%3E%0A%20%20%20%20%3Clink%20rel%3D%22stylesheet%22%20href%3D%22https%3A//cdn.jsdelivr.net/npm/leaflet%401.4.0/dist/leaflet.css%22/%3E%0A%20%20%20%20%3Clink%20rel%3D%22stylesheet%22%20href%3D%22https%3A//maxcdn.bootstrapcdn.com/bootstrap/3.2.0/css/bootstrap.min.css%22/%3E%0A%20%20%20%20%3Clink%20rel%3D%22stylesheet%22%20href%3D%22https%3A//maxcdn.bootstrapcdn.com/bootstrap/3.2.0/css/bootstrap-theme.min.css%22/%3E%0A%20%20%20%20%3Clink%20rel%3D%22stylesheet%22%20href%3D%22https%3A//maxcdn.bootstrapcdn.com/font-awesome/4.6.3/css/font-awesome.min.css%22/%3E%0A%20%20%20%20%3Clink%20rel%3D%22stylesheet%22%20href%3D%22https%3A//cdnjs.cloudflare.com/ajax/libs/Leaflet.awesome-markers/2.0.2/leaflet.awesome-markers.css%22/%3E%0A%20%20%20%20%3Clink%20rel%3D%22stylesheet%22%20href%3D%22https%3A//rawcdn.githack.com/python-visualization/folium/master/folium/templates/leaflet.awesome.rotate.css%22/%3E%0A%20%20%20%20%3Cstyle%3Ehtml%2C%20body%20%7Bwidth%3A%20100%25%3Bheight%3A%20100%25%3Bmargin%3A%200%3Bpadding%3A%200%3B%7D%3C/style%3E%0A%20%20%20%20%3Cstyle%3E%23map%20%7Bposition%3Aabsolute%3Btop%3A0%3Bbottom%3A0%3Bright%3A0%3Bleft%3A0%3B%7D%3C/style%3E%0A%20%20%20%20%0A%20%20%20%20%3Cmeta%20name%3D%22viewport%22%20content%3D%22width%3Ddevice-width%2C%0A%20%20%20%20%20%20%20%20initial-scale%3D1.0%2C%20maximum-scale%3D1.0%2C%20user-scalable%3Dno%22%20/%3E%0A%20%20%20%20%3Cstyle%3E%23map_319226306a3248fd958114198d0d6c33%20%7B%0A%20%20%20%20%20%20%20%20position%3A%20relative%3B%0A%20%20%20%20%20%20%20%20width%3A%20100.0%25%3B%0A%20%20%20%20%20%20%20%20height%3A%20100.0%25%3B%0A%20%20%20%20%20%20%20%20left%3A%200.0%25%3B%0A%20%20%20%20%20%20%20%20top%3A%200.0%25%3B%0A%20%20%20%20%20%20%20%20%7D%0A%20%20%20%20%3C/style%3E%0A%3C/head%3E%0A%3Cbody%3E%20%20%20%20%0A%20%20%20%20%0A%20%20%20%20%3Cdiv%20class%3D%22folium-map%22%20id%3D%22map_319226306a3248fd958114198d0d6c33%22%20%3E%3C/div%3E%0A%3C/body%3E%0A%3Cscript%3E%20%20%20%20%0A%20%20%20%20%0A%20%20%20%20%0A%20%20%20%20%20%20%20%20var%20bounds%20%3D%20null%3B%0A%20%20%20%20%0A%0A%20%20%20%20var%20map_319226306a3248fd958114198d0d6c33%20%3D%20L.map%28%0A%20%20%20%20%20%20%20%20%27map_319226306a3248fd958114198d0d6c33%27%2C%20%7B%0A%20%20%20%20%20%20%20%20center%3A%20%5B6.3792%2C%20-75.4453%5D%2C%0A%20%20%20%20%20%20%20%20zoom%3A%2012%2C%0A%20%20%20%20%20%20%20%20maxBounds%3A%20bounds%2C%0A%20%20%20%20%20%20%20%20layers%3A%20%5B%5D%2C%0A%20%20%20%20%20%20%20%20worldCopyJump%3A%20false%2C%0A%20%20%20%20%20%20%20%20crs%3A%20L.CRS.EPSG3857%2C%0A%20%20%20%20%20%20%20%20zoomControl%3A%20true%2C%0A%20%20%20%20%20%20%20%20%7D%29%3B%0A%0A%0A%20%20%20%20%0A%20%20%20%20var%20tile_layer_8bf6bcb35fb04d1d9d5bf275057f2d4c%20%3D%20L.tileLayer%28%0A%20%20%20%20%20%20%20%20%27https%3A//%7Bs%7D.tile.openstreetmap.org/%7Bz%7D/%7Bx%7D/%7By%7D.png%27%2C%0A%20%20%20%20%20%20%20%20%7B%0A%20%20%20%20%20%20%20%20%22attribution%22%3A%20null%2C%0A%20%20%20%20%20%20%20%20%22detectRetina%22%3A%20false%2C%0A%20%20%20%20%20%20%20%20%22maxNativeZoom%22%3A%2018%2C%0A%20%20%20%20%20%20%20%20%22maxZoom%22%3A%2018%2C%0A%20%20%20%20%20%20%20%20%22minZoom%22%3A%200%2C%0A%20%20%20%20%20%20%20%20%22noWrap%22%3A%20false%2C%0A%20%20%20%20%20%20%20%20%22opacity%22%3A%201%2C%0A%20%20%20%20%20%20%20%20%22subdomains%22%3A%20%22abc%22%2C%0A%20%20%20%20%20%20%20%20%22tms%22%3A%20false%0A%7D%29.addTo%28map_319226306a3248fd958114198d0d6c33%29%3B%0A%20%20%20%20%0A%20%20%20%20%20%20%20%20var%20marker_7b9a93a22eb94225ac27ede2ce8d5c05%20%3D%20L.marker%28%0A%20%20%20%20%20%20%20%20%20%20%20%20%5B6.2524857541249315%2C%20-75.5686261812429%5D%2C%0A%20%20%20%20%20%20%20%20%20%20%20%20%7B%0A%20%20%20%20%20%20%20%20%20%20%20%20%20%20%20%20icon%3A%20new%20L.Icon.Default%28%29%2C%0A%20%20%20%20%20%20%20%20%20%20%20%20%20%20%20%20%7D%0A%20%20%20%20%20%20%20%20%20%20%20%20%29.addTo%28map_319226306a3248fd958114198d0d6c33%29%3B%0A%20%20%20%20%20%20%20%20%0A%20%20%20%20%0A%0A%20%20%20%20%20%20%20%20%20%20%20%20%20%20%20%20var%20icon_99c91615962745c0a2fedbac9320fd0d%20%3D%20L.AwesomeMarkers.icon%28%7B%0A%20%20%20%20%20%20%20%20%20%20%20%20%20%20%20%20%20%20%20%20icon%3A%20%27trash%27%2C%0A%20%20%20%20%20%20%20%20%20%20%20%20%20%20%20%20%20%20%20%20iconColor%3A%20%27white%27%2C%0A%20%20%20%20%20%20%20%20%20%20%20%20%20%20%20%20%20%20%20%20markerColor%3A%20%27gray%27%2C%0A%20%20%20%20%20%20%20%20%20%20%20%20%20%20%20%20%20%20%20%20prefix%3A%20%27fa%27%2C%0A%20%20%20%20%20%20%20%20%20%20%20%20%20%20%20%20%20%20%20%20extraClasses%3A%20%27fa-rotate-0%27%0A%20%20%20%20%20%20%20%20%20%20%20%20%20%20%20%20%20%20%20%20%7D%29%3B%0A%20%20%20%20%20%20%20%20%20%20%20%20%20%20%20%20marker_7b9a93a22eb94225ac27ede2ce8d5c05.setIcon%28icon_99c91615962745c0a2fedbac9320fd0d%29%3B%0A%20%20%20%20%20%20%20%20%20%20%20%20%0A%20%20%20%20%0A%20%20%20%20%20%20%20%20marker_7b9a93a22eb94225ac27ede2ce8d5c05.bindTooltip%28%0A%20%20%20%20%20%20%20%20%20%20%20%20%60%3Cdiv%3E%60%0A%20%20%20%20%20%20%20%20%20%20%20%20%2B%20%60%3Ch4%3E%3Cb%3EPlaza%20Botero%3C/b%3E%3C/p%3E%3Cp%3ENivel%3A%20%3Cb%3E100%3C/b%3E%3C/p%3E%3Cp%3EPeso%3A%20%3Cb%3E60%3C/b%3E%3C/p%3E%60%20%2B%20%60%3C/div%3E%60%2C%0A%20%20%20%20%20%20%20%20%20%20%20%20%7B%22sticky%22%3A%20true%7D%0A%20%20%20%20%20%20%20%20%29%3B%0A%20%20%20%20%20%20%20%20%0A%20%20%20%20%0A%20%20%20%20%20%20%20%20%20%20%20%20var%20popup_79b07c94061644caa53a4c1ebdb2d3f2%20%3D%20L.popup%28%7BmaxWidth%3A%20%27100%25%27%0A%20%20%20%20%20%20%20%20%20%20%20%20%0A%20%20%20%20%20%20%20%20%20%20%20%20%7D%29%3B%0A%0A%20%20%20%20%20%20%20%20%20%20%20%20%0A%20%20%20%20%20%20%20%20%20%20%20%20%20%20%20%20var%20html_7ad8b83eada74a41ac815959113bec9d%20%3D%20%24%28%60%3Cdiv%20id%3D%22html_7ad8b83eada74a41ac815959113bec9d%22%20style%3D%22width%3A%20100.0%25%3B%20height%3A%20100.0%25%3B%22%3EPlaza%20Botero%3C/div%3E%60%29%5B0%5D%3B%0A%20%20%20%20%20%20%20%20%20%20%20%20%20%20%20%20popup_79b07c94061644caa53a4c1ebdb2d3f2.setContent%28html_7ad8b83eada74a41ac815959113bec9d%29%3B%0A%20%20%20%20%20%20%20%20%20%20%20%20%0A%0A%20%20%20%20%20%20%20%20%20%20%20%20marker_7b9a93a22eb94225ac27ede2ce8d5c05.bindPopup%28popup_79b07c94061644caa53a4c1ebdb2d3f2%29%0A%20%20%20%20%20%20%20%20%20%20%20%20%3B%0A%0A%20%20%20%20%20%20%20%20%20%20%20%20%0A%20%20%20%20%20%20%20%20%0A%20%20%20%20%0A%20%20%20%20%20%20%20%20var%20marker_63efcdac2f124fe4ababe8d02eb5af8c%20%3D%20L.marker%28%0A%20%20%20%20%20%20%20%20%20%20%20%20%5B6.231704691813073%2C%20-75.61160925921747%5D%2C%0A%20%20%20%20%20%20%20%20%20%20%20%20%7B%0A%20%20%20%20%20%20%20%20%20%20%20%20%20%20%20%20icon%3A%20new%20L.Icon.Default%28%29%2C%0A%20%20%20%20%20%20%20%20%20%20%20%20%20%20%20%20%7D%0A%20%20%20%20%20%20%20%20%20%20%20%20%29.addTo%28map_319226306a3248fd958114198d0d6c33%29%3B%0A%20%20%20%20%20%20%20%20%0A%20%20%20%20%0A%0A%20%20%20%20%20%20%20%20%20%20%20%20%20%20%20%20var%20icon_13cff38faba74c798924d4fefd2efd9d%20%3D%20L.AwesomeMarkers.icon%28%7B%0A%20%20%20%20%20%20%20%20%20%20%20%20%20%20%20%20%20%20%20%20icon%3A%20%27trash%27%2C%0A%20%20%20%20%20%20%20%20%20%20%20%20%20%20%20%20%20%20%20%20iconColor%3A%20%27white%27%2C%0A%20%20%20%20%20%20%20%20%20%20%20%20%20%20%20%20%20%20%20%20markerColor%3A%20%27gray%27%2C%0A%20%20%20%20%20%20%20%20%20%20%20%20%20%20%20%20%20%20%20%20prefix%3A%20%27fa%27%2C%0A%20%20%20%20%20%20%20%20%20%20%20%20%20%20%20%20%20%20%20%20extraClasses%3A%20%27fa-rotate-0%27%0A%20%20%20%20%20%20%20%20%20%20%20%20%20%20%20%20%20%20%20%20%7D%29%3B%0A%20%20%20%20%20%20%20%20%20%20%20%20%20%20%20%20marker_63efcdac2f124fe4ababe8d02eb5af8c.setIcon%28icon_13cff38faba74c798924d4fefd2efd9d%29%3B%0A%20%20%20%20%20%20%20%20%20%20%20%20%0A%20%20%20%20%0A%20%20%20%20%20%20%20%20marker_63efcdac2f124fe4ababe8d02eb5af8c.bindTooltip%28%0A%20%20%20%20%20%20%20%20%20%20%20%20%60%3Cdiv%3E%60%0A%20%20%20%20%20%20%20%20%20%20%20%20%2B%20%60%3Ch4%3E%3Cb%3EUniversidad%20de%20Medell%C3%ADn%3C/b%3E%3C/p%3E%3Cp%3ENivel%3A%20%3Cb%3E75%3C/b%3E%3C/p%3E%3Cp%3EPeso%3A%20%3Cb%3E39%3C/b%3E%3C/p%3E%60%20%2B%20%60%3C/div%3E%60%2C%0A%20%20%20%20%20%20%20%20%20%20%20%20%7B%22sticky%22%3A%20true%7D%0A%20%20%20%20%20%20%20%20%29%3B%0A%20%20%20%20%20%20%20%20%0A%20%20%20%20%0A%20%20%20%20%20%20%20%20%20%20%20%20var%20popup_bad06c854d4b4f238106f4ee7c154aaf%20%3D%20L.popup%28%7BmaxWidth%3A%20%27100%25%27%0A%20%20%20%20%20%20%20%20%20%20%20%20%0A%20%20%20%20%20%20%20%20%20%20%20%20%7D%29%3B%0A%0A%20%20%20%20%20%20%20%20%20%20%20%20%0A%20%20%20%20%20%20%20%20%20%20%20%20%20%20%20%20var%20html_a038b64c1627431381cef3c9e888fe1e%20%3D%20%24%28%60%3Cdiv%20id%3D%22html_a038b64c1627431381cef3c9e888fe1e%22%20style%3D%22width%3A%20100.0%25%3B%20height%3A%20100.0%25%3B%22%3EUniversidad%20de%20Medell%C3%ADn%3C/div%3E%60%29%5B0%5D%3B%0A%20%20%20%20%20%20%20%20%20%20%20%20%20%20%20%20popup_bad06c854d4b4f238106f4ee7c154aaf.setContent%28html_a038b64c1627431381cef3c9e888fe1e%29%3B%0A%20%20%20%20%20%20%20%20%20%20%20%20%0A%0A%20%20%20%20%20%20%20%20%20%20%20%20marker_63efcdac2f124fe4ababe8d02eb5af8c.bindPopup%28popup_bad06c854d4b4f238106f4ee7c154aaf%29%0A%20%20%20%20%20%20%20%20%20%20%20%20%3B%0A%0A%20%20%20%20%20%20%20%20%20%20%20%20%0A%20%20%20%20%20%20%20%20%0A%20%20%20%20%0A%20%20%20%20%20%20%20%20var%20marker_b7f248bf64d44891baf417de52b883dd%20%3D%20L.marker%28%0A%20%20%20%20%20%20%20%20%20%20%20%20%5B6.290384323934336%2C%20-75.56945687270888%5D%2C%0A%20%20%20%20%20%20%20%20%20%20%20%20%7B%0A%20%20%20%20%20%20%20%20%20%20%20%20%20%20%20%20icon%3A%20new%20L.Icon.Default%28%29%2C%0A%20%20%20%20%20%20%20%20%20%20%20%20%20%20%20%20%7D%0A%20%20%20%20%20%20%20%20%20%20%20%20%29.addTo%28map_319226306a3248fd958114198d0d6c33%29%3B%0A%20%20%20%20%20%20%20%20%0A%20%20%20%20%0A%0A%20%20%20%20%20%20%20%20%20%20%20%20%20%20%20%20var%20icon_0783c5c1d2124e1ebee5ea751ad4f26c%20%3D%20L.AwesomeMarkers.icon%28%7B%0A%20%20%20%20%20%20%20%20%20%20%20%20%20%20%20%20%20%20%20%20icon%3A%20%27trash%27%2C%0A%20%20%20%20%20%20%20%20%20%20%20%20%20%20%20%20%20%20%20%20iconColor%3A%20%27white%27%2C%0A%20%20%20%20%20%20%20%20%20%20%20%20%20%20%20%20%20%20%20%20markerColor%3A%20%27gray%27%2C%0A%20%20%20%20%20%20%20%20%20%20%20%20%20%20%20%20%20%20%20%20prefix%3A%20%27fa%27%2C%0A%20%20%20%20%20%20%20%20%20%20%20%20%20%20%20%20%20%20%20%20extraClasses%3A%20%27fa-rotate-0%27%0A%20%20%20%20%20%20%20%20%20%20%20%20%20%20%20%20%20%20%20%20%7D%29%3B%0A%20%20%20%20%20%20%20%20%20%20%20%20%20%20%20%20marker_b7f248bf64d44891baf417de52b883dd.setIcon%28icon_0783c5c1d2124e1ebee5ea751ad4f26c%29%3B%0A%20%20%20%20%20%20%20%20%20%20%20%20%0A%20%20%20%20%0A%20%20%20%20%20%20%20%20marker_b7f248bf64d44891baf417de52b883dd.bindTooltip%28%0A%20%20%20%20%20%20%20%20%20%20%20%20%60%3Cdiv%3E%60%0A%20%20%20%20%20%20%20%20%20%20%20%20%2B%20%60%3Ch4%3E%3Cb%3EParque%20Juanes%20de%20la%20Paz%3C/b%3E%3C/p%3E%3Cp%3ENivel%3A%20%3Cb%3E90%3C/b%3E%3C/p%3E%3Cp%3EPeso%3A%20%3Cb%3E54%3C/b%3E%3C/p%3E%60%20%2B%20%60%3C/div%3E%60%2C%0A%20%20%20%20%20%20%20%20%20%20%20%20%7B%22sticky%22%3A%20true%7D%0A%20%20%20%20%20%20%20%20%29%3B%0A%20%20%20%20%20%20%20%20%0A%20%20%20%20%0A%20%20%20%20%20%20%20%20%20%20%20%20var%20popup_38863f44c20a4c43b91de93b59266ad6%20%3D%20L.popup%28%7BmaxWidth%3A%20%27100%25%27%0A%20%20%20%20%20%20%20%20%20%20%20%20%0A%20%20%20%20%20%20%20%20%20%20%20%20%7D%29%3B%0A%0A%20%20%20%20%20%20%20%20%20%20%20%20%0A%20%20%20%20%20%20%20%20%20%20%20%20%20%20%20%20var%20html_9a6510e394f44c0cb8b0a246aedc149e%20%3D%20%24%28%60%3Cdiv%20id%3D%22html_9a6510e394f44c0cb8b0a246aedc149e%22%20style%3D%22width%3A%20100.0%25%3B%20height%3A%20100.0%25%3B%22%3EParque%20Juanes%20de%20la%20Paz%3C/div%3E%60%29%5B0%5D%3B%0A%20%20%20%20%20%20%20%20%20%20%20%20%20%20%20%20popup_38863f44c20a4c43b91de93b59266ad6.setContent%28html_9a6510e394f44c0cb8b0a246aedc149e%29%3B%0A%20%20%20%20%20%20%20%20%20%20%20%20%0A%0A%20%20%20%20%20%20%20%20%20%20%20%20marker_b7f248bf64d44891baf417de52b883dd.bindPopup%28popup_38863f44c20a4c43b91de93b59266ad6%29%0A%20%20%20%20%20%20%20%20%20%20%20%20%3B%0A%0A%20%20%20%20%20%20%20%20%20%20%20%20%0A%20%20%20%20%20%20%20%20%0A%20%20%20%20%0A%20%20%20%20%20%20%20%20var%20marker_84e5448687dc4697bf201179f874329e%20%3D%20L.marker%28%0A%20%20%20%20%20%20%20%20%20%20%20%20%5B6.210362095508166%2C%20-75.57088108434691%5D%2C%0A%20%20%20%20%20%20%20%20%20%20%20%20%7B%0A%20%20%20%20%20%20%20%20%20%20%20%20%20%20%20%20icon%3A%20new%20L.Icon.Default%28%29%2C%0A%20%20%20%20%20%20%20%20%20%20%20%20%20%20%20%20%7D%0A%20%20%20%20%20%20%20%20%20%20%20%20%29.addTo%28map_319226306a3248fd958114198d0d6c33%29%3B%0A%20%20%20%20%20%20%20%20%0A%20%20%20%20%0A%0A%20%20%20%20%20%20%20%20%20%20%20%20%20%20%20%20var%20icon_161c57710ab3423090c0c65304d01229%20%3D%20L.AwesomeMarkers.icon%28%7B%0A%20%20%20%20%20%20%20%20%20%20%20%20%20%20%20%20%20%20%20%20icon%3A%20%27trash%27%2C%0A%20%20%20%20%20%20%20%20%20%20%20%20%20%20%20%20%20%20%20%20iconColor%3A%20%27white%27%2C%0A%20%20%20%20%20%20%20%20%20%20%20%20%20%20%20%20%20%20%20%20markerColor%3A%20%27gray%27%2C%0A%20%20%20%20%20%20%20%20%20%20%20%20%20%20%20%20%20%20%20%20prefix%3A%20%27fa%27%2C%0A%20%20%20%20%20%20%20%20%20%20%20%20%20%20%20%20%20%20%20%20extraClasses%3A%20%27fa-rotate-0%27%0A%20%20%20%20%20%20%20%20%20%20%20%20%20%20%20%20%20%20%20%20%7D%29%3B%0A%20%20%20%20%20%20%20%20%20%20%20%20%20%20%20%20marker_84e5448687dc4697bf201179f874329e.setIcon%28icon_161c57710ab3423090c0c65304d01229%29%3B%0A%20%20%20%20%20%20%20%20%20%20%20%20%0A%20%20%20%20%0A%20%20%20%20%20%20%20%20marker_84e5448687dc4697bf201179f874329e.bindTooltip%28%0A%20%20%20%20%20%20%20%20%20%20%20%20%60%3Cdiv%3E%60%0A%20%20%20%20%20%20%20%20%20%20%20%20%2B%20%60%3Ch4%3E%3Cb%3EParque%20del%20Poblado%3C/b%3E%3C/p%3E%3Cp%3ENivel%3A%20%3Cb%3E75%3C/b%3E%3C/p%3E%3Cp%3EPeso%3A%20%3Cb%3E42%3C/b%3E%3C/p%3E%60%20%2B%20%60%3C/div%3E%60%2C%0A%20%20%20%20%20%20%20%20%20%20%20%20%7B%22sticky%22%3A%20true%7D%0A%20%20%20%20%20%20%20%20%29%3B%0A%20%20%20%20%20%20%20%20%0A%20%20%20%20%0A%20%20%20%20%20%20%20%20%20%20%20%20var%20popup_3042cb3040304dc7a878b59f6d00efde%20%3D%20L.popup%28%7BmaxWidth%3A%20%27100%25%27%0A%20%20%20%20%20%20%20%20%20%20%20%20%0A%20%20%20%20%20%20%20%20%20%20%20%20%7D%29%3B%0A%0A%20%20%20%20%20%20%20%20%20%20%20%20%0A%20%20%20%20%20%20%20%20%20%20%20%20%20%20%20%20var%20html_b5d4b9f287104f1fb4f8b76029ec885e%20%3D%20%24%28%60%3Cdiv%20id%3D%22html_b5d4b9f287104f1fb4f8b76029ec885e%22%20style%3D%22width%3A%20100.0%25%3B%20height%3A%20100.0%25%3B%22%3EParque%20del%20Poblado%3C/div%3E%60%29%5B0%5D%3B%0A%20%20%20%20%20%20%20%20%20%20%20%20%20%20%20%20popup_3042cb3040304dc7a878b59f6d00efde.setContent%28html_b5d4b9f287104f1fb4f8b76029ec885e%29%3B%0A%20%20%20%20%20%20%20%20%20%20%20%20%0A%0A%20%20%20%20%20%20%20%20%20%20%20%20marker_84e5448687dc4697bf201179f874329e.bindPopup%28popup_3042cb3040304dc7a878b59f6d00efde%29%0A%20%20%20%20%20%20%20%20%20%20%20%20%3B%0A%0A%20%20%20%20%20%20%20%20%20%20%20%20%0A%20%20%20%20%20%20%20%20%0A%20%20%20%20%0A%20%20%20%20%20%20%20%20var%20marker_8147ef99f5114ce18532762ad51dd438%20%3D%20L.marker%28%0A%20%20%20%20%20%20%20%20%20%20%20%20%5B6.2451496127526225%2C%20-75.57371337731854%5D%2C%0A%20%20%20%20%20%20%20%20%20%20%20%20%7B%0A%20%20%20%20%20%20%20%20%20%20%20%20%20%20%20%20icon%3A%20new%20L.Icon.Default%28%29%2C%0A%20%20%20%20%20%20%20%20%20%20%20%20%20%20%20%20%7D%0A%20%20%20%20%20%20%20%20%20%20%20%20%29.addTo%28map_319226306a3248fd958114198d0d6c33%29%3B%0A%20%20%20%20%20%20%20%20%0A%20%20%20%20%0A%0A%20%20%20%20%20%20%20%20%20%20%20%20%20%20%20%20var%20icon_e6f643ba38e14a06a8f459f11967b353%20%3D%20L.AwesomeMarkers.icon%28%7B%0A%20%20%20%20%20%20%20%20%20%20%20%20%20%20%20%20%20%20%20%20icon%3A%20%27trash%27%2C%0A%20%20%20%20%20%20%20%20%20%20%20%20%20%20%20%20%20%20%20%20iconColor%3A%20%27white%27%2C%0A%20%20%20%20%20%20%20%20%20%20%20%20%20%20%20%20%20%20%20%20markerColor%3A%20%27gray%27%2C%0A%20%20%20%20%20%20%20%20%20%20%20%20%20%20%20%20%20%20%20%20prefix%3A%20%27fa%27%2C%0A%20%20%20%20%20%20%20%20%20%20%20%20%20%20%20%20%20%20%20%20extraClasses%3A%20%27fa-rotate-0%27%0A%20%20%20%20%20%20%20%20%20%20%20%20%20%20%20%20%20%20%20%20%7D%29%3B%0A%20%20%20%20%20%20%20%20%20%20%20%20%20%20%20%20marker_8147ef99f5114ce18532762ad51dd438.setIcon%28icon_e6f643ba38e14a06a8f459f11967b353%29%3B%0A%20%20%20%20%20%20%20%20%20%20%20%20%0A%20%20%20%20%0A%20%20%20%20%20%20%20%20marker_8147ef99f5114ce18532762ad51dd438.bindTooltip%28%0A%20%20%20%20%20%20%20%20%20%20%20%20%60%3Cdiv%3E%60%0A%20%20%20%20%20%20%20%20%20%20%20%20%2B%20%60%3Ch4%3E%3Cb%3EAlcald%C3%ADa%20de%20Medell%C3%ADn%3C/b%3E%3C/p%3E%3Cp%3ENivel%3A%20%3Cb%3E75%3C/b%3E%3C/p%3E%3Cp%3EPeso%3A%20%3Cb%3E42%3C/b%3E%3C/p%3E%60%20%2B%20%60%3C/div%3E%60%2C%0A%20%20%20%20%20%20%20%20%20%20%20%20%7B%22sticky%22%3A%20true%7D%0A%20%20%20%20%20%20%20%20%29%3B%0A%20%20%20%20%20%20%20%20%0A%20%20%20%20%0A%20%20%20%20%20%20%20%20%20%20%20%20var%20popup_f35f8d7a6cc145358ad518e797c027b2%20%3D%20L.popup%28%7BmaxWidth%3A%20%27100%25%27%0A%20%20%20%20%20%20%20%20%20%20%20%20%0A%20%20%20%20%20%20%20%20%20%20%20%20%7D%29%3B%0A%0A%20%20%20%20%20%20%20%20%20%20%20%20%0A%20%20%20%20%20%20%20%20%20%20%20%20%20%20%20%20var%20html_c2e90ff29bfd47deb979303c2105bdae%20%3D%20%24%28%60%3Cdiv%20id%3D%22html_c2e90ff29bfd47deb979303c2105bdae%22%20style%3D%22width%3A%20100.0%25%3B%20height%3A%20100.0%25%3B%22%3EAlcald%C3%ADa%20de%20Medell%C3%ADn%3C/div%3E%60%29%5B0%5D%3B%0A%20%20%20%20%20%20%20%20%20%20%20%20%20%20%20%20popup_f35f8d7a6cc145358ad518e797c027b2.setContent%28html_c2e90ff29bfd47deb979303c2105bdae%29%3B%0A%20%20%20%20%20%20%20%20%20%20%20%20%0A%0A%20%20%20%20%20%20%20%20%20%20%20%20marker_8147ef99f5114ce18532762ad51dd438.bindPopup%28popup_f35f8d7a6cc145358ad518e797c027b2%29%0A%20%20%20%20%20%20%20%20%20%20%20%20%3B%0A%0A%20%20%20%20%20%20%20%20%20%20%20%20%0A%20%20%20%20%20%20%20%20%0A%20%20%20%20%0A%20%20%20%20%20%20%20%20var%20marker_8de7984658c445d4b550fb0cb905a217%20%3D%20L.marker%28%0A%20%20%20%20%20%20%20%20%20%20%20%20%5B6.271208962002754%2C%20-75.56556245591827%5D%2C%0A%20%20%20%20%20%20%20%20%20%20%20%20%7B%0A%20%20%20%20%20%20%20%20%20%20%20%20%20%20%20%20icon%3A%20new%20L.Icon.Default%28%29%2C%0A%20%20%20%20%20%20%20%20%20%20%20%20%20%20%20%20%7D%0A%20%20%20%20%20%20%20%20%20%20%20%20%29.addTo%28map_319226306a3248fd958114198d0d6c33%29%3B%0A%20%20%20%20%20%20%20%20%0A%20%20%20%20%0A%0A%20%20%20%20%20%20%20%20%20%20%20%20%20%20%20%20var%20icon_1029a3f749984238bdc865a928cac6c1%20%3D%20L.AwesomeMarkers.icon%28%7B%0A%20%20%20%20%20%20%20%20%20%20%20%20%20%20%20%20%20%20%20%20icon%3A%20%27trash%27%2C%0A%20%20%20%20%20%20%20%20%20%20%20%20%20%20%20%20%20%20%20%20iconColor%3A%20%27white%27%2C%0A%20%20%20%20%20%20%20%20%20%20%20%20%20%20%20%20%20%20%20%20markerColor%3A%20%27gray%27%2C%0A%20%20%20%20%20%20%20%20%20%20%20%20%20%20%20%20%20%20%20%20prefix%3A%20%27fa%27%2C%0A%20%20%20%20%20%20%20%20%20%20%20%20%20%20%20%20%20%20%20%20extraClasses%3A%20%27fa-rotate-0%27%0A%20%20%20%20%20%20%20%20%20%20%20%20%20%20%20%20%20%20%20%20%7D%29%3B%0A%20%20%20%20%20%20%20%20%20%20%20%20%20%20%20%20marker_8de7984658c445d4b550fb0cb905a217.setIcon%28icon_1029a3f749984238bdc865a928cac6c1%29%3B%0A%20%20%20%20%20%20%20%20%20%20%20%20%0A%20%20%20%20%0A%20%20%20%20%20%20%20%20marker_8de7984658c445d4b550fb0cb905a217.bindTooltip%28%0A%20%20%20%20%20%20%20%20%20%20%20%20%60%3Cdiv%3E%60%0A%20%20%20%20%20%20%20%20%20%20%20%20%2B%20%60%3Ch4%3E%3Cb%3EParque%20Explora%3C/b%3E%3C/p%3E%3Cp%3ENivel%3A%20%3Cb%3E90%3C/b%3E%3C/p%3E%3Cp%3EPeso%3A%20%3Cb%3E54%3C/b%3E%3C/p%3E%60%20%2B%20%60%3C/div%3E%60%2C%0A%20%20%20%20%20%20%20%20%20%20%20%20%7B%22sticky%22%3A%20true%7D%0A%20%20%20%20%20%20%20%20%29%3B%0A%20%20%20%20%20%20%20%20%0A%20%20%20%20%0A%20%20%20%20%20%20%20%20%20%20%20%20var%20popup_84dd9005041746689c1e8071eaf67d1a%20%3D%20L.popup%28%7BmaxWidth%3A%20%27100%25%27%0A%20%20%20%20%20%20%20%20%20%20%20%20%0A%20%20%20%20%20%20%20%20%20%20%20%20%7D%29%3B%0A%0A%20%20%20%20%20%20%20%20%20%20%20%20%0A%20%20%20%20%20%20%20%20%20%20%20%20%20%20%20%20var%20html_bc5b1a2b2c574cbd92531ab00b6383e7%20%3D%20%24%28%60%3Cdiv%20id%3D%22html_bc5b1a2b2c574cbd92531ab00b6383e7%22%20style%3D%22width%3A%20100.0%25%3B%20height%3A%20100.0%25%3B%22%3EParque%20Explora%3C/div%3E%60%29%5B0%5D%3B%0A%20%20%20%20%20%20%20%20%20%20%20%20%20%20%20%20popup_84dd9005041746689c1e8071eaf67d1a.setContent%28html_bc5b1a2b2c574cbd92531ab00b6383e7%29%3B%0A%20%20%20%20%20%20%20%20%20%20%20%20%0A%0A%20%20%20%20%20%20%20%20%20%20%20%20marker_8de7984658c445d4b550fb0cb905a217.bindPopup%28popup_84dd9005041746689c1e8071eaf67d1a%29%0A%20%20%20%20%20%20%20%20%20%20%20%20%3B%0A%0A%20%20%20%20%20%20%20%20%20%20%20%20%0A%20%20%20%20%20%20%20%20%0A%20%20%20%20%0A%20%20%20%20%20%20%20%20var%20marker_0cc95c284c28478a86d6edf9cd095a3a%20%3D%20L.marker%28%0A%20%20%20%20%20%20%20%20%20%20%20%20%5B6.2240110064206%2C%20-75.57412303992716%5D%2C%0A%20%20%20%20%20%20%20%20%20%20%20%20%7B%0A%20%20%20%20%20%20%20%20%20%20%20%20%20%20%20%20icon%3A%20new%20L.Icon.Default%28%29%2C%0A%20%20%20%20%20%20%20%20%20%20%20%20%20%20%20%20%7D%0A%20%20%20%20%20%20%20%20%20%20%20%20%29.addTo%28map_319226306a3248fd958114198d0d6c33%29%3B%0A%20%20%20%20%20%20%20%20%0A%20%20%20%20%0A%0A%20%20%20%20%20%20%20%20%20%20%20%20%20%20%20%20var%20icon_a285121aaace437aa3ffae5f9685e563%20%3D%20L.AwesomeMarkers.icon%28%7B%0A%20%20%20%20%20%20%20%20%20%20%20%20%20%20%20%20%20%20%20%20icon%3A%20%27trash%27%2C%0A%20%20%20%20%20%20%20%20%20%20%20%20%20%20%20%20%20%20%20%20iconColor%3A%20%27white%27%2C%0A%20%20%20%20%20%20%20%20%20%20%20%20%20%20%20%20%20%20%20%20markerColor%3A%20%27gray%27%2C%0A%20%20%20%20%20%20%20%20%20%20%20%20%20%20%20%20%20%20%20%20prefix%3A%20%27fa%27%2C%0A%20%20%20%20%20%20%20%20%20%20%20%20%20%20%20%20%20%20%20%20extraClasses%3A%20%27fa-rotate-0%27%0A%20%20%20%20%20%20%20%20%20%20%20%20%20%20%20%20%20%20%20%20%7D%29%3B%0A%20%20%20%20%20%20%20%20%20%20%20%20%20%20%20%20marker_0cc95c284c28478a86d6edf9cd095a3a.setIcon%28icon_a285121aaace437aa3ffae5f9685e563%29%3B%0A%20%20%20%20%20%20%20%20%20%20%20%20%0A%20%20%20%20%0A%20%20%20%20%20%20%20%20marker_0cc95c284c28478a86d6edf9cd095a3a.bindTooltip%28%0A%20%20%20%20%20%20%20%20%20%20%20%20%60%3Cdiv%3E%60%0A%20%20%20%20%20%20%20%20%20%20%20%20%2B%20%60%3Ch4%3E%3Cb%3EMuseo%20de%20Arte%20Moderno%20de%20Medell%C3%ADn%3C/b%3E%3C/p%3E%3Cp%3ENivel%3A%20%3Cb%3E50%3C/b%3E%3C/p%3E%3Cp%3EPeso%3A%20%3Cb%3E30%3C/b%3E%3C/p%3E%60%20%2B%20%60%3C/div%3E%60%2C%0A%20%20%20%20%20%20%20%20%20%20%20%20%7B%22sticky%22%3A%20true%7D%0A%20%20%20%20%20%20%20%20%29%3B%0A%20%20%20%20%20%20%20%20%0A%20%20%20%20%0A%20%20%20%20%20%20%20%20%20%20%20%20var%20popup_f794bc6204694530a4b8b194857048ee%20%3D%20L.popup%28%7BmaxWidth%3A%20%27100%25%27%0A%20%20%20%20%20%20%20%20%20%20%20%20%0A%20%20%20%20%20%20%20%20%20%20%20%20%7D%29%3B%0A%0A%20%20%20%20%20%20%20%20%20%20%20%20%0A%20%20%20%20%20%20%20%20%20%20%20%20%20%20%20%20var%20html_416dcd2c0f674d86ae6fcdda35098234%20%3D%20%24%28%60%3Cdiv%20id%3D%22html_416dcd2c0f674d86ae6fcdda35098234%22%20style%3D%22width%3A%20100.0%25%3B%20height%3A%20100.0%25%3B%22%3EMuseo%20de%20Arte%20Moderno%20de%20Medell%C3%ADn%3C/div%3E%60%29%5B0%5D%3B%0A%20%20%20%20%20%20%20%20%20%20%20%20%20%20%20%20popup_f794bc6204694530a4b8b194857048ee.setContent%28html_416dcd2c0f674d86ae6fcdda35098234%29%3B%0A%20%20%20%20%20%20%20%20%20%20%20%20%0A%0A%20%20%20%20%20%20%20%20%20%20%20%20marker_0cc95c284c28478a86d6edf9cd095a3a.bindPopup%28popup_f794bc6204694530a4b8b194857048ee%29%0A%20%20%20%20%20%20%20%20%20%20%20%20%3B%0A%0A%20%20%20%20%20%20%20%20%20%20%20%20%0A%20%20%20%20%20%20%20%20%0A%20%20%20%20%0A%20%20%20%20%20%20%20%20var%20marker_bf43fcb721914bf4980e60f4a5aff678%20%3D%20L.marker%28%0A%20%20%20%20%20%20%20%20%20%20%20%20%5B6.232689716085326%2C%20-75.59665353624818%5D%2C%0A%20%20%20%20%20%20%20%20%20%20%20%20%7B%0A%20%20%20%20%20%20%20%20%20%20%20%20%20%20%20%20icon%3A%20new%20L.Icon.Default%28%29%2C%0A%20%20%20%20%20%20%20%20%20%20%20%20%20%20%20%20%7D%0A%20%20%20%20%20%20%20%20%20%20%20%20%29.addTo%28map_319226306a3248fd958114198d0d6c33%29%3B%0A%20%20%20%20%20%20%20%20%0A%20%20%20%20%0A%0A%20%20%20%20%20%20%20%20%20%20%20%20%20%20%20%20var%20icon_b17c56829da545338c2c6d1d5b361f71%20%3D%20L.AwesomeMarkers.icon%28%7B%0A%20%20%20%20%20%20%20%20%20%20%20%20%20%20%20%20%20%20%20%20icon%3A%20%27trash%27%2C%0A%20%20%20%20%20%20%20%20%20%20%20%20%20%20%20%20%20%20%20%20iconColor%3A%20%27white%27%2C%0A%20%20%20%20%20%20%20%20%20%20%20%20%20%20%20%20%20%20%20%20markerColor%3A%20%27gray%27%2C%0A%20%20%20%20%20%20%20%20%20%20%20%20%20%20%20%20%20%20%20%20prefix%3A%20%27fa%27%2C%0A%20%20%20%20%20%20%20%20%20%20%20%20%20%20%20%20%20%20%20%20extraClasses%3A%20%27fa-rotate-0%27%0A%20%20%20%20%20%20%20%20%20%20%20%20%20%20%20%20%20%20%20%20%7D%29%3B%0A%20%20%20%20%20%20%20%20%20%20%20%20%20%20%20%20marker_bf43fcb721914bf4980e60f4a5aff678.setIcon%28icon_b17c56829da545338c2c6d1d5b361f71%29%3B%0A%20%20%20%20%20%20%20%20%20%20%20%20%0A%20%20%20%20%0A%20%20%20%20%20%20%20%20marker_bf43fcb721914bf4980e60f4a5aff678.bindTooltip%28%0A%20%20%20%20%20%20%20%20%20%20%20%20%60%3Cdiv%3E%60%0A%20%20%20%20%20%20%20%20%20%20%20%20%2B%20%60%3Ch4%3E%3Cb%3EParque%20de%20Bel%C3%A9n%3C/b%3E%3C/p%3E%3Cp%3ENivel%3A%20%3Cb%3E60%3C/b%3E%3C/p%3E%3Cp%3EPeso%3A%20%3Cb%3E36%3C/b%3E%3C/p%3E%60%20%2B%20%60%3C/div%3E%60%2C%0A%20%20%20%20%20%20%20%20%20%20%20%20%7B%22sticky%22%3A%20true%7D%0A%20%20%20%20%20%20%20%20%29%3B%0A%20%20%20%20%20%20%20%20%0A%20%20%20%20%0A%20%20%20%20%20%20%20%20%20%20%20%20var%20popup_151d6992cb224cae8d32443c0fbb84fa%20%3D%20L.popup%28%7BmaxWidth%3A%20%27100%25%27%0A%20%20%20%20%20%20%20%20%20%20%20%20%0A%20%20%20%20%20%20%20%20%20%20%20%20%7D%29%3B%0A%0A%20%20%20%20%20%20%20%20%20%20%20%20%0A%20%20%20%20%20%20%20%20%20%20%20%20%20%20%20%20var%20html_f0cb1ae5a423428ba5ecd7be6f01d990%20%3D%20%24%28%60%3Cdiv%20id%3D%22html_f0cb1ae5a423428ba5ecd7be6f01d990%22%20style%3D%22width%3A%20100.0%25%3B%20height%3A%20100.0%25%3B%22%3EParque%20de%20Bel%C3%A9n%3C/div%3E%60%29%5B0%5D%3B%0A%20%20%20%20%20%20%20%20%20%20%20%20%20%20%20%20popup_151d6992cb224cae8d32443c0fbb84fa.setContent%28html_f0cb1ae5a423428ba5ecd7be6f01d990%29%3B%0A%20%20%20%20%20%20%20%20%20%20%20%20%0A%0A%20%20%20%20%20%20%20%20%20%20%20%20marker_bf43fcb721914bf4980e60f4a5aff678.bindPopup%28popup_151d6992cb224cae8d32443c0fbb84fa%29%0A%20%20%20%20%20%20%20%20%20%20%20%20%3B%0A%0A%20%20%20%20%20%20%20%20%20%20%20%20%0A%20%20%20%20%20%20%20%20%0A%20%20%20%20%0A%20%20%20%20%20%20%20%20var%20marker_61bc1c603b6142c2946f388f2f6bdecb%20%3D%20L.marker%28%0A%20%20%20%20%20%20%20%20%20%20%20%20%5B6.5171946910919%2C%20-75.25502818729257%5D%2C%0A%20%20%20%20%20%20%20%20%20%20%20%20%7B%0A%20%20%20%20%20%20%20%20%20%20%20%20%20%20%20%20icon%3A%20new%20L.Icon.Default%28%29%2C%0A%20%20%20%20%20%20%20%20%20%20%20%20%20%20%20%20%7D%0A%20%20%20%20%20%20%20%20%20%20%20%20%29.addTo%28map_319226306a3248fd958114198d0d6c33%29%3B%0A%20%20%20%20%20%20%20%20%0A%20%20%20%20%0A%0A%20%20%20%20%20%20%20%20%20%20%20%20%20%20%20%20var%20icon_57f5745595f746d485cc6dd27791fb3c%20%3D%20L.AwesomeMarkers.icon%28%7B%0A%20%20%20%20%20%20%20%20%20%20%20%20%20%20%20%20%20%20%20%20icon%3A%20%27industry%27%2C%0A%20%20%20%20%20%20%20%20%20%20%20%20%20%20%20%20%20%20%20%20iconColor%3A%20%27white%27%2C%0A%20%20%20%20%20%20%20%20%20%20%20%20%20%20%20%20%20%20%20%20markerColor%3A%20%27red%27%2C%0A%20%20%20%20%20%20%20%20%20%20%20%20%20%20%20%20%20%20%20%20prefix%3A%20%27fa%27%2C%0A%20%20%20%20%20%20%20%20%20%20%20%20%20%20%20%20%20%20%20%20extraClasses%3A%20%27fa-rotate-0%27%0A%20%20%20%20%20%20%20%20%20%20%20%20%20%20%20%20%20%20%20%20%7D%29%3B%0A%20%20%20%20%20%20%20%20%20%20%20%20%20%20%20%20marker_61bc1c603b6142c2946f388f2f6bdecb.setIcon%28icon_57f5745595f746d485cc6dd27791fb3c%29%3B%0A%20%20%20%20%20%20%20%20%20%20%20%20%0A%20%20%20%20%0A%20%20%20%20%20%20%20%20marker_61bc1c603b6142c2946f388f2f6bdecb.bindTooltip%28%0A%20%20%20%20%20%20%20%20%20%20%20%20%60%3Cdiv%3E%60%0A%20%20%20%20%20%20%20%20%20%20%20%20%2B%20%60%3Ch4%3E%3Cb%3ERelleno%20Sanitario%20La%20Pradera%3C/b%3E%3C/p%3E%60%20%2B%20%60%3C/div%3E%60%2C%0A%20%20%20%20%20%20%20%20%20%20%20%20%7B%22sticky%22%3A%20true%7D%0A%20%20%20%20%20%20%20%20%29%3B%0A%20%20%20%20%20%20%20%20%0A%20%20%20%20%0A%20%20%20%20%20%20%20%20%20%20%20%20var%20popup_2d57c45b3d1a45a588b1ceb1c091f66f%20%3D%20L.popup%28%7BmaxWidth%3A%20%27100%25%27%0A%20%20%20%20%20%20%20%20%20%20%20%20%0A%20%20%20%20%20%20%20%20%20%20%20%20%7D%29%3B%0A%0A%20%20%20%20%20%20%20%20%20%20%20%20%0A%20%20%20%20%20%20%20%20%20%20%20%20%20%20%20%20var%20html_10d9d8831cbd4a9698c088fa90816740%20%3D%20%24%28%60%3Cdiv%20id%3D%22html_10d9d8831cbd4a9698c088fa90816740%22%20style%3D%22width%3A%20100.0%25%3B%20height%3A%20100.0%25%3B%22%3ERelleno%20Sanitario%20La%20Pradera%3C/div%3E%60%29%5B0%5D%3B%0A%20%20%20%20%20%20%20%20%20%20%20%20%20%20%20%20popup_2d57c45b3d1a45a588b1ceb1c091f66f.setContent%28html_10d9d8831cbd4a9698c088fa90816740%29%3B%0A%20%20%20%20%20%20%20%20%20%20%20%20%0A%0A%20%20%20%20%20%20%20%20%20%20%20%20marker_61bc1c603b6142c2946f388f2f6bdecb.bindPopup%28popup_2d57c45b3d1a45a588b1ceb1c091f66f%29%0A%20%20%20%20%20%20%20%20%20%20%20%20%3B%0A%0A%20%20%20%20%20%20%20%20%20%20%20%20%0A%20%20%20%20%20%20%20%20%0A%3C/script%3E onload=\"this.contentDocument.open();this.contentDocument.write(    decodeURIComponent(this.getAttribute('data-html')));this.contentDocument.close();\" allowfullscreen webkitallowfullscreen mozallowfullscreen></iframe></div></div>"
            ],
            "text/plain": [
              "<folium.folium.Map at 0x7f5375072910>"
            ]
          },
          "metadata": {},
          "execution_count": 7
        }
      ],
      "source": [
        "import folium as fm\n",
        "from folium import Marker as mk\n",
        "\n",
        "coordenadas_medellin = (6.25184, -75.56359)\n",
        "coordenadas_girardota = (6.3792, -75.4453) # Permiten visualizar el mapa con un mejor zoom y en un punto central entre los contenedores de basura y el depósito\n",
        "\n",
        "m = fm.Map(location=coordenadas_girardota, tiles='openstreetmap', zoom_start=12)\n",
        "\n",
        "for node in contenedores:\n",
        "    tooltip = fm.map.Tooltip(\"<h4><b>{}</b></p><p>Nivel: <b>{}</b></p><p>Peso: <b>{}</b></p>\".format(node['name'], node['level'], node['weight']))\n",
        "    ttdep = fm.map.Tooltip(\"<h4><b>{}</b></p>\".format(depot['name']))\n",
        "    mk(location=node['location'], tooltip=tooltip, icon=(fm.Icon(color='gray', icon='trash', prefix='fa'))).add_child(fm.Popup('{}'.format(node['name']))).add_to(m)\n",
        "    \n",
        "\n",
        "mk(location=depot['location'], tooltip=ttdep, icon= (fm.Icon(color='red', icon='industry', prefix='fa'))).add_child(fm.Popup('{}'.format(depot['name']))).add_to(m)\n",
        "m"
      ]
    },
    {
      "cell_type": "markdown",
      "metadata": {
        "id": "AUlXqfqsSaTP"
      },
      "source": [
        "### Crear el Data Frame con la información necesaria para el problema\n"
      ]
    },
    {
      "cell_type": "markdown",
      "metadata": {
        "id": "j_ZZCM33SaTP"
      },
      "source": [
        "Se crea una función para filtrar los contenedores que van a entrar en el modelo, de acuerdo al nivel captura por cada contenedor. Para esta simulación se define que los contenedores por debajo de un 75% de la capacidad de carga no entran en el modelo."
      ]
    },
    {
      "cell_type": "code",
      "execution_count": 8,
      "metadata": {
        "colab": {
          "base_uri": "https://localhost:8080/",
          "height": 238
        },
        "id": "CjwwHDPMSaTP",
        "outputId": "230d93bd-6b0c-40ce-f65a-0145f9b46513"
      },
      "outputs": [
        {
          "output_type": "execute_result",
          "data": {
            "text/html": [
              "\n",
              "  <div id=\"df-1a2a6b7d-712f-4065-859a-7b1fcd298330\">\n",
              "    <div class=\"colab-df-container\">\n",
              "      <div>\n",
              "<style scoped>\n",
              "    .dataframe tbody tr th:only-of-type {\n",
              "        vertical-align: middle;\n",
              "    }\n",
              "\n",
              "    .dataframe tbody tr th {\n",
              "        vertical-align: top;\n",
              "    }\n",
              "\n",
              "    .dataframe thead th {\n",
              "        text-align: right;\n",
              "    }\n",
              "</style>\n",
              "<table border=\"1\" class=\"dataframe\">\n",
              "  <thead>\n",
              "    <tr style=\"text-align: right;\">\n",
              "      <th></th>\n",
              "      <th>name</th>\n",
              "      <th>location</th>\n",
              "      <th>level</th>\n",
              "      <th>weight</th>\n",
              "      <th>open_time</th>\n",
              "      <th>close_time</th>\n",
              "    </tr>\n",
              "  </thead>\n",
              "  <tbody>\n",
              "    <tr>\n",
              "      <th>0</th>\n",
              "      <td>Plaza Botero</td>\n",
              "      <td>(6.2524857541249315, -75.5686261812429)</td>\n",
              "      <td>100</td>\n",
              "      <td>60</td>\n",
              "      <td>2022-01-17 08:00:00</td>\n",
              "      <td>2022-01-17 20:00:00</td>\n",
              "    </tr>\n",
              "    <tr>\n",
              "      <th>1</th>\n",
              "      <td>Universidad de Medellín</td>\n",
              "      <td>(6.231704691813073, -75.61160925921747)</td>\n",
              "      <td>75</td>\n",
              "      <td>39</td>\n",
              "      <td>2022-01-17 08:00:00</td>\n",
              "      <td>2022-01-17 20:00:00</td>\n",
              "    </tr>\n",
              "    <tr>\n",
              "      <th>2</th>\n",
              "      <td>Parque Juanes de la Paz</td>\n",
              "      <td>(6.290384323934336, -75.56945687270888)</td>\n",
              "      <td>90</td>\n",
              "      <td>54</td>\n",
              "      <td>2022-01-17 08:00:00</td>\n",
              "      <td>2022-01-17 20:00:00</td>\n",
              "    </tr>\n",
              "    <tr>\n",
              "      <th>3</th>\n",
              "      <td>Parque del Poblado</td>\n",
              "      <td>(6.210362095508166, -75.57088108434691)</td>\n",
              "      <td>75</td>\n",
              "      <td>42</td>\n",
              "      <td>2022-01-17 08:00:00</td>\n",
              "      <td>2022-01-17 20:00:00</td>\n",
              "    </tr>\n",
              "    <tr>\n",
              "      <th>4</th>\n",
              "      <td>Alcaldía de Medellín</td>\n",
              "      <td>(6.2451496127526225, -75.57371337731854)</td>\n",
              "      <td>75</td>\n",
              "      <td>42</td>\n",
              "      <td>2022-01-17 08:00:00</td>\n",
              "      <td>2022-01-17 20:00:00</td>\n",
              "    </tr>\n",
              "    <tr>\n",
              "      <th>5</th>\n",
              "      <td>Parque Explora</td>\n",
              "      <td>(6.271208962002754, -75.56556245591827)</td>\n",
              "      <td>90</td>\n",
              "      <td>54</td>\n",
              "      <td>2022-01-17 08:00:00</td>\n",
              "      <td>2022-01-17 20:00:00</td>\n",
              "    </tr>\n",
              "  </tbody>\n",
              "</table>\n",
              "</div>\n",
              "      <button class=\"colab-df-convert\" onclick=\"convertToInteractive('df-1a2a6b7d-712f-4065-859a-7b1fcd298330')\"\n",
              "              title=\"Convert this dataframe to an interactive table.\"\n",
              "              style=\"display:none;\">\n",
              "        \n",
              "  <svg xmlns=\"http://www.w3.org/2000/svg\" height=\"24px\"viewBox=\"0 0 24 24\"\n",
              "       width=\"24px\">\n",
              "    <path d=\"M0 0h24v24H0V0z\" fill=\"none\"/>\n",
              "    <path d=\"M18.56 5.44l.94 2.06.94-2.06 2.06-.94-2.06-.94-.94-2.06-.94 2.06-2.06.94zm-11 1L8.5 8.5l.94-2.06 2.06-.94-2.06-.94L8.5 2.5l-.94 2.06-2.06.94zm10 10l.94 2.06.94-2.06 2.06-.94-2.06-.94-.94-2.06-.94 2.06-2.06.94z\"/><path d=\"M17.41 7.96l-1.37-1.37c-.4-.4-.92-.59-1.43-.59-.52 0-1.04.2-1.43.59L10.3 9.45l-7.72 7.72c-.78.78-.78 2.05 0 2.83L4 21.41c.39.39.9.59 1.41.59.51 0 1.02-.2 1.41-.59l7.78-7.78 2.81-2.81c.8-.78.8-2.07 0-2.86zM5.41 20L4 18.59l7.72-7.72 1.47 1.35L5.41 20z\"/>\n",
              "  </svg>\n",
              "      </button>\n",
              "      \n",
              "  <style>\n",
              "    .colab-df-container {\n",
              "      display:flex;\n",
              "      flex-wrap:wrap;\n",
              "      gap: 12px;\n",
              "    }\n",
              "\n",
              "    .colab-df-convert {\n",
              "      background-color: #E8F0FE;\n",
              "      border: none;\n",
              "      border-radius: 50%;\n",
              "      cursor: pointer;\n",
              "      display: none;\n",
              "      fill: #1967D2;\n",
              "      height: 32px;\n",
              "      padding: 0 0 0 0;\n",
              "      width: 32px;\n",
              "    }\n",
              "\n",
              "    .colab-df-convert:hover {\n",
              "      background-color: #E2EBFA;\n",
              "      box-shadow: 0px 1px 2px rgba(60, 64, 67, 0.3), 0px 1px 3px 1px rgba(60, 64, 67, 0.15);\n",
              "      fill: #174EA6;\n",
              "    }\n",
              "\n",
              "    [theme=dark] .colab-df-convert {\n",
              "      background-color: #3B4455;\n",
              "      fill: #D2E3FC;\n",
              "    }\n",
              "\n",
              "    [theme=dark] .colab-df-convert:hover {\n",
              "      background-color: #434B5C;\n",
              "      box-shadow: 0px 1px 3px 1px rgba(0, 0, 0, 0.15);\n",
              "      filter: drop-shadow(0px 1px 2px rgba(0, 0, 0, 0.3));\n",
              "      fill: #FFFFFF;\n",
              "    }\n",
              "  </style>\n",
              "\n",
              "      <script>\n",
              "        const buttonEl =\n",
              "          document.querySelector('#df-1a2a6b7d-712f-4065-859a-7b1fcd298330 button.colab-df-convert');\n",
              "        buttonEl.style.display =\n",
              "          google.colab.kernel.accessAllowed ? 'block' : 'none';\n",
              "\n",
              "        async function convertToInteractive(key) {\n",
              "          const element = document.querySelector('#df-1a2a6b7d-712f-4065-859a-7b1fcd298330');\n",
              "          const dataTable =\n",
              "            await google.colab.kernel.invokeFunction('convertToInteractive',\n",
              "                                                     [key], {});\n",
              "          if (!dataTable) return;\n",
              "\n",
              "          const docLinkHtml = 'Like what you see? Visit the ' +\n",
              "            '<a target=\"_blank\" href=https://colab.research.google.com/notebooks/data_table.ipynb>data table notebook</a>'\n",
              "            + ' to learn more about interactive tables.';\n",
              "          element.innerHTML = '';\n",
              "          dataTable['output_type'] = 'display_data';\n",
              "          await google.colab.output.renderOutput(dataTable, element);\n",
              "          const docLink = document.createElement('div');\n",
              "          docLink.innerHTML = docLinkHtml;\n",
              "          element.appendChild(docLink);\n",
              "        }\n",
              "      </script>\n",
              "    </div>\n",
              "  </div>\n",
              "  "
            ],
            "text/plain": [
              "                      name  ...          close_time\n",
              "0             Plaza Botero  ... 2022-01-17 20:00:00\n",
              "1  Universidad de Medellín  ... 2022-01-17 20:00:00\n",
              "2  Parque Juanes de la Paz  ... 2022-01-17 20:00:00\n",
              "3       Parque del Poblado  ... 2022-01-17 20:00:00\n",
              "4     Alcaldía de Medellín  ... 2022-01-17 20:00:00\n",
              "5           Parque Explora  ... 2022-01-17 20:00:00\n",
              "\n",
              "[6 rows x 6 columns]"
            ]
          },
          "metadata": {},
          "execution_count": 8
        }
      ],
      "source": [
        "threshold_level = 75 \n",
        "\n",
        "def filter_containers(contenedores, level):     \n",
        "    # Se filtran o seleccionan los contenedores que harían parte del modelo de acuerdo al threshold especificado          \n",
        "    cont_filt = [c for c in contenedores if c['level'] >= level]\n",
        "    \n",
        "    return cont_filt\n",
        "\n",
        "def pd_containers(contenedores):\n",
        "    import pandas as pd\n",
        "    # Se obtiene un dataframe con los contenedores filtrados que harían parte del modelo\n",
        "    keys = []\n",
        "    vals = []\n",
        "    for data in contenedores:\n",
        "        val = []\n",
        "        for k,v in data.items():\n",
        "            keys.append(k)\n",
        "            val.append(v)\n",
        "        vals.append(val)\n",
        "    filtered_df = pd.DataFrame([v for v in vals], columns=list(dict.fromkeys(keys)))\n",
        "    return filtered_df\n",
        "\n",
        "contenedores_filtrados = filter_containers(contenedores, threshold_level)\n",
        "contenedores_data = pd_containers(contenedores_filtrados)\n",
        "contenedores_data"
      ]
    },
    {
      "cell_type": "markdown",
      "metadata": {
        "id": "LLdYJwo2SaTQ"
      },
      "source": [
        "Se crea un dataframe con los datos necesarios de los contenedores que serán utilizados posteriormente para la solicitud enviada a la API de optimización de ORS. Este dataframe servirá como fuente principal para identificar tanto las ubicaciones de los contenedores, los nombres de dichas ubicaciones, como los pesos de cada contenedor (que serían las cantidades solicitadas a recolectar)."
      ]
    },
    {
      "cell_type": "code",
      "execution_count": 9,
      "metadata": {
        "colab": {
          "base_uri": "https://localhost:8080/",
          "height": 238
        },
        "id": "k67fETHYSaTQ",
        "outputId": "2714e6d3-d016-4063-ac66-330a93fb48fe"
      },
      "outputs": [
        {
          "output_type": "execute_result",
          "data": {
            "text/html": [
              "\n",
              "  <div id=\"df-59734440-5912-4811-8bf1-3c8b50a388be\">\n",
              "    <div class=\"colab-df-container\">\n",
              "      <div>\n",
              "<style scoped>\n",
              "    .dataframe tbody tr th:only-of-type {\n",
              "        vertical-align: middle;\n",
              "    }\n",
              "\n",
              "    .dataframe tbody tr th {\n",
              "        vertical-align: top;\n",
              "    }\n",
              "\n",
              "    .dataframe thead th {\n",
              "        text-align: right;\n",
              "    }\n",
              "</style>\n",
              "<table border=\"1\" class=\"dataframe\">\n",
              "  <thead>\n",
              "    <tr style=\"text-align: right;\">\n",
              "      <th></th>\n",
              "      <th>name</th>\n",
              "      <th>location</th>\n",
              "      <th>level</th>\n",
              "      <th>weight</th>\n",
              "      <th>open_time</th>\n",
              "      <th>close_time</th>\n",
              "      <th>Lon</th>\n",
              "      <th>Lat</th>\n",
              "    </tr>\n",
              "  </thead>\n",
              "  <tbody>\n",
              "    <tr>\n",
              "      <th>0</th>\n",
              "      <td>Plaza Botero</td>\n",
              "      <td>(6.2524857541249315, -75.5686261812429)</td>\n",
              "      <td>100</td>\n",
              "      <td>60</td>\n",
              "      <td>2022-01-17 08:00:00</td>\n",
              "      <td>2022-01-17 20:00:00</td>\n",
              "      <td>-75.568626</td>\n",
              "      <td>6.252486</td>\n",
              "    </tr>\n",
              "    <tr>\n",
              "      <th>1</th>\n",
              "      <td>Universidad de Medellín</td>\n",
              "      <td>(6.231704691813073, -75.61160925921747)</td>\n",
              "      <td>75</td>\n",
              "      <td>39</td>\n",
              "      <td>2022-01-17 08:00:00</td>\n",
              "      <td>2022-01-17 20:00:00</td>\n",
              "      <td>-75.611609</td>\n",
              "      <td>6.231705</td>\n",
              "    </tr>\n",
              "    <tr>\n",
              "      <th>2</th>\n",
              "      <td>Parque Juanes de la Paz</td>\n",
              "      <td>(6.290384323934336, -75.56945687270888)</td>\n",
              "      <td>90</td>\n",
              "      <td>54</td>\n",
              "      <td>2022-01-17 08:00:00</td>\n",
              "      <td>2022-01-17 20:00:00</td>\n",
              "      <td>-75.569457</td>\n",
              "      <td>6.290384</td>\n",
              "    </tr>\n",
              "    <tr>\n",
              "      <th>3</th>\n",
              "      <td>Parque del Poblado</td>\n",
              "      <td>(6.210362095508166, -75.57088108434691)</td>\n",
              "      <td>75</td>\n",
              "      <td>42</td>\n",
              "      <td>2022-01-17 08:00:00</td>\n",
              "      <td>2022-01-17 20:00:00</td>\n",
              "      <td>-75.570881</td>\n",
              "      <td>6.210362</td>\n",
              "    </tr>\n",
              "    <tr>\n",
              "      <th>4</th>\n",
              "      <td>Alcaldía de Medellín</td>\n",
              "      <td>(6.2451496127526225, -75.57371337731854)</td>\n",
              "      <td>75</td>\n",
              "      <td>42</td>\n",
              "      <td>2022-01-17 08:00:00</td>\n",
              "      <td>2022-01-17 20:00:00</td>\n",
              "      <td>-75.573713</td>\n",
              "      <td>6.245150</td>\n",
              "    </tr>\n",
              "    <tr>\n",
              "      <th>5</th>\n",
              "      <td>Parque Explora</td>\n",
              "      <td>(6.271208962002754, -75.56556245591827)</td>\n",
              "      <td>90</td>\n",
              "      <td>54</td>\n",
              "      <td>2022-01-17 08:00:00</td>\n",
              "      <td>2022-01-17 20:00:00</td>\n",
              "      <td>-75.565562</td>\n",
              "      <td>6.271209</td>\n",
              "    </tr>\n",
              "  </tbody>\n",
              "</table>\n",
              "</div>\n",
              "      <button class=\"colab-df-convert\" onclick=\"convertToInteractive('df-59734440-5912-4811-8bf1-3c8b50a388be')\"\n",
              "              title=\"Convert this dataframe to an interactive table.\"\n",
              "              style=\"display:none;\">\n",
              "        \n",
              "  <svg xmlns=\"http://www.w3.org/2000/svg\" height=\"24px\"viewBox=\"0 0 24 24\"\n",
              "       width=\"24px\">\n",
              "    <path d=\"M0 0h24v24H0V0z\" fill=\"none\"/>\n",
              "    <path d=\"M18.56 5.44l.94 2.06.94-2.06 2.06-.94-2.06-.94-.94-2.06-.94 2.06-2.06.94zm-11 1L8.5 8.5l.94-2.06 2.06-.94-2.06-.94L8.5 2.5l-.94 2.06-2.06.94zm10 10l.94 2.06.94-2.06 2.06-.94-2.06-.94-.94-2.06-.94 2.06-2.06.94z\"/><path d=\"M17.41 7.96l-1.37-1.37c-.4-.4-.92-.59-1.43-.59-.52 0-1.04.2-1.43.59L10.3 9.45l-7.72 7.72c-.78.78-.78 2.05 0 2.83L4 21.41c.39.39.9.59 1.41.59.51 0 1.02-.2 1.41-.59l7.78-7.78 2.81-2.81c.8-.78.8-2.07 0-2.86zM5.41 20L4 18.59l7.72-7.72 1.47 1.35L5.41 20z\"/>\n",
              "  </svg>\n",
              "      </button>\n",
              "      \n",
              "  <style>\n",
              "    .colab-df-container {\n",
              "      display:flex;\n",
              "      flex-wrap:wrap;\n",
              "      gap: 12px;\n",
              "    }\n",
              "\n",
              "    .colab-df-convert {\n",
              "      background-color: #E8F0FE;\n",
              "      border: none;\n",
              "      border-radius: 50%;\n",
              "      cursor: pointer;\n",
              "      display: none;\n",
              "      fill: #1967D2;\n",
              "      height: 32px;\n",
              "      padding: 0 0 0 0;\n",
              "      width: 32px;\n",
              "    }\n",
              "\n",
              "    .colab-df-convert:hover {\n",
              "      background-color: #E2EBFA;\n",
              "      box-shadow: 0px 1px 2px rgba(60, 64, 67, 0.3), 0px 1px 3px 1px rgba(60, 64, 67, 0.15);\n",
              "      fill: #174EA6;\n",
              "    }\n",
              "\n",
              "    [theme=dark] .colab-df-convert {\n",
              "      background-color: #3B4455;\n",
              "      fill: #D2E3FC;\n",
              "    }\n",
              "\n",
              "    [theme=dark] .colab-df-convert:hover {\n",
              "      background-color: #434B5C;\n",
              "      box-shadow: 0px 1px 3px 1px rgba(0, 0, 0, 0.15);\n",
              "      filter: drop-shadow(0px 1px 2px rgba(0, 0, 0, 0.3));\n",
              "      fill: #FFFFFF;\n",
              "    }\n",
              "  </style>\n",
              "\n",
              "      <script>\n",
              "        const buttonEl =\n",
              "          document.querySelector('#df-59734440-5912-4811-8bf1-3c8b50a388be button.colab-df-convert');\n",
              "        buttonEl.style.display =\n",
              "          google.colab.kernel.accessAllowed ? 'block' : 'none';\n",
              "\n",
              "        async function convertToInteractive(key) {\n",
              "          const element = document.querySelector('#df-59734440-5912-4811-8bf1-3c8b50a388be');\n",
              "          const dataTable =\n",
              "            await google.colab.kernel.invokeFunction('convertToInteractive',\n",
              "                                                     [key], {});\n",
              "          if (!dataTable) return;\n",
              "\n",
              "          const docLinkHtml = 'Like what you see? Visit the ' +\n",
              "            '<a target=\"_blank\" href=https://colab.research.google.com/notebooks/data_table.ipynb>data table notebook</a>'\n",
              "            + ' to learn more about interactive tables.';\n",
              "          element.innerHTML = '';\n",
              "          dataTable['output_type'] = 'display_data';\n",
              "          await google.colab.output.renderOutput(dataTable, element);\n",
              "          const docLink = document.createElement('div');\n",
              "          docLink.innerHTML = docLinkHtml;\n",
              "          element.appendChild(docLink);\n",
              "        }\n",
              "      </script>\n",
              "    </div>\n",
              "  </div>\n",
              "  "
            ],
            "text/plain": [
              "                      name  ...       Lat\n",
              "0             Plaza Botero  ...  6.252486\n",
              "1  Universidad de Medellín  ...  6.231705\n",
              "2  Parque Juanes de la Paz  ...  6.290384\n",
              "3       Parque del Poblado  ...  6.210362\n",
              "4     Alcaldía de Medellín  ...  6.245150\n",
              "5           Parque Explora  ...  6.271209\n",
              "\n",
              "[6 rows x 8 columns]"
            ]
          },
          "metadata": {},
          "execution_count": 9
        }
      ],
      "source": [
        "contenedores_data['Lon'] = contenedores_data['location'].apply(lambda x: x[1])\n",
        "contenedores_data['Lat'] = contenedores_data['location'].apply(lambda x: x[0])\n",
        "contenedores_data"
      ]
    },
    {
      "cell_type": "markdown",
      "metadata": {
        "id": "2sh4IFD2SaTQ"
      },
      "source": [
        "### Crear los datos para las Restricciones de los Vehículos\n",
        "Se crean los datos correspondientes a las restricciones de capacidad de los vehículos recolectores de basura. Se debe tener presente que las unidades de capacidad deben coincidir. Además se agrega una variable que contenga las ventanas de tiempo para los vehículos, es decir sus horas de operación."
      ]
    },
    {
      "cell_type": "code",
      "execution_count": 10,
      "metadata": {
        "colab": {
          "base_uri": "https://localhost:8080/"
        },
        "id": "d3F7MsE3SaTR",
        "outputId": "cffae42a-331d-4497-ee3d-5f33d1d17e5b"
      },
      "outputs": [
        {
          "output_type": "execute_result",
          "data": {
            "text/plain": [
              "[1642406400, 1642449600]"
            ]
          },
          "metadata": {},
          "execution_count": 10
        }
      ],
      "source": [
        "vehicle_capacities = [100]\n",
        "inicio_turno = int(datetime.datetime(2022, 1, 17, 8, 0, 0).timestamp())\n",
        "final_turno = int(datetime.datetime(2022, 1, 17, 20, 0, 0).timestamp())\n",
        "vehicle_time_windows = [inicio_turno, final_turno] # 8-20:00, expresados en POSIX timestamp\n",
        "vehicle_time_windows"
      ]
    },
    {
      "cell_type": "markdown",
      "metadata": {
        "id": "9qVAiiqESaTR"
      },
      "source": [
        "### Graficar en el Mapa el depósito y las ubicaciones de recogida\n",
        "En este paso solo se tienen en cuenta los contenedores filtrados anteriormente, así que se grafican los contenedores que superen el threshold determinado y el depósito de basura."
      ]
    },
    {
      "cell_type": "code",
      "execution_count": 11,
      "metadata": {
        "colab": {
          "base_uri": "https://localhost:8080/",
          "height": 1000
        },
        "id": "lYlkMqfySaTR",
        "outputId": "20effcb5-8bab-4213-ab12-cb409df7ede4"
      },
      "outputs": [
        {
          "output_type": "execute_result",
          "data": {
            "text/html": [
              "<div style=\"width:100%;\"><div style=\"position:relative;width:100%;height:0;padding-bottom:60%;\"><span style=\"color:#565656\">Make this Notebook Trusted to load map: File -> Trust Notebook</span><iframe src=\"about:blank\" style=\"position:absolute;width:100%;height:100%;left:0;top:0;border:none !important;\" data-html=%3C%21DOCTYPE%20html%3E%0A%3Chead%3E%20%20%20%20%0A%20%20%20%20%3Cmeta%20http-equiv%3D%22content-type%22%20content%3D%22text/html%3B%20charset%3DUTF-8%22%20/%3E%0A%20%20%20%20%3Cscript%3EL_PREFER_CANVAS%3Dfalse%3B%20L_NO_TOUCH%3Dfalse%3B%20L_DISABLE_3D%3Dfalse%3B%3C/script%3E%0A%20%20%20%20%3Cscript%20src%3D%22https%3A//cdn.jsdelivr.net/npm/leaflet%401.4.0/dist/leaflet.js%22%3E%3C/script%3E%0A%20%20%20%20%3Cscript%20src%3D%22https%3A//code.jquery.com/jquery-1.12.4.min.js%22%3E%3C/script%3E%0A%20%20%20%20%3Cscript%20src%3D%22https%3A//maxcdn.bootstrapcdn.com/bootstrap/3.2.0/js/bootstrap.min.js%22%3E%3C/script%3E%0A%20%20%20%20%3Cscript%20src%3D%22https%3A//cdnjs.cloudflare.com/ajax/libs/Leaflet.awesome-markers/2.0.2/leaflet.awesome-markers.js%22%3E%3C/script%3E%0A%20%20%20%20%3Clink%20rel%3D%22stylesheet%22%20href%3D%22https%3A//cdn.jsdelivr.net/npm/leaflet%401.4.0/dist/leaflet.css%22/%3E%0A%20%20%20%20%3Clink%20rel%3D%22stylesheet%22%20href%3D%22https%3A//maxcdn.bootstrapcdn.com/bootstrap/3.2.0/css/bootstrap.min.css%22/%3E%0A%20%20%20%20%3Clink%20rel%3D%22stylesheet%22%20href%3D%22https%3A//maxcdn.bootstrapcdn.com/bootstrap/3.2.0/css/bootstrap-theme.min.css%22/%3E%0A%20%20%20%20%3Clink%20rel%3D%22stylesheet%22%20href%3D%22https%3A//maxcdn.bootstrapcdn.com/font-awesome/4.6.3/css/font-awesome.min.css%22/%3E%0A%20%20%20%20%3Clink%20rel%3D%22stylesheet%22%20href%3D%22https%3A//cdnjs.cloudflare.com/ajax/libs/Leaflet.awesome-markers/2.0.2/leaflet.awesome-markers.css%22/%3E%0A%20%20%20%20%3Clink%20rel%3D%22stylesheet%22%20href%3D%22https%3A//rawcdn.githack.com/python-visualization/folium/master/folium/templates/leaflet.awesome.rotate.css%22/%3E%0A%20%20%20%20%3Cstyle%3Ehtml%2C%20body%20%7Bwidth%3A%20100%25%3Bheight%3A%20100%25%3Bmargin%3A%200%3Bpadding%3A%200%3B%7D%3C/style%3E%0A%20%20%20%20%3Cstyle%3E%23map%20%7Bposition%3Aabsolute%3Btop%3A0%3Bbottom%3A0%3Bright%3A0%3Bleft%3A0%3B%7D%3C/style%3E%0A%20%20%20%20%0A%20%20%20%20%3Cmeta%20name%3D%22viewport%22%20content%3D%22width%3Ddevice-width%2C%0A%20%20%20%20%20%20%20%20initial-scale%3D1.0%2C%20maximum-scale%3D1.0%2C%20user-scalable%3Dno%22%20/%3E%0A%20%20%20%20%3Cstyle%3E%23map_f8c6d5f91bf24b6898c58b8220516932%20%7B%0A%20%20%20%20%20%20%20%20position%3A%20relative%3B%0A%20%20%20%20%20%20%20%20width%3A%20100.0%25%3B%0A%20%20%20%20%20%20%20%20height%3A%20100.0%25%3B%0A%20%20%20%20%20%20%20%20left%3A%200.0%25%3B%0A%20%20%20%20%20%20%20%20top%3A%200.0%25%3B%0A%20%20%20%20%20%20%20%20%7D%0A%20%20%20%20%3C/style%3E%0A%3C/head%3E%0A%3Cbody%3E%20%20%20%20%0A%20%20%20%20%0A%20%20%20%20%3Cdiv%20class%3D%22folium-map%22%20id%3D%22map_f8c6d5f91bf24b6898c58b8220516932%22%20%3E%3C/div%3E%0A%3C/body%3E%0A%3Cscript%3E%20%20%20%20%0A%20%20%20%20%0A%20%20%20%20%0A%20%20%20%20%20%20%20%20var%20bounds%20%3D%20null%3B%0A%20%20%20%20%0A%0A%20%20%20%20var%20map_f8c6d5f91bf24b6898c58b8220516932%20%3D%20L.map%28%0A%20%20%20%20%20%20%20%20%27map_f8c6d5f91bf24b6898c58b8220516932%27%2C%20%7B%0A%20%20%20%20%20%20%20%20center%3A%20%5B6.3792%2C%20-75.4453%5D%2C%0A%20%20%20%20%20%20%20%20zoom%3A%2012%2C%0A%20%20%20%20%20%20%20%20maxBounds%3A%20bounds%2C%0A%20%20%20%20%20%20%20%20layers%3A%20%5B%5D%2C%0A%20%20%20%20%20%20%20%20worldCopyJump%3A%20false%2C%0A%20%20%20%20%20%20%20%20crs%3A%20L.CRS.EPSG3857%2C%0A%20%20%20%20%20%20%20%20zoomControl%3A%20true%2C%0A%20%20%20%20%20%20%20%20%7D%29%3B%0A%0A%0A%20%20%20%20%0A%20%20%20%20var%20tile_layer_04f35c260a3546baa7bae4d936e9156d%20%3D%20L.tileLayer%28%0A%20%20%20%20%20%20%20%20%27https%3A//%7Bs%7D.tile.openstreetmap.org/%7Bz%7D/%7Bx%7D/%7By%7D.png%27%2C%0A%20%20%20%20%20%20%20%20%7B%0A%20%20%20%20%20%20%20%20%22attribution%22%3A%20null%2C%0A%20%20%20%20%20%20%20%20%22detectRetina%22%3A%20false%2C%0A%20%20%20%20%20%20%20%20%22maxNativeZoom%22%3A%2018%2C%0A%20%20%20%20%20%20%20%20%22maxZoom%22%3A%2018%2C%0A%20%20%20%20%20%20%20%20%22minZoom%22%3A%200%2C%0A%20%20%20%20%20%20%20%20%22noWrap%22%3A%20false%2C%0A%20%20%20%20%20%20%20%20%22opacity%22%3A%201%2C%0A%20%20%20%20%20%20%20%20%22subdomains%22%3A%20%22abc%22%2C%0A%20%20%20%20%20%20%20%20%22tms%22%3A%20false%0A%7D%29.addTo%28map_f8c6d5f91bf24b6898c58b8220516932%29%3B%0A%20%20%20%20%0A%20%20%20%20%20%20%20%20var%20marker_39145e70d5194f41a9c82b6f8c088340%20%3D%20L.marker%28%0A%20%20%20%20%20%20%20%20%20%20%20%20%5B6.2524857541249315%2C%20-75.5686261812429%5D%2C%0A%20%20%20%20%20%20%20%20%20%20%20%20%7B%0A%20%20%20%20%20%20%20%20%20%20%20%20%20%20%20%20icon%3A%20new%20L.Icon.Default%28%29%2C%0A%20%20%20%20%20%20%20%20%20%20%20%20%20%20%20%20%7D%0A%20%20%20%20%20%20%20%20%20%20%20%20%29.addTo%28map_f8c6d5f91bf24b6898c58b8220516932%29%3B%0A%20%20%20%20%20%20%20%20%0A%20%20%20%20%0A%0A%20%20%20%20%20%20%20%20%20%20%20%20%20%20%20%20var%20icon_0c83429ae08e4494b774db258db70534%20%3D%20L.AwesomeMarkers.icon%28%7B%0A%20%20%20%20%20%20%20%20%20%20%20%20%20%20%20%20%20%20%20%20icon%3A%20%27trash%27%2C%0A%20%20%20%20%20%20%20%20%20%20%20%20%20%20%20%20%20%20%20%20iconColor%3A%20%27white%27%2C%0A%20%20%20%20%20%20%20%20%20%20%20%20%20%20%20%20%20%20%20%20markerColor%3A%20%27gray%27%2C%0A%20%20%20%20%20%20%20%20%20%20%20%20%20%20%20%20%20%20%20%20prefix%3A%20%27fa%27%2C%0A%20%20%20%20%20%20%20%20%20%20%20%20%20%20%20%20%20%20%20%20extraClasses%3A%20%27fa-rotate-0%27%0A%20%20%20%20%20%20%20%20%20%20%20%20%20%20%20%20%20%20%20%20%7D%29%3B%0A%20%20%20%20%20%20%20%20%20%20%20%20%20%20%20%20marker_39145e70d5194f41a9c82b6f8c088340.setIcon%28icon_0c83429ae08e4494b774db258db70534%29%3B%0A%20%20%20%20%20%20%20%20%20%20%20%20%0A%20%20%20%20%0A%20%20%20%20%20%20%20%20marker_39145e70d5194f41a9c82b6f8c088340.bindTooltip%28%0A%20%20%20%20%20%20%20%20%20%20%20%20%60%3Cdiv%3E%60%0A%20%20%20%20%20%20%20%20%20%20%20%20%2B%20%60%3Ch4%3E%3Cb%3EPlaza%20Botero%3C/b%3E%3C/p%3E%3Cp%3ENivel%3A%20%3Cb%3E100%3C/b%3E%3C/p%3E%3Cp%3EPeso%3A%20%3Cb%3E60%3C/b%3E%3C/p%3E%60%20%2B%20%60%3C/div%3E%60%2C%0A%20%20%20%20%20%20%20%20%20%20%20%20%7B%22sticky%22%3A%20true%7D%0A%20%20%20%20%20%20%20%20%29%3B%0A%20%20%20%20%20%20%20%20%0A%20%20%20%20%0A%20%20%20%20%20%20%20%20%20%20%20%20var%20popup_998b993fcffb456f8222e6a2132cb4cc%20%3D%20L.popup%28%7BmaxWidth%3A%20%27100%25%27%0A%20%20%20%20%20%20%20%20%20%20%20%20%0A%20%20%20%20%20%20%20%20%20%20%20%20%7D%29%3B%0A%0A%20%20%20%20%20%20%20%20%20%20%20%20%0A%20%20%20%20%20%20%20%20%20%20%20%20%20%20%20%20var%20html_116cd115df3f4da19e0c9ac6795baa44%20%3D%20%24%28%60%3Cdiv%20id%3D%22html_116cd115df3f4da19e0c9ac6795baa44%22%20style%3D%22width%3A%20100.0%25%3B%20height%3A%20100.0%25%3B%22%3EPlaza%20Botero%3C/div%3E%60%29%5B0%5D%3B%0A%20%20%20%20%20%20%20%20%20%20%20%20%20%20%20%20popup_998b993fcffb456f8222e6a2132cb4cc.setContent%28html_116cd115df3f4da19e0c9ac6795baa44%29%3B%0A%20%20%20%20%20%20%20%20%20%20%20%20%0A%0A%20%20%20%20%20%20%20%20%20%20%20%20marker_39145e70d5194f41a9c82b6f8c088340.bindPopup%28popup_998b993fcffb456f8222e6a2132cb4cc%29%0A%20%20%20%20%20%20%20%20%20%20%20%20%3B%0A%0A%20%20%20%20%20%20%20%20%20%20%20%20%0A%20%20%20%20%20%20%20%20%0A%20%20%20%20%0A%20%20%20%20%20%20%20%20var%20marker_7f8e3f08f6b143a48d9ae35b2b421ac3%20%3D%20L.marker%28%0A%20%20%20%20%20%20%20%20%20%20%20%20%5B6.231704691813073%2C%20-75.61160925921747%5D%2C%0A%20%20%20%20%20%20%20%20%20%20%20%20%7B%0A%20%20%20%20%20%20%20%20%20%20%20%20%20%20%20%20icon%3A%20new%20L.Icon.Default%28%29%2C%0A%20%20%20%20%20%20%20%20%20%20%20%20%20%20%20%20%7D%0A%20%20%20%20%20%20%20%20%20%20%20%20%29.addTo%28map_f8c6d5f91bf24b6898c58b8220516932%29%3B%0A%20%20%20%20%20%20%20%20%0A%20%20%20%20%0A%0A%20%20%20%20%20%20%20%20%20%20%20%20%20%20%20%20var%20icon_055e2ffe712e48fb9f3495ff5123a66f%20%3D%20L.AwesomeMarkers.icon%28%7B%0A%20%20%20%20%20%20%20%20%20%20%20%20%20%20%20%20%20%20%20%20icon%3A%20%27trash%27%2C%0A%20%20%20%20%20%20%20%20%20%20%20%20%20%20%20%20%20%20%20%20iconColor%3A%20%27white%27%2C%0A%20%20%20%20%20%20%20%20%20%20%20%20%20%20%20%20%20%20%20%20markerColor%3A%20%27gray%27%2C%0A%20%20%20%20%20%20%20%20%20%20%20%20%20%20%20%20%20%20%20%20prefix%3A%20%27fa%27%2C%0A%20%20%20%20%20%20%20%20%20%20%20%20%20%20%20%20%20%20%20%20extraClasses%3A%20%27fa-rotate-0%27%0A%20%20%20%20%20%20%20%20%20%20%20%20%20%20%20%20%20%20%20%20%7D%29%3B%0A%20%20%20%20%20%20%20%20%20%20%20%20%20%20%20%20marker_7f8e3f08f6b143a48d9ae35b2b421ac3.setIcon%28icon_055e2ffe712e48fb9f3495ff5123a66f%29%3B%0A%20%20%20%20%20%20%20%20%20%20%20%20%0A%20%20%20%20%0A%20%20%20%20%20%20%20%20marker_7f8e3f08f6b143a48d9ae35b2b421ac3.bindTooltip%28%0A%20%20%20%20%20%20%20%20%20%20%20%20%60%3Cdiv%3E%60%0A%20%20%20%20%20%20%20%20%20%20%20%20%2B%20%60%3Ch4%3E%3Cb%3EUniversidad%20de%20Medell%C3%ADn%3C/b%3E%3C/p%3E%3Cp%3ENivel%3A%20%3Cb%3E75%3C/b%3E%3C/p%3E%3Cp%3EPeso%3A%20%3Cb%3E39%3C/b%3E%3C/p%3E%60%20%2B%20%60%3C/div%3E%60%2C%0A%20%20%20%20%20%20%20%20%20%20%20%20%7B%22sticky%22%3A%20true%7D%0A%20%20%20%20%20%20%20%20%29%3B%0A%20%20%20%20%20%20%20%20%0A%20%20%20%20%0A%20%20%20%20%20%20%20%20%20%20%20%20var%20popup_c13b7d0fd97341a4a7c64fc30d86fa57%20%3D%20L.popup%28%7BmaxWidth%3A%20%27100%25%27%0A%20%20%20%20%20%20%20%20%20%20%20%20%0A%20%20%20%20%20%20%20%20%20%20%20%20%7D%29%3B%0A%0A%20%20%20%20%20%20%20%20%20%20%20%20%0A%20%20%20%20%20%20%20%20%20%20%20%20%20%20%20%20var%20html_59c87e6e435340019bf38d1c2c278227%20%3D%20%24%28%60%3Cdiv%20id%3D%22html_59c87e6e435340019bf38d1c2c278227%22%20style%3D%22width%3A%20100.0%25%3B%20height%3A%20100.0%25%3B%22%3EUniversidad%20de%20Medell%C3%ADn%3C/div%3E%60%29%5B0%5D%3B%0A%20%20%20%20%20%20%20%20%20%20%20%20%20%20%20%20popup_c13b7d0fd97341a4a7c64fc30d86fa57.setContent%28html_59c87e6e435340019bf38d1c2c278227%29%3B%0A%20%20%20%20%20%20%20%20%20%20%20%20%0A%0A%20%20%20%20%20%20%20%20%20%20%20%20marker_7f8e3f08f6b143a48d9ae35b2b421ac3.bindPopup%28popup_c13b7d0fd97341a4a7c64fc30d86fa57%29%0A%20%20%20%20%20%20%20%20%20%20%20%20%3B%0A%0A%20%20%20%20%20%20%20%20%20%20%20%20%0A%20%20%20%20%20%20%20%20%0A%20%20%20%20%0A%20%20%20%20%20%20%20%20var%20marker_e81b58756881496c95f5c83e3e92eb08%20%3D%20L.marker%28%0A%20%20%20%20%20%20%20%20%20%20%20%20%5B6.290384323934336%2C%20-75.56945687270888%5D%2C%0A%20%20%20%20%20%20%20%20%20%20%20%20%7B%0A%20%20%20%20%20%20%20%20%20%20%20%20%20%20%20%20icon%3A%20new%20L.Icon.Default%28%29%2C%0A%20%20%20%20%20%20%20%20%20%20%20%20%20%20%20%20%7D%0A%20%20%20%20%20%20%20%20%20%20%20%20%29.addTo%28map_f8c6d5f91bf24b6898c58b8220516932%29%3B%0A%20%20%20%20%20%20%20%20%0A%20%20%20%20%0A%0A%20%20%20%20%20%20%20%20%20%20%20%20%20%20%20%20var%20icon_cc9aeb75ed2c4a049bcc837703587e16%20%3D%20L.AwesomeMarkers.icon%28%7B%0A%20%20%20%20%20%20%20%20%20%20%20%20%20%20%20%20%20%20%20%20icon%3A%20%27trash%27%2C%0A%20%20%20%20%20%20%20%20%20%20%20%20%20%20%20%20%20%20%20%20iconColor%3A%20%27white%27%2C%0A%20%20%20%20%20%20%20%20%20%20%20%20%20%20%20%20%20%20%20%20markerColor%3A%20%27gray%27%2C%0A%20%20%20%20%20%20%20%20%20%20%20%20%20%20%20%20%20%20%20%20prefix%3A%20%27fa%27%2C%0A%20%20%20%20%20%20%20%20%20%20%20%20%20%20%20%20%20%20%20%20extraClasses%3A%20%27fa-rotate-0%27%0A%20%20%20%20%20%20%20%20%20%20%20%20%20%20%20%20%20%20%20%20%7D%29%3B%0A%20%20%20%20%20%20%20%20%20%20%20%20%20%20%20%20marker_e81b58756881496c95f5c83e3e92eb08.setIcon%28icon_cc9aeb75ed2c4a049bcc837703587e16%29%3B%0A%20%20%20%20%20%20%20%20%20%20%20%20%0A%20%20%20%20%0A%20%20%20%20%20%20%20%20marker_e81b58756881496c95f5c83e3e92eb08.bindTooltip%28%0A%20%20%20%20%20%20%20%20%20%20%20%20%60%3Cdiv%3E%60%0A%20%20%20%20%20%20%20%20%20%20%20%20%2B%20%60%3Ch4%3E%3Cb%3EParque%20Juanes%20de%20la%20Paz%3C/b%3E%3C/p%3E%3Cp%3ENivel%3A%20%3Cb%3E90%3C/b%3E%3C/p%3E%3Cp%3EPeso%3A%20%3Cb%3E54%3C/b%3E%3C/p%3E%60%20%2B%20%60%3C/div%3E%60%2C%0A%20%20%20%20%20%20%20%20%20%20%20%20%7B%22sticky%22%3A%20true%7D%0A%20%20%20%20%20%20%20%20%29%3B%0A%20%20%20%20%20%20%20%20%0A%20%20%20%20%0A%20%20%20%20%20%20%20%20%20%20%20%20var%20popup_ff39e7883a1f42f39b4b1397ac473520%20%3D%20L.popup%28%7BmaxWidth%3A%20%27100%25%27%0A%20%20%20%20%20%20%20%20%20%20%20%20%0A%20%20%20%20%20%20%20%20%20%20%20%20%7D%29%3B%0A%0A%20%20%20%20%20%20%20%20%20%20%20%20%0A%20%20%20%20%20%20%20%20%20%20%20%20%20%20%20%20var%20html_4020f1aca76b469f9ee917bfc196d028%20%3D%20%24%28%60%3Cdiv%20id%3D%22html_4020f1aca76b469f9ee917bfc196d028%22%20style%3D%22width%3A%20100.0%25%3B%20height%3A%20100.0%25%3B%22%3EParque%20Juanes%20de%20la%20Paz%3C/div%3E%60%29%5B0%5D%3B%0A%20%20%20%20%20%20%20%20%20%20%20%20%20%20%20%20popup_ff39e7883a1f42f39b4b1397ac473520.setContent%28html_4020f1aca76b469f9ee917bfc196d028%29%3B%0A%20%20%20%20%20%20%20%20%20%20%20%20%0A%0A%20%20%20%20%20%20%20%20%20%20%20%20marker_e81b58756881496c95f5c83e3e92eb08.bindPopup%28popup_ff39e7883a1f42f39b4b1397ac473520%29%0A%20%20%20%20%20%20%20%20%20%20%20%20%3B%0A%0A%20%20%20%20%20%20%20%20%20%20%20%20%0A%20%20%20%20%20%20%20%20%0A%20%20%20%20%0A%20%20%20%20%20%20%20%20var%20marker_ff0c172a740448bebdc60bf547b88352%20%3D%20L.marker%28%0A%20%20%20%20%20%20%20%20%20%20%20%20%5B6.210362095508166%2C%20-75.57088108434691%5D%2C%0A%20%20%20%20%20%20%20%20%20%20%20%20%7B%0A%20%20%20%20%20%20%20%20%20%20%20%20%20%20%20%20icon%3A%20new%20L.Icon.Default%28%29%2C%0A%20%20%20%20%20%20%20%20%20%20%20%20%20%20%20%20%7D%0A%20%20%20%20%20%20%20%20%20%20%20%20%29.addTo%28map_f8c6d5f91bf24b6898c58b8220516932%29%3B%0A%20%20%20%20%20%20%20%20%0A%20%20%20%20%0A%0A%20%20%20%20%20%20%20%20%20%20%20%20%20%20%20%20var%20icon_13dfdcdffc444ca9aecf464e3f06f5b3%20%3D%20L.AwesomeMarkers.icon%28%7B%0A%20%20%20%20%20%20%20%20%20%20%20%20%20%20%20%20%20%20%20%20icon%3A%20%27trash%27%2C%0A%20%20%20%20%20%20%20%20%20%20%20%20%20%20%20%20%20%20%20%20iconColor%3A%20%27white%27%2C%0A%20%20%20%20%20%20%20%20%20%20%20%20%20%20%20%20%20%20%20%20markerColor%3A%20%27gray%27%2C%0A%20%20%20%20%20%20%20%20%20%20%20%20%20%20%20%20%20%20%20%20prefix%3A%20%27fa%27%2C%0A%20%20%20%20%20%20%20%20%20%20%20%20%20%20%20%20%20%20%20%20extraClasses%3A%20%27fa-rotate-0%27%0A%20%20%20%20%20%20%20%20%20%20%20%20%20%20%20%20%20%20%20%20%7D%29%3B%0A%20%20%20%20%20%20%20%20%20%20%20%20%20%20%20%20marker_ff0c172a740448bebdc60bf547b88352.setIcon%28icon_13dfdcdffc444ca9aecf464e3f06f5b3%29%3B%0A%20%20%20%20%20%20%20%20%20%20%20%20%0A%20%20%20%20%0A%20%20%20%20%20%20%20%20marker_ff0c172a740448bebdc60bf547b88352.bindTooltip%28%0A%20%20%20%20%20%20%20%20%20%20%20%20%60%3Cdiv%3E%60%0A%20%20%20%20%20%20%20%20%20%20%20%20%2B%20%60%3Ch4%3E%3Cb%3EParque%20del%20Poblado%3C/b%3E%3C/p%3E%3Cp%3ENivel%3A%20%3Cb%3E75%3C/b%3E%3C/p%3E%3Cp%3EPeso%3A%20%3Cb%3E42%3C/b%3E%3C/p%3E%60%20%2B%20%60%3C/div%3E%60%2C%0A%20%20%20%20%20%20%20%20%20%20%20%20%7B%22sticky%22%3A%20true%7D%0A%20%20%20%20%20%20%20%20%29%3B%0A%20%20%20%20%20%20%20%20%0A%20%20%20%20%0A%20%20%20%20%20%20%20%20%20%20%20%20var%20popup_10e905f627f24077a668915b442ef832%20%3D%20L.popup%28%7BmaxWidth%3A%20%27100%25%27%0A%20%20%20%20%20%20%20%20%20%20%20%20%0A%20%20%20%20%20%20%20%20%20%20%20%20%7D%29%3B%0A%0A%20%20%20%20%20%20%20%20%20%20%20%20%0A%20%20%20%20%20%20%20%20%20%20%20%20%20%20%20%20var%20html_e6059d710d6d49ac889d3ec15cbc3779%20%3D%20%24%28%60%3Cdiv%20id%3D%22html_e6059d710d6d49ac889d3ec15cbc3779%22%20style%3D%22width%3A%20100.0%25%3B%20height%3A%20100.0%25%3B%22%3EParque%20del%20Poblado%3C/div%3E%60%29%5B0%5D%3B%0A%20%20%20%20%20%20%20%20%20%20%20%20%20%20%20%20popup_10e905f627f24077a668915b442ef832.setContent%28html_e6059d710d6d49ac889d3ec15cbc3779%29%3B%0A%20%20%20%20%20%20%20%20%20%20%20%20%0A%0A%20%20%20%20%20%20%20%20%20%20%20%20marker_ff0c172a740448bebdc60bf547b88352.bindPopup%28popup_10e905f627f24077a668915b442ef832%29%0A%20%20%20%20%20%20%20%20%20%20%20%20%3B%0A%0A%20%20%20%20%20%20%20%20%20%20%20%20%0A%20%20%20%20%20%20%20%20%0A%20%20%20%20%0A%20%20%20%20%20%20%20%20var%20marker_04371a0c88d24ee8aad4e0036da775a0%20%3D%20L.marker%28%0A%20%20%20%20%20%20%20%20%20%20%20%20%5B6.2451496127526225%2C%20-75.57371337731854%5D%2C%0A%20%20%20%20%20%20%20%20%20%20%20%20%7B%0A%20%20%20%20%20%20%20%20%20%20%20%20%20%20%20%20icon%3A%20new%20L.Icon.Default%28%29%2C%0A%20%20%20%20%20%20%20%20%20%20%20%20%20%20%20%20%7D%0A%20%20%20%20%20%20%20%20%20%20%20%20%29.addTo%28map_f8c6d5f91bf24b6898c58b8220516932%29%3B%0A%20%20%20%20%20%20%20%20%0A%20%20%20%20%0A%0A%20%20%20%20%20%20%20%20%20%20%20%20%20%20%20%20var%20icon_f3c91e13328841a289ce5c7735396a3a%20%3D%20L.AwesomeMarkers.icon%28%7B%0A%20%20%20%20%20%20%20%20%20%20%20%20%20%20%20%20%20%20%20%20icon%3A%20%27trash%27%2C%0A%20%20%20%20%20%20%20%20%20%20%20%20%20%20%20%20%20%20%20%20iconColor%3A%20%27white%27%2C%0A%20%20%20%20%20%20%20%20%20%20%20%20%20%20%20%20%20%20%20%20markerColor%3A%20%27gray%27%2C%0A%20%20%20%20%20%20%20%20%20%20%20%20%20%20%20%20%20%20%20%20prefix%3A%20%27fa%27%2C%0A%20%20%20%20%20%20%20%20%20%20%20%20%20%20%20%20%20%20%20%20extraClasses%3A%20%27fa-rotate-0%27%0A%20%20%20%20%20%20%20%20%20%20%20%20%20%20%20%20%20%20%20%20%7D%29%3B%0A%20%20%20%20%20%20%20%20%20%20%20%20%20%20%20%20marker_04371a0c88d24ee8aad4e0036da775a0.setIcon%28icon_f3c91e13328841a289ce5c7735396a3a%29%3B%0A%20%20%20%20%20%20%20%20%20%20%20%20%0A%20%20%20%20%0A%20%20%20%20%20%20%20%20marker_04371a0c88d24ee8aad4e0036da775a0.bindTooltip%28%0A%20%20%20%20%20%20%20%20%20%20%20%20%60%3Cdiv%3E%60%0A%20%20%20%20%20%20%20%20%20%20%20%20%2B%20%60%3Ch4%3E%3Cb%3EAlcald%C3%ADa%20de%20Medell%C3%ADn%3C/b%3E%3C/p%3E%3Cp%3ENivel%3A%20%3Cb%3E75%3C/b%3E%3C/p%3E%3Cp%3EPeso%3A%20%3Cb%3E42%3C/b%3E%3C/p%3E%60%20%2B%20%60%3C/div%3E%60%2C%0A%20%20%20%20%20%20%20%20%20%20%20%20%7B%22sticky%22%3A%20true%7D%0A%20%20%20%20%20%20%20%20%29%3B%0A%20%20%20%20%20%20%20%20%0A%20%20%20%20%0A%20%20%20%20%20%20%20%20%20%20%20%20var%20popup_97e3d621c73449b3b872978c9838b4e8%20%3D%20L.popup%28%7BmaxWidth%3A%20%27100%25%27%0A%20%20%20%20%20%20%20%20%20%20%20%20%0A%20%20%20%20%20%20%20%20%20%20%20%20%7D%29%3B%0A%0A%20%20%20%20%20%20%20%20%20%20%20%20%0A%20%20%20%20%20%20%20%20%20%20%20%20%20%20%20%20var%20html_48ddf756dc03467fba319c860e3f8c41%20%3D%20%24%28%60%3Cdiv%20id%3D%22html_48ddf756dc03467fba319c860e3f8c41%22%20style%3D%22width%3A%20100.0%25%3B%20height%3A%20100.0%25%3B%22%3EAlcald%C3%ADa%20de%20Medell%C3%ADn%3C/div%3E%60%29%5B0%5D%3B%0A%20%20%20%20%20%20%20%20%20%20%20%20%20%20%20%20popup_97e3d621c73449b3b872978c9838b4e8.setContent%28html_48ddf756dc03467fba319c860e3f8c41%29%3B%0A%20%20%20%20%20%20%20%20%20%20%20%20%0A%0A%20%20%20%20%20%20%20%20%20%20%20%20marker_04371a0c88d24ee8aad4e0036da775a0.bindPopup%28popup_97e3d621c73449b3b872978c9838b4e8%29%0A%20%20%20%20%20%20%20%20%20%20%20%20%3B%0A%0A%20%20%20%20%20%20%20%20%20%20%20%20%0A%20%20%20%20%20%20%20%20%0A%20%20%20%20%0A%20%20%20%20%20%20%20%20var%20marker_af1863a341794b4fb7b0a91313661265%20%3D%20L.marker%28%0A%20%20%20%20%20%20%20%20%20%20%20%20%5B6.271208962002754%2C%20-75.56556245591827%5D%2C%0A%20%20%20%20%20%20%20%20%20%20%20%20%7B%0A%20%20%20%20%20%20%20%20%20%20%20%20%20%20%20%20icon%3A%20new%20L.Icon.Default%28%29%2C%0A%20%20%20%20%20%20%20%20%20%20%20%20%20%20%20%20%7D%0A%20%20%20%20%20%20%20%20%20%20%20%20%29.addTo%28map_f8c6d5f91bf24b6898c58b8220516932%29%3B%0A%20%20%20%20%20%20%20%20%0A%20%20%20%20%0A%0A%20%20%20%20%20%20%20%20%20%20%20%20%20%20%20%20var%20icon_9afdc967667e43ffbaaa224c0d40884c%20%3D%20L.AwesomeMarkers.icon%28%7B%0A%20%20%20%20%20%20%20%20%20%20%20%20%20%20%20%20%20%20%20%20icon%3A%20%27trash%27%2C%0A%20%20%20%20%20%20%20%20%20%20%20%20%20%20%20%20%20%20%20%20iconColor%3A%20%27white%27%2C%0A%20%20%20%20%20%20%20%20%20%20%20%20%20%20%20%20%20%20%20%20markerColor%3A%20%27gray%27%2C%0A%20%20%20%20%20%20%20%20%20%20%20%20%20%20%20%20%20%20%20%20prefix%3A%20%27fa%27%2C%0A%20%20%20%20%20%20%20%20%20%20%20%20%20%20%20%20%20%20%20%20extraClasses%3A%20%27fa-rotate-0%27%0A%20%20%20%20%20%20%20%20%20%20%20%20%20%20%20%20%20%20%20%20%7D%29%3B%0A%20%20%20%20%20%20%20%20%20%20%20%20%20%20%20%20marker_af1863a341794b4fb7b0a91313661265.setIcon%28icon_9afdc967667e43ffbaaa224c0d40884c%29%3B%0A%20%20%20%20%20%20%20%20%20%20%20%20%0A%20%20%20%20%0A%20%20%20%20%20%20%20%20marker_af1863a341794b4fb7b0a91313661265.bindTooltip%28%0A%20%20%20%20%20%20%20%20%20%20%20%20%60%3Cdiv%3E%60%0A%20%20%20%20%20%20%20%20%20%20%20%20%2B%20%60%3Ch4%3E%3Cb%3EParque%20Explora%3C/b%3E%3C/p%3E%3Cp%3ENivel%3A%20%3Cb%3E90%3C/b%3E%3C/p%3E%3Cp%3EPeso%3A%20%3Cb%3E54%3C/b%3E%3C/p%3E%60%20%2B%20%60%3C/div%3E%60%2C%0A%20%20%20%20%20%20%20%20%20%20%20%20%7B%22sticky%22%3A%20true%7D%0A%20%20%20%20%20%20%20%20%29%3B%0A%20%20%20%20%20%20%20%20%0A%20%20%20%20%0A%20%20%20%20%20%20%20%20%20%20%20%20var%20popup_88507908c4f7428da734f4560e06744e%20%3D%20L.popup%28%7BmaxWidth%3A%20%27100%25%27%0A%20%20%20%20%20%20%20%20%20%20%20%20%0A%20%20%20%20%20%20%20%20%20%20%20%20%7D%29%3B%0A%0A%20%20%20%20%20%20%20%20%20%20%20%20%0A%20%20%20%20%20%20%20%20%20%20%20%20%20%20%20%20var%20html_ee35eea73fdf488486e8351dfb136b9f%20%3D%20%24%28%60%3Cdiv%20id%3D%22html_ee35eea73fdf488486e8351dfb136b9f%22%20style%3D%22width%3A%20100.0%25%3B%20height%3A%20100.0%25%3B%22%3EParque%20Explora%3C/div%3E%60%29%5B0%5D%3B%0A%20%20%20%20%20%20%20%20%20%20%20%20%20%20%20%20popup_88507908c4f7428da734f4560e06744e.setContent%28html_ee35eea73fdf488486e8351dfb136b9f%29%3B%0A%20%20%20%20%20%20%20%20%20%20%20%20%0A%0A%20%20%20%20%20%20%20%20%20%20%20%20marker_af1863a341794b4fb7b0a91313661265.bindPopup%28popup_88507908c4f7428da734f4560e06744e%29%0A%20%20%20%20%20%20%20%20%20%20%20%20%3B%0A%0A%20%20%20%20%20%20%20%20%20%20%20%20%0A%20%20%20%20%20%20%20%20%0A%20%20%20%20%0A%20%20%20%20%20%20%20%20var%20marker_ff664b1f88424a69b46ed0c711573abe%20%3D%20L.marker%28%0A%20%20%20%20%20%20%20%20%20%20%20%20%5B6.5171946910919%2C%20-75.25502818729257%5D%2C%0A%20%20%20%20%20%20%20%20%20%20%20%20%7B%0A%20%20%20%20%20%20%20%20%20%20%20%20%20%20%20%20icon%3A%20new%20L.Icon.Default%28%29%2C%0A%20%20%20%20%20%20%20%20%20%20%20%20%20%20%20%20%7D%0A%20%20%20%20%20%20%20%20%20%20%20%20%29.addTo%28map_f8c6d5f91bf24b6898c58b8220516932%29%3B%0A%20%20%20%20%20%20%20%20%0A%20%20%20%20%0A%0A%20%20%20%20%20%20%20%20%20%20%20%20%20%20%20%20var%20icon_96969bd88dd24f0a8dd31fc0dd3f33b4%20%3D%20L.AwesomeMarkers.icon%28%7B%0A%20%20%20%20%20%20%20%20%20%20%20%20%20%20%20%20%20%20%20%20icon%3A%20%27industry%27%2C%0A%20%20%20%20%20%20%20%20%20%20%20%20%20%20%20%20%20%20%20%20iconColor%3A%20%27white%27%2C%0A%20%20%20%20%20%20%20%20%20%20%20%20%20%20%20%20%20%20%20%20markerColor%3A%20%27red%27%2C%0A%20%20%20%20%20%20%20%20%20%20%20%20%20%20%20%20%20%20%20%20prefix%3A%20%27fa%27%2C%0A%20%20%20%20%20%20%20%20%20%20%20%20%20%20%20%20%20%20%20%20extraClasses%3A%20%27fa-rotate-0%27%0A%20%20%20%20%20%20%20%20%20%20%20%20%20%20%20%20%20%20%20%20%7D%29%3B%0A%20%20%20%20%20%20%20%20%20%20%20%20%20%20%20%20marker_ff664b1f88424a69b46ed0c711573abe.setIcon%28icon_96969bd88dd24f0a8dd31fc0dd3f33b4%29%3B%0A%20%20%20%20%20%20%20%20%20%20%20%20%0A%20%20%20%20%0A%20%20%20%20%20%20%20%20marker_ff664b1f88424a69b46ed0c711573abe.bindTooltip%28%0A%20%20%20%20%20%20%20%20%20%20%20%20%60%3Cdiv%3E%60%0A%20%20%20%20%20%20%20%20%20%20%20%20%2B%20%60%3Ch4%3E%3Cb%3ERelleno%20Sanitario%20La%20Pradera%3C/b%3E%3C/p%3E%60%20%2B%20%60%3C/div%3E%60%2C%0A%20%20%20%20%20%20%20%20%20%20%20%20%7B%22sticky%22%3A%20true%7D%0A%20%20%20%20%20%20%20%20%29%3B%0A%20%20%20%20%20%20%20%20%0A%20%20%20%20%0A%20%20%20%20%20%20%20%20%20%20%20%20var%20popup_6375bd66fffe47d0985ff5562e973f52%20%3D%20L.popup%28%7BmaxWidth%3A%20%27100%25%27%0A%20%20%20%20%20%20%20%20%20%20%20%20%0A%20%20%20%20%20%20%20%20%20%20%20%20%7D%29%3B%0A%0A%20%20%20%20%20%20%20%20%20%20%20%20%0A%20%20%20%20%20%20%20%20%20%20%20%20%20%20%20%20var%20html_ad0f6b89a8f54f4ca9f644e537398670%20%3D%20%24%28%60%3Cdiv%20id%3D%22html_ad0f6b89a8f54f4ca9f644e537398670%22%20style%3D%22width%3A%20100.0%25%3B%20height%3A%20100.0%25%3B%22%3ERelleno%20Sanitario%20La%20Pradera%3C/div%3E%60%29%5B0%5D%3B%0A%20%20%20%20%20%20%20%20%20%20%20%20%20%20%20%20popup_6375bd66fffe47d0985ff5562e973f52.setContent%28html_ad0f6b89a8f54f4ca9f644e537398670%29%3B%0A%20%20%20%20%20%20%20%20%20%20%20%20%0A%0A%20%20%20%20%20%20%20%20%20%20%20%20marker_ff664b1f88424a69b46ed0c711573abe.bindPopup%28popup_6375bd66fffe47d0985ff5562e973f52%29%0A%20%20%20%20%20%20%20%20%20%20%20%20%3B%0A%0A%20%20%20%20%20%20%20%20%20%20%20%20%0A%20%20%20%20%20%20%20%20%0A%3C/script%3E onload=\"this.contentDocument.open();this.contentDocument.write(    decodeURIComponent(this.getAttribute('data-html')));this.contentDocument.close();\" allowfullscreen webkitallowfullscreen mozallowfullscreen></iframe></div></div>"
            ],
            "text/plain": [
              "<folium.folium.Map at 0x7f5374964250>"
            ]
          },
          "metadata": {},
          "execution_count": 11
        }
      ],
      "source": [
        "m1 = fm.Map(location=coordenadas_girardota, tiles='openstreetmap', zoom_start=12)\n",
        "\n",
        "for node in contenedores_filtrados:\n",
        "    tooltip = fm.map.Tooltip(\"<h4><b>{}</b></p><p>Nivel: <b>{}</b></p><p>Peso: <b>{}</b></p>\".format(node['name'], node['level'], node['weight']))\n",
        "    ttdep = fm.map.Tooltip(\"<h4><b>{}</b></p>\".format(depot['name']))\n",
        "    mk(location=node['location'], tooltip=tooltip, icon=(fm.Icon(color='gray', icon='trash', prefix='fa'))).add_child(fm.Popup('{}'.format(node['name']))).add_to(m1)\n",
        "    \n",
        "\n",
        "mk(location=depot['location'], tooltip=ttdep, icon= (fm.Icon(color='red', icon='industry', prefix='fa'))).add_child(fm.Popup('{}'.format(depot['name']))).add_to(m1)\n",
        "m1"
      ]
    },
    {
      "cell_type": "markdown",
      "metadata": {
        "id": "eC3_KH3jSaTS"
      },
      "source": [
        "### Configurar el problema de Ruteo\n",
        "En este paso se comienza a configurar el problema de el Vehicle Routing Problem. Para este modelo se usa la librería [Vroom](https://github.com/VROOM-Project/vroom), la cual tiene [soporte](http://k1z.blog.uni-heidelberg.de/2019/01/24/solve-routing-optimization-with-vroom-ors/) para Open Route Service y está disponible a través de APIs.\n",
        "\n",
        "Para describir el problema adecuadamente en términos algorítmicos, se posee la siguiente información:\n",
        "\n",
        "- **Dirección inicio/final de los vehículos**: el depósito de los vehículos es el Relleno Sanitario La Pradera.\n",
        "- **Capacidad de los vehículos**: 100\n",
        "- **Tiempos de operación de los vehículos**: 08:00 - 20:00\n",
        "- **Ubicación de servicio**: Ubicación de recogida de los contenedores\n",
        "- **Ventanas de tiempo de servicio**: Ventanas de tiempo de cada uno de los contenedores\n",
        "- **Cantidad de servicio**: Cantidad a recoger en cada uno de los contenedores\n",
        "\n",
        "\n",
        "Ahora se procede a organizar toda esta información y se envía la solicitud al servicio de optimización de Open Route Service en [`https://api.openrouteservice.org/optimization`](https://openrouteservice.org/dev/#/api-docs/optimization/post)."
      ]
    },
    {
      "cell_type": "code",
      "execution_count": 12,
      "metadata": {
        "id": "OwZb501ZSaTS"
      },
      "outputs": [],
      "source": [
        "# Se definen los vehículos\n",
        "# https://openrouteservice-py.readthedocs.io/en/latest/openrouteservice.html#openrouteservice.optimization.Vehicle\n",
        "\n",
        "vehicles = list()\n",
        "for vehicles_id in range(num_vehicles):\n",
        "    vehicles.append(\n",
        "        ors.optimization.Vehicle(\n",
        "            id= vehicles_id,\n",
        "            start= list(reversed(depot['location'])),\n",
        "            end= list(reversed(depot['location'])),\n",
        "            capacity= vehicle_capacities,\n",
        "            time_window= vehicle_time_windows\n",
        "        )\n",
        "    )\n",
        "    \n",
        "# Luego se definen los puntos de recogida o los contenedores\n",
        "# https://openrouteservice-py.readthedocs.io/en/latest/openrouteservice.html#openrouteservice.optimization.Job\n",
        "\n",
        "recogidas = list()\n",
        "for recogida in contenedores_data.itertuples():\n",
        "    recogidas.append(\n",
        "        ors.optimization.Job(\n",
        "            id=recogida.Index,\n",
        "            location=[recogida.Lon, recogida.Lat],\n",
        "            service=600,  # Se asumen 10 minutos en cada contenedor\n",
        "            amount=[recogida.weight],\n",
        "            time_windows=[[\n",
        "                int(recogida.open_time.timestamp()),  # VROOM espera UNIX timestamp\n",
        "                int(recogida.close_time.timestamp())\n",
        "            ]]\n",
        "        )\n",
        "    )"
      ]
    },
    {
      "cell_type": "markdown",
      "metadata": {
        "id": "Xk_wizzPSaTS"
      },
      "source": [
        "### Hacer la solicitud a la API de Optimización\n",
        "Ahora con la configuración realizada se procede a hacer la solicitud a la API de optimización, para que open route service calcule las rutas óptimas y defina la programación de ruta de cada vehículo para los contenedores a recoger."
      ]
    },
    {
      "cell_type": "code",
      "execution_count": 13,
      "metadata": {
        "id": "koX659BKSaTT"
      },
      "outputs": [],
      "source": [
        "# Se hace la solicitud\n",
        "\n",
        "result = client.optimization(\n",
        "    jobs=recogidas,\n",
        "    vehicles=vehicles,\n",
        "    geometry=True\n",
        ")"
      ]
    },
    {
      "cell_type": "markdown",
      "metadata": {
        "id": "Ey7ON_2VSaTT"
      },
      "source": [
        "### Verificar los resultados obtenidos\n",
        "Ahora se procede a verificar los datos obtenidos de la API de optimización, para el problemas configurado anteriormente."
      ]
    },
    {
      "cell_type": "markdown",
      "metadata": {
        "id": "huZsk01fSaTT"
      },
      "source": [
        "### Programa general de rutas\n"
      ]
    },
    {
      "cell_type": "code",
      "execution_count": 14,
      "metadata": {
        "colab": {
          "base_uri": "https://localhost:8080/",
          "height": 175
        },
        "id": "dDzr-6iDSaTT",
        "outputId": "bacbb7bb-2bda-4e42-dc73-c0c589884a82"
      },
      "outputs": [
        {
          "output_type": "execute_result",
          "data": {
            "text/html": [
              "\n",
              "  <div id=\"df-48dc436c-6fb1-4295-81bb-da60ca11a708\">\n",
              "    <div class=\"colab-df-container\">\n",
              "      <div>\n",
              "<style scoped>\n",
              "    .dataframe tbody tr th:only-of-type {\n",
              "        vertical-align: middle;\n",
              "    }\n",
              "\n",
              "    .dataframe tbody tr th {\n",
              "        vertical-align: top;\n",
              "    }\n",
              "\n",
              "    .dataframe thead th {\n",
              "        text-align: right;\n",
              "    }\n",
              "</style>\n",
              "<table border=\"1\" class=\"dataframe\">\n",
              "  <thead>\n",
              "    <tr style=\"text-align: right;\">\n",
              "      <th></th>\n",
              "      <th>distance</th>\n",
              "      <th>amount</th>\n",
              "      <th>duration</th>\n",
              "    </tr>\n",
              "    <tr>\n",
              "      <th>vehicle</th>\n",
              "      <th></th>\n",
              "      <th></th>\n",
              "      <th></th>\n",
              "    </tr>\n",
              "  </thead>\n",
              "  <tbody>\n",
              "    <tr>\n",
              "      <th>0</th>\n",
              "      <td>118301</td>\n",
              "      <td>[99]</td>\n",
              "      <td>7142</td>\n",
              "    </tr>\n",
              "    <tr>\n",
              "      <th>1</th>\n",
              "      <td>118627</td>\n",
              "      <td>[96]</td>\n",
              "      <td>7174</td>\n",
              "    </tr>\n",
              "    <tr>\n",
              "      <th>2</th>\n",
              "      <td>109566</td>\n",
              "      <td>[96]</td>\n",
              "      <td>6326</td>\n",
              "    </tr>\n",
              "  </tbody>\n",
              "</table>\n",
              "</div>\n",
              "      <button class=\"colab-df-convert\" onclick=\"convertToInteractive('df-48dc436c-6fb1-4295-81bb-da60ca11a708')\"\n",
              "              title=\"Convert this dataframe to an interactive table.\"\n",
              "              style=\"display:none;\">\n",
              "        \n",
              "  <svg xmlns=\"http://www.w3.org/2000/svg\" height=\"24px\"viewBox=\"0 0 24 24\"\n",
              "       width=\"24px\">\n",
              "    <path d=\"M0 0h24v24H0V0z\" fill=\"none\"/>\n",
              "    <path d=\"M18.56 5.44l.94 2.06.94-2.06 2.06-.94-2.06-.94-.94-2.06-.94 2.06-2.06.94zm-11 1L8.5 8.5l.94-2.06 2.06-.94-2.06-.94L8.5 2.5l-.94 2.06-2.06.94zm10 10l.94 2.06.94-2.06 2.06-.94-2.06-.94-.94-2.06-.94 2.06-2.06.94z\"/><path d=\"M17.41 7.96l-1.37-1.37c-.4-.4-.92-.59-1.43-.59-.52 0-1.04.2-1.43.59L10.3 9.45l-7.72 7.72c-.78.78-.78 2.05 0 2.83L4 21.41c.39.39.9.59 1.41.59.51 0 1.02-.2 1.41-.59l7.78-7.78 2.81-2.81c.8-.78.8-2.07 0-2.86zM5.41 20L4 18.59l7.72-7.72 1.47 1.35L5.41 20z\"/>\n",
              "  </svg>\n",
              "      </button>\n",
              "      \n",
              "  <style>\n",
              "    .colab-df-container {\n",
              "      display:flex;\n",
              "      flex-wrap:wrap;\n",
              "      gap: 12px;\n",
              "    }\n",
              "\n",
              "    .colab-df-convert {\n",
              "      background-color: #E8F0FE;\n",
              "      border: none;\n",
              "      border-radius: 50%;\n",
              "      cursor: pointer;\n",
              "      display: none;\n",
              "      fill: #1967D2;\n",
              "      height: 32px;\n",
              "      padding: 0 0 0 0;\n",
              "      width: 32px;\n",
              "    }\n",
              "\n",
              "    .colab-df-convert:hover {\n",
              "      background-color: #E2EBFA;\n",
              "      box-shadow: 0px 1px 2px rgba(60, 64, 67, 0.3), 0px 1px 3px 1px rgba(60, 64, 67, 0.15);\n",
              "      fill: #174EA6;\n",
              "    }\n",
              "\n",
              "    [theme=dark] .colab-df-convert {\n",
              "      background-color: #3B4455;\n",
              "      fill: #D2E3FC;\n",
              "    }\n",
              "\n",
              "    [theme=dark] .colab-df-convert:hover {\n",
              "      background-color: #434B5C;\n",
              "      box-shadow: 0px 1px 3px 1px rgba(0, 0, 0, 0.15);\n",
              "      filter: drop-shadow(0px 1px 2px rgba(0, 0, 0, 0.3));\n",
              "      fill: #FFFFFF;\n",
              "    }\n",
              "  </style>\n",
              "\n",
              "      <script>\n",
              "        const buttonEl =\n",
              "          document.querySelector('#df-48dc436c-6fb1-4295-81bb-da60ca11a708 button.colab-df-convert');\n",
              "        buttonEl.style.display =\n",
              "          google.colab.kernel.accessAllowed ? 'block' : 'none';\n",
              "\n",
              "        async function convertToInteractive(key) {\n",
              "          const element = document.querySelector('#df-48dc436c-6fb1-4295-81bb-da60ca11a708');\n",
              "          const dataTable =\n",
              "            await google.colab.kernel.invokeFunction('convertToInteractive',\n",
              "                                                     [key], {});\n",
              "          if (!dataTable) return;\n",
              "\n",
              "          const docLinkHtml = 'Like what you see? Visit the ' +\n",
              "            '<a target=\"_blank\" href=https://colab.research.google.com/notebooks/data_table.ipynb>data table notebook</a>'\n",
              "            + ' to learn more about interactive tables.';\n",
              "          element.innerHTML = '';\n",
              "          dataTable['output_type'] = 'display_data';\n",
              "          await google.colab.output.renderOutput(dataTable, element);\n",
              "          const docLink = document.createElement('div');\n",
              "          docLink.innerHTML = docLinkHtml;\n",
              "          element.appendChild(docLink);\n",
              "        }\n",
              "      </script>\n",
              "    </div>\n",
              "  </div>\n",
              "  "
            ],
            "text/plain": [
              "         distance amount  duration\n",
              "vehicle                           \n",
              "0          118301   [99]      7142\n",
              "1          118627   [96]      7174\n",
              "2          109566   [96]      6326"
            ]
          },
          "metadata": {},
          "execution_count": 14
        }
      ],
      "source": [
        "# Solo se extraen los campos relevantes de la respuesta\n",
        "\n",
        "extract_fields = ['distance', 'amount', 'duration']\n",
        "data = [{key: route[key] for key in extract_fields} for route in result['routes']]\n",
        "\n",
        "vehicles_df = pd.DataFrame(data)\n",
        "vehicles_df.index.name = 'vehicle'\n",
        "vehicles_df"
      ]
    },
    {
      "cell_type": "markdown",
      "metadata": {
        "id": "tA75vDXkSaTU"
      },
      "source": [
        "Se procede a crear una lista para visualizar las rutas individuales."
      ]
    },
    {
      "cell_type": "code",
      "execution_count": 15,
      "metadata": {
        "id": "xix_wu2-SaTU"
      },
      "outputs": [],
      "source": [
        "# Se crea una lista para mostrar el programa para todos los vehículos\n",
        "\n",
        "stations = list()\n",
        "for route in result['routes']:\n",
        "    vehicle = list()\n",
        "    for step in route[\"steps\"]:\n",
        "        vehicle.append(\n",
        "            [\n",
        "                step.get(\"job\", \"Depot\"),  # ID de Contenedor\n",
        "                step[\"arrival\"],  # Tiempo de llegada\n",
        "                step[\"arrival\"] + step.get(\"service\", 0),  # Tiempo de salida\n",
        "\n",
        "            ]\n",
        "        )\n",
        "    stations.append(vehicle)"
      ]
    },
    {
      "cell_type": "markdown",
      "metadata": {
        "id": "SkKk3zTJSaTU"
      },
      "source": [
        "Se crea un dataframe para tener presentes los nombres de los contenedores de acuerdo a su ID."
      ]
    },
    {
      "cell_type": "code",
      "execution_count": 16,
      "metadata": {
        "colab": {
          "base_uri": "https://localhost:8080/",
          "height": 238
        },
        "id": "gOAUAKFQSaTU",
        "outputId": "8bf98365-9262-457d-b4cf-771103b0aa0c"
      },
      "outputs": [
        {
          "output_type": "execute_result",
          "data": {
            "text/html": [
              "\n",
              "  <div id=\"df-c6e814ea-ad1f-447d-84b3-5cbc375de1e3\">\n",
              "    <div class=\"colab-df-container\">\n",
              "      <div>\n",
              "<style scoped>\n",
              "    .dataframe tbody tr th:only-of-type {\n",
              "        vertical-align: middle;\n",
              "    }\n",
              "\n",
              "    .dataframe tbody tr th {\n",
              "        vertical-align: top;\n",
              "    }\n",
              "\n",
              "    .dataframe thead th {\n",
              "        text-align: right;\n",
              "    }\n",
              "</style>\n",
              "<table border=\"1\" class=\"dataframe\">\n",
              "  <thead>\n",
              "    <tr style=\"text-align: right;\">\n",
              "      <th></th>\n",
              "      <th>name</th>\n",
              "    </tr>\n",
              "  </thead>\n",
              "  <tbody>\n",
              "    <tr>\n",
              "      <th>0</th>\n",
              "      <td>Plaza Botero</td>\n",
              "    </tr>\n",
              "    <tr>\n",
              "      <th>1</th>\n",
              "      <td>Universidad de Medellín</td>\n",
              "    </tr>\n",
              "    <tr>\n",
              "      <th>2</th>\n",
              "      <td>Parque Juanes de la Paz</td>\n",
              "    </tr>\n",
              "    <tr>\n",
              "      <th>3</th>\n",
              "      <td>Parque del Poblado</td>\n",
              "    </tr>\n",
              "    <tr>\n",
              "      <th>4</th>\n",
              "      <td>Alcaldía de Medellín</td>\n",
              "    </tr>\n",
              "    <tr>\n",
              "      <th>5</th>\n",
              "      <td>Parque Explora</td>\n",
              "    </tr>\n",
              "  </tbody>\n",
              "</table>\n",
              "</div>\n",
              "      <button class=\"colab-df-convert\" onclick=\"convertToInteractive('df-c6e814ea-ad1f-447d-84b3-5cbc375de1e3')\"\n",
              "              title=\"Convert this dataframe to an interactive table.\"\n",
              "              style=\"display:none;\">\n",
              "        \n",
              "  <svg xmlns=\"http://www.w3.org/2000/svg\" height=\"24px\"viewBox=\"0 0 24 24\"\n",
              "       width=\"24px\">\n",
              "    <path d=\"M0 0h24v24H0V0z\" fill=\"none\"/>\n",
              "    <path d=\"M18.56 5.44l.94 2.06.94-2.06 2.06-.94-2.06-.94-.94-2.06-.94 2.06-2.06.94zm-11 1L8.5 8.5l.94-2.06 2.06-.94-2.06-.94L8.5 2.5l-.94 2.06-2.06.94zm10 10l.94 2.06.94-2.06 2.06-.94-2.06-.94-.94-2.06-.94 2.06-2.06.94z\"/><path d=\"M17.41 7.96l-1.37-1.37c-.4-.4-.92-.59-1.43-.59-.52 0-1.04.2-1.43.59L10.3 9.45l-7.72 7.72c-.78.78-.78 2.05 0 2.83L4 21.41c.39.39.9.59 1.41.59.51 0 1.02-.2 1.41-.59l7.78-7.78 2.81-2.81c.8-.78.8-2.07 0-2.86zM5.41 20L4 18.59l7.72-7.72 1.47 1.35L5.41 20z\"/>\n",
              "  </svg>\n",
              "      </button>\n",
              "      \n",
              "  <style>\n",
              "    .colab-df-container {\n",
              "      display:flex;\n",
              "      flex-wrap:wrap;\n",
              "      gap: 12px;\n",
              "    }\n",
              "\n",
              "    .colab-df-convert {\n",
              "      background-color: #E8F0FE;\n",
              "      border: none;\n",
              "      border-radius: 50%;\n",
              "      cursor: pointer;\n",
              "      display: none;\n",
              "      fill: #1967D2;\n",
              "      height: 32px;\n",
              "      padding: 0 0 0 0;\n",
              "      width: 32px;\n",
              "    }\n",
              "\n",
              "    .colab-df-convert:hover {\n",
              "      background-color: #E2EBFA;\n",
              "      box-shadow: 0px 1px 2px rgba(60, 64, 67, 0.3), 0px 1px 3px 1px rgba(60, 64, 67, 0.15);\n",
              "      fill: #174EA6;\n",
              "    }\n",
              "\n",
              "    [theme=dark] .colab-df-convert {\n",
              "      background-color: #3B4455;\n",
              "      fill: #D2E3FC;\n",
              "    }\n",
              "\n",
              "    [theme=dark] .colab-df-convert:hover {\n",
              "      background-color: #434B5C;\n",
              "      box-shadow: 0px 1px 3px 1px rgba(0, 0, 0, 0.15);\n",
              "      filter: drop-shadow(0px 1px 2px rgba(0, 0, 0, 0.3));\n",
              "      fill: #FFFFFF;\n",
              "    }\n",
              "  </style>\n",
              "\n",
              "      <script>\n",
              "        const buttonEl =\n",
              "          document.querySelector('#df-c6e814ea-ad1f-447d-84b3-5cbc375de1e3 button.colab-df-convert');\n",
              "        buttonEl.style.display =\n",
              "          google.colab.kernel.accessAllowed ? 'block' : 'none';\n",
              "\n",
              "        async function convertToInteractive(key) {\n",
              "          const element = document.querySelector('#df-c6e814ea-ad1f-447d-84b3-5cbc375de1e3');\n",
              "          const dataTable =\n",
              "            await google.colab.kernel.invokeFunction('convertToInteractive',\n",
              "                                                     [key], {});\n",
              "          if (!dataTable) return;\n",
              "\n",
              "          const docLinkHtml = 'Like what you see? Visit the ' +\n",
              "            '<a target=\"_blank\" href=https://colab.research.google.com/notebooks/data_table.ipynb>data table notebook</a>'\n",
              "            + ' to learn more about interactive tables.';\n",
              "          element.innerHTML = '';\n",
              "          dataTable['output_type'] = 'display_data';\n",
              "          await google.colab.output.renderOutput(dataTable, element);\n",
              "          const docLink = document.createElement('div');\n",
              "          docLink.innerHTML = docLinkHtml;\n",
              "          element.appendChild(docLink);\n",
              "        }\n",
              "      </script>\n",
              "    </div>\n",
              "  </div>\n",
              "  "
            ],
            "text/plain": [
              "                      name\n",
              "0             Plaza Botero\n",
              "1  Universidad de Medellín\n",
              "2  Parque Juanes de la Paz\n",
              "3       Parque del Poblado\n",
              "4     Alcaldía de Medellín\n",
              "5           Parque Explora"
            ]
          },
          "metadata": {},
          "execution_count": 16
        }
      ],
      "source": [
        "nombres = pd.DataFrame(contenedores_data['name'])\n",
        "nombres"
      ]
    },
    {
      "cell_type": "markdown",
      "metadata": {
        "id": "xbEIgfVHSaTU"
      },
      "source": [
        "Se crea una función para obtener el dataframe con las rutas para cada vehículo."
      ]
    },
    {
      "cell_type": "code",
      "execution_count": 17,
      "metadata": {
        "id": "vDMzxNLNSaTV"
      },
      "outputs": [],
      "source": [
        "def df_stations(stations, num_vehicle):\n",
        "    df_stations = pd.DataFrame(stations[num_vehicle], columns=[\"ID Contenedor\", \"Llegada\", \"Salida\"])\n",
        "    df_stations['Nombre'] = df_stations['ID Contenedor'].apply(lambda x: depot['name'] if x == 'Depot' else contenedores_data['name'][x])\n",
        "    df_stations['Llegada'] = pd.to_datetime(df_stations['Llegada'], unit='s').dt.tz_localize(tz='UTC').dt.tz_convert('America/Bogota')\n",
        "    df_stations['Salida'] = pd.to_datetime(df_stations['Salida'], unit='s').dt.tz_localize(tz='UTC').dt.tz_convert('America/Bogota')\n",
        "    return df_stations  "
      ]
    },
    {
      "cell_type": "markdown",
      "metadata": {
        "id": "E9npPc-MSaTV"
      },
      "source": [
        "Ahora se presenta la tabla individual de cada vehículo con sus tiempos de llegada y de salida a cada punto de recogida o contenedor, evidenciando la ruta a seguir, los tiempos de llegada y salida y el nombre del lugar."
      ]
    },
    {
      "cell_type": "markdown",
      "metadata": {
        "id": "0rdOkHahSaTV"
      },
      "source": [
        "### Vehículo 0"
      ]
    },
    {
      "cell_type": "code",
      "execution_count": 18,
      "metadata": {
        "colab": {
          "base_uri": "https://localhost:8080/",
          "height": 175
        },
        "id": "1ruRkW6aSaTV",
        "outputId": "9df1e23e-35cd-4f83-c228-991978a49505"
      },
      "outputs": [
        {
          "output_type": "execute_result",
          "data": {
            "text/html": [
              "\n",
              "  <div id=\"df-89a74603-764f-40cf-9632-3f73f852a5f9\">\n",
              "    <div class=\"colab-df-container\">\n",
              "      <div>\n",
              "<style scoped>\n",
              "    .dataframe tbody tr th:only-of-type {\n",
              "        vertical-align: middle;\n",
              "    }\n",
              "\n",
              "    .dataframe tbody tr th {\n",
              "        vertical-align: top;\n",
              "    }\n",
              "\n",
              "    .dataframe thead th {\n",
              "        text-align: right;\n",
              "    }\n",
              "</style>\n",
              "<table border=\"1\" class=\"dataframe\">\n",
              "  <thead>\n",
              "    <tr style=\"text-align: right;\">\n",
              "      <th></th>\n",
              "      <th>ID Contenedor</th>\n",
              "      <th>Llegada</th>\n",
              "      <th>Salida</th>\n",
              "      <th>Nombre</th>\n",
              "    </tr>\n",
              "  </thead>\n",
              "  <tbody>\n",
              "    <tr>\n",
              "      <th>0</th>\n",
              "      <td>Depot</td>\n",
              "      <td>2022-01-17 03:00:00-05:00</td>\n",
              "      <td>2022-01-17 03:00:00-05:00</td>\n",
              "      <td>Relleno Sanitario La Pradera</td>\n",
              "    </tr>\n",
              "    <tr>\n",
              "      <th>1</th>\n",
              "      <td>1</td>\n",
              "      <td>2022-01-17 03:50:44-05:00</td>\n",
              "      <td>2022-01-17 04:00:44-05:00</td>\n",
              "      <td>Universidad de Medellín</td>\n",
              "    </tr>\n",
              "    <tr>\n",
              "      <th>2</th>\n",
              "      <td>0</td>\n",
              "      <td>2022-01-17 04:13:31-05:00</td>\n",
              "      <td>2022-01-17 04:23:31-05:00</td>\n",
              "      <td>Plaza Botero</td>\n",
              "    </tr>\n",
              "    <tr>\n",
              "      <th>3</th>\n",
              "      <td>Depot</td>\n",
              "      <td>2022-01-17 05:19:02-05:00</td>\n",
              "      <td>2022-01-17 05:19:02-05:00</td>\n",
              "      <td>Relleno Sanitario La Pradera</td>\n",
              "    </tr>\n",
              "  </tbody>\n",
              "</table>\n",
              "</div>\n",
              "      <button class=\"colab-df-convert\" onclick=\"convertToInteractive('df-89a74603-764f-40cf-9632-3f73f852a5f9')\"\n",
              "              title=\"Convert this dataframe to an interactive table.\"\n",
              "              style=\"display:none;\">\n",
              "        \n",
              "  <svg xmlns=\"http://www.w3.org/2000/svg\" height=\"24px\"viewBox=\"0 0 24 24\"\n",
              "       width=\"24px\">\n",
              "    <path d=\"M0 0h24v24H0V0z\" fill=\"none\"/>\n",
              "    <path d=\"M18.56 5.44l.94 2.06.94-2.06 2.06-.94-2.06-.94-.94-2.06-.94 2.06-2.06.94zm-11 1L8.5 8.5l.94-2.06 2.06-.94-2.06-.94L8.5 2.5l-.94 2.06-2.06.94zm10 10l.94 2.06.94-2.06 2.06-.94-2.06-.94-.94-2.06-.94 2.06-2.06.94z\"/><path d=\"M17.41 7.96l-1.37-1.37c-.4-.4-.92-.59-1.43-.59-.52 0-1.04.2-1.43.59L10.3 9.45l-7.72 7.72c-.78.78-.78 2.05 0 2.83L4 21.41c.39.39.9.59 1.41.59.51 0 1.02-.2 1.41-.59l7.78-7.78 2.81-2.81c.8-.78.8-2.07 0-2.86zM5.41 20L4 18.59l7.72-7.72 1.47 1.35L5.41 20z\"/>\n",
              "  </svg>\n",
              "      </button>\n",
              "      \n",
              "  <style>\n",
              "    .colab-df-container {\n",
              "      display:flex;\n",
              "      flex-wrap:wrap;\n",
              "      gap: 12px;\n",
              "    }\n",
              "\n",
              "    .colab-df-convert {\n",
              "      background-color: #E8F0FE;\n",
              "      border: none;\n",
              "      border-radius: 50%;\n",
              "      cursor: pointer;\n",
              "      display: none;\n",
              "      fill: #1967D2;\n",
              "      height: 32px;\n",
              "      padding: 0 0 0 0;\n",
              "      width: 32px;\n",
              "    }\n",
              "\n",
              "    .colab-df-convert:hover {\n",
              "      background-color: #E2EBFA;\n",
              "      box-shadow: 0px 1px 2px rgba(60, 64, 67, 0.3), 0px 1px 3px 1px rgba(60, 64, 67, 0.15);\n",
              "      fill: #174EA6;\n",
              "    }\n",
              "\n",
              "    [theme=dark] .colab-df-convert {\n",
              "      background-color: #3B4455;\n",
              "      fill: #D2E3FC;\n",
              "    }\n",
              "\n",
              "    [theme=dark] .colab-df-convert:hover {\n",
              "      background-color: #434B5C;\n",
              "      box-shadow: 0px 1px 3px 1px rgba(0, 0, 0, 0.15);\n",
              "      filter: drop-shadow(0px 1px 2px rgba(0, 0, 0, 0.3));\n",
              "      fill: #FFFFFF;\n",
              "    }\n",
              "  </style>\n",
              "\n",
              "      <script>\n",
              "        const buttonEl =\n",
              "          document.querySelector('#df-89a74603-764f-40cf-9632-3f73f852a5f9 button.colab-df-convert');\n",
              "        buttonEl.style.display =\n",
              "          google.colab.kernel.accessAllowed ? 'block' : 'none';\n",
              "\n",
              "        async function convertToInteractive(key) {\n",
              "          const element = document.querySelector('#df-89a74603-764f-40cf-9632-3f73f852a5f9');\n",
              "          const dataTable =\n",
              "            await google.colab.kernel.invokeFunction('convertToInteractive',\n",
              "                                                     [key], {});\n",
              "          if (!dataTable) return;\n",
              "\n",
              "          const docLinkHtml = 'Like what you see? Visit the ' +\n",
              "            '<a target=\"_blank\" href=https://colab.research.google.com/notebooks/data_table.ipynb>data table notebook</a>'\n",
              "            + ' to learn more about interactive tables.';\n",
              "          element.innerHTML = '';\n",
              "          dataTable['output_type'] = 'display_data';\n",
              "          await google.colab.output.renderOutput(dataTable, element);\n",
              "          const docLink = document.createElement('div');\n",
              "          docLink.innerHTML = docLinkHtml;\n",
              "          element.appendChild(docLink);\n",
              "        }\n",
              "      </script>\n",
              "    </div>\n",
              "  </div>\n",
              "  "
            ],
            "text/plain": [
              "  ID Contenedor  ...                        Nombre\n",
              "0         Depot  ...  Relleno Sanitario La Pradera\n",
              "1             1  ...       Universidad de Medellín\n",
              "2             0  ...                  Plaza Botero\n",
              "3         Depot  ...  Relleno Sanitario La Pradera\n",
              "\n",
              "[4 rows x 4 columns]"
            ]
          },
          "metadata": {},
          "execution_count": 18
        }
      ],
      "source": [
        "df_stations(stations, 0)"
      ]
    },
    {
      "cell_type": "markdown",
      "metadata": {
        "id": "nRR0yGsvSaTV"
      },
      "source": [
        "### Vehículo1"
      ]
    },
    {
      "cell_type": "code",
      "execution_count": 19,
      "metadata": {
        "colab": {
          "base_uri": "https://localhost:8080/",
          "height": 175
        },
        "id": "ApN4E0wVSaTV",
        "outputId": "8cf76b65-0298-42d1-97be-f72341c79ac5"
      },
      "outputs": [
        {
          "output_type": "execute_result",
          "data": {
            "text/html": [
              "\n",
              "  <div id=\"df-8780d42b-ed34-4e3f-9178-3c34710f2a8a\">\n",
              "    <div class=\"colab-df-container\">\n",
              "      <div>\n",
              "<style scoped>\n",
              "    .dataframe tbody tr th:only-of-type {\n",
              "        vertical-align: middle;\n",
              "    }\n",
              "\n",
              "    .dataframe tbody tr th {\n",
              "        vertical-align: top;\n",
              "    }\n",
              "\n",
              "    .dataframe thead th {\n",
              "        text-align: right;\n",
              "    }\n",
              "</style>\n",
              "<table border=\"1\" class=\"dataframe\">\n",
              "  <thead>\n",
              "    <tr style=\"text-align: right;\">\n",
              "      <th></th>\n",
              "      <th>ID Contenedor</th>\n",
              "      <th>Llegada</th>\n",
              "      <th>Salida</th>\n",
              "      <th>Nombre</th>\n",
              "    </tr>\n",
              "  </thead>\n",
              "  <tbody>\n",
              "    <tr>\n",
              "      <th>0</th>\n",
              "      <td>Depot</td>\n",
              "      <td>2022-01-17 03:00:00-05:00</td>\n",
              "      <td>2022-01-17 03:00:00-05:00</td>\n",
              "      <td>Relleno Sanitario La Pradera</td>\n",
              "    </tr>\n",
              "    <tr>\n",
              "      <th>1</th>\n",
              "      <td>3</td>\n",
              "      <td>2022-01-17 03:51:31-05:00</td>\n",
              "      <td>2022-01-17 04:01:31-05:00</td>\n",
              "      <td>Parque del Poblado</td>\n",
              "    </tr>\n",
              "    <tr>\n",
              "      <th>2</th>\n",
              "      <td>2</td>\n",
              "      <td>2022-01-17 04:17:42-05:00</td>\n",
              "      <td>2022-01-17 04:27:42-05:00</td>\n",
              "      <td>Parque Juanes de la Paz</td>\n",
              "    </tr>\n",
              "    <tr>\n",
              "      <th>3</th>\n",
              "      <td>Depot</td>\n",
              "      <td>2022-01-17 05:19:34-05:00</td>\n",
              "      <td>2022-01-17 05:19:34-05:00</td>\n",
              "      <td>Relleno Sanitario La Pradera</td>\n",
              "    </tr>\n",
              "  </tbody>\n",
              "</table>\n",
              "</div>\n",
              "      <button class=\"colab-df-convert\" onclick=\"convertToInteractive('df-8780d42b-ed34-4e3f-9178-3c34710f2a8a')\"\n",
              "              title=\"Convert this dataframe to an interactive table.\"\n",
              "              style=\"display:none;\">\n",
              "        \n",
              "  <svg xmlns=\"http://www.w3.org/2000/svg\" height=\"24px\"viewBox=\"0 0 24 24\"\n",
              "       width=\"24px\">\n",
              "    <path d=\"M0 0h24v24H0V0z\" fill=\"none\"/>\n",
              "    <path d=\"M18.56 5.44l.94 2.06.94-2.06 2.06-.94-2.06-.94-.94-2.06-.94 2.06-2.06.94zm-11 1L8.5 8.5l.94-2.06 2.06-.94-2.06-.94L8.5 2.5l-.94 2.06-2.06.94zm10 10l.94 2.06.94-2.06 2.06-.94-2.06-.94-.94-2.06-.94 2.06-2.06.94z\"/><path d=\"M17.41 7.96l-1.37-1.37c-.4-.4-.92-.59-1.43-.59-.52 0-1.04.2-1.43.59L10.3 9.45l-7.72 7.72c-.78.78-.78 2.05 0 2.83L4 21.41c.39.39.9.59 1.41.59.51 0 1.02-.2 1.41-.59l7.78-7.78 2.81-2.81c.8-.78.8-2.07 0-2.86zM5.41 20L4 18.59l7.72-7.72 1.47 1.35L5.41 20z\"/>\n",
              "  </svg>\n",
              "      </button>\n",
              "      \n",
              "  <style>\n",
              "    .colab-df-container {\n",
              "      display:flex;\n",
              "      flex-wrap:wrap;\n",
              "      gap: 12px;\n",
              "    }\n",
              "\n",
              "    .colab-df-convert {\n",
              "      background-color: #E8F0FE;\n",
              "      border: none;\n",
              "      border-radius: 50%;\n",
              "      cursor: pointer;\n",
              "      display: none;\n",
              "      fill: #1967D2;\n",
              "      height: 32px;\n",
              "      padding: 0 0 0 0;\n",
              "      width: 32px;\n",
              "    }\n",
              "\n",
              "    .colab-df-convert:hover {\n",
              "      background-color: #E2EBFA;\n",
              "      box-shadow: 0px 1px 2px rgba(60, 64, 67, 0.3), 0px 1px 3px 1px rgba(60, 64, 67, 0.15);\n",
              "      fill: #174EA6;\n",
              "    }\n",
              "\n",
              "    [theme=dark] .colab-df-convert {\n",
              "      background-color: #3B4455;\n",
              "      fill: #D2E3FC;\n",
              "    }\n",
              "\n",
              "    [theme=dark] .colab-df-convert:hover {\n",
              "      background-color: #434B5C;\n",
              "      box-shadow: 0px 1px 3px 1px rgba(0, 0, 0, 0.15);\n",
              "      filter: drop-shadow(0px 1px 2px rgba(0, 0, 0, 0.3));\n",
              "      fill: #FFFFFF;\n",
              "    }\n",
              "  </style>\n",
              "\n",
              "      <script>\n",
              "        const buttonEl =\n",
              "          document.querySelector('#df-8780d42b-ed34-4e3f-9178-3c34710f2a8a button.colab-df-convert');\n",
              "        buttonEl.style.display =\n",
              "          google.colab.kernel.accessAllowed ? 'block' : 'none';\n",
              "\n",
              "        async function convertToInteractive(key) {\n",
              "          const element = document.querySelector('#df-8780d42b-ed34-4e3f-9178-3c34710f2a8a');\n",
              "          const dataTable =\n",
              "            await google.colab.kernel.invokeFunction('convertToInteractive',\n",
              "                                                     [key], {});\n",
              "          if (!dataTable) return;\n",
              "\n",
              "          const docLinkHtml = 'Like what you see? Visit the ' +\n",
              "            '<a target=\"_blank\" href=https://colab.research.google.com/notebooks/data_table.ipynb>data table notebook</a>'\n",
              "            + ' to learn more about interactive tables.';\n",
              "          element.innerHTML = '';\n",
              "          dataTable['output_type'] = 'display_data';\n",
              "          await google.colab.output.renderOutput(dataTable, element);\n",
              "          const docLink = document.createElement('div');\n",
              "          docLink.innerHTML = docLinkHtml;\n",
              "          element.appendChild(docLink);\n",
              "        }\n",
              "      </script>\n",
              "    </div>\n",
              "  </div>\n",
              "  "
            ],
            "text/plain": [
              "  ID Contenedor  ...                        Nombre\n",
              "0         Depot  ...  Relleno Sanitario La Pradera\n",
              "1             3  ...            Parque del Poblado\n",
              "2             2  ...       Parque Juanes de la Paz\n",
              "3         Depot  ...  Relleno Sanitario La Pradera\n",
              "\n",
              "[4 rows x 4 columns]"
            ]
          },
          "metadata": {},
          "execution_count": 19
        }
      ],
      "source": [
        "df_stations(stations, 1)"
      ]
    },
    {
      "cell_type": "markdown",
      "metadata": {
        "id": "EwRrSxMZSaTW"
      },
      "source": [
        "### Vehículo 2"
      ]
    },
    {
      "cell_type": "code",
      "execution_count": 20,
      "metadata": {
        "colab": {
          "base_uri": "https://localhost:8080/",
          "height": 175
        },
        "id": "dDgeojEWSaTW",
        "outputId": "72878a8b-9c1c-4715-c26d-cf9e8200e905"
      },
      "outputs": [
        {
          "output_type": "execute_result",
          "data": {
            "text/html": [
              "\n",
              "  <div id=\"df-cdc52b25-00ee-464b-aae9-e16b8dd02ced\">\n",
              "    <div class=\"colab-df-container\">\n",
              "      <div>\n",
              "<style scoped>\n",
              "    .dataframe tbody tr th:only-of-type {\n",
              "        vertical-align: middle;\n",
              "    }\n",
              "\n",
              "    .dataframe tbody tr th {\n",
              "        vertical-align: top;\n",
              "    }\n",
              "\n",
              "    .dataframe thead th {\n",
              "        text-align: right;\n",
              "    }\n",
              "</style>\n",
              "<table border=\"1\" class=\"dataframe\">\n",
              "  <thead>\n",
              "    <tr style=\"text-align: right;\">\n",
              "      <th></th>\n",
              "      <th>ID Contenedor</th>\n",
              "      <th>Llegada</th>\n",
              "      <th>Salida</th>\n",
              "      <th>Nombre</th>\n",
              "    </tr>\n",
              "  </thead>\n",
              "  <tbody>\n",
              "    <tr>\n",
              "      <th>0</th>\n",
              "      <td>Depot</td>\n",
              "      <td>2022-01-17 03:00:00-05:00</td>\n",
              "      <td>2022-01-17 03:00:00-05:00</td>\n",
              "      <td>Relleno Sanitario La Pradera</td>\n",
              "    </tr>\n",
              "    <tr>\n",
              "      <th>1</th>\n",
              "      <td>4</td>\n",
              "      <td>2022-01-17 03:45:37-05:00</td>\n",
              "      <td>2022-01-17 03:55:37-05:00</td>\n",
              "      <td>Alcaldía de Medellín</td>\n",
              "    </tr>\n",
              "    <tr>\n",
              "      <th>2</th>\n",
              "      <td>5</td>\n",
              "      <td>2022-01-17 04:01:27-05:00</td>\n",
              "      <td>2022-01-17 04:11:27-05:00</td>\n",
              "      <td>Parque Explora</td>\n",
              "    </tr>\n",
              "    <tr>\n",
              "      <th>3</th>\n",
              "      <td>Depot</td>\n",
              "      <td>2022-01-17 05:05:26-05:00</td>\n",
              "      <td>2022-01-17 05:05:26-05:00</td>\n",
              "      <td>Relleno Sanitario La Pradera</td>\n",
              "    </tr>\n",
              "  </tbody>\n",
              "</table>\n",
              "</div>\n",
              "      <button class=\"colab-df-convert\" onclick=\"convertToInteractive('df-cdc52b25-00ee-464b-aae9-e16b8dd02ced')\"\n",
              "              title=\"Convert this dataframe to an interactive table.\"\n",
              "              style=\"display:none;\">\n",
              "        \n",
              "  <svg xmlns=\"http://www.w3.org/2000/svg\" height=\"24px\"viewBox=\"0 0 24 24\"\n",
              "       width=\"24px\">\n",
              "    <path d=\"M0 0h24v24H0V0z\" fill=\"none\"/>\n",
              "    <path d=\"M18.56 5.44l.94 2.06.94-2.06 2.06-.94-2.06-.94-.94-2.06-.94 2.06-2.06.94zm-11 1L8.5 8.5l.94-2.06 2.06-.94-2.06-.94L8.5 2.5l-.94 2.06-2.06.94zm10 10l.94 2.06.94-2.06 2.06-.94-2.06-.94-.94-2.06-.94 2.06-2.06.94z\"/><path d=\"M17.41 7.96l-1.37-1.37c-.4-.4-.92-.59-1.43-.59-.52 0-1.04.2-1.43.59L10.3 9.45l-7.72 7.72c-.78.78-.78 2.05 0 2.83L4 21.41c.39.39.9.59 1.41.59.51 0 1.02-.2 1.41-.59l7.78-7.78 2.81-2.81c.8-.78.8-2.07 0-2.86zM5.41 20L4 18.59l7.72-7.72 1.47 1.35L5.41 20z\"/>\n",
              "  </svg>\n",
              "      </button>\n",
              "      \n",
              "  <style>\n",
              "    .colab-df-container {\n",
              "      display:flex;\n",
              "      flex-wrap:wrap;\n",
              "      gap: 12px;\n",
              "    }\n",
              "\n",
              "    .colab-df-convert {\n",
              "      background-color: #E8F0FE;\n",
              "      border: none;\n",
              "      border-radius: 50%;\n",
              "      cursor: pointer;\n",
              "      display: none;\n",
              "      fill: #1967D2;\n",
              "      height: 32px;\n",
              "      padding: 0 0 0 0;\n",
              "      width: 32px;\n",
              "    }\n",
              "\n",
              "    .colab-df-convert:hover {\n",
              "      background-color: #E2EBFA;\n",
              "      box-shadow: 0px 1px 2px rgba(60, 64, 67, 0.3), 0px 1px 3px 1px rgba(60, 64, 67, 0.15);\n",
              "      fill: #174EA6;\n",
              "    }\n",
              "\n",
              "    [theme=dark] .colab-df-convert {\n",
              "      background-color: #3B4455;\n",
              "      fill: #D2E3FC;\n",
              "    }\n",
              "\n",
              "    [theme=dark] .colab-df-convert:hover {\n",
              "      background-color: #434B5C;\n",
              "      box-shadow: 0px 1px 3px 1px rgba(0, 0, 0, 0.15);\n",
              "      filter: drop-shadow(0px 1px 2px rgba(0, 0, 0, 0.3));\n",
              "      fill: #FFFFFF;\n",
              "    }\n",
              "  </style>\n",
              "\n",
              "      <script>\n",
              "        const buttonEl =\n",
              "          document.querySelector('#df-cdc52b25-00ee-464b-aae9-e16b8dd02ced button.colab-df-convert');\n",
              "        buttonEl.style.display =\n",
              "          google.colab.kernel.accessAllowed ? 'block' : 'none';\n",
              "\n",
              "        async function convertToInteractive(key) {\n",
              "          const element = document.querySelector('#df-cdc52b25-00ee-464b-aae9-e16b8dd02ced');\n",
              "          const dataTable =\n",
              "            await google.colab.kernel.invokeFunction('convertToInteractive',\n",
              "                                                     [key], {});\n",
              "          if (!dataTable) return;\n",
              "\n",
              "          const docLinkHtml = 'Like what you see? Visit the ' +\n",
              "            '<a target=\"_blank\" href=https://colab.research.google.com/notebooks/data_table.ipynb>data table notebook</a>'\n",
              "            + ' to learn more about interactive tables.';\n",
              "          element.innerHTML = '';\n",
              "          dataTable['output_type'] = 'display_data';\n",
              "          await google.colab.output.renderOutput(dataTable, element);\n",
              "          const docLink = document.createElement('div');\n",
              "          docLink.innerHTML = docLinkHtml;\n",
              "          element.appendChild(docLink);\n",
              "        }\n",
              "      </script>\n",
              "    </div>\n",
              "  </div>\n",
              "  "
            ],
            "text/plain": [
              "  ID Contenedor  ...                        Nombre\n",
              "0         Depot  ...  Relleno Sanitario La Pradera\n",
              "1             4  ...          Alcaldía de Medellín\n",
              "2             5  ...                Parque Explora\n",
              "3         Depot  ...  Relleno Sanitario La Pradera\n",
              "\n",
              "[4 rows x 4 columns]"
            ]
          },
          "metadata": {},
          "execution_count": 20
        }
      ],
      "source": [
        "df_stations(stations, 2)"
      ]
    },
    {
      "cell_type": "markdown",
      "metadata": {
        "id": "WQAdPBPvSaTW"
      },
      "source": [
        "### Graficar la solución en el mapa\n",
        "Ahora se procede a graficar la solución en el mapa y a guardar el mapa en un archivo html, para poder interactuar y visualizarlo mejor."
      ]
    },
    {
      "cell_type": "code",
      "execution_count": 21,
      "metadata": {
        "colab": {
          "base_uri": "https://localhost:8080/",
          "height": 1000
        },
        "id": "3LPLcYmPSaTW",
        "outputId": "0db44ed5-b856-4f43-e396-8e147d0402aa"
      },
      "outputs": [
        {
          "output_type": "execute_result",
          "data": {
            "text/html": [
              "<div style=\"width:100%;\"><div style=\"position:relative;width:100%;height:0;padding-bottom:60%;\"><span style=\"color:#565656\">Make this Notebook Trusted to load map: File -> Trust Notebook</span><iframe src=\"about:blank\" style=\"position:absolute;width:100%;height:100%;left:0;top:0;border:none !important;\" data-html=%3C%21DOCTYPE%20html%3E%0A%3Chead%3E%20%20%20%20%0A%20%20%20%20%3Cmeta%20http-equiv%3D%22content-type%22%20content%3D%22text/html%3B%20charset%3DUTF-8%22%20/%3E%0A%20%20%20%20%3Cscript%3EL_PREFER_CANVAS%3Dfalse%3B%20L_NO_TOUCH%3Dfalse%3B%20L_DISABLE_3D%3Dfalse%3B%3C/script%3E%0A%20%20%20%20%3Cscript%20src%3D%22https%3A//cdn.jsdelivr.net/npm/leaflet%401.4.0/dist/leaflet.js%22%3E%3C/script%3E%0A%20%20%20%20%3Cscript%20src%3D%22https%3A//code.jquery.com/jquery-1.12.4.min.js%22%3E%3C/script%3E%0A%20%20%20%20%3Cscript%20src%3D%22https%3A//maxcdn.bootstrapcdn.com/bootstrap/3.2.0/js/bootstrap.min.js%22%3E%3C/script%3E%0A%20%20%20%20%3Cscript%20src%3D%22https%3A//cdnjs.cloudflare.com/ajax/libs/Leaflet.awesome-markers/2.0.2/leaflet.awesome-markers.js%22%3E%3C/script%3E%0A%20%20%20%20%3Clink%20rel%3D%22stylesheet%22%20href%3D%22https%3A//cdn.jsdelivr.net/npm/leaflet%401.4.0/dist/leaflet.css%22/%3E%0A%20%20%20%20%3Clink%20rel%3D%22stylesheet%22%20href%3D%22https%3A//maxcdn.bootstrapcdn.com/bootstrap/3.2.0/css/bootstrap.min.css%22/%3E%0A%20%20%20%20%3Clink%20rel%3D%22stylesheet%22%20href%3D%22https%3A//maxcdn.bootstrapcdn.com/bootstrap/3.2.0/css/bootstrap-theme.min.css%22/%3E%0A%20%20%20%20%3Clink%20rel%3D%22stylesheet%22%20href%3D%22https%3A//maxcdn.bootstrapcdn.com/font-awesome/4.6.3/css/font-awesome.min.css%22/%3E%0A%20%20%20%20%3Clink%20rel%3D%22stylesheet%22%20href%3D%22https%3A//cdnjs.cloudflare.com/ajax/libs/Leaflet.awesome-markers/2.0.2/leaflet.awesome-markers.css%22/%3E%0A%20%20%20%20%3Clink%20rel%3D%22stylesheet%22%20href%3D%22https%3A//rawcdn.githack.com/python-visualization/folium/master/folium/templates/leaflet.awesome.rotate.css%22/%3E%0A%20%20%20%20%3Cstyle%3Ehtml%2C%20body%20%7Bwidth%3A%20100%25%3Bheight%3A%20100%25%3Bmargin%3A%200%3Bpadding%3A%200%3B%7D%3C/style%3E%0A%20%20%20%20%3Cstyle%3E%23map%20%7Bposition%3Aabsolute%3Btop%3A0%3Bbottom%3A0%3Bright%3A0%3Bleft%3A0%3B%7D%3C/style%3E%0A%20%20%20%20%0A%20%20%20%20%3Cmeta%20name%3D%22viewport%22%20content%3D%22width%3Ddevice-width%2C%0A%20%20%20%20%20%20%20%20initial-scale%3D1.0%2C%20maximum-scale%3D1.0%2C%20user-scalable%3Dno%22%20/%3E%0A%20%20%20%20%3Cstyle%3E%23map_f8c6d5f91bf24b6898c58b8220516932%20%7B%0A%20%20%20%20%20%20%20%20position%3A%20relative%3B%0A%20%20%20%20%20%20%20%20width%3A%20100.0%25%3B%0A%20%20%20%20%20%20%20%20height%3A%20100.0%25%3B%0A%20%20%20%20%20%20%20%20left%3A%200.0%25%3B%0A%20%20%20%20%20%20%20%20top%3A%200.0%25%3B%0A%20%20%20%20%20%20%20%20%7D%0A%20%20%20%20%3C/style%3E%0A%3C/head%3E%0A%3Cbody%3E%20%20%20%20%0A%20%20%20%20%0A%20%20%20%20%3Cdiv%20class%3D%22folium-map%22%20id%3D%22map_f8c6d5f91bf24b6898c58b8220516932%22%20%3E%3C/div%3E%0A%3C/body%3E%0A%3Cscript%3E%20%20%20%20%0A%20%20%20%20%0A%20%20%20%20%0A%20%20%20%20%20%20%20%20var%20bounds%20%3D%20null%3B%0A%20%20%20%20%0A%0A%20%20%20%20var%20map_f8c6d5f91bf24b6898c58b8220516932%20%3D%20L.map%28%0A%20%20%20%20%20%20%20%20%27map_f8c6d5f91bf24b6898c58b8220516932%27%2C%20%7B%0A%20%20%20%20%20%20%20%20center%3A%20%5B6.3792%2C%20-75.4453%5D%2C%0A%20%20%20%20%20%20%20%20zoom%3A%2012%2C%0A%20%20%20%20%20%20%20%20maxBounds%3A%20bounds%2C%0A%20%20%20%20%20%20%20%20layers%3A%20%5B%5D%2C%0A%20%20%20%20%20%20%20%20worldCopyJump%3A%20false%2C%0A%20%20%20%20%20%20%20%20crs%3A%20L.CRS.EPSG3857%2C%0A%20%20%20%20%20%20%20%20zoomControl%3A%20true%2C%0A%20%20%20%20%20%20%20%20%7D%29%3B%0A%0A%0A%20%20%20%20%0A%20%20%20%20var%20tile_layer_04f35c260a3546baa7bae4d936e9156d%20%3D%20L.tileLayer%28%0A%20%20%20%20%20%20%20%20%27https%3A//%7Bs%7D.tile.openstreetmap.org/%7Bz%7D/%7Bx%7D/%7By%7D.png%27%2C%0A%20%20%20%20%20%20%20%20%7B%0A%20%20%20%20%20%20%20%20%22attribution%22%3A%20null%2C%0A%20%20%20%20%20%20%20%20%22detectRetina%22%3A%20false%2C%0A%20%20%20%20%20%20%20%20%22maxNativeZoom%22%3A%2018%2C%0A%20%20%20%20%20%20%20%20%22maxZoom%22%3A%2018%2C%0A%20%20%20%20%20%20%20%20%22minZoom%22%3A%200%2C%0A%20%20%20%20%20%20%20%20%22noWrap%22%3A%20false%2C%0A%20%20%20%20%20%20%20%20%22opacity%22%3A%201%2C%0A%20%20%20%20%20%20%20%20%22subdomains%22%3A%20%22abc%22%2C%0A%20%20%20%20%20%20%20%20%22tms%22%3A%20false%0A%7D%29.addTo%28map_f8c6d5f91bf24b6898c58b8220516932%29%3B%0A%20%20%20%20%0A%20%20%20%20%20%20%20%20var%20marker_39145e70d5194f41a9c82b6f8c088340%20%3D%20L.marker%28%0A%20%20%20%20%20%20%20%20%20%20%20%20%5B6.2524857541249315%2C%20-75.5686261812429%5D%2C%0A%20%20%20%20%20%20%20%20%20%20%20%20%7B%0A%20%20%20%20%20%20%20%20%20%20%20%20%20%20%20%20icon%3A%20new%20L.Icon.Default%28%29%2C%0A%20%20%20%20%20%20%20%20%20%20%20%20%20%20%20%20%7D%0A%20%20%20%20%20%20%20%20%20%20%20%20%29.addTo%28map_f8c6d5f91bf24b6898c58b8220516932%29%3B%0A%20%20%20%20%20%20%20%20%0A%20%20%20%20%0A%0A%20%20%20%20%20%20%20%20%20%20%20%20%20%20%20%20var%20icon_0c83429ae08e4494b774db258db70534%20%3D%20L.AwesomeMarkers.icon%28%7B%0A%20%20%20%20%20%20%20%20%20%20%20%20%20%20%20%20%20%20%20%20icon%3A%20%27trash%27%2C%0A%20%20%20%20%20%20%20%20%20%20%20%20%20%20%20%20%20%20%20%20iconColor%3A%20%27white%27%2C%0A%20%20%20%20%20%20%20%20%20%20%20%20%20%20%20%20%20%20%20%20markerColor%3A%20%27gray%27%2C%0A%20%20%20%20%20%20%20%20%20%20%20%20%20%20%20%20%20%20%20%20prefix%3A%20%27fa%27%2C%0A%20%20%20%20%20%20%20%20%20%20%20%20%20%20%20%20%20%20%20%20extraClasses%3A%20%27fa-rotate-0%27%0A%20%20%20%20%20%20%20%20%20%20%20%20%20%20%20%20%20%20%20%20%7D%29%3B%0A%20%20%20%20%20%20%20%20%20%20%20%20%20%20%20%20marker_39145e70d5194f41a9c82b6f8c088340.setIcon%28icon_0c83429ae08e4494b774db258db70534%29%3B%0A%20%20%20%20%20%20%20%20%20%20%20%20%0A%20%20%20%20%0A%20%20%20%20%20%20%20%20marker_39145e70d5194f41a9c82b6f8c088340.bindTooltip%28%0A%20%20%20%20%20%20%20%20%20%20%20%20%60%3Cdiv%3E%60%0A%20%20%20%20%20%20%20%20%20%20%20%20%2B%20%60%3Ch4%3E%3Cb%3EPlaza%20Botero%3C/b%3E%3C/p%3E%3Cp%3ENivel%3A%20%3Cb%3E100%3C/b%3E%3C/p%3E%3Cp%3EPeso%3A%20%3Cb%3E60%3C/b%3E%3C/p%3E%60%20%2B%20%60%3C/div%3E%60%2C%0A%20%20%20%20%20%20%20%20%20%20%20%20%7B%22sticky%22%3A%20true%7D%0A%20%20%20%20%20%20%20%20%29%3B%0A%20%20%20%20%20%20%20%20%0A%20%20%20%20%0A%20%20%20%20%20%20%20%20%20%20%20%20var%20popup_998b993fcffb456f8222e6a2132cb4cc%20%3D%20L.popup%28%7BmaxWidth%3A%20%27100%25%27%0A%20%20%20%20%20%20%20%20%20%20%20%20%0A%20%20%20%20%20%20%20%20%20%20%20%20%7D%29%3B%0A%0A%20%20%20%20%20%20%20%20%20%20%20%20%0A%20%20%20%20%20%20%20%20%20%20%20%20%20%20%20%20var%20html_116cd115df3f4da19e0c9ac6795baa44%20%3D%20%24%28%60%3Cdiv%20id%3D%22html_116cd115df3f4da19e0c9ac6795baa44%22%20style%3D%22width%3A%20100.0%25%3B%20height%3A%20100.0%25%3B%22%3EPlaza%20Botero%3C/div%3E%60%29%5B0%5D%3B%0A%20%20%20%20%20%20%20%20%20%20%20%20%20%20%20%20popup_998b993fcffb456f8222e6a2132cb4cc.setContent%28html_116cd115df3f4da19e0c9ac6795baa44%29%3B%0A%20%20%20%20%20%20%20%20%20%20%20%20%0A%0A%20%20%20%20%20%20%20%20%20%20%20%20marker_39145e70d5194f41a9c82b6f8c088340.bindPopup%28popup_998b993fcffb456f8222e6a2132cb4cc%29%0A%20%20%20%20%20%20%20%20%20%20%20%20%3B%0A%0A%20%20%20%20%20%20%20%20%20%20%20%20%0A%20%20%20%20%20%20%20%20%0A%20%20%20%20%0A%20%20%20%20%20%20%20%20var%20marker_7f8e3f08f6b143a48d9ae35b2b421ac3%20%3D%20L.marker%28%0A%20%20%20%20%20%20%20%20%20%20%20%20%5B6.231704691813073%2C%20-75.61160925921747%5D%2C%0A%20%20%20%20%20%20%20%20%20%20%20%20%7B%0A%20%20%20%20%20%20%20%20%20%20%20%20%20%20%20%20icon%3A%20new%20L.Icon.Default%28%29%2C%0A%20%20%20%20%20%20%20%20%20%20%20%20%20%20%20%20%7D%0A%20%20%20%20%20%20%20%20%20%20%20%20%29.addTo%28map_f8c6d5f91bf24b6898c58b8220516932%29%3B%0A%20%20%20%20%20%20%20%20%0A%20%20%20%20%0A%0A%20%20%20%20%20%20%20%20%20%20%20%20%20%20%20%20var%20icon_055e2ffe712e48fb9f3495ff5123a66f%20%3D%20L.AwesomeMarkers.icon%28%7B%0A%20%20%20%20%20%20%20%20%20%20%20%20%20%20%20%20%20%20%20%20icon%3A%20%27trash%27%2C%0A%20%20%20%20%20%20%20%20%20%20%20%20%20%20%20%20%20%20%20%20iconColor%3A%20%27white%27%2C%0A%20%20%20%20%20%20%20%20%20%20%20%20%20%20%20%20%20%20%20%20markerColor%3A%20%27gray%27%2C%0A%20%20%20%20%20%20%20%20%20%20%20%20%20%20%20%20%20%20%20%20prefix%3A%20%27fa%27%2C%0A%20%20%20%20%20%20%20%20%20%20%20%20%20%20%20%20%20%20%20%20extraClasses%3A%20%27fa-rotate-0%27%0A%20%20%20%20%20%20%20%20%20%20%20%20%20%20%20%20%20%20%20%20%7D%29%3B%0A%20%20%20%20%20%20%20%20%20%20%20%20%20%20%20%20marker_7f8e3f08f6b143a48d9ae35b2b421ac3.setIcon%28icon_055e2ffe712e48fb9f3495ff5123a66f%29%3B%0A%20%20%20%20%20%20%20%20%20%20%20%20%0A%20%20%20%20%0A%20%20%20%20%20%20%20%20marker_7f8e3f08f6b143a48d9ae35b2b421ac3.bindTooltip%28%0A%20%20%20%20%20%20%20%20%20%20%20%20%60%3Cdiv%3E%60%0A%20%20%20%20%20%20%20%20%20%20%20%20%2B%20%60%3Ch4%3E%3Cb%3EUniversidad%20de%20Medell%C3%ADn%3C/b%3E%3C/p%3E%3Cp%3ENivel%3A%20%3Cb%3E75%3C/b%3E%3C/p%3E%3Cp%3EPeso%3A%20%3Cb%3E39%3C/b%3E%3C/p%3E%60%20%2B%20%60%3C/div%3E%60%2C%0A%20%20%20%20%20%20%20%20%20%20%20%20%7B%22sticky%22%3A%20true%7D%0A%20%20%20%20%20%20%20%20%29%3B%0A%20%20%20%20%20%20%20%20%0A%20%20%20%20%0A%20%20%20%20%20%20%20%20%20%20%20%20var%20popup_c13b7d0fd97341a4a7c64fc30d86fa57%20%3D%20L.popup%28%7BmaxWidth%3A%20%27100%25%27%0A%20%20%20%20%20%20%20%20%20%20%20%20%0A%20%20%20%20%20%20%20%20%20%20%20%20%7D%29%3B%0A%0A%20%20%20%20%20%20%20%20%20%20%20%20%0A%20%20%20%20%20%20%20%20%20%20%20%20%20%20%20%20var%20html_59c87e6e435340019bf38d1c2c278227%20%3D%20%24%28%60%3Cdiv%20id%3D%22html_59c87e6e435340019bf38d1c2c278227%22%20style%3D%22width%3A%20100.0%25%3B%20height%3A%20100.0%25%3B%22%3EUniversidad%20de%20Medell%C3%ADn%3C/div%3E%60%29%5B0%5D%3B%0A%20%20%20%20%20%20%20%20%20%20%20%20%20%20%20%20popup_c13b7d0fd97341a4a7c64fc30d86fa57.setContent%28html_59c87e6e435340019bf38d1c2c278227%29%3B%0A%20%20%20%20%20%20%20%20%20%20%20%20%0A%0A%20%20%20%20%20%20%20%20%20%20%20%20marker_7f8e3f08f6b143a48d9ae35b2b421ac3.bindPopup%28popup_c13b7d0fd97341a4a7c64fc30d86fa57%29%0A%20%20%20%20%20%20%20%20%20%20%20%20%3B%0A%0A%20%20%20%20%20%20%20%20%20%20%20%20%0A%20%20%20%20%20%20%20%20%0A%20%20%20%20%0A%20%20%20%20%20%20%20%20var%20marker_e81b58756881496c95f5c83e3e92eb08%20%3D%20L.marker%28%0A%20%20%20%20%20%20%20%20%20%20%20%20%5B6.290384323934336%2C%20-75.56945687270888%5D%2C%0A%20%20%20%20%20%20%20%20%20%20%20%20%7B%0A%20%20%20%20%20%20%20%20%20%20%20%20%20%20%20%20icon%3A%20new%20L.Icon.Default%28%29%2C%0A%20%20%20%20%20%20%20%20%20%20%20%20%20%20%20%20%7D%0A%20%20%20%20%20%20%20%20%20%20%20%20%29.addTo%28map_f8c6d5f91bf24b6898c58b8220516932%29%3B%0A%20%20%20%20%20%20%20%20%0A%20%20%20%20%0A%0A%20%20%20%20%20%20%20%20%20%20%20%20%20%20%20%20var%20icon_cc9aeb75ed2c4a049bcc837703587e16%20%3D%20L.AwesomeMarkers.icon%28%7B%0A%20%20%20%20%20%20%20%20%20%20%20%20%20%20%20%20%20%20%20%20icon%3A%20%27trash%27%2C%0A%20%20%20%20%20%20%20%20%20%20%20%20%20%20%20%20%20%20%20%20iconColor%3A%20%27white%27%2C%0A%20%20%20%20%20%20%20%20%20%20%20%20%20%20%20%20%20%20%20%20markerColor%3A%20%27gray%27%2C%0A%20%20%20%20%20%20%20%20%20%20%20%20%20%20%20%20%20%20%20%20prefix%3A%20%27fa%27%2C%0A%20%20%20%20%20%20%20%20%20%20%20%20%20%20%20%20%20%20%20%20extraClasses%3A%20%27fa-rotate-0%27%0A%20%20%20%20%20%20%20%20%20%20%20%20%20%20%20%20%20%20%20%20%7D%29%3B%0A%20%20%20%20%20%20%20%20%20%20%20%20%20%20%20%20marker_e81b58756881496c95f5c83e3e92eb08.setIcon%28icon_cc9aeb75ed2c4a049bcc837703587e16%29%3B%0A%20%20%20%20%20%20%20%20%20%20%20%20%0A%20%20%20%20%0A%20%20%20%20%20%20%20%20marker_e81b58756881496c95f5c83e3e92eb08.bindTooltip%28%0A%20%20%20%20%20%20%20%20%20%20%20%20%60%3Cdiv%3E%60%0A%20%20%20%20%20%20%20%20%20%20%20%20%2B%20%60%3Ch4%3E%3Cb%3EParque%20Juanes%20de%20la%20Paz%3C/b%3E%3C/p%3E%3Cp%3ENivel%3A%20%3Cb%3E90%3C/b%3E%3C/p%3E%3Cp%3EPeso%3A%20%3Cb%3E54%3C/b%3E%3C/p%3E%60%20%2B%20%60%3C/div%3E%60%2C%0A%20%20%20%20%20%20%20%20%20%20%20%20%7B%22sticky%22%3A%20true%7D%0A%20%20%20%20%20%20%20%20%29%3B%0A%20%20%20%20%20%20%20%20%0A%20%20%20%20%0A%20%20%20%20%20%20%20%20%20%20%20%20var%20popup_ff39e7883a1f42f39b4b1397ac473520%20%3D%20L.popup%28%7BmaxWidth%3A%20%27100%25%27%0A%20%20%20%20%20%20%20%20%20%20%20%20%0A%20%20%20%20%20%20%20%20%20%20%20%20%7D%29%3B%0A%0A%20%20%20%20%20%20%20%20%20%20%20%20%0A%20%20%20%20%20%20%20%20%20%20%20%20%20%20%20%20var%20html_4020f1aca76b469f9ee917bfc196d028%20%3D%20%24%28%60%3Cdiv%20id%3D%22html_4020f1aca76b469f9ee917bfc196d028%22%20style%3D%22width%3A%20100.0%25%3B%20height%3A%20100.0%25%3B%22%3EParque%20Juanes%20de%20la%20Paz%3C/div%3E%60%29%5B0%5D%3B%0A%20%20%20%20%20%20%20%20%20%20%20%20%20%20%20%20popup_ff39e7883a1f42f39b4b1397ac473520.setContent%28html_4020f1aca76b469f9ee917bfc196d028%29%3B%0A%20%20%20%20%20%20%20%20%20%20%20%20%0A%0A%20%20%20%20%20%20%20%20%20%20%20%20marker_e81b58756881496c95f5c83e3e92eb08.bindPopup%28popup_ff39e7883a1f42f39b4b1397ac473520%29%0A%20%20%20%20%20%20%20%20%20%20%20%20%3B%0A%0A%20%20%20%20%20%20%20%20%20%20%20%20%0A%20%20%20%20%20%20%20%20%0A%20%20%20%20%0A%20%20%20%20%20%20%20%20var%20marker_ff0c172a740448bebdc60bf547b88352%20%3D%20L.marker%28%0A%20%20%20%20%20%20%20%20%20%20%20%20%5B6.210362095508166%2C%20-75.57088108434691%5D%2C%0A%20%20%20%20%20%20%20%20%20%20%20%20%7B%0A%20%20%20%20%20%20%20%20%20%20%20%20%20%20%20%20icon%3A%20new%20L.Icon.Default%28%29%2C%0A%20%20%20%20%20%20%20%20%20%20%20%20%20%20%20%20%7D%0A%20%20%20%20%20%20%20%20%20%20%20%20%29.addTo%28map_f8c6d5f91bf24b6898c58b8220516932%29%3B%0A%20%20%20%20%20%20%20%20%0A%20%20%20%20%0A%0A%20%20%20%20%20%20%20%20%20%20%20%20%20%20%20%20var%20icon_13dfdcdffc444ca9aecf464e3f06f5b3%20%3D%20L.AwesomeMarkers.icon%28%7B%0A%20%20%20%20%20%20%20%20%20%20%20%20%20%20%20%20%20%20%20%20icon%3A%20%27trash%27%2C%0A%20%20%20%20%20%20%20%20%20%20%20%20%20%20%20%20%20%20%20%20iconColor%3A%20%27white%27%2C%0A%20%20%20%20%20%20%20%20%20%20%20%20%20%20%20%20%20%20%20%20markerColor%3A%20%27gray%27%2C%0A%20%20%20%20%20%20%20%20%20%20%20%20%20%20%20%20%20%20%20%20prefix%3A%20%27fa%27%2C%0A%20%20%20%20%20%20%20%20%20%20%20%20%20%20%20%20%20%20%20%20extraClasses%3A%20%27fa-rotate-0%27%0A%20%20%20%20%20%20%20%20%20%20%20%20%20%20%20%20%20%20%20%20%7D%29%3B%0A%20%20%20%20%20%20%20%20%20%20%20%20%20%20%20%20marker_ff0c172a740448bebdc60bf547b88352.setIcon%28icon_13dfdcdffc444ca9aecf464e3f06f5b3%29%3B%0A%20%20%20%20%20%20%20%20%20%20%20%20%0A%20%20%20%20%0A%20%20%20%20%20%20%20%20marker_ff0c172a740448bebdc60bf547b88352.bindTooltip%28%0A%20%20%20%20%20%20%20%20%20%20%20%20%60%3Cdiv%3E%60%0A%20%20%20%20%20%20%20%20%20%20%20%20%2B%20%60%3Ch4%3E%3Cb%3EParque%20del%20Poblado%3C/b%3E%3C/p%3E%3Cp%3ENivel%3A%20%3Cb%3E75%3C/b%3E%3C/p%3E%3Cp%3EPeso%3A%20%3Cb%3E42%3C/b%3E%3C/p%3E%60%20%2B%20%60%3C/div%3E%60%2C%0A%20%20%20%20%20%20%20%20%20%20%20%20%7B%22sticky%22%3A%20true%7D%0A%20%20%20%20%20%20%20%20%29%3B%0A%20%20%20%20%20%20%20%20%0A%20%20%20%20%0A%20%20%20%20%20%20%20%20%20%20%20%20var%20popup_10e905f627f24077a668915b442ef832%20%3D%20L.popup%28%7BmaxWidth%3A%20%27100%25%27%0A%20%20%20%20%20%20%20%20%20%20%20%20%0A%20%20%20%20%20%20%20%20%20%20%20%20%7D%29%3B%0A%0A%20%20%20%20%20%20%20%20%20%20%20%20%0A%20%20%20%20%20%20%20%20%20%20%20%20%20%20%20%20var%20html_e6059d710d6d49ac889d3ec15cbc3779%20%3D%20%24%28%60%3Cdiv%20id%3D%22html_e6059d710d6d49ac889d3ec15cbc3779%22%20style%3D%22width%3A%20100.0%25%3B%20height%3A%20100.0%25%3B%22%3EParque%20del%20Poblado%3C/div%3E%60%29%5B0%5D%3B%0A%20%20%20%20%20%20%20%20%20%20%20%20%20%20%20%20popup_10e905f627f24077a668915b442ef832.setContent%28html_e6059d710d6d49ac889d3ec15cbc3779%29%3B%0A%20%20%20%20%20%20%20%20%20%20%20%20%0A%0A%20%20%20%20%20%20%20%20%20%20%20%20marker_ff0c172a740448bebdc60bf547b88352.bindPopup%28popup_10e905f627f24077a668915b442ef832%29%0A%20%20%20%20%20%20%20%20%20%20%20%20%3B%0A%0A%20%20%20%20%20%20%20%20%20%20%20%20%0A%20%20%20%20%20%20%20%20%0A%20%20%20%20%0A%20%20%20%20%20%20%20%20var%20marker_04371a0c88d24ee8aad4e0036da775a0%20%3D%20L.marker%28%0A%20%20%20%20%20%20%20%20%20%20%20%20%5B6.2451496127526225%2C%20-75.57371337731854%5D%2C%0A%20%20%20%20%20%20%20%20%20%20%20%20%7B%0A%20%20%20%20%20%20%20%20%20%20%20%20%20%20%20%20icon%3A%20new%20L.Icon.Default%28%29%2C%0A%20%20%20%20%20%20%20%20%20%20%20%20%20%20%20%20%7D%0A%20%20%20%20%20%20%20%20%20%20%20%20%29.addTo%28map_f8c6d5f91bf24b6898c58b8220516932%29%3B%0A%20%20%20%20%20%20%20%20%0A%20%20%20%20%0A%0A%20%20%20%20%20%20%20%20%20%20%20%20%20%20%20%20var%20icon_f3c91e13328841a289ce5c7735396a3a%20%3D%20L.AwesomeMarkers.icon%28%7B%0A%20%20%20%20%20%20%20%20%20%20%20%20%20%20%20%20%20%20%20%20icon%3A%20%27trash%27%2C%0A%20%20%20%20%20%20%20%20%20%20%20%20%20%20%20%20%20%20%20%20iconColor%3A%20%27white%27%2C%0A%20%20%20%20%20%20%20%20%20%20%20%20%20%20%20%20%20%20%20%20markerColor%3A%20%27gray%27%2C%0A%20%20%20%20%20%20%20%20%20%20%20%20%20%20%20%20%20%20%20%20prefix%3A%20%27fa%27%2C%0A%20%20%20%20%20%20%20%20%20%20%20%20%20%20%20%20%20%20%20%20extraClasses%3A%20%27fa-rotate-0%27%0A%20%20%20%20%20%20%20%20%20%20%20%20%20%20%20%20%20%20%20%20%7D%29%3B%0A%20%20%20%20%20%20%20%20%20%20%20%20%20%20%20%20marker_04371a0c88d24ee8aad4e0036da775a0.setIcon%28icon_f3c91e13328841a289ce5c7735396a3a%29%3B%0A%20%20%20%20%20%20%20%20%20%20%20%20%0A%20%20%20%20%0A%20%20%20%20%20%20%20%20marker_04371a0c88d24ee8aad4e0036da775a0.bindTooltip%28%0A%20%20%20%20%20%20%20%20%20%20%20%20%60%3Cdiv%3E%60%0A%20%20%20%20%20%20%20%20%20%20%20%20%2B%20%60%3Ch4%3E%3Cb%3EAlcald%C3%ADa%20de%20Medell%C3%ADn%3C/b%3E%3C/p%3E%3Cp%3ENivel%3A%20%3Cb%3E75%3C/b%3E%3C/p%3E%3Cp%3EPeso%3A%20%3Cb%3E42%3C/b%3E%3C/p%3E%60%20%2B%20%60%3C/div%3E%60%2C%0A%20%20%20%20%20%20%20%20%20%20%20%20%7B%22sticky%22%3A%20true%7D%0A%20%20%20%20%20%20%20%20%29%3B%0A%20%20%20%20%20%20%20%20%0A%20%20%20%20%0A%20%20%20%20%20%20%20%20%20%20%20%20var%20popup_97e3d621c73449b3b872978c9838b4e8%20%3D%20L.popup%28%7BmaxWidth%3A%20%27100%25%27%0A%20%20%20%20%20%20%20%20%20%20%20%20%0A%20%20%20%20%20%20%20%20%20%20%20%20%7D%29%3B%0A%0A%20%20%20%20%20%20%20%20%20%20%20%20%0A%20%20%20%20%20%20%20%20%20%20%20%20%20%20%20%20var%20html_48ddf756dc03467fba319c860e3f8c41%20%3D%20%24%28%60%3Cdiv%20id%3D%22html_48ddf756dc03467fba319c860e3f8c41%22%20style%3D%22width%3A%20100.0%25%3B%20height%3A%20100.0%25%3B%22%3EAlcald%C3%ADa%20de%20Medell%C3%ADn%3C/div%3E%60%29%5B0%5D%3B%0A%20%20%20%20%20%20%20%20%20%20%20%20%20%20%20%20popup_97e3d621c73449b3b872978c9838b4e8.setContent%28html_48ddf756dc03467fba319c860e3f8c41%29%3B%0A%20%20%20%20%20%20%20%20%20%20%20%20%0A%0A%20%20%20%20%20%20%20%20%20%20%20%20marker_04371a0c88d24ee8aad4e0036da775a0.bindPopup%28popup_97e3d621c73449b3b872978c9838b4e8%29%0A%20%20%20%20%20%20%20%20%20%20%20%20%3B%0A%0A%20%20%20%20%20%20%20%20%20%20%20%20%0A%20%20%20%20%20%20%20%20%0A%20%20%20%20%0A%20%20%20%20%20%20%20%20var%20marker_af1863a341794b4fb7b0a91313661265%20%3D%20L.marker%28%0A%20%20%20%20%20%20%20%20%20%20%20%20%5B6.271208962002754%2C%20-75.56556245591827%5D%2C%0A%20%20%20%20%20%20%20%20%20%20%20%20%7B%0A%20%20%20%20%20%20%20%20%20%20%20%20%20%20%20%20icon%3A%20new%20L.Icon.Default%28%29%2C%0A%20%20%20%20%20%20%20%20%20%20%20%20%20%20%20%20%7D%0A%20%20%20%20%20%20%20%20%20%20%20%20%29.addTo%28map_f8c6d5f91bf24b6898c58b8220516932%29%3B%0A%20%20%20%20%20%20%20%20%0A%20%20%20%20%0A%0A%20%20%20%20%20%20%20%20%20%20%20%20%20%20%20%20var%20icon_9afdc967667e43ffbaaa224c0d40884c%20%3D%20L.AwesomeMarkers.icon%28%7B%0A%20%20%20%20%20%20%20%20%20%20%20%20%20%20%20%20%20%20%20%20icon%3A%20%27trash%27%2C%0A%20%20%20%20%20%20%20%20%20%20%20%20%20%20%20%20%20%20%20%20iconColor%3A%20%27white%27%2C%0A%20%20%20%20%20%20%20%20%20%20%20%20%20%20%20%20%20%20%20%20markerColor%3A%20%27gray%27%2C%0A%20%20%20%20%20%20%20%20%20%20%20%20%20%20%20%20%20%20%20%20prefix%3A%20%27fa%27%2C%0A%20%20%20%20%20%20%20%20%20%20%20%20%20%20%20%20%20%20%20%20extraClasses%3A%20%27fa-rotate-0%27%0A%20%20%20%20%20%20%20%20%20%20%20%20%20%20%20%20%20%20%20%20%7D%29%3B%0A%20%20%20%20%20%20%20%20%20%20%20%20%20%20%20%20marker_af1863a341794b4fb7b0a91313661265.setIcon%28icon_9afdc967667e43ffbaaa224c0d40884c%29%3B%0A%20%20%20%20%20%20%20%20%20%20%20%20%0A%20%20%20%20%0A%20%20%20%20%20%20%20%20marker_af1863a341794b4fb7b0a91313661265.bindTooltip%28%0A%20%20%20%20%20%20%20%20%20%20%20%20%60%3Cdiv%3E%60%0A%20%20%20%20%20%20%20%20%20%20%20%20%2B%20%60%3Ch4%3E%3Cb%3EParque%20Explora%3C/b%3E%3C/p%3E%3Cp%3ENivel%3A%20%3Cb%3E90%3C/b%3E%3C/p%3E%3Cp%3EPeso%3A%20%3Cb%3E54%3C/b%3E%3C/p%3E%60%20%2B%20%60%3C/div%3E%60%2C%0A%20%20%20%20%20%20%20%20%20%20%20%20%7B%22sticky%22%3A%20true%7D%0A%20%20%20%20%20%20%20%20%29%3B%0A%20%20%20%20%20%20%20%20%0A%20%20%20%20%0A%20%20%20%20%20%20%20%20%20%20%20%20var%20popup_88507908c4f7428da734f4560e06744e%20%3D%20L.popup%28%7BmaxWidth%3A%20%27100%25%27%0A%20%20%20%20%20%20%20%20%20%20%20%20%0A%20%20%20%20%20%20%20%20%20%20%20%20%7D%29%3B%0A%0A%20%20%20%20%20%20%20%20%20%20%20%20%0A%20%20%20%20%20%20%20%20%20%20%20%20%20%20%20%20var%20html_ee35eea73fdf488486e8351dfb136b9f%20%3D%20%24%28%60%3Cdiv%20id%3D%22html_ee35eea73fdf488486e8351dfb136b9f%22%20style%3D%22width%3A%20100.0%25%3B%20height%3A%20100.0%25%3B%22%3EParque%20Explora%3C/div%3E%60%29%5B0%5D%3B%0A%20%20%20%20%20%20%20%20%20%20%20%20%20%20%20%20popup_88507908c4f7428da734f4560e06744e.setContent%28html_ee35eea73fdf488486e8351dfb136b9f%29%3B%0A%20%20%20%20%20%20%20%20%20%20%20%20%0A%0A%20%20%20%20%20%20%20%20%20%20%20%20marker_af1863a341794b4fb7b0a91313661265.bindPopup%28popup_88507908c4f7428da734f4560e06744e%29%0A%20%20%20%20%20%20%20%20%20%20%20%20%3B%0A%0A%20%20%20%20%20%20%20%20%20%20%20%20%0A%20%20%20%20%20%20%20%20%0A%20%20%20%20%0A%20%20%20%20%20%20%20%20var%20marker_ff664b1f88424a69b46ed0c711573abe%20%3D%20L.marker%28%0A%20%20%20%20%20%20%20%20%20%20%20%20%5B6.5171946910919%2C%20-75.25502818729257%5D%2C%0A%20%20%20%20%20%20%20%20%20%20%20%20%7B%0A%20%20%20%20%20%20%20%20%20%20%20%20%20%20%20%20icon%3A%20new%20L.Icon.Default%28%29%2C%0A%20%20%20%20%20%20%20%20%20%20%20%20%20%20%20%20%7D%0A%20%20%20%20%20%20%20%20%20%20%20%20%29.addTo%28map_f8c6d5f91bf24b6898c58b8220516932%29%3B%0A%20%20%20%20%20%20%20%20%0A%20%20%20%20%0A%0A%20%20%20%20%20%20%20%20%20%20%20%20%20%20%20%20var%20icon_96969bd88dd24f0a8dd31fc0dd3f33b4%20%3D%20L.AwesomeMarkers.icon%28%7B%0A%20%20%20%20%20%20%20%20%20%20%20%20%20%20%20%20%20%20%20%20icon%3A%20%27industry%27%2C%0A%20%20%20%20%20%20%20%20%20%20%20%20%20%20%20%20%20%20%20%20iconColor%3A%20%27white%27%2C%0A%20%20%20%20%20%20%20%20%20%20%20%20%20%20%20%20%20%20%20%20markerColor%3A%20%27red%27%2C%0A%20%20%20%20%20%20%20%20%20%20%20%20%20%20%20%20%20%20%20%20prefix%3A%20%27fa%27%2C%0A%20%20%20%20%20%20%20%20%20%20%20%20%20%20%20%20%20%20%20%20extraClasses%3A%20%27fa-rotate-0%27%0A%20%20%20%20%20%20%20%20%20%20%20%20%20%20%20%20%20%20%20%20%7D%29%3B%0A%20%20%20%20%20%20%20%20%20%20%20%20%20%20%20%20marker_ff664b1f88424a69b46ed0c711573abe.setIcon%28icon_96969bd88dd24f0a8dd31fc0dd3f33b4%29%3B%0A%20%20%20%20%20%20%20%20%20%20%20%20%0A%20%20%20%20%0A%20%20%20%20%20%20%20%20marker_ff664b1f88424a69b46ed0c711573abe.bindTooltip%28%0A%20%20%20%20%20%20%20%20%20%20%20%20%60%3Cdiv%3E%60%0A%20%20%20%20%20%20%20%20%20%20%20%20%2B%20%60%3Ch4%3E%3Cb%3ERelleno%20Sanitario%20La%20Pradera%3C/b%3E%3C/p%3E%60%20%2B%20%60%3C/div%3E%60%2C%0A%20%20%20%20%20%20%20%20%20%20%20%20%7B%22sticky%22%3A%20true%7D%0A%20%20%20%20%20%20%20%20%29%3B%0A%20%20%20%20%20%20%20%20%0A%20%20%20%20%0A%20%20%20%20%20%20%20%20%20%20%20%20var%20popup_6375bd66fffe47d0985ff5562e973f52%20%3D%20L.popup%28%7BmaxWidth%3A%20%27100%25%27%0A%20%20%20%20%20%20%20%20%20%20%20%20%0A%20%20%20%20%20%20%20%20%20%20%20%20%7D%29%3B%0A%0A%20%20%20%20%20%20%20%20%20%20%20%20%0A%20%20%20%20%20%20%20%20%20%20%20%20%20%20%20%20var%20html_ad0f6b89a8f54f4ca9f644e537398670%20%3D%20%24%28%60%3Cdiv%20id%3D%22html_ad0f6b89a8f54f4ca9f644e537398670%22%20style%3D%22width%3A%20100.0%25%3B%20height%3A%20100.0%25%3B%22%3ERelleno%20Sanitario%20La%20Pradera%3C/div%3E%60%29%5B0%5D%3B%0A%20%20%20%20%20%20%20%20%20%20%20%20%20%20%20%20popup_6375bd66fffe47d0985ff5562e973f52.setContent%28html_ad0f6b89a8f54f4ca9f644e537398670%29%3B%0A%20%20%20%20%20%20%20%20%20%20%20%20%0A%0A%20%20%20%20%20%20%20%20%20%20%20%20marker_ff664b1f88424a69b46ed0c711573abe.bindPopup%28popup_6375bd66fffe47d0985ff5562e973f52%29%0A%20%20%20%20%20%20%20%20%20%20%20%20%3B%0A%0A%20%20%20%20%20%20%20%20%20%20%20%20%0A%20%20%20%20%20%20%20%20%0A%20%20%20%20%0A%20%20%20%20%20%20%20%20var%20geo_json_43e250002a804e2c90bb7499608dca40%20%3D%20L.geoJson%28%0A%20%20%20%20%20%20%20%20%20%20%20%20%7B%22features%22%3A%20%5B%7B%22geometry%22%3A%20%7B%22coordinates%22%3A%20%5B%5B-75.25527%2C%206.51715%5D%2C%20%5B-75.25521%2C%206.51674%5D%2C%20%5B-75.25515%2C%206.51639%5D%2C%20%5B-75.25512%2C%206.51625%5D%2C%20%5B-75.25559%2C%206.51614%5D%2C%20%5B-75.25632%2C%206.51602%5D%2C%20%5B-75.25656%2C%206.51592%5D%2C%20%5B-75.25665%2C%206.51585%5D%2C%20%5B-75.25674%2C%206.51569%5D%2C%20%5B-75.25682%2C%206.51549%5D%2C%20%5B-75.25693%2C%206.51534%5D%2C%20%5B-75.25741%2C%206.51507%5D%2C%20%5B-75.25754%2C%206.51498%5D%2C%20%5B-75.25765%2C%206.51487%5D%2C%20%5B-75.25813%2C%206.51408%5D%2C%20%5B-75.25822%2C%206.51396%5D%2C%20%5B-75.25837%2C%206.51382%5D%2C%20%5B-75.25866%2C%206.51369%5D%2C%20%5B-75.25874%2C%206.51364%5D%2C%20%5B-75.25881%2C%206.51356%5D%2C%20%5B-75.25887%2C%206.51341%5D%2C%20%5B-75.25903%2C%206.51317%5D%2C%20%5B-75.25964%2C%206.51246%5D%2C%20%5B-75.25973%2C%206.51238%5D%2C%20%5B-75.25984%2C%206.51231%5D%2C%20%5B-75.26023%2C%206.51218%5D%2C%20%5B-75.26037%2C%206.51211%5D%2C%20%5B-75.26049%2C%206.51202%5D%2C%20%5B-75.26095%2C%206.51162%5D%2C%20%5B-75.26156%2C%206.5111%5D%2C%20%5B-75.26146%2C%206.51114%5D%2C%20%5B-75.26138%2C%206.51115%5D%2C%20%5B-75.26128%2C%206.51112%5D%2C%20%5B-75.26122%2C%206.51107%5D%2C%20%5B-75.26116%2C%206.51097%5D%2C%20%5B-75.26111%2C%206.51087%5D%2C%20%5B-75.26109%2C%206.51075%5D%2C%20%5B-75.26106%2C%206.51067%5D%2C%20%5B-75.26102%2C%206.51059%5D%2C%20%5B-75.26097%2C%206.51045%5D%2C%20%5B-75.26078%2C%206.50998%5D%2C%20%5B-75.26063%2C%206.50903%5D%2C%20%5B-75.26064%2C%206.50869%5D%2C%20%5B-75.26071%2C%206.50846%5D%2C%20%5B-75.26076%2C%206.50834%5D%2C%20%5B-75.26092%2C%206.50811%5D%2C%20%5B-75.26127%2C%206.50765%5D%2C%20%5B-75.26133%2C%206.50758%5D%2C%20%5B-75.26222%2C%206.50647%5D%2C%20%5B-75.26334%2C%206.5052%5D%2C%20%5B-75.26373%2C%206.50467%5D%2C%20%5B-75.26431%2C%206.50335%5D%2C%20%5B-75.26449%2C%206.50289%5D%2C%20%5B-75.26449%2C%206.50259%5D%2C%20%5B-75.26448%2C%206.50229%5D%2C%20%5B-75.26438%2C%206.50089%5D%2C%20%5B-75.26444%2C%206.50053%5D%2C%20%5B-75.26462%2C%206.50002%5D%2C%20%5B-75.26551%2C%206.49889%5D%2C%20%5B-75.2657%2C%206.49852%5D%2C%20%5B-75.26594%2C%206.49799%5D%2C%20%5B-75.26619%2C%206.49709%5D%2C%20%5B-75.26654%2C%206.49585%5D%2C%20%5B-75.26671%2C%206.49522%5D%2C%20%5B-75.26696%2C%206.49454%5D%2C%20%5B-75.26813%2C%206.4925%5D%2C%20%5B-75.26846%2C%206.49194%5D%2C%20%5B-75.26858%2C%206.49172%5D%2C%20%5B-75.26894%2C%206.49129%5D%2C%20%5B-75.26952%2C%206.49077%5D%2C%20%5B-75.27019%2C%206.49017%5D%2C%20%5B-75.27097%2C%206.48946%5D%2C%20%5B-75.27119%2C%206.4892%5D%2C%20%5B-75.27173%2C%206.48849%5D%2C%20%5B-75.273%2C%206.48621%5D%2C%20%5B-75.27348%2C%206.48548%5D%2C%20%5B-75.27414%2C%206.48457%5D%2C%20%5B-75.27434%2C%206.48414%5D%2C%20%5B-75.27446%2C%206.48383%5D%2C%20%5B-75.27451%2C%206.48368%5D%2C%20%5B-75.27465%2C%206.48307%5D%2C%20%5B-75.27469%2C%206.48249%5D%2C%20%5B-75.27476%2C%206.48202%5D%2C%20%5B-75.27495%2C%206.48156%5D%2C%20%5B-75.27521%2C%206.48117%5D%2C%20%5B-75.27573%2C%206.48072%5D%2C%20%5B-75.27685%2C%206.48%5D%2C%20%5B-75.27805%2C%206.47913%5D%2C%20%5B-75.2785%2C%206.47883%5D%2C%20%5B-75.27895%2C%206.47865%5D%2C%20%5B-75.27933%2C%206.47849%5D%2C%20%5B-75.27984%2C%206.47829%5D%2C%20%5B-75.28097%2C%206.47782%5D%2C%20%5B-75.28137%2C%206.47772%5D%2C%20%5B-75.28208%2C%206.47759%5D%2C%20%5B-75.28402%2C%206.47717%5D%2C%20%5B-75.28456%2C%206.47694%5D%2C%20%5B-75.28506%2C%206.47654%5D%2C%20%5B-75.28545%2C%206.47607%5D%2C%20%5B-75.28711%2C%206.47351%5D%2C%20%5B-75.28737%2C%206.47309%5D%2C%20%5B-75.28755%2C%206.47266%5D%2C%20%5B-75.28835%2C%206.47034%5D%2C%20%5B-75.28864%2C%206.46951%5D%2C%20%5B-75.28882%2C%206.46916%5D%2C%20%5B-75.28904%2C%206.46887%5D%2C%20%5B-75.29038%2C%206.46747%5D%2C%20%5B-75.29178%2C%206.46548%5D%2C%20%5B-75.29189%2C%206.46533%5D%2C%20%5B-75.29241%2C%206.4647%5D%2C%20%5B-75.29285%2C%206.46433%5D%2C%20%5B-75.29346%2C%206.46404%5D%2C%20%5B-75.29507%2C%206.46362%5D%2C%20%5B-75.29552%2C%206.46345%5D%2C%20%5B-75.29597%2C%206.46321%5D%2C%20%5B-75.29733%2C%206.4618%5D%2C%20%5B-75.29768%2C%206.46148%5D%2C%20%5B-75.29835%2C%206.46102%5D%2C%20%5B-75.29919%2C%206.46053%5D%2C%20%5B-75.2994%2C%206.46045%5D%2C%20%5B-75.29951%2C%206.46041%5D%2C%20%5B-75.29964%2C%206.46036%5D%2C%20%5B-75.30002%2C%206.46032%5D%2C%20%5B-75.30045%2C%206.46034%5D%2C%20%5B-75.301%2C%206.46041%5D%2C%20%5B-75.30126%2C%206.46039%5D%2C%20%5B-75.30155%2C%206.46038%5D%2C%20%5B-75.30203%2C%206.46031%5D%2C%20%5B-75.30251%2C%206.46017%5D%2C%20%5B-75.30348%2C%206.45974%5D%2C%20%5B-75.30484%2C%206.45892%5D%2C%20%5B-75.30599%2C%206.45841%5D%2C%20%5B-75.30717%2C%206.45794%5D%2C%20%5B-75.30759%2C%206.45772%5D%2C%20%5B-75.30805%2C%206.45733%5D%2C%20%5B-75.30816%2C%206.45722%5D%2C%20%5B-75.3088%2C%206.45664%5D%2C%20%5B-75.30927%2C%206.45641%5D%2C%20%5B-75.30975%2C%206.45629%5D%2C%20%5B-75.31036%2C%206.45616%5D%2C%20%5B-75.31086%2C%206.45599%5D%2C%20%5B-75.31122%2C%206.45578%5D%2C%20%5B-75.31137%2C%206.45567%5D%2C%20%5B-75.31237%2C%206.45491%5D%2C%20%5B-75.31285%2C%206.45471%5D%2C%20%5B-75.31346%2C%206.45462%5D%2C%20%5B-75.31406%2C%206.45469%5D%2C%20%5B-75.31548%2C%206.45511%5D%2C%20%5B-75.31581%2C%206.45517%5D%2C%20%5B-75.32019%2C%206.45506%5D%2C%20%5B-75.32048%2C%206.45508%5D%2C%20%5B-75.32324%2C%206.45568%5D%2C%20%5B-75.32346%2C%206.45571%5D%2C%20%5B-75.32387%2C%206.4557%5D%2C%20%5B-75.32434%2C%206.45559%5D%2C%20%5B-75.32473%2C%206.45542%5D%2C%20%5B-75.32505%2C%206.45522%5D%2C%20%5B-75.32525%2C%206.45504%5D%2C%20%5B-75.32541%2C%206.45485%5D%2C%20%5B-75.32714%2C%206.45233%5D%2C%20%5B-75.32746%2C%206.45191%5D%2C%20%5B-75.32782%2C%206.45155%5D%2C%20%5B-75.32817%2C%206.4513%5D%2C%20%5B-75.32871%2C%206.45095%5D%2C%20%5B-75.32905%2C%206.45074%5D%2C%20%5B-75.32942%2C%206.45056%5D%2C%20%5B-75.32988%2C%206.45043%5D%2C%20%5B-75.33054%2C%206.45031%5D%2C%20%5B-75.33066%2C%206.45029%5D%2C%20%5B-75.33075%2C%206.45027%5D%2C%20%5B-75.33092%2C%206.45024%5D%2C%20%5B-75.3312%2C%206.45018%5D%2C%20%5B-75.33173%2C%206.44996%5D%2C%20%5B-75.33233%2C%206.4496%5D%2C%20%5B-75.33254%2C%206.44942%5D%2C%20%5B-75.33258%2C%206.44938%5D%2C%20%5B-75.33278%2C%206.4492%5D%2C%20%5B-75.33311%2C%206.44883%5D%2C%20%5B-75.3332%2C%206.4487%5D%2C%20%5B-75.33349%2C%206.44832%5D%2C%20%5B-75.33418%2C%206.44751%5D%2C%20%5B-75.33454%2C%206.44719%5D%2C%20%5B-75.3356%2C%206.44644%5D%2C%20%5B-75.33647%2C%206.44588%5D%2C%20%5B-75.33656%2C%206.44582%5D%2C%20%5B-75.33664%2C%206.44576%5D%2C%20%5B-75.33704%2C%206.44548%5D%2C%20%5B-75.3377%2C%206.44501%5D%2C%20%5B-75.3379%2C%206.44485%5D%2C%20%5B-75.33803%2C%206.44472%5D%2C%20%5B-75.33825%2C%206.44443%5D%2C%20%5B-75.33835%2C%206.44423%5D%2C%20%5B-75.33843%2C%206.44403%5D%2C%20%5B-75.33847%2C%206.44387%5D%2C%20%5B-75.33851%2C%206.44358%5D%2C%20%5B-75.33851%2C%206.44231%5D%2C%20%5B-75.33851%2C%206.44204%5D%2C%20%5B-75.33852%2C%206.44108%5D%2C%20%5B-75.33848%2C%206.44078%5D%2C%20%5B-75.33819%2C%206.43964%5D%2C%20%5B-75.33816%2C%206.43928%5D%2C%20%5B-75.33818%2C%206.43904%5D%2C%20%5B-75.33824%2C%206.43883%5D%2C%20%5B-75.33856%2C%206.43801%5D%2C%20%5B-75.33864%2C%206.43786%5D%2C%20%5B-75.33873%2C%206.43769%5D%2C%20%5B-75.33882%2C%206.43758%5D%2C%20%5B-75.33895%2C%206.43744%5D%2C%20%5B-75.33926%2C%206.43722%5D%2C%20%5B-75.34008%2C%206.43682%5D%2C%20%5B-75.34034%2C%206.43664%5D%2C%20%5B-75.34109%2C%206.43593%5D%2C%20%5B-75.34123%2C%206.43581%5D%2C%20%5B-75.34137%2C%206.43573%5D%2C%20%5B-75.34152%2C%206.43567%5D%2C%20%5B-75.34254%2C%206.4354%5D%2C%20%5B-75.34298%2C%206.43534%5D%2C%20%5B-75.34334%2C%206.43533%5D%2C%20%5B-75.34479%2C%206.43547%5D%2C%20%5B-75.34502%2C%206.43547%5D%2C%20%5B-75.34531%2C%206.4354%5D%2C%20%5B-75.34555%2C%206.4353%5D%2C%20%5B-75.34576%2C%206.43518%5D%2C%20%5B-75.34597%2C%206.43501%5D%2C%20%5B-75.3465%2C%206.43439%5D%2C%20%5B-75.34719%2C%206.43387%5D%2C%20%5B-75.3473%2C%206.43375%5D%2C%20%5B-75.34742%2C%206.43359%5D%2C%20%5B-75.34769%2C%206.43307%5D%2C%20%5B-75.3478%2C%206.4329%5D%2C%20%5B-75.34794%2C%206.43275%5D%2C%20%5B-75.34869%2C%206.43224%5D%2C%20%5B-75.34883%2C%206.43215%5D%2C%20%5B-75.34901%2C%206.43209%5D%2C%20%5B-75.34921%2C%206.43207%5D%2C%20%5B-75.34938%2C%206.43208%5D%2C%20%5B-75.35002%2C%206.43215%5D%2C%20%5B-75.35021%2C%206.43215%5D%2C%20%5B-75.35041%2C%206.43212%5D%2C%20%5B-75.35058%2C%206.43206%5D%2C%20%5B-75.35072%2C%206.43199%5D%2C%20%5B-75.35087%2C%206.43188%5D%2C%20%5B-75.35099%2C%206.43176%5D%2C%20%5B-75.35146%2C%206.43122%5D%2C%20%5B-75.35158%2C%206.43113%5D%2C%20%5B-75.35172%2C%206.43107%5D%2C%20%5B-75.35259%2C%206.43077%5D%2C%20%5B-75.35291%2C%206.43058%5D%2C%20%5B-75.35307%2C%206.4304%5D%2C%20%5B-75.35343%2C%206.42978%5D%2C%20%5B-75.35357%2C%206.42959%5D%2C%20%5B-75.35374%2C%206.42944%5D%2C%20%5B-75.35404%2C%206.42923%5D%2C%20%5B-75.35439%2C%206.42901%5D%2C%20%5B-75.35454%2C%206.42895%5D%2C%20%5B-75.35476%2C%206.42887%5D%2C%20%5B-75.35558%2C%206.42867%5D%2C%20%5B-75.35573%2C%206.4286%5D%2C%20%5B-75.35586%2C%206.4285%5D%2C%20%5B-75.35608%2C%206.42824%5D%2C%20%5B-75.3564%2C%206.42774%5D%2C%20%5B-75.35656%2C%206.42758%5D%2C%20%5B-75.35672%2C%206.42749%5D%2C%20%5B-75.35688%2C%206.42742%5D%2C%20%5B-75.35705%2C%206.42739%5D%2C%20%5B-75.35724%2C%206.42738%5D%2C%20%5B-75.35748%2C%206.42743%5D%2C%20%5B-75.35862%2C%206.42782%5D%2C%20%5B-75.35883%2C%206.42788%5D%2C%20%5B-75.35904%2C%206.42789%5D%2C%20%5B-75.35926%2C%206.42787%5D%2C%20%5B-75.35947%2C%206.4278%5D%2C%20%5B-75.35964%2C%206.42769%5D%2C%20%5B-75.35978%2C%206.42759%5D%2C%20%5B-75.3599%2C%206.42744%5D%2C%20%5B-75.36001%2C%206.42725%5D%2C%20%5B-75.36007%2C%206.4271%5D%2C%20%5B-75.36011%2C%206.42694%5D%2C%20%5B-75.36015%2C%206.42659%5D%2C%20%5B-75.3602%2C%206.42625%5D%2C%20%5B-75.36025%2C%206.42608%5D%2C%20%5B-75.36034%2C%206.42587%5D%2C%20%5B-75.36047%2C%206.42566%5D%2C%20%5B-75.3609%2C%206.42513%5D%2C%20%5B-75.36093%2C%206.42509%5D%2C%20%5B-75.36143%2C%206.42447%5D%2C%20%5B-75.36178%2C%206.42414%5D%2C%20%5B-75.36265%2C%206.42365%5D%2C%20%5B-75.36278%2C%206.42355%5D%2C%20%5B-75.3636%2C%206.42277%5D%2C%20%5B-75.36381%2C%206.42264%5D%2C%20%5B-75.36421%2C%206.42242%5D%2C%20%5B-75.36444%2C%206.42231%5D%2C%20%5B-75.36465%2C%206.42224%5D%2C%20%5B-75.36546%2C%206.42212%5D%2C%20%5B-75.36567%2C%206.42205%5D%2C%20%5B-75.36587%2C%206.42197%5D%2C%20%5B-75.36603%2C%206.42187%5D%2C%20%5B-75.36655%2C%206.42139%5D%2C%20%5B-75.36672%2C%206.42126%5D%2C%20%5B-75.3669%2C%206.42114%5D%2C%20%5B-75.36715%2C%206.42105%5D%2C%20%5B-75.36756%2C%206.42098%5D%2C%20%5B-75.36783%2C%206.42093%5D%2C%20%5B-75.36804%2C%206.42087%5D%2C%20%5B-75.36826%2C%206.42078%5D%2C%20%5B-75.36843%2C%206.42067%5D%2C%20%5B-75.36894%2C%206.42028%5D%2C%20%5B-75.3691%2C%206.42017%5D%2C%20%5B-75.36983%2C%206.41985%5D%2C%20%5B-75.36998%2C%206.41976%5D%2C%20%5B-75.37061%2C%206.41911%5D%2C%20%5B-75.3713%2C%206.41862%5D%2C%20%5B-75.3715%2C%206.4185%5D%2C%20%5B-75.37174%2C%206.4184%5D%2C%20%5B-75.37194%2C%206.41836%5D%2C%20%5B-75.37214%2C%206.41834%5D%2C%20%5B-75.37305%2C%206.41842%5D%2C%20%5B-75.37323%2C%206.41841%5D%2C%20%5B-75.37337%2C%206.41839%5D%2C%20%5B-75.37433%2C%206.4181%5D%2C%20%5B-75.37453%2C%206.41806%5D%2C%20%5B-75.37481%2C%206.41803%5D%2C%20%5B-75.37733%2C%206.41795%5D%2C%20%5B-75.37826%2C%206.41792%5D%2C%20%5B-75.37887%2C%206.41792%5D%2C%20%5B-75.37935%2C%206.41797%5D%2C%20%5B-75.38015%2C%206.41822%5D%2C%20%5B-75.38053%2C%206.41826%5D%2C%20%5B-75.38086%2C%206.41823%5D%2C%20%5B-75.38113%2C%206.41815%5D%2C%20%5B-75.38178%2C%206.41786%5D%2C%20%5B-75.38196%2C%206.41781%5D%2C%20%5B-75.3823%2C%206.41778%5D%2C%20%5B-75.38253%2C%206.41781%5D%2C%20%5B-75.38274%2C%206.41787%5D%2C%20%5B-75.38392%2C%206.41833%5D%2C%20%5B-75.38409%2C%206.41838%5D%2C%20%5B-75.38425%2C%206.4184%5D%2C%20%5B-75.38455%2C%206.41839%5D%2C%20%5B-75.38484%2C%206.41833%5D%2C%20%5B-75.38557%2C%206.41805%5D%2C%20%5B-75.3887%2C%206.41668%5D%2C%20%5B-75.38997%2C%206.41636%5D%2C%20%5B-75.39011%2C%206.41634%5D%2C%20%5B-75.39023%2C%206.41634%5D%2C%20%5B-75.39035%2C%206.41636%5D%2C%20%5B-75.39047%2C%206.41642%5D%2C%20%5B-75.39056%2C%206.41659%5D%2C%20%5B-75.39061%2C%206.41667%5D%2C%20%5B-75.39068%2C%206.41674%5D%2C%20%5B-75.39077%2C%206.41679%5D%2C%20%5B-75.39087%2C%206.41683%5D%2C%20%5B-75.39098%2C%206.41684%5D%2C%20%5B-75.39107%2C%206.41683%5D%2C%20%5B-75.39117%2C%206.41679%5D%2C%20%5B-75.39126%2C%206.41674%5D%2C%20%5B-75.39133%2C%206.41668%5D%2C%20%5B-75.39142%2C%206.41661%5D%2C%20%5B-75.39151%2C%206.41656%5D%2C%20%5B-75.39161%2C%206.41653%5D%2C%20%5B-75.39174%2C%206.41653%5D%2C%20%5B-75.39242%2C%206.41664%5D%2C%20%5B-75.39295%2C%206.41662%5D%2C%20%5B-75.39316%2C%206.41657%5D%2C%20%5B-75.3966%2C%206.41641%5D%2C%20%5B-75.39733%2C%206.41636%5D%2C%20%5B-75.39762%2C%206.41635%5D%2C%20%5B-75.39792%2C%206.41636%5D%2C%20%5B-75.39818%2C%206.41637%5D%2C%20%5B-75.39843%2C%206.4164%5D%2C%20%5B-75.39881%2C%206.41643%5D%2C%20%5B-75.39918%2C%206.41647%5D%2C%20%5B-75.39969%2C%206.41654%5D%2C%20%5B-75.40043%2C%206.41666%5D%2C%20%5B-75.40068%2C%206.41669%5D%2C%20%5B-75.40094%2C%206.41669%5D%2C%20%5B-75.40118%2C%206.41667%5D%2C%20%5B-75.40142%2C%206.41661%5D%2C%20%5B-75.40165%2C%206.41653%5D%2C%20%5B-75.40186%2C%206.41643%5D%2C%20%5B-75.40312%2C%206.41586%5D%2C%20%5B-75.40516%2C%206.41483%5D%2C%20%5B-75.4056%2C%206.4146%5D%2C%20%5B-75.40732%2C%206.41374%5D%2C%20%5B-75.40743%2C%206.41369%5D%2C%20%5B-75.40771%2C%206.41356%5D%2C%20%5B-75.40806%2C%206.41346%5D%2C%20%5B-75.40883%2C%206.41331%5D%2C%20%5B-75.41169%2C%206.41274%5D%2C%20%5B-75.41192%2C%206.41269%5D%2C%20%5B-75.41234%2C%206.41259%5D%2C%20%5B-75.41247%2C%206.41255%5D%2C%20%5B-75.41336%2C%206.41228%5D%2C%20%5B-75.41399%2C%206.41209%5D%2C%20%5B-75.41493%2C%206.41181%5D%2C%20%5B-75.41604%2C%206.41148%5D%2C%20%5B-75.41715%2C%206.41115%5D%2C%20%5B-75.42044%2C%206.41006%5D%2C%20%5B-75.42095%2C%206.40989%5D%2C%20%5B-75.42176%2C%206.40962%5D%2C%20%5B-75.42215%2C%206.40949%5D%2C%20%5B-75.42239%2C%206.40941%5D%2C%20%5B-75.42264%2C%206.40931%5D%2C%20%5B-75.42287%2C%206.4092%5D%2C%20%5B-75.42295%2C%206.40916%5D%2C%20%5B-75.42308%2C%206.40907%5D%2C%20%5B-75.42319%2C%206.409%5D%2C%20%5B-75.42354%2C%206.40869%5D%2C%20%5B-75.42427%2C%206.408%5D%2C%20%5B-75.42543%2C%206.40691%5D%2C%20%5B-75.42659%2C%206.40572%5D%2C%20%5B-75.42773%2C%206.40454%5D%2C%20%5B-75.42793%2C%206.40434%5D%2C%20%5B-75.42801%2C%206.40426%5D%2C%20%5B-75.42858%2C%206.40373%5D%2C%20%5B-75.42921%2C%206.40313%5D%2C%20%5B-75.42932%2C%206.40303%5D%2C%20%5B-75.43121%2C%206.40117%5D%2C%20%5B-75.43126%2C%206.40112%5D%2C%20%5B-75.43208%2C%206.40043%5D%2C%20%5B-75.43347%2C%206.39939%5D%2C%20%5B-75.43428%2C%206.39879%5D%2C%20%5B-75.43437%2C%206.39873%5D%2C%20%5B-75.43498%2C%206.39825%5D%2C%20%5B-75.43558%2C%206.39788%5D%2C%20%5B-75.43583%2C%206.39773%5D%2C%20%5B-75.43602%2C%206.39762%5D%2C%20%5B-75.43619%2C%206.39748%5D%2C%20%5B-75.43648%2C%206.39729%5D%2C%20%5B-75.43672%2C%206.39716%5D%2C%20%5B-75.43715%2C%206.39684%5D%2C%20%5B-75.43967%2C%206.3952%5D%2C%20%5B-75.44036%2C%206.39481%5D%2C%20%5B-75.44073%2C%206.39461%5D%2C%20%5B-75.44267%2C%206.39368%5D%2C%20%5B-75.44308%2C%206.39348%5D%2C%20%5B-75.44346%2C%206.39328%5D%2C%20%5B-75.44382%2C%206.39302%5D%2C%20%5B-75.44403%2C%206.39284%5D%2C%20%5B-75.44426%2C%206.39258%5D%2C%20%5B-75.44633%2C%206.39049%5D%2C%20%5B-75.44678%2C%206.39008%5D%2C%20%5B-75.44709%2C%206.38984%5D%2C%20%5B-75.44725%2C%206.38974%5D%2C%20%5B-75.44778%2C%206.38937%5D%2C%20%5B-75.44819%2C%206.38907%5D%2C%20%5B-75.4483%2C%206.389%5D%2C%20%5B-75.44877%2C%206.38868%5D%2C%20%5B-75.44941%2C%206.38824%5D%2C%20%5B-75.44952%2C%206.38817%5D%2C%20%5B-75.4498%2C%206.38799%5D%2C%20%5B-75.45006%2C%206.38786%5D%2C%20%5B-75.45149%2C%206.38731%5D%2C%20%5B-75.45264%2C%206.38681%5D%2C%20%5B-75.45474%2C%206.38545%5D%2C%20%5B-75.45533%2C%206.38516%5D%2C%20%5B-75.45559%2C%206.38503%5D%2C%20%5B-75.45579%2C%206.38493%5D%2C%20%5B-75.45664%2C%206.38455%5D%2C%20%5B-75.45689%2C%206.38446%5D%2C%20%5B-75.45713%2C%206.38441%5D%2C%20%5B-75.45751%2C%206.38435%5D%2C%20%5B-75.45807%2C%206.38432%5D%2C%20%5B-75.45903%2C%206.38434%5D%2C%20%5B-75.45922%2C%206.38434%5D%2C%20%5B-75.46039%2C%206.38433%5D%2C%20%5B-75.46123%2C%206.38432%5D%2C%20%5B-75.46374%2C%206.38431%5D%2C%20%5B-75.46417%2C%206.38428%5D%2C%20%5B-75.46442%2C%206.38424%5D%2C%20%5B-75.46465%2C%206.38417%5D%2C%20%5B-75.46611%2C%206.38359%5D%2C%20%5B-75.46639%2C%206.38352%5D%2C%20%5B-75.46668%2C%206.38349%5D%2C%20%5B-75.46694%2C%206.38348%5D%2C%20%5B-75.46724%2C%206.38347%5D%2C%20%5B-75.46788%2C%206.38345%5D%2C%20%5B-75.46841%2C%206.38341%5D%2C%20%5B-75.46896%2C%206.38334%5D%2C%20%5B-75.4706%2C%206.38312%5D%2C%20%5B-75.47121%2C%206.38302%5D%2C%20%5B-75.47143%2C%206.38299%5D%2C%20%5B-75.47213%2C%206.38282%5D%2C%20%5B-75.47349%2C%206.38243%5D%2C%20%5B-75.47401%2C%206.3823%5D%2C%20%5B-75.47524%2C%206.382%5D%2C%20%5B-75.47541%2C%206.38197%5D%2C%20%5B-75.47613%2C%206.38177%5D%2C%20%5B-75.47721%2C%206.3814%5D%2C%20%5B-75.47762%2C%206.3813%5D%2C%20%5B-75.47804%2C%206.38126%5D%2C%20%5B-75.47892%2C%206.38123%5D%2C%20%5B-75.47987%2C%206.38122%5D%2C%20%5B-75.48062%2C%206.38119%5D%2C%20%5B-75.48109%2C%206.38117%5D%2C%20%5B-75.48144%2C%206.38115%5D%2C%20%5B-75.4817%2C%206.38111%5D%2C%20%5B-75.48186%2C%206.38106%5D%2C%20%5B-75.48201%2C%206.38101%5D%2C%20%5B-75.48219%2C%206.38094%5D%2C%20%5B-75.4823%2C%206.38089%5D%2C%20%5B-75.48243%2C%206.38082%5D%2C%20%5B-75.48279%2C%206.38058%5D%2C%20%5B-75.4831%2C%206.38034%5D%2C%20%5B-75.48355%2C%206.38008%5D%2C%20%5B-75.48369%2C%206.38001%5D%2C%20%5B-75.48568%2C%206.37928%5D%2C%20%5B-75.486%2C%206.37907%5D%2C%20%5B-75.48615%2C%206.37896%5D%2C%20%5B-75.48631%2C%206.37882%5D%2C%20%5B-75.48752%2C%206.37777%5D%2C%20%5B-75.48805%2C%206.3774%5D%2C%20%5B-75.48867%2C%206.3769%5D%2C%20%5B-75.4889%2C%206.37668%5D%2C%20%5B-75.48903%2C%206.37651%5D%2C%20%5B-75.48915%2C%206.37633%5D%2C%20%5B-75.48997%2C%206.37392%5D%2C%20%5B-75.49007%2C%206.37339%5D%2C%20%5B-75.48999%2C%206.37125%5D%2C%20%5B-75.48993%2C%206.37043%5D%2C%20%5B-75.48999%2C%206.3698%5D%2C%20%5B-75.49014%2C%206.36934%5D%2C%20%5B-75.49026%2C%206.36904%5D%2C%20%5B-75.49036%2C%206.36881%5D%2C%20%5B-75.49053%2C%206.36841%5D%2C%20%5B-75.4907%2C%206.368%5D%2C%20%5B-75.4908%2C%206.36778%5D%2C%20%5B-75.49092%2C%206.36759%5D%2C%20%5B-75.49102%2C%206.36745%5D%2C%20%5B-75.49129%2C%206.36712%5D%2C%20%5B-75.49161%2C%206.36673%5D%2C%20%5B-75.49175%2C%206.36656%5D%2C%20%5B-75.49237%2C%206.36578%5D%2C%20%5B-75.49248%2C%206.36564%5D%2C%20%5B-75.49268%2C%206.36537%5D%2C%20%5B-75.49279%2C%206.36518%5D%2C%20%5B-75.49287%2C%206.36497%5D%2C%20%5B-75.49292%2C%206.36479%5D%2C%20%5B-75.49305%2C%206.36409%5D%2C%20%5B-75.4931%2C%206.36388%5D%2C%20%5B-75.49318%2C%206.36368%5D%2C%20%5B-75.49328%2C%206.36347%5D%2C%20%5B-75.49339%2C%206.3633%5D%2C%20%5B-75.49351%2C%206.36314%5D%2C%20%5B-75.49368%2C%206.36296%5D%2C%20%5B-75.49402%2C%206.36268%5D%2C%20%5B-75.49454%2C%206.36233%5D%2C%20%5B-75.49514%2C%206.36193%5D%2C%20%5B-75.49566%2C%206.3616%5D%2C%20%5B-75.4959%2C%206.36144%5D%2C%20%5B-75.4964%2C%206.36111%5D%2C%20%5B-75.49754%2C%206.36039%5D%2C%20%5B-75.49786%2C%206.3602%5D%2C%20%5B-75.49844%2C%206.3598%5D%2C%20%5B-75.49861%2C%206.35966%5D%2C%20%5B-75.49876%2C%206.35949%5D%2C%20%5B-75.49943%2C%206.35858%5D%2C%20%5B-75.49983%2C%206.35804%5D%2C%20%5B-75.50025%2C%206.35749%5D%2C%20%5B-75.50047%2C%206.35717%5D%2C%20%5B-75.50061%2C%206.35691%5D%2C%20%5B-75.50079%2C%206.35633%5D%2C%20%5B-75.50119%2C%206.35519%5D%2C%20%5B-75.50136%2C%206.3548%5D%2C%20%5B-75.5015%2C%206.35456%5D%2C%20%5B-75.50192%2C%206.354%5D%2C%20%5B-75.50252%2C%206.35328%5D%2C%20%5B-75.50277%2C%206.35307%5D%2C%20%5B-75.5029%2C%206.353%5D%2C%20%5B-75.50302%2C%206.35293%5D%2C%20%5B-75.50327%2C%206.35282%5D%2C%20%5B-75.50354%2C%206.35273%5D%2C%20%5B-75.50388%2C%206.35264%5D%2C%20%5B-75.50463%2C%206.35243%5D%2C%20%5B-75.5054%2C%206.35222%5D%2C%20%5B-75.50558%2C%206.35217%5D%2C%20%5B-75.50681%2C%206.35182%5D%2C%20%5B-75.50703%2C%206.35176%5D%2C%20%5B-75.50736%2C%206.35167%5D%2C%20%5B-75.50781%2C%206.35153%5D%2C%20%5B-75.50841%2C%206.35129%5D%2C%20%5B-75.5088%2C%206.35113%5D%2C%20%5B-75.5091%2C%206.35103%5D%2C%20%5B-75.50938%2C%206.35098%5D%2C%20%5B-75.50986%2C%206.3509%5D%2C%20%5B-75.51073%2C%206.35075%5D%2C%20%5B-75.51245%2C%206.35047%5D%2C%20%5B-75.51254%2C%206.35045%5D%2C%20%5B-75.51256%2C%206.35045%5D%2C%20%5B-75.51314%2C%206.35034%5D%2C%20%5B-75.51477%2C%206.34999%5D%2C%20%5B-75.51636%2C%206.34963%5D%2C%20%5B-75.51687%2C%206.34952%5D%2C%20%5B-75.51712%2C%206.34946%5D%2C%20%5B-75.51722%2C%206.34944%5D%2C%20%5B-75.5175%2C%206.34938%5D%2C%20%5B-75.51761%2C%206.34936%5D%2C%20%5B-75.51762%2C%206.34935%5D%2C%20%5B-75.51809%2C%206.34925%5D%2C%20%5B-75.51846%2C%206.34913%5D%2C%20%5B-75.5186%2C%206.34907%5D%2C%20%5B-75.51887%2C%206.3489%5D%2C%20%5B-75.51952%2C%206.34842%5D%2C%20%5B-75.51994%2C%206.34806%5D%2C%20%5B-75.51998%2C%206.34803%5D%2C%20%5B-75.52065%2C%206.34749%5D%2C%20%5B-75.5208%2C%206.34737%5D%2C%20%5B-75.52136%2C%206.34691%5D%2C%20%5B-75.52143%2C%206.34686%5D%2C%20%5B-75.52177%2C%206.34661%5D%2C%20%5B-75.52185%2C%206.34656%5D%2C%20%5B-75.52197%2C%206.34648%5D%2C%20%5B-75.52223%2C%206.34632%5D%2C%20%5B-75.52253%2C%206.34616%5D%2C%20%5B-75.52311%2C%206.34589%5D%2C%20%5B-75.52335%2C%206.3458%5D%2C%20%5B-75.52361%2C%206.34571%5D%2C%20%5B-75.52374%2C%206.34568%5D%2C%20%5B-75.52424%2C%206.34556%5D%2C%20%5B-75.52545%2C%206.34538%5D%2C%20%5B-75.52552%2C%206.34536%5D%2C%20%5B-75.52579%2C%206.3453%5D%2C%20%5B-75.52605%2C%206.34526%5D%2C%20%5B-75.5271%2C%206.34517%5D%2C%20%5B-75.52764%2C%206.34506%5D%2C%20%5B-75.52791%2C%206.345%5D%2C%20%5B-75.52812%2C%206.34497%5D%2C%20%5B-75.52898%2C%206.34483%5D%2C%20%5B-75.52965%2C%206.34472%5D%2C%20%5B-75.52999%2C%206.34468%5D%2C%20%5B-75.53008%2C%206.34466%5D%2C%20%5B-75.53017%2C%206.34465%5D%2C%20%5B-75.53065%2C%206.34456%5D%2C%20%5B-75.53114%2C%206.34443%5D%2C%20%5B-75.53139%2C%206.34436%5D%2C%20%5B-75.5315%2C%206.34432%5D%2C%20%5B-75.53174%2C%206.34421%5D%2C%20%5B-75.53205%2C%206.34406%5D%2C%20%5B-75.53236%2C%206.3439%5D%2C%20%5B-75.53269%2C%206.34371%5D%2C%20%5B-75.53285%2C%206.34362%5D%2C%20%5B-75.53289%2C%206.34359%5D%2C%20%5B-75.53323%2C%206.34336%5D%2C%20%5B-75.53338%2C%206.34327%5D%2C%20%5B-75.53452%2C%206.34246%5D%2C%20%5B-75.53503%2C%206.34211%5D%2C%20%5B-75.53515%2C%206.342%5D%2C%20%5B-75.53534%2C%206.34187%5D%2C%20%5B-75.53574%2C%206.34162%5D%2C%20%5B-75.5361%2C%206.34141%5D%2C%20%5B-75.5366%2C%206.3411%5D%2C%20%5B-75.53665%2C%206.34107%5D%2C%20%5B-75.53862%2C%206.33988%5D%2C%20%5B-75.5388%2C%206.33977%5D%2C%20%5B-75.53888%2C%206.33972%5D%2C%20%5B-75.53958%2C%206.33935%5D%2C%20%5B-75.53981%2C%206.33924%5D%2C%20%5B-75.5399%2C%206.33921%5D%2C%20%5B-75.5401%2C%206.33913%5D%2C%20%5B-75.54106%2C%206.33885%5D%2C%20%5B-75.54241%2C%206.33848%5D%2C%20%5B-75.5427%2C%206.33839%5D%2C%20%5B-75.54303%2C%206.33834%5D%2C%20%5B-75.54354%2C%206.33831%5D%2C%20%5B-75.54394%2C%206.33828%5D%2C%20%5B-75.544%2C%206.33828%5D%2C%20%5B-75.54408%2C%206.33828%5D%2C%20%5B-75.54418%2C%206.33827%5D%2C%20%5B-75.54434%2C%206.33824%5D%2C%20%5B-75.54458%2C%206.33819%5D%2C%20%5B-75.54467%2C%206.33816%5D%2C%20%5B-75.54475%2C%206.33813%5D%2C%20%5B-75.5449%2C%206.33804%5D%2C%20%5B-75.54498%2C%206.33797%5D%2C%20%5B-75.54501%2C%206.33793%5D%2C%20%5B-75.54506%2C%206.33783%5D%2C%20%5B-75.54508%2C%206.33777%5D%2C%20%5B-75.54509%2C%206.33762%5D%2C%20%5B-75.54505%2C%206.33748%5D%2C%20%5B-75.545%2C%206.33743%5D%2C%20%5B-75.54494%2C%206.33736%5D%2C%20%5B-75.54487%2C%206.33731%5D%2C%20%5B-75.54477%2C%206.33725%5D%2C%20%5B-75.54467%2C%206.33722%5D%2C%20%5B-75.54457%2C%206.33709%5D%2C%20%5B-75.54446%2C%206.33688%5D%2C%20%5B-75.54442%2C%206.33668%5D%2C%20%5B-75.54456%2C%206.33556%5D%2C%20%5B-75.54461%2C%206.33506%5D%2C%20%5B-75.54467%2C%206.33456%5D%2C%20%5B-75.5447%2C%206.33442%5D%2C%20%5B-75.54477%2C%206.33424%5D%2C%20%5B-75.54492%2C%206.33401%5D%2C%20%5B-75.54506%2C%206.33386%5D%2C%20%5B-75.5452%2C%206.33375%5D%2C%20%5B-75.54534%2C%206.33366%5D%2C%20%5B-75.54575%2C%206.33349%5D%2C%20%5B-75.54862%2C%206.33242%5D%2C%20%5B-75.54874%2C%206.33235%5D%2C%20%5B-75.54897%2C%206.33218%5D%2C%20%5B-75.54906%2C%206.3321%5D%2C%20%5B-75.54925%2C%206.33189%5D%2C%20%5B-75.54937%2C%206.33175%5D%2C%20%5B-75.55061%2C%206.32994%5D%2C%20%5B-75.55076%2C%206.32972%5D%2C%20%5B-75.55091%2C%206.32951%5D%2C%20%5B-75.55099%2C%206.32939%5D%2C%20%5B-75.55141%2C%206.32877%5D%2C%20%5B-75.5525%2C%206.32718%5D%2C%20%5B-75.55269%2C%206.32687%5D%2C%20%5B-75.5538%2C%206.32496%5D%2C%20%5B-75.55397%2C%206.32465%5D%2C%20%5B-75.55409%2C%206.32437%5D%2C%20%5B-75.55428%2C%206.32377%5D%2C%20%5B-75.5544%2C%206.32329%5D%2C%20%5B-75.55455%2C%206.3223%5D%2C%20%5B-75.5547%2C%206.32155%5D%2C%20%5B-75.55483%2C%206.32053%5D%2C%20%5B-75.55508%2C%206.31938%5D%2C%20%5B-75.55517%2C%206.31908%5D%2C%20%5B-75.55519%2C%206.31903%5D%2C%20%5B-75.55555%2C%206.318%5D%2C%20%5B-75.55559%2C%206.31785%5D%2C%20%5B-75.55571%2C%206.31734%5D%2C%20%5B-75.55578%2C%206.31673%5D%2C%20%5B-75.55577%2C%206.31636%5D%2C%20%5B-75.55571%2C%206.31513%5D%2C%20%5B-75.55565%2C%206.31434%5D%2C%20%5B-75.55566%2C%206.31409%5D%2C%20%5B-75.55568%2C%206.31368%5D%2C%20%5B-75.55572%2C%206.31341%5D%2C%20%5B-75.55579%2C%206.31315%5D%2C%20%5B-75.5559%2C%206.31291%5D%2C%20%5B-75.55614%2C%206.31246%5D%2C%20%5B-75.55631%2C%206.31219%5D%2C%20%5B-75.55652%2C%206.31194%5D%2C%20%5B-75.55681%2C%206.31161%5D%2C%20%5B-75.55693%2C%206.31147%5D%2C%20%5B-75.55708%2C%206.31129%5D%2C%20%5B-75.55731%2C%206.31101%5D%2C%20%5B-75.55745%2C%206.31084%5D%2C%20%5B-75.55776%2C%206.31037%5D%2C%20%5B-75.55794%2C%206.31013%5D%2C%20%5B-75.55802%2C%206.31001%5D%2C%20%5B-75.55807%2C%206.30994%5D%2C%20%5B-75.55821%2C%206.3097%5D%2C%20%5B-75.55832%2C%206.3095%5D%2C%20%5B-75.55842%2C%206.30922%5D%2C%20%5B-75.55849%2C%206.30899%5D%2C%20%5B-75.55852%2C%206.30882%5D%2C%20%5B-75.55854%2C%206.30865%5D%2C%20%5B-75.55854%2C%206.30833%5D%2C%20%5B-75.55832%2C%206.30704%5D%2C%20%5B-75.55824%2C%206.30657%5D%2C%20%5B-75.55818%2C%206.30622%5D%2C%20%5B-75.55813%2C%206.30585%5D%2C%20%5B-75.55805%2C%206.30512%5D%2C%20%5B-75.55798%2C%206.30448%5D%2C%20%5B-75.55797%2C%206.30418%5D%2C%20%5B-75.55799%2C%206.30392%5D%2C%20%5B-75.55809%2C%206.30345%5D%2C%20%5B-75.55817%2C%206.30317%5D%2C%20%5B-75.55825%2C%206.30285%5D%2C%20%5B-75.5584%2C%206.30228%5D%2C%20%5B-75.55863%2C%206.30158%5D%2C%20%5B-75.55869%2C%206.30133%5D%2C%20%5B-75.55877%2C%206.30105%5D%2C%20%5B-75.55894%2C%206.30055%5D%2C%20%5B-75.55951%2C%206.29924%5D%2C%20%5B-75.55988%2C%206.29834%5D%2C%20%5B-75.56001%2C%206.29811%5D%2C%20%5B-75.56038%2C%206.2976%5D%2C%20%5B-75.56056%2C%206.2974%5D%2C%20%5B-75.56143%2C%206.29636%5D%2C%20%5B-75.56217%2C%206.29558%5D%2C%20%5B-75.56224%2C%206.29551%5D%2C%20%5B-75.56233%2C%206.29541%5D%2C%20%5B-75.56343%2C%206.29427%5D%2C%20%5B-75.56353%2C%206.29413%5D%2C%20%5B-75.56364%2C%206.29387%5D%2C%20%5B-75.56365%2C%206.29384%5D%2C%20%5B-75.56367%2C%206.29376%5D%2C%20%5B-75.56367%2C%206.29375%5D%2C%20%5B-75.56408%2C%206.29197%5D%2C%20%5B-75.56415%2C%206.29173%5D%2C%20%5B-75.56421%2C%206.29158%5D%2C%20%5B-75.56427%2C%206.29147%5D%2C%20%5B-75.56433%2C%206.29139%5D%2C%20%5B-75.56594%2C%206.28941%5D%2C%20%5B-75.5661%2C%206.28912%5D%2C%20%5B-75.56616%2C%206.28893%5D%2C%20%5B-75.56622%2C%206.28865%5D%2C%20%5B-75.56626%2C%206.28834%5D%2C%20%5B-75.56631%2C%206.28768%5D%2C%20%5B-75.56635%2C%206.28752%5D%2C%20%5B-75.56639%2C%206.28734%5D%2C%20%5B-75.56643%2C%206.28721%5D%2C%20%5B-75.56655%2C%206.28699%5D%2C%20%5B-75.56778%2C%206.28563%5D%2C%20%5B-75.56785%2C%206.28554%5D%2C%20%5B-75.56791%2C%206.28548%5D%2C%20%5B-75.56799%2C%206.28536%5D%2C%20%5B-75.56832%2C%206.28473%5D%2C%20%5B-75.56859%2C%206.28429%5D%2C%20%5B-75.56882%2C%206.28384%5D%2C%20%5B-75.56896%2C%206.28352%5D%2C%20%5B-75.56901%2C%206.28335%5D%2C%20%5B-75.56901%2C%206.28318%5D%2C%20%5B-75.56896%2C%206.28165%5D%2C%20%5B-75.56899%2C%206.28123%5D%2C%20%5B-75.56904%2C%206.28084%5D%2C%20%5B-75.56914%2C%206.28036%5D%2C%20%5B-75.56995%2C%206.27677%5D%2C%20%5B-75.57038%2C%206.27481%5D%2C%20%5B-75.57041%2C%206.2747%5D%2C%20%5B-75.57049%2C%206.27434%5D%2C%20%5B-75.57119%2C%206.27116%5D%2C%20%5B-75.57161%2C%206.26935%5D%2C%20%5B-75.57171%2C%206.26892%5D%2C%20%5B-75.57242%2C%206.26574%5D%2C%20%5B-75.57272%2C%206.2646%5D%2C%20%5B-75.5729%2C%206.264%5D%2C%20%5B-75.57352%2C%206.26218%5D%2C%20%5B-75.57374%2C%206.26168%5D%2C%20%5B-75.57419%2C%206.26075%5D%2C%20%5B-75.57446%2C%206.26022%5D%2C%20%5B-75.5746%2C%206.25989%5D%2C%20%5B-75.57477%2C%206.25952%5D%2C%20%5B-75.57519%2C%206.25866%5D%2C%20%5B-75.57605%2C%206.25706%5D%2C%20%5B-75.57779%2C%206.25392%5D%2C%20%5B-75.57854%2C%206.25265%5D%2C%20%5B-75.57858%2C%206.25259%5D%2C%20%5B-75.57891%2C%206.252%5D%2C%20%5B-75.57932%2C%206.25124%5D%2C%20%5B-75.57947%2C%206.25096%5D%2C%20%5B-75.57953%2C%206.25085%5D%2C%20%5B-75.5796%2C%206.25072%5D%2C%20%5B-75.57975%2C%206.25053%5D%2C%20%5B-75.57983%2C%206.25047%5D%2C%20%5B-75.5799%2C%206.25043%5D%2C%20%5B-75.58011%2C%206.25039%5D%2C%20%5B-75.58041%2C%206.25041%5D%2C%20%5B-75.5805%2C%206.25039%5D%2C%20%5B-75.58062%2C%206.25038%5D%2C%20%5B-75.58078%2C%206.25036%5D%2C%20%5B-75.5809%2C%206.25028%5D%2C%20%5B-75.58104%2C%206.2501%5D%2C%20%5B-75.58107%2C%206.24998%5D%2C%20%5B-75.58107%2C%206.24981%5D%2C%20%5B-75.58102%2C%206.24941%5D%2C%20%5B-75.58098%2C%206.24914%5D%2C%20%5B-75.58091%2C%206.24867%5D%2C%20%5B-75.58095%2C%206.24845%5D%2C%20%5B-75.58098%2C%206.24835%5D%2C%20%5B-75.58109%2C%206.24818%5D%2C%20%5B-75.58121%2C%206.24803%5D%2C%20%5B-75.58184%2C%206.2474%5D%2C%20%5B-75.58199%2C%206.24725%5D%2C%20%5B-75.58205%2C%206.2472%5D%2C%20%5B-75.58257%2C%206.24667%5D%2C%20%5B-75.58277%2C%206.24647%5D%2C%20%5B-75.58282%2C%206.24642%5D%2C%20%5B-75.58354%2C%206.24568%5D%2C%20%5B-75.58357%2C%206.24564%5D%2C%20%5B-75.58368%2C%206.24553%5D%2C%20%5B-75.58374%2C%206.24548%5D%2C%20%5B-75.58379%2C%206.24542%5D%2C%20%5B-75.58384%2C%206.24538%5D%2C%20%5B-75.5839%2C%206.24532%5D%2C%20%5B-75.58468%2C%206.24452%5D%2C%20%5B-75.58471%2C%206.24449%5D%2C%20%5B-75.58557%2C%206.24364%5D%2C%20%5B-75.58563%2C%206.24357%5D%2C%20%5B-75.58595%2C%206.24326%5D%2C%20%5B-75.58601%2C%206.2432%5D%2C%20%5B-75.5861%2C%206.24312%5D%2C%20%5B-75.58617%2C%206.24305%5D%2C%20%5B-75.58621%2C%206.24301%5D%2C%20%5B-75.58629%2C%206.24292%5D%2C%20%5B-75.58688%2C%206.24236%5D%2C%20%5B-75.58749%2C%206.24176%5D%2C%20%5B-75.58783%2C%206.24143%5D%2C%20%5B-75.58798%2C%206.24128%5D%2C%20%5B-75.58812%2C%206.24114%5D%2C%20%5B-75.58836%2C%206.24088%5D%2C%20%5B-75.58858%2C%206.24066%5D%2C%20%5B-75.58938%2C%206.23985%5D%2C%20%5B-75.58993%2C%206.23928%5D%2C%20%5B-75.59117%2C%206.23801%5D%2C%20%5B-75.59186%2C%206.23736%5D%2C%20%5B-75.59204%2C%206.23719%5D%2C%20%5B-75.5921%2C%206.23713%5D%2C%20%5B-75.59299%2C%206.23624%5D%2C%20%5B-75.59303%2C%206.23621%5D%2C%20%5B-75.59305%2C%206.23619%5D%2C%20%5B-75.59311%2C%206.23613%5D%2C%20%5B-75.59349%2C%206.23575%5D%2C%20%5B-75.59389%2C%206.23533%5D%2C%20%5B-75.59404%2C%206.23518%5D%2C%20%5B-75.59407%2C%206.23515%5D%2C%20%5B-75.59522%2C%206.23401%5D%2C%20%5B-75.59543%2C%206.23379%5D%2C%20%5B-75.59546%2C%206.23377%5D%2C%20%5B-75.59552%2C%206.2337%5D%2C%20%5B-75.59562%2C%206.2336%5D%2C%20%5B-75.59612%2C%206.23309%5D%2C%20%5B-75.59621%2C%206.233%5D%2C%20%5B-75.59625%2C%206.23296%5D%2C%20%5B-75.5963%2C%206.2329%5D%2C%20%5B-75.59637%2C%206.23284%5D%2C%20%5B-75.59685%2C%206.23283%5D%2C%20%5B-75.59714%2C%206.23282%5D%2C%20%5B-75.59788%2C%206.2328%5D%2C%20%5B-75.59818%2C%206.23279%5D%2C%20%5B-75.59817%2C%206.23255%5D%2C%20%5B-75.59816%2C%206.23209%5D%2C%20%5B-75.59877%2C%206.23207%5D%2C%20%5B-75.59921%2C%206.23207%5D%2C%20%5B-75.60067%2C%206.23201%5D%2C%20%5B-75.60133%2C%206.23199%5D%2C%20%5B-75.60169%2C%206.23198%5D%2C%20%5B-75.60211%2C%206.23198%5D%2C%20%5B-75.60218%2C%206.23197%5D%2C%20%5B-75.60235%2C%206.23197%5D%2C%20%5B-75.60276%2C%206.23196%5D%2C%20%5B-75.60345%2C%206.23194%5D%2C%20%5B-75.60415%2C%206.23191%5D%2C%20%5B-75.60493%2C%206.23189%5D%2C%20%5B-75.60507%2C%206.23189%5D%2C%20%5B-75.60522%2C%206.23188%5D%2C%20%5B-75.60586%2C%206.23186%5D%2C%20%5B-75.60593%2C%206.23186%5D%2C%20%5B-75.60601%2C%206.23186%5D%2C%20%5B-75.60675%2C%206.23183%5D%2C%20%5B-75.60718%2C%206.23181%5D%2C%20%5B-75.60755%2C%206.23178%5D%2C%20%5B-75.60774%2C%206.23177%5D%2C%20%5B-75.60791%2C%206.23176%5D%2C%20%5B-75.60837%2C%206.23173%5D%2C%20%5B-75.60882%2C%206.23168%5D%2C%20%5B-75.60925%2C%206.23165%5D%2C%20%5B-75.60968%2C%206.23162%5D%2C%20%5B-75.60982%2C%206.23162%5D%2C%20%5B-75.60987%2C%206.23134%5D%2C%20%5B-75.60986%2C%206.23105%5D%2C%20%5B-75.60986%2C%206.23101%5D%2C%20%5B-75.60999%2C%206.23102%5D%2C%20%5B-75.61006%2C%206.23103%5D%2C%20%5B-75.61011%2C%206.23106%5D%2C%20%5B-75.61019%2C%206.23121%5D%2C%20%5B-75.61021%2C%206.23124%5D%2C%20%5B-75.61027%2C%206.23129%5D%2C%20%5B-75.61026%2C%206.23131%5D%2C%20%5B-75.61027%2C%206.23133%5D%2C%20%5B-75.61027%2C%206.23135%5D%2C%20%5B-75.61032%2C%206.23137%5D%2C%20%5B-75.61037%2C%206.23135%5D%2C%20%5B-75.61038%2C%206.23133%5D%2C%20%5B-75.61049%2C%206.23134%5D%2C%20%5B-75.61059%2C%206.23136%5D%2C%20%5B-75.61083%2C%206.23142%5D%2C%20%5B-75.61111%2C%206.23147%5D%2C%20%5B-75.61128%2C%206.23149%5D%2C%20%5B-75.61162%2C%206.23151%5D%2C%20%5B-75.61128%2C%206.23149%5D%2C%20%5B-75.61111%2C%206.23147%5D%2C%20%5B-75.61083%2C%206.23142%5D%2C%20%5B-75.61059%2C%206.23136%5D%2C%20%5B-75.61049%2C%206.23134%5D%2C%20%5B-75.61038%2C%206.23133%5D%2C%20%5B-75.61038%2C%206.23131%5D%2C%20%5B-75.61035%2C%206.23127%5D%2C%20%5B-75.61033%2C%206.23126%5D%2C%20%5B-75.61031%2C%206.23126%5D%2C%20%5B-75.61028%2C%206.23128%5D%2C%20%5B-75.61027%2C%206.23129%5D%2C%20%5B-75.61021%2C%206.23124%5D%2C%20%5B-75.61019%2C%206.23121%5D%2C%20%5B-75.61011%2C%206.23106%5D%2C%20%5B-75.61006%2C%206.23103%5D%2C%20%5B-75.60999%2C%206.23102%5D%2C%20%5B-75.60986%2C%206.23101%5D%2C%20%5B-75.60986%2C%206.23105%5D%2C%20%5B-75.60987%2C%206.23134%5D%2C%20%5B-75.60982%2C%206.23162%5D%2C%20%5B-75.6098%2C%206.23176%5D%2C%20%5B-75.60979%2C%206.23181%5D%2C%20%5B-75.6097%2C%206.23254%5D%2C%20%5B-75.60891%2C%206.23247%5D%2C%20%5B-75.60861%2C%206.23247%5D%2C%20%5B-75.60844%2C%206.23247%5D%2C%20%5B-75.608%2C%206.23246%5D%2C%20%5B-75.60764%2C%206.23249%5D%2C%20%5B-75.60706%2C%206.23254%5D%2C%20%5B-75.60626%2C%206.23263%5D%2C%20%5B-75.60613%2C%206.23264%5D%2C%20%5B-75.60614%2C%206.2327%5D%2C%20%5B-75.60619%2C%206.23293%5D%2C%20%5B-75.60623%2C%206.23318%5D%2C%20%5B-75.6062%2C%206.23326%5D%2C%20%5B-75.60616%2C%206.23336%5D%2C%20%5B-75.60614%2C%206.23338%5D%2C%20%5B-75.60598%2C%206.23378%5D%2C%20%5B-75.60594%2C%206.23382%5D%2C%20%5B-75.6056%2C%206.23405%5D%2C%20%5B-75.60547%2C%206.23411%5D%2C%20%5B-75.60534%2C%206.23416%5D%2C%20%5B-75.60534%2C%206.23416%5D%2C%20%5B-75.6053%2C%206.23418%5D%2C%20%5B-75.60523%2C%206.2342%5D%2C%20%5B-75.60505%2C%206.23418%5D%2C%20%5B-75.60435%2C%206.23399%5D%2C%20%5B-75.60431%2C%206.23398%5D%2C%20%5B-75.60408%2C%206.23392%5D%2C%20%5B-75.60386%2C%206.23386%5D%2C%20%5B-75.60369%2C%206.23382%5D%2C%20%5B-75.60355%2C%206.23379%5D%2C%20%5B-75.60341%2C%206.23379%5D%2C%20%5B-75.60308%2C%206.23378%5D%2C%20%5B-75.60294%2C%206.23379%5D%2C%20%5B-75.60224%2C%206.23382%5D%2C%20%5B-75.60217%2C%206.23383%5D%2C%20%5B-75.60176%2C%206.23384%5D%2C%20%5B-75.60163%2C%206.23385%5D%2C%20%5B-75.60159%2C%206.23384%5D%2C%20%5B-75.60145%2C%206.23384%5D%2C%20%5B-75.60138%2C%206.23382%5D%2C%20%5B-75.60118%2C%206.23371%5D%2C%20%5B-75.60062%2C%206.23317%5D%2C%20%5B-75.6005%2C%206.23304%5D%2C%20%5B-75.60032%2C%206.23292%5D%2C%20%5B-75.60016%2C%206.23287%5D%2C%20%5B-75.59997%2C%206.23286%5D%2C%20%5B-75.59981%2C%206.23287%5D%2C%20%5B-75.599%2C%206.23313%5D%2C%20%5B-75.59854%2C%206.23321%5D%2C%20%5B-75.5982%2C%206.23327%5D%2C%20%5B-75.59811%2C%206.23329%5D%2C%20%5B-75.5978%2C%206.23334%5D%2C%20%5B-75.59769%2C%206.23338%5D%2C%20%5B-75.59756%2C%206.23347%5D%2C%20%5B-75.59746%2C%206.23356%5D%2C%20%5B-75.59731%2C%206.23377%5D%2C%20%5B-75.59718%2C%206.23395%5D%2C%20%5B-75.59703%2C%206.23417%5D%2C%20%5B-75.59646%2C%206.23502%5D%2C%20%5B-75.59637%2C%206.23515%5D%2C%20%5B-75.59629%2C%206.23526%5D%2C%20%5B-75.59615%2C%206.23545%5D%2C%20%5B-75.59588%2C%206.23583%5D%2C%20%5B-75.59542%2C%206.23651%5D%2C%20%5B-75.59513%2C%206.23692%5D%2C%20%5B-75.59486%2C%206.23732%5D%2C%20%5B-75.59464%2C%206.23763%5D%2C%20%5B-75.59457%2C%206.23773%5D%2C%20%5B-75.59448%2C%206.23785%5D%2C%20%5B-75.59437%2C%206.23796%5D%2C%20%5B-75.59422%2C%206.23807%5D%2C%20%5B-75.59417%2C%206.2381%5D%2C%20%5B-75.59403%2C%206.23817%5D%2C%20%5B-75.59381%2C%206.23824%5D%2C%20%5B-75.5934%2C%206.23827%5D%2C%20%5B-75.59239%2C%206.2383%5D%2C%20%5B-75.5916%2C%206.23836%5D%2C%20%5B-75.59122%2C%206.23837%5D%2C%20%5B-75.59102%2C%206.23838%5D%2C%20%5B-75.59092%2C%206.23838%5D%2C%20%5B-75.59089%2C%206.23838%5D%2C%20%5B-75.59084%2C%206.23838%5D%2C%20%5B-75.59067%2C%206.23838%5D%2C%20%5B-75.59056%2C%206.23839%5D%2C%20%5B-75.59051%2C%206.23843%5D%2C%20%5B-75.59035%2C%206.2386%5D%2C%20%5B-75.5903%2C%206.23865%5D%2C%20%5B-75.59027%2C%206.23868%5D%2C%20%5B-75.59023%2C%206.23872%5D%2C%20%5B-75.59017%2C%206.23878%5D%2C%20%5B-75.59009%2C%206.23886%5D%2C%20%5B-75.59005%2C%206.2389%5D%2C%20%5B-75.58996%2C%206.23897%5D%2C%20%5B-75.5899%2C%206.23897%5D%2C%20%5B-75.58979%2C%206.23901%5D%2C%20%5B-75.58974%2C%206.23904%5D%2C%20%5B-75.5897%2C%206.23908%5D%2C%20%5B-75.58959%2C%206.23912%5D%2C%20%5B-75.58944%2C%206.23915%5D%2C%20%5B-75.58867%2C%206.23918%5D%2C%20%5B-75.58822%2C%206.23924%5D%2C%20%5B-75.5875%2C%206.23926%5D%2C%20%5B-75.58748%2C%206.23926%5D%2C%20%5B-75.58687%2C%206.23928%5D%2C%20%5B-75.58682%2C%206.23928%5D%2C%20%5B-75.58677%2C%206.23928%5D%2C%20%5B-75.5866%2C%206.23928%5D%2C%20%5B-75.58654%2C%206.23929%5D%2C%20%5B-75.58649%2C%206.23929%5D%2C%20%5B-75.5863%2C%206.23929%5D%2C%20%5B-75.58594%2C%206.23931%5D%2C%20%5B-75.58552%2C%206.23931%5D%2C%20%5B-75.58316%2C%206.23941%5D%2C%20%5B-75.58312%2C%206.23941%5D%2C%20%5B-75.583%2C%206.23942%5D%2C%20%5B-75.58278%2C%206.23942%5D%2C%20%5B-75.58256%2C%206.23943%5D%2C%20%5B-75.58241%2C%206.23944%5D%2C%20%5B-75.58237%2C%206.23944%5D%2C%20%5B-75.58152%2C%206.23946%5D%2C%20%5B-75.58123%2C%206.23947%5D%2C%20%5B-75.58062%2C%206.2395%5D%2C%20%5B-75.58056%2C%206.2395%5D%2C%20%5B-75.58005%2C%206.23952%5D%2C%20%5B-75.5794%2C%206.23954%5D%2C%20%5B-75.57907%2C%206.23955%5D%2C%20%5B-75.5781%2C%206.2396%5D%2C%20%5B-75.5767%2C%206.23962%5D%2C%20%5B-75.57659%2C%206.23963%5D%2C%20%5B-75.57647%2C%206.23961%5D%2C%20%5B-75.57634%2C%206.23958%5D%2C%20%5B-75.57619%2C%206.23949%5D%2C%20%5B-75.57603%2C%206.23939%5D%2C%20%5B-75.57597%2C%206.23928%5D%2C%20%5B-75.57591%2C%206.23915%5D%2C%20%5B-75.57587%2C%206.23908%5D%2C%20%5B-75.57583%2C%206.23903%5D%2C%20%5B-75.57579%2C%206.23899%5D%2C%20%5B-75.57566%2C%206.23891%5D%2C%20%5B-75.57558%2C%206.2389%5D%2C%20%5B-75.57547%2C%206.23893%5D%2C%20%5B-75.57536%2C%206.23897%5D%2C%20%5B-75.5753%2C%206.23901%5D%2C%20%5B-75.5752%2C%206.23912%5D%2C%20%5B-75.57516%2C%206.23919%5D%2C%20%5B-75.57515%2C%206.23923%5D%2C%20%5B-75.57514%2C%206.2393%5D%2C%20%5B-75.57515%2C%206.23938%5D%2C%20%5B-75.57517%2C%206.23944%5D%2C%20%5B-75.57519%2C%206.2395%5D%2C%20%5B-75.57521%2C%206.23956%5D%2C%20%5B-75.57524%2C%206.2396%5D%2C%20%5B-75.57525%2C%206.23973%5D%2C%20%5B-75.57524%2C%206.24017%5D%2C%20%5B-75.57524%2C%206.24018%5D%2C%20%5B-75.57523%2C%206.24037%5D%2C%20%5B-75.57521%2C%206.24073%5D%2C%20%5B-75.57517%2C%206.24188%5D%2C%20%5B-75.57518%2C%206.24239%5D%2C%20%5B-75.57518%2C%206.24256%5D%2C%20%5B-75.57519%2C%206.24267%5D%2C%20%5B-75.57522%2C%206.24303%5D%2C%20%5B-75.57521%2C%206.24314%5D%2C%20%5B-75.5752%2C%206.24335%5D%2C%20%5B-75.57518%2C%206.24405%5D%2C%20%5B-75.57525%2C%206.24463%5D%2C%20%5B-75.57513%2C%206.24835%5D%2C%20%5B-75.57503%2C%206.2491%5D%2C%20%5B-75.575%2C%206.24974%5D%2C%20%5B-75.57499%2C%206.2501%5D%2C%20%5B-75.57498%2C%206.25021%5D%2C%20%5B-75.57496%2C%206.25069%5D%2C%20%5B-75.57489%2C%206.25079%5D%2C%20%5B-75.57484%2C%206.25084%5D%2C%20%5B-75.57472%2C%206.25091%5D%2C%20%5B-75.57443%2C%206.25098%5D%2C%20%5B-75.57433%2C%206.25099%5D%2C%20%5B-75.57425%2C%206.25099%5D%2C%20%5B-75.57414%2C%206.25098%5D%2C%20%5B-75.57359%2C%206.25078%5D%2C%20%5B-75.57322%2C%206.25064%5D%2C%20%5B-75.57264%2C%206.25039%5D%2C%20%5B-75.57185%2C%206.25007%5D%2C%20%5B-75.57081%2C%206.24967%5D%2C%20%5B-75.56996%2C%206.24934%5D%2C%20%5B-75.56903%2C%206.24899%5D%2C%20%5B-75.56898%2C%206.24897%5D%2C%20%5B-75.56883%2C%206.24891%5D%2C%20%5B-75.56824%2C%206.24865%5D%2C%20%5B-75.568%2C%206.24924%5D%2C%20%5B-75.56798%2C%206.24938%5D%2C%20%5B-75.56797%2C%206.24945%5D%2C%20%5B-75.56797%2C%206.24953%5D%2C%20%5B-75.56794%2C%206.24969%5D%2C%20%5B-75.56778%2C%206.25004%5D%2C%20%5B-75.56759%2C%206.25031%5D%2C%20%5B-75.56737%2C%206.25087%5D%2C%20%5B-75.56735%2C%206.25092%5D%2C%20%5B-75.56743%2C%206.2511%5D%2C%20%5B-75.56748%2C%206.25123%5D%2C%20%5B-75.5675%2C%206.25147%5D%2C%20%5B-75.56742%2C%206.25197%5D%2C%20%5B-75.56742%2C%206.25201%5D%2C%20%5B-75.56743%2C%206.25205%5D%2C%20%5B-75.56749%2C%206.25219%5D%2C%20%5B-75.56756%2C%206.2523%5D%2C%20%5B-75.56761%2C%206.25237%5D%2C%20%5B-75.56765%2C%206.2524%5D%2C%20%5B-75.56782%2C%206.25253%5D%2C%20%5B-75.56789%2C%206.25256%5D%2C%20%5B-75.56796%2C%206.25259%5D%2C%20%5B-75.56837%2C%206.25266%5D%2C%20%5B-75.56851%2C%206.2527%5D%2C%20%5B-75.56854%2C%206.25271%5D%2C%20%5B-75.56932%2C%206.253%5D%2C%20%5B-75.56942%2C%206.25302%5D%2C%20%5B-75.56942%2C%206.25308%5D%2C%20%5B-75.56941%2C%206.25323%5D%2C%20%5B-75.56934%2C%206.25375%5D%2C%20%5B-75.56921%2C%206.25449%5D%2C%20%5B-75.56913%2C%206.25497%5D%2C%20%5B-75.56903%2C%206.25562%5D%2C%20%5B-75.56889%2C%206.25645%5D%2C%20%5B-75.56875%2C%206.25719%5D%2C%20%5B-75.56869%2C%206.25748%5D%2C%20%5B-75.56854%2C%206.25826%5D%2C%20%5B-75.56938%2C%206.25842%5D%2C%20%5B-75.57016%2C%206.25855%5D%2C%20%5B-75.57034%2C%206.25858%5D%2C%20%5B-75.57049%2C%206.2586%5D%2C%20%5B-75.57062%2C%206.25862%5D%2C%20%5B-75.57086%2C%206.25867%5D%2C%20%5B-75.57153%2C%206.2588%5D%2C%20%5B-75.57171%2C%206.25885%5D%2C%20%5B-75.5719%2C%206.2589%5D%2C%20%5B-75.57204%2C%206.25896%5D%2C%20%5B-75.57217%2C%206.25903%5D%2C%20%5B-75.57226%2C%206.25909%5D%2C%20%5B-75.57234%2C%206.25916%5D%2C%20%5B-75.57315%2C%206.26028%5D%2C%20%5B-75.57415%2C%206.26166%5D%2C%20%5B-75.57432%2C%206.2619%5D%2C%20%5B-75.57448%2C%206.2621%5D%2C%20%5B-75.57467%2C%206.26237%5D%2C%20%5B-75.57479%2C%206.26263%5D%2C%20%5B-75.57488%2C%206.26295%5D%2C%20%5B-75.57491%2C%206.26315%5D%2C%20%5B-75.57492%2C%206.26333%5D%2C%20%5B-75.57492%2C%206.26357%5D%2C%20%5B-75.57493%2C%206.26379%5D%2C%20%5B-75.57494%2C%206.26407%5D%2C%20%5B-75.57496%2C%206.26446%5D%2C%20%5B-75.57495%2C%206.2652%5D%2C%20%5B-75.57489%2C%206.2657%5D%2C%20%5B-75.57482%2C%206.26604%5D%2C%20%5B-75.57464%2C%206.26687%5D%2C%20%5B-75.57447%2C%206.2676%5D%2C%20%5B-75.57428%2C%206.26841%5D%2C%20%5B-75.57419%2C%206.26884%5D%2C%20%5B-75.57418%2C%206.26887%5D%2C%20%5B-75.57386%2C%206.27026%5D%2C%20%5B-75.57372%2C%206.27085%5D%2C%20%5B-75.57363%2C%206.27123%5D%2C%20%5B-75.57354%2C%206.27162%5D%2C%20%5B-75.57346%2C%206.27196%5D%2C%20%5B-75.57338%2C%206.27231%5D%2C%20%5B-75.57333%2C%206.27255%5D%2C%20%5B-75.57317%2C%206.27328%5D%2C%20%5B-75.57301%2C%206.274%5D%2C%20%5B-75.57293%2C%206.27435%5D%2C%20%5B-75.5728%2C%206.27491%5D%2C%20%5B-75.57227%2C%206.27728%5D%2C%20%5B-75.57216%2C%206.2779%5D%2C%20%5B-75.57203%2C%206.27882%5D%2C%20%5B-75.57194%2C%206.27951%5D%2C%20%5B-75.57179%2C%206.28068%5D%2C%20%5B-75.57176%2C%206.28102%5D%2C%20%5B-75.57173%2C%206.28116%5D%2C%20%5B-75.57161%2C%206.28171%5D%2C%20%5B-75.57133%2C%206.28268%5D%2C%20%5B-75.57096%2C%206.28377%5D%2C%20%5B-75.57095%2C%206.28382%5D%2C%20%5B-75.57083%2C%206.28424%5D%2C%20%5B-75.57058%2C%206.28505%5D%2C%20%5B-75.57038%2C%206.28563%5D%2C%20%5B-75.57016%2C%206.28629%5D%2C%20%5B-75.57011%2C%206.28643%5D%2C%20%5B-75.56999%2C%206.28683%5D%2C%20%5B-75.56995%2C%206.28697%5D%2C%20%5B-75.56993%2C%206.28701%5D%2C%20%5B-75.56991%2C%206.28708%5D%2C%20%5B-75.56979%2C%206.28742%5D%2C%20%5B-75.56973%2C%206.28761%5D%2C%20%5B-75.56959%2C%206.28805%5D%2C%20%5B-75.56941%2C%206.28863%5D%2C%20%5B-75.56912%2C%206.28951%5D%2C%20%5B-75.56875%2C%206.29068%5D%2C%20%5B-75.56828%2C%206.2921%5D%2C%20%5B-75.56818%2C%206.29243%5D%2C%20%5B-75.56805%2C%206.29284%5D%2C%20%5B-75.56785%2C%206.29345%5D%2C%20%5B-75.56758%2C%206.29428%5D%2C%20%5B-75.56738%2C%206.29493%5D%2C%20%5B-75.5672%2C%206.29553%5D%2C%20%5B-75.56711%2C%206.29583%5D%2C%20%5B-75.56682%2C%206.29679%5D%2C%20%5B-75.56671%2C%206.29713%5D%2C%20%5B-75.56667%2C%206.29727%5D%2C%20%5B-75.56657%2C%206.29758%5D%2C%20%5B-75.56655%2C%206.29765%5D%2C%20%5B-75.5664%2C%206.29806%5D%2C%20%5B-75.56635%2C%206.29817%5D%2C%20%5B-75.56625%2C%206.29841%5D%2C%20%5B-75.56601%2C%206.29883%5D%2C%20%5B-75.56584%2C%206.29905%5D%2C%20%5B-75.56579%2C%206.2991%5D%2C%20%5B-75.56556%2C%206.29936%5D%2C%20%5B-75.56481%2C%206.30014%5D%2C%20%5B-75.56478%2C%206.30018%5D%2C%20%5B-75.5645%2C%206.30045%5D%2C%20%5B-75.56427%2C%206.30069%5D%2C%20%5B-75.56406%2C%206.30094%5D%2C%20%5B-75.56386%2C%206.30133%5D%2C%20%5B-75.56366%2C%206.3017%5D%2C%20%5B-75.56351%2C%206.302%5D%2C%20%5B-75.56336%2C%206.30221%5D%2C%20%5B-75.56325%2C%206.30236%5D%2C%20%5B-75.56312%2C%206.30251%5D%2C%20%5B-75.56301%2C%206.30262%5D%2C%20%5B-75.56271%2C%206.30285%5D%2C%20%5B-75.56252%2C%206.30295%5D%2C%20%5B-75.56208%2C%206.30313%5D%2C%20%5B-75.56162%2C%206.30331%5D%2C%20%5B-75.56131%2C%206.30345%5D%2C%20%5B-75.5612%2C%206.30351%5D%2C%20%5B-75.5611%2C%206.30356%5D%2C%20%5B-75.56095%2C%206.30367%5D%2C%20%5B-75.56081%2C%206.30378%5D%2C%20%5B-75.56077%2C%206.30383%5D%2C%20%5B-75.56056%2C%206.30416%5D%2C%20%5B-75.56052%2C%206.30425%5D%2C%20%5B-75.56042%2C%206.30449%5D%2C%20%5B-75.56035%2C%206.30481%5D%2C%20%5B-75.56035%2C%206.30496%5D%2C%20%5B-75.56036%2C%206.30598%5D%2C%20%5B-75.56038%2C%206.30622%5D%2C%20%5B-75.56039%2C%206.30635%5D%2C%20%5B-75.56041%2C%206.30664%5D%2C%20%5B-75.5604%2C%206.30707%5D%2C%20%5B-75.56038%2C%206.30719%5D%2C%20%5B-75.56037%2C%206.30727%5D%2C%20%5B-75.56037%2C%206.30729%5D%2C%20%5B-75.56025%2C%206.30792%5D%2C%20%5B-75.56019%2C%206.30815%5D%2C%20%5B-75.56016%2C%206.30825%5D%2C%20%5B-75.56012%2C%206.3084%5D%2C%20%5B-75.5599%2C%206.30898%5D%2C%20%5B-75.55983%2C%206.30917%5D%2C%20%5B-75.55981%2C%206.30923%5D%2C%20%5B-75.55978%2C%206.30929%5D%2C%20%5B-75.55973%2C%206.30942%5D%2C%20%5B-75.55967%2C%206.30959%5D%2C%20%5B-75.55956%2C%206.30988%5D%2C%20%5B-75.55944%2C%206.31011%5D%2C%20%5B-75.55916%2C%206.31053%5D%2C%20%5B-75.55894%2C%206.3107%5D%2C%20%5B-75.55867%2C%206.31085%5D%2C%20%5B-75.55851%2C%206.3109%5D%2C%20%5B-75.55843%2C%206.31092%5D%2C%20%5B-75.55835%2C%206.31093%5D%2C%20%5B-75.55809%2C%206.31091%5D%2C%20%5B-75.55791%2C%206.31086%5D%2C%20%5B-75.55781%2C%206.31083%5D%2C%20%5B-75.55777%2C%206.31079%5D%2C%20%5B-75.55765%2C%206.31072%5D%2C%20%5B-75.55662%2C%206.30999%5D%2C%20%5B-75.55653%2C%206.30993%5D%2C%20%5B-75.55647%2C%206.30985%5D%2C%20%5B-75.55643%2C%206.30974%5D%2C%20%5B-75.55641%2C%206.30968%5D%2C%20%5B-75.55644%2C%206.30957%5D%2C%20%5B-75.55648%2C%206.30953%5D%2C%20%5B-75.55652%2C%206.30949%5D%2C%20%5B-75.55658%2C%206.30946%5D%2C%20%5B-75.55665%2C%206.30944%5D%2C%20%5B-75.55672%2C%206.30944%5D%2C%20%5B-75.5568%2C%206.30948%5D%2C%20%5B-75.55687%2C%206.30952%5D%2C%20%5B-75.55692%2C%206.30955%5D%2C%20%5B-75.55697%2C%206.30962%5D%2C%20%5B-75.55699%2C%206.30967%5D%2C%20%5B-75.557%2C%206.3098%5D%2C%20%5B-75.55694%2C%206.30996%5D%2C%20%5B-75.55687%2C%206.31009%5D%2C%20%5B-75.55681%2C%206.3102%5D%2C%20%5B-75.55676%2C%206.31029%5D%2C%20%5B-75.55671%2C%206.31035%5D%2C%20%5B-75.55631%2C%206.31087%5D%2C%20%5B-75.55603%2C%206.31117%5D%2C%20%5B-75.55579%2C%206.31151%5D%2C%20%5B-75.55547%2C%206.31196%5D%2C%20%5B-75.55521%2C%206.31239%5D%2C%20%5B-75.55508%2C%206.31254%5D%2C%20%5B-75.55496%2C%206.3126%5D%2C%20%5B-75.55475%2C%206.31262%5D%2C%20%5B-75.55441%2C%206.3125%5D%2C%20%5B-75.55428%2C%206.31246%5D%2C%20%5B-75.55426%2C%206.31245%5D%2C%20%5B-75.55418%2C%206.31241%5D%2C%20%5B-75.55404%2C%206.31235%5D%2C%20%5B-75.55402%2C%206.31234%5D%2C%20%5B-75.554%2C%206.31232%5D%2C%20%5B-75.55392%2C%206.31233%5D%2C%20%5B-75.55388%2C%206.3124%5D%2C%20%5B-75.55388%2C%206.31243%5D%2C%20%5B-75.55387%2C%206.31251%5D%2C%20%5B-75.55384%2C%206.31256%5D%2C%20%5B-75.55379%2C%206.31268%5D%2C%20%5B-75.55358%2C%206.31297%5D%2C%20%5B-75.55346%2C%206.31314%5D%2C%20%5B-75.55325%2C%206.31348%5D%2C%20%5B-75.55313%2C%206.31373%5D%2C%20%5B-75.55306%2C%206.31393%5D%2C%20%5B-75.55302%2C%206.31414%5D%2C%20%5B-75.55303%2C%206.31427%5D%2C%20%5B-75.55307%2C%206.3144%5D%2C%20%5B-75.55312%2C%206.31451%5D%2C%20%5B-75.55321%2C%206.31463%5D%2C%20%5B-75.55327%2C%206.31471%5D%2C%20%5B-75.55328%2C%206.31472%5D%2C%20%5B-75.55337%2C%206.31484%5D%2C%20%5B-75.55343%2C%206.31496%5D%2C%20%5B-75.55346%2C%206.31506%5D%2C%20%5B-75.55346%2C%206.31526%5D%2C%20%5B-75.55344%2C%206.31554%5D%2C%20%5B-75.55343%2C%206.31564%5D%2C%20%5B-75.55346%2C%206.31605%5D%2C%20%5B-75.55356%2C%206.31658%5D%2C%20%5B-75.55362%2C%206.317%5D%2C%20%5B-75.55363%2C%206.31714%5D%2C%20%5B-75.55363%2C%206.31723%5D%2C%20%5B-75.55362%2C%206.3173%5D%2C%20%5B-75.55362%2C%206.3174%5D%2C%20%5B-75.55355%2C%206.31794%5D%2C%20%5B-75.55351%2C%206.31836%5D%2C%20%5B-75.55346%2C%206.31871%5D%2C%20%5B-75.5534%2C%206.31887%5D%2C%20%5B-75.55333%2C%206.31897%5D%2C%20%5B-75.55319%2C%206.31916%5D%2C%20%5B-75.55288%2C%206.31958%5D%2C%20%5B-75.55277%2C%206.31976%5D%2C%20%5B-75.55254%2C%206.32004%5D%2C%20%5B-75.55221%2C%206.32047%5D%2C%20%5B-75.55196%2C%206.32081%5D%2C%20%5B-75.55177%2C%206.32103%5D%2C%20%5B-75.55154%2C%206.32124%5D%2C%20%5B-75.5514%2C%206.32129%5D%2C%20%5B-75.55129%2C%206.32132%5D%2C%20%5B-75.55104%2C%206.32143%5D%2C%20%5B-75.55088%2C%206.32162%5D%2C%20%5B-75.55045%2C%206.32211%5D%2C%20%5B-75.5501%2C%206.3223%5D%2C%20%5B-75.55005%2C%206.32233%5D%2C%20%5B-75.54977%2C%206.32247%5D%2C%20%5B-75.54936%2C%206.3227%5D%2C%20%5B-75.54916%2C%206.32298%5D%2C%20%5B-75.54907%2C%206.32323%5D%2C%20%5B-75.54899%2C%206.32347%5D%2C%20%5B-75.54892%2C%206.32368%5D%2C%20%5B-75.54884%2C%206.32372%5D%2C%20%5B-75.54864%2C%206.32384%5D%2C%20%5B-75.54845%2C%206.32403%5D%2C%20%5B-75.54828%2C%206.32418%5D%2C%20%5B-75.54774%2C%206.32487%5D%2C%20%5B-75.54766%2C%206.32498%5D%2C%20%5B-75.54693%2C%206.32559%5D%2C%20%5B-75.54662%2C%206.32584%5D%2C%20%5B-75.54637%2C%206.3262%5D%2C%20%5B-75.54629%2C%206.32684%5D%2C%20%5B-75.54618%2C%206.32697%5D%2C%20%5B-75.54573%2C%206.32713%5D%2C%20%5B-75.54564%2C%206.32727%5D%2C%20%5B-75.54562%2C%206.32755%5D%2C%20%5B-75.54561%2C%206.32802%5D%2C%20%5B-75.54563%2C%206.32821%5D%2C%20%5B-75.54577%2C%206.32873%5D%2C%20%5B-75.5457%2C%206.32888%5D%2C%20%5B-75.54553%2C%206.32897%5D%2C%20%5B-75.54514%2C%206.32898%5D%2C%20%5B-75.54504%2C%206.32905%5D%2C%20%5B-75.54494%2C%206.32925%5D%2C%20%5B-75.54481%2C%206.32949%5D%2C%20%5B-75.54479%2C%206.32953%5D%2C%20%5B-75.54468%2C%206.3298%5D%2C%20%5B-75.54452%2C%206.33065%5D%2C%20%5B-75.54448%2C%206.33076%5D%2C%20%5B-75.54446%2C%206.33082%5D%2C%20%5B-75.54436%2C%206.33096%5D%2C%20%5B-75.54427%2C%206.33103%5D%2C%20%5B-75.54408%2C%206.33113%5D%2C%20%5B-75.54389%2C%206.33124%5D%2C%20%5B-75.54366%2C%206.33123%5D%2C%20%5B-75.54342%2C%206.33119%5D%2C%20%5B-75.54305%2C%206.33114%5D%2C%20%5B-75.54271%2C%206.33109%5D%2C%20%5B-75.54242%2C%206.33105%5D%2C%20%5B-75.54226%2C%206.33097%5D%2C%20%5B-75.54213%2C%206.33086%5D%2C%20%5B-75.54193%2C%206.33069%5D%2C%20%5B-75.54168%2C%206.3306%5D%2C%20%5B-75.54129%2C%206.33065%5D%2C%20%5B-75.54107%2C%206.33066%5D%2C%20%5B-75.54098%2C%206.3307%5D%2C%20%5B-75.54072%2C%206.33084%5D%2C%20%5B-75.54047%2C%206.3311%5D%2C%20%5B-75.54019%2C%206.33128%5D%2C%20%5B-75.54002%2C%206.33139%5D%2C%20%5B-75.53973%2C%206.33154%5D%2C%20%5B-75.53951%2C%206.33168%5D%2C%20%5B-75.53929%2C%206.33185%5D%2C%20%5B-75.53891%2C%206.3322%5D%2C%20%5B-75.53859%2C%206.33256%5D%2C%20%5B-75.53853%2C%206.33262%5D%2C%20%5B-75.53823%2C%206.33288%5D%2C%20%5B-75.53817%2C%206.33294%5D%2C%20%5B-75.53806%2C%206.33307%5D%2C%20%5B-75.53785%2C%206.33329%5D%2C%20%5B-75.53779%2C%206.33338%5D%2C%20%5B-75.53753%2C%206.3338%5D%2C%20%5B-75.53737%2C%206.33398%5D%2C%20%5B-75.53725%2C%206.33404%5D%2C%20%5B-75.53714%2C%206.33408%5D%2C%20%5B-75.53703%2C%206.3341%5D%2C%20%5B-75.53673%2C%206.33411%5D%2C%20%5B-75.53634%2C%206.33412%5D%2C%20%5B-75.53607%2C%206.33414%5D%2C%20%5B-75.53542%2C%206.3342%5D%2C%20%5B-75.53533%2C%206.33417%5D%2C%20%5B-75.53526%2C%206.33412%5D%2C%20%5B-75.53522%2C%206.33409%5D%2C%20%5B-75.53504%2C%206.33397%5D%2C%20%5B-75.53489%2C%206.33381%5D%2C%20%5B-75.53473%2C%206.33364%5D%2C%20%5B-75.53462%2C%206.33359%5D%2C%20%5B-75.53441%2C%206.33358%5D%2C%20%5B-75.53418%2C%206.33362%5D%2C%20%5B-75.53403%2C%206.33368%5D%2C%20%5B-75.53395%2C%206.33373%5D%2C%20%5B-75.53381%2C%206.33383%5D%2C%20%5B-75.53367%2C%206.33401%5D%2C%20%5B-75.53361%2C%206.33406%5D%2C%20%5B-75.53338%2C%206.33428%5D%2C%20%5B-75.5333%2C%206.33431%5D%2C%20%5B-75.53323%2C%206.33433%5D%2C%20%5B-75.53275%2C%206.33435%5D%2C%20%5B-75.53264%2C%206.33437%5D%2C%20%5B-75.5325%2C%206.33449%5D%2C%20%5B-75.53239%2C%206.33464%5D%2C%20%5B-75.53231%2C%206.33485%5D%2C%20%5B-75.53223%2C%206.33512%5D%2C%20%5B-75.53183%2C%206.33636%5D%2C%20%5B-75.53176%2C%206.33648%5D%2C%20%5B-75.53162%2C%206.33664%5D%2C%20%5B-75.53148%2C%206.33676%5D%2C%20%5B-75.53135%2C%206.33682%5D%2C%20%5B-75.53096%2C%206.3369%5D%2C%20%5B-75.53068%2C%206.3369%5D%2C%20%5B-75.53046%2C%206.33693%5D%2C%20%5B-75.53039%2C%206.33694%5D%2C%20%5B-75.53012%2C%206.33698%5D%2C%20%5B-75.52988%2C%206.33696%5D%2C%20%5B-75.52947%2C%206.3368%5D%2C%20%5B-75.52932%2C%206.33679%5D%2C%20%5B-75.52923%2C%206.3368%5D%2C%20%5B-75.52916%2C%206.33682%5D%2C%20%5B-75.52854%2C%206.33701%5D%2C%20%5B-75.52813%2C%206.3372%5D%2C%20%5B-75.52807%2C%206.33721%5D%2C%20%5B-75.52794%2C%206.33719%5D%2C%20%5B-75.5277%2C%206.33711%5D%2C%20%5B-75.52761%2C%206.33708%5D%2C%20%5B-75.52744%2C%206.33707%5D%2C%20%5B-75.52701%2C%206.33708%5D%2C%20%5B-75.52653%2C%206.33711%5D%2C%20%5B-75.52618%2C%206.33714%5D%2C%20%5B-75.52608%2C%206.33715%5D%2C%20%5B-75.5259%2C%206.3372%5D%2C%20%5B-75.52435%2C%206.33759%5D%2C%20%5B-75.524%2C%206.33769%5D%2C%20%5B-75.52381%2C%206.33781%5D%2C%20%5B-75.52331%2C%206.33826%5D%2C%20%5B-75.52306%2C%206.33844%5D%2C%20%5B-75.52272%2C%206.3386%5D%2C%20%5B-75.5225%2C%206.33867%5D%2C%20%5B-75.52219%2C%206.33874%5D%2C%20%5B-75.52189%2C%206.33879%5D%2C%20%5B-75.52169%2C%206.33882%5D%2C%20%5B-75.52155%2C%206.33885%5D%2C%20%5B-75.52139%2C%206.33891%5D%2C%20%5B-75.52124%2C%206.33897%5D%2C%20%5B-75.52106%2C%206.33904%5D%2C%20%5B-75.52083%2C%206.33914%5D%2C%20%5B-75.52026%2C%206.33941%5D%2C%20%5B-75.52014%2C%206.33948%5D%2C%20%5B-75.52006%2C%206.3396%5D%2C%20%5B-75.51991%2C%206.34001%5D%2C%20%5B-75.51976%2C%206.34026%5D%2C%20%5B-75.51962%2C%206.34043%5D%2C%20%5B-75.51956%2C%206.34053%5D%2C%20%5B-75.51952%2C%206.34064%5D%2C%20%5B-75.51952%2C%206.34075%5D%2C%20%5B-75.51953%2C%206.34097%5D%2C%20%5B-75.51953%2C%206.34119%5D%2C%20%5B-75.51951%2C%206.34138%5D%2C%20%5B-75.51948%2C%206.34153%5D%2C%20%5B-75.51941%2C%206.34186%5D%2C%20%5B-75.51932%2C%206.34204%5D%2C%20%5B-75.51922%2C%206.34221%5D%2C%20%5B-75.51914%2C%206.34231%5D%2C%20%5B-75.51903%2C%206.34238%5D%2C%20%5B-75.51877%2C%206.34246%5D%2C%20%5B-75.51863%2C%206.34252%5D%2C%20%5B-75.51842%2C%206.34265%5D%2C%20%5B-75.51819%2C%206.34284%5D%2C%20%5B-75.51798%2C%206.34301%5D%2C%20%5B-75.51782%2C%206.34312%5D%2C%20%5B-75.51754%2C%206.34328%5D%2C%20%5B-75.51738%2C%206.34338%5D%2C%20%5B-75.51726%2C%206.34347%5D%2C%20%5B-75.51715%2C%206.34358%5D%2C%20%5B-75.51703%2C%206.3437%5D%2C%20%5B-75.51672%2C%206.34398%5D%2C%20%5B-75.51661%2C%206.34406%5D%2C%20%5B-75.51647%2C%206.34412%5D%2C%20%5B-75.51634%2C%206.34415%5D%2C%20%5B-75.51571%2C%206.34422%5D%2C%20%5B-75.51549%2C%206.34424%5D%2C%20%5B-75.51523%2C%206.34427%5D%2C%20%5B-75.51503%2C%206.34431%5D%2C%20%5B-75.51452%2C%206.34448%5D%2C%20%5B-75.51373%2C%206.34475%5D%2C%20%5B-75.51292%2C%206.34503%5D%2C%20%5B-75.51219%2C%206.34529%5D%2C%20%5B-75.51212%2C%206.34532%5D%2C%20%5B-75.51164%2C%206.34547%5D%2C%20%5B-75.51142%2C%206.34554%5D%2C%20%5B-75.51136%2C%206.34557%5D%2C%20%5B-75.51088%2C%206.34568%5D%2C%20%5B-75.51081%2C%206.34569%5D%2C%20%5B-75.51069%2C%206.34571%5D%2C%20%5B-75.51055%2C%206.34574%5D%2C%20%5B-75.50964%2C%206.34596%5D%2C%20%5B-75.50965%2C%206.34601%5D%2C%20%5B-75.50984%2C%206.34659%5D%2C%20%5B-75.50989%2C%206.3468%5D%2C%20%5B-75.50986%2C%206.34682%5D%2C%20%5B-75.50945%2C%206.34705%5D%2C%20%5B-75.50901%2C%206.34737%5D%2C%20%5B-75.5087%2C%206.34763%5D%2C%20%5B-75.50859%2C%206.34771%5D%2C%20%5B-75.50832%2C%206.34793%5D%2C%20%5B-75.50818%2C%206.34807%5D%2C%20%5B-75.50792%2C%206.3483%5D%2C%20%5B-75.50758%2C%206.34857%5D%2C%20%5B-75.50737%2C%206.34873%5D%2C%20%5B-75.50698%2C%206.34887%5D%2C%20%5B-75.50628%2C%206.34915%5D%2C%20%5B-75.5057%2C%206.34935%5D%2C%20%5B-75.50555%2C%206.34884%5D%2C%20%5B-75.50527%2C%206.34794%5D%2C%20%5B-75.50519%2C%206.34805%5D%2C%20%5B-75.50511%2C%206.3481%5D%2C%20%5B-75.50503%2C%206.34813%5D%2C%20%5B-75.50495%2C%206.34813%5D%2C%20%5B-75.50479%2C%206.34807%5D%2C%20%5B-75.50467%2C%206.34804%5D%2C%20%5B-75.50453%2C%206.34805%5D%2C%20%5B-75.5043%2C%206.34811%5D%2C%20%5B-75.5042%2C%206.34816%5D%2C%20%5B-75.50412%2C%206.34818%5D%2C%20%5B-75.50402%2C%206.34819%5D%2C%20%5B-75.50383%2C%206.3482%5D%2C%20%5B-75.50374%2C%206.34821%5D%2C%20%5B-75.50361%2C%206.34826%5D%2C%20%5B-75.50327%2C%206.34846%5D%2C%20%5B-75.50276%2C%206.34881%5D%2C%20%5B-75.50266%2C%206.3489%5D%2C%20%5B-75.50244%2C%206.34925%5D%2C%20%5B-75.50229%2C%206.3494%5D%2C%20%5B-75.50208%2C%206.34949%5D%2C%20%5B-75.50199%2C%206.34954%5D%2C%20%5B-75.50191%2C%206.3496%5D%2C%20%5B-75.50184%2C%206.34969%5D%2C%20%5B-75.50177%2C%206.34979%5D%2C%20%5B-75.50171%2C%206.34996%5D%2C%20%5B-75.50162%2C%206.35031%5D%2C%20%5B-75.50157%2C%206.35041%5D%2C%20%5B-75.50151%2C%206.35053%5D%2C%20%5B-75.50136%2C%206.35071%5D%2C%20%5B-75.50124%2C%206.35081%5D%2C%20%5B-75.50109%2C%206.35095%5D%2C%20%5B-75.50106%2C%206.35102%5D%2C%20%5B-75.50106%2C%206.35119%5D%2C%20%5B-75.50103%2C%206.35142%5D%2C%20%5B-75.50098%2C%206.35164%5D%2C%20%5B-75.50086%2C%206.3519%5D%2C%20%5B-75.50075%2C%206.35209%5D%2C%20%5B-75.50054%2C%206.3525%5D%2C%20%5B-75.50032%2C%206.35294%5D%2C%20%5B-75.50023%2C%206.3531%5D%2C%20%5B-75.50004%2C%206.35346%5D%2C%20%5B-75.49995%2C%206.35361%5D%2C%20%5B-75.49954%2C%206.35404%5D%2C%20%5B-75.49938%2C%206.35418%5D%2C%20%5B-75.49927%2C%206.35424%5D%2C%20%5B-75.49909%2C%206.3543%5D%2C%20%5B-75.49897%2C%206.35431%5D%2C%20%5B-75.49877%2C%206.35431%5D%2C%20%5B-75.49859%2C%206.35427%5D%2C%20%5B-75.49821%2C%206.35419%5D%2C%20%5B-75.49811%2C%206.35419%5D%2C%20%5B-75.49775%2C%206.35426%5D%2C%20%5B-75.49765%2C%206.35431%5D%2C%20%5B-75.49761%2C%206.35433%5D%2C%20%5B-75.49754%2C%206.35438%5D%2C%20%5B-75.49739%2C%206.35457%5D%2C%20%5B-75.4973%2C%206.35469%5D%2C%20%5B-75.49706%2C%206.35499%5D%2C%20%5B-75.49702%2C%206.35504%5D%2C%20%5B-75.497%2C%206.35509%5D%2C%20%5B-75.49698%2C%206.35524%5D%2C%20%5B-75.49697%2C%206.35559%5D%2C%20%5B-75.49695%2C%206.35572%5D%2C%20%5B-75.49691%2C%206.3558%5D%2C%20%5B-75.49679%2C%206.35593%5D%2C%20%5B-75.49658%2C%206.35614%5D%2C%20%5B-75.49649%2C%206.35624%5D%2C%20%5B-75.49643%2C%206.35632%5D%2C%20%5B-75.4964%2C%206.3564%5D%2C%20%5B-75.49633%2C%206.35655%5D%2C%20%5B-75.49619%2C%206.35684%5D%2C%20%5B-75.49605%2C%206.35707%5D%2C%20%5B-75.49568%2C%206.35752%5D%2C%20%5B-75.49562%2C%206.35764%5D%2C%20%5B-75.49551%2C%206.35797%5D%2C%20%5B-75.49537%2C%206.35825%5D%2C%20%5B-75.49532%2C%206.35857%5D%2C%20%5B-75.49525%2C%206.35869%5D%2C%20%5B-75.49509%2C%206.35885%5D%2C%20%5B-75.49497%2C%206.35894%5D%2C%20%5B-75.4949%2C%206.35898%5D%2C%20%5B-75.49473%2C%206.35908%5D%2C%20%5B-75.49444%2C%206.35927%5D%2C%20%5B-75.49433%2C%206.35931%5D%2C%20%5B-75.49385%2C%206.35937%5D%2C%20%5B-75.49372%2C%206.35937%5D%2C%20%5B-75.49328%2C%206.35925%5D%2C%20%5B-75.49321%2C%206.35924%5D%2C%20%5B-75.49313%2C%206.35926%5D%2C%20%5B-75.49282%2C%206.35946%5D%2C%20%5B-75.49231%2C%206.35967%5D%2C%20%5B-75.49196%2C%206.35984%5D%2C%20%5B-75.4918%2C%206.35999%5D%2C%20%5B-75.49171%2C%206.3601%5D%2C%20%5B-75.49144%2C%206.36072%5D%2C%20%5B-75.4914%2C%206.36082%5D%2C%20%5B-75.4913%2C%206.36111%5D%2C%20%5B-75.49114%2C%206.36142%5D%2C%20%5B-75.49105%2C%206.36159%5D%2C%20%5B-75.49099%2C%206.36173%5D%2C%20%5B-75.49092%2C%206.36204%5D%2C%20%5B-75.49089%2C%206.36216%5D%2C%20%5B-75.49089%2C%206.36227%5D%2C%20%5B-75.49092%2C%206.36241%5D%2C%20%5B-75.49102%2C%206.36264%5D%2C%20%5B-75.49121%2C%206.36309%5D%2C%20%5B-75.49135%2C%206.36354%5D%2C%20%5B-75.49136%2C%206.36404%5D%2C%20%5B-75.49142%2C%206.36446%5D%2C%20%5B-75.4914%2C%206.36457%5D%2C%20%5B-75.49134%2C%206.36471%5D%2C%20%5B-75.49129%2C%206.36476%5D%2C%20%5B-75.49097%2C%206.36504%5D%2C%20%5B-75.49064%2C%206.36542%5D%2C%20%5B-75.49028%2C%206.3657%5D%2C%20%5B-75.49022%2C%206.36579%5D%2C%20%5B-75.48987%2C%206.3665%5D%2C%20%5B-75.48978%2C%206.36671%5D%2C%20%5B-75.48973%2C%206.36683%5D%2C%20%5B-75.48959%2C%206.36707%5D%2C%20%5B-75.4895%2C%206.36719%5D%2C%20%5B-75.48935%2C%206.36747%5D%2C%20%5B-75.48932%2C%206.36761%5D%2C%20%5B-75.48932%2C%206.36769%5D%2C%20%5B-75.48938%2C%206.36803%5D%2C%20%5B-75.48945%2C%206.36827%5D%2C%20%5B-75.48947%2C%206.36841%5D%2C%20%5B-75.48946%2C%206.36856%5D%2C%20%5B-75.48942%2C%206.36888%5D%2C%20%5B-75.48946%2C%206.36931%5D%2C%20%5B-75.48937%2C%206.36972%5D%2C%20%5B-75.48936%2C%206.36976%5D%2C%20%5B-75.4893%2C%206.36996%5D%2C%20%5B-75.4891%2C%206.37057%5D%2C%20%5B-75.48902%2C%206.37121%5D%2C%20%5B-75.4891%2C%206.37122%5D%2C%20%5B-75.48938%2C%206.37101%5D%2C%20%5B-75.48971%2C%206.37083%5D%2C%20%5B-75.48971%2C%206.37116%5D%2C%20%5B-75.48966%2C%206.3714%5D%2C%20%5B-75.48955%2C%206.37165%5D%2C%20%5B-75.48939%2C%206.37185%5D%2C%20%5B-75.48822%2C%206.3731%5D%2C%20%5B-75.48796%2C%206.3733%5D%2C%20%5B-75.48726%2C%206.37365%5D%2C%20%5B-75.48654%2C%206.374%5D%2C%20%5B-75.486%2C%206.37438%5D%2C%20%5B-75.48487%2C%206.37538%5D%2C%20%5B-75.4847%2C%206.37554%5D%2C%20%5B-75.48446%2C%206.37581%5D%2C%20%5B-75.48429%2C%206.37609%5D%2C%20%5B-75.4842%2C%206.37622%5D%2C%20%5B-75.48398%2C%206.3766%5D%2C%20%5B-75.48351%2C%206.37737%5D%2C%20%5B-75.4829%2C%206.37841%5D%2C%20%5B-75.4827%2C%206.37866%5D%2C%20%5B-75.48242%2C%206.37895%5D%2C%20%5B-75.48211%2C%206.37926%5D%2C%20%5B-75.48159%2C%206.37964%5D%2C%20%5B-75.48128%2C%206.37981%5D%2C%20%5B-75.48113%2C%206.37988%5D%2C%20%5B-75.48073%2C%206.38004%5D%2C%20%5B-75.48043%2C%206.38013%5D%2C%20%5B-75.47987%2C%206.3803%5D%2C%20%5B-75.47876%2C%206.38062%5D%2C%20%5B-75.47842%2C%206.38071%5D%2C%20%5B-75.47617%2C%206.38135%5D%2C%20%5B-75.47319%2C%206.38224%5D%2C%20%5B-75.47237%2C%206.38247%5D%2C%20%5B-75.47197%2C%206.38257%5D%2C%20%5B-75.47137%2C%206.38271%5D%2C%20%5B-75.47115%2C%206.38274%5D%2C%20%5B-75.4706%2C%206.38282%5D%2C%20%5B-75.47023%2C%206.38286%5D%2C%20%5B-75.46978%2C%206.38292%5D%2C%20%5B-75.46905%2C%206.38301%5D%2C%20%5B-75.46817%2C%206.38311%5D%2C%20%5B-75.46804%2C%206.38313%5D%2C%20%5B-75.46743%2C%206.3832%5D%2C%20%5B-75.46679%2C%206.38328%5D%2C%20%5B-75.46626%2C%206.38341%5D%2C%20%5B-75.46436%2C%206.38389%5D%2C%20%5B-75.46389%2C%206.38398%5D%2C%20%5B-75.46306%2C%206.38404%5D%2C%20%5B-75.46184%2C%206.38405%5D%2C%20%5B-75.46144%2C%206.38405%5D%2C%20%5B-75.46036%2C%206.38406%5D%2C%20%5B-75.45908%2C%206.38406%5D%2C%20%5B-75.45857%2C%206.38406%5D%2C%20%5B-75.45786%2C%206.38407%5D%2C%20%5B-75.45713%2C%206.38409%5D%2C%20%5B-75.45695%2C%206.38412%5D%2C%20%5B-75.4567%2C%206.38419%5D%2C%20%5B-75.45651%2C%206.38429%5D%2C%20%5B-75.45582%2C%206.38472%5D%2C%20%5B-75.45558%2C%206.38486%5D%2C%20%5B-75.45535%2C%206.38495%5D%2C%20%5B-75.45522%2C%206.38498%5D%2C%20%5B-75.45498%2C%206.38502%5D%2C%20%5B-75.45485%2C%206.38504%5D%2C%20%5B-75.4547%2C%206.38508%5D%2C%20%5B-75.45452%2C%206.38515%5D%2C%20%5B-75.45435%2C%206.38524%5D%2C%20%5B-75.45418%2C%206.38535%5D%2C%20%5B-75.45392%2C%206.38555%5D%2C%20%5B-75.45286%2C%206.38636%5D%2C%20%5B-75.45228%2C%206.38671%5D%2C%20%5B-75.44997%2C%206.38764%5D%2C%20%5B-75.44961%2C%206.38781%5D%2C%20%5B-75.44956%2C%206.38784%5D%2C%20%5B-75.44927%2C%206.38803%5D%2C%20%5B-75.44869%2C%206.38846%5D%2C%20%5B-75.44721%2C%206.38953%5D%2C%20%5B-75.44713%2C%206.3896%5D%2C%20%5B-75.44672%2C%206.38992%5D%2C%20%5B-75.44631%2C%206.3903%5D%2C%20%5B-75.44408%2C%206.39255%5D%2C%20%5B-75.44391%2C%206.3927%5D%2C%20%5B-75.44374%2C%206.39283%5D%2C%20%5B-75.44357%2C%206.39294%5D%2C%20%5B-75.44337%2C%206.39305%5D%2C%20%5B-75.44074%2C%206.3943%5D%2C%20%5B-75.43989%2C%206.39477%5D%2C%20%5B-75.4386%2C%206.39555%5D%2C%20%5B-75.43804%2C%206.39587%5D%2C%20%5B-75.43803%2C%206.39588%5D%2C%20%5B-75.43736%2C%206.39628%5D%2C%20%5B-75.43667%2C%206.3967%5D%2C%20%5B-75.4364%2C%206.39686%5D%2C%20%5B-75.43614%2C%206.39702%5D%2C%20%5B-75.43592%2C%206.39715%5D%2C%20%5B-75.43544%2C%206.3974%5D%2C%20%5B-75.43485%2C%206.39776%5D%2C%20%5B-75.43453%2C%206.39798%5D%2C%20%5B-75.43439%2C%206.39811%5D%2C%20%5B-75.43396%2C%206.39853%5D%2C%20%5B-75.43352%2C%206.39904%5D%2C%20%5B-75.43312%2C%206.39945%5D%2C%20%5B-75.43293%2C%206.39962%5D%2C%20%5B-75.43214%2C%206.40019%5D%2C%20%5B-75.43165%2C%206.40056%5D%2C%20%5B-75.43112%2C%206.40103%5D%2C%20%5B-75.43033%2C%206.40181%5D%2C%20%5B-75.42984%2C%206.40225%5D%2C%20%5B-75.42924%2C%206.40288%5D%2C%20%5B-75.4286%2C%206.4035%5D%2C%20%5B-75.42802%2C%206.40403%5D%2C%20%5B-75.42733%2C%206.40473%5D%2C%20%5B-75.42591%2C%206.40622%5D%2C%20%5B-75.42533%2C%206.40679%5D%2C%20%5B-75.42508%2C%206.40703%5D%2C%20%5B-75.42438%2C%206.40769%5D%2C%20%5B-75.42403%2C%206.40804%5D%2C%20%5B-75.42351%2C%206.40852%5D%2C%20%5B-75.4232%2C%206.40874%5D%2C%20%5B-75.423%2C%206.40885%5D%2C%20%5B-75.42284%2C%206.40894%5D%2C%20%5B-75.42267%2C%206.40902%5D%2C%20%5B-75.42248%2C%206.40908%5D%2C%20%5B-75.42215%2C%206.40919%5D%2C%20%5B-75.42191%2C%206.40927%5D%2C%20%5B-75.41535%2C%206.41145%5D%2C%20%5B-75.41502%2C%206.41153%5D%2C%20%5B-75.41398%2C%206.41161%5D%2C%20%5B-75.4139%2C%206.41162%5D%2C%20%5B-75.41376%2C%206.41164%5D%2C%20%5B-75.4135%2C%206.41169%5D%2C%20%5B-75.41332%2C%206.41176%5D%2C%20%5B-75.41319%2C%206.41182%5D%2C%20%5B-75.41311%2C%206.41185%5D%2C%20%5B-75.41203%2C%206.41242%5D%2C%20%5B-75.41161%2C%206.41255%5D%2C%20%5B-75.40881%2C%206.41311%5D%2C%20%5B-75.40847%2C%206.41318%5D%2C%20%5B-75.40791%2C%206.41331%5D%2C%20%5B-75.40758%2C%206.41341%5D%2C%20%5B-75.40735%2C%206.41351%5D%2C%20%5B-75.40179%2C%206.41631%5D%2C%20%5B-75.40158%2C%206.4164%5D%2C%20%5B-75.40136%2C%206.41647%5D%2C%20%5B-75.40115%2C%206.41652%5D%2C%20%5B-75.40092%2C%206.41655%5D%2C%20%5B-75.40067%2C%206.41655%5D%2C%20%5B-75.40044%2C%206.41652%5D%2C%20%5B-75.3997%2C%206.41639%5D%2C%20%5B-75.39956%2C%206.41634%5D%2C%20%5B-75.39898%2C%206.4161%5D%2C%20%5B-75.39866%2C%206.41601%5D%2C%20%5B-75.39845%2C%206.41599%5D%2C%20%5B-75.39825%2C%206.41598%5D%2C%20%5B-75.39738%2C%206.41608%5D%2C%20%5B-75.39733%2C%206.41609%5D%2C%20%5B-75.39696%2C%206.41615%5D%2C%20%5B-75.39658%2C%206.41619%5D%2C%20%5B-75.39581%2C%206.41622%5D%2C%20%5B-75.39407%2C%206.41626%5D%2C%20%5B-75.3937%2C%206.41628%5D%2C%20%5B-75.39255%2C%206.41633%5D%2C%20%5B-75.39229%2C%206.41632%5D%2C%20%5B-75.39202%2C%206.4163%5D%2C%20%5B-75.3918%2C%206.41626%5D%2C%20%5B-75.39083%2C%206.41603%5D%2C%20%5B-75.39063%2C%206.416%5D%2C%20%5B-75.39042%2C%206.416%5D%2C%20%5B-75.3902%2C%206.41601%5D%2C%20%5B-75.39001%2C%206.41604%5D%2C%20%5B-75.38982%2C%206.41609%5D%2C%20%5B-75.38947%2C%206.41621%5D%2C%20%5B-75.38865%2C%206.41655%5D%2C%20%5B-75.38528%2C%206.41797%5D%2C%20%5B-75.38482%2C%206.41815%5D%2C%20%5B-75.38457%2C%206.4182%5D%2C%20%5B-75.38434%2C%206.41822%5D%2C%20%5B-75.38415%2C%206.41821%5D%2C%20%5B-75.38396%2C%206.41817%5D%2C%20%5B-75.38261%2C%206.41765%5D%2C%20%5B-75.38232%2C%206.41761%5D%2C%20%5B-75.38204%2C%206.41761%5D%2C%20%5B-75.38181%2C%206.41765%5D%2C%20%5B-75.38164%2C%206.41771%5D%2C%20%5B-75.38102%2C%206.41798%5D%2C%20%5B-75.38081%2C%206.41804%5D%2C%20%5B-75.3806%2C%206.41807%5D%2C%20%5B-75.38037%2C%206.41808%5D%2C%20%5B-75.38013%2C%206.41804%5D%2C%20%5B-75.37885%2C%206.41761%5D%2C%20%5B-75.37816%2C%206.4174%5D%2C%20%5B-75.37787%2C%206.41737%5D%2C%20%5B-75.37777%2C%206.41736%5D%2C%20%5B-75.37748%2C%206.41737%5D%2C%20%5B-75.37724%2C%206.41741%5D%2C%20%5B-75.37712%2C%206.41744%5D%2C%20%5B-75.37603%2C%206.41779%5D%2C%20%5B-75.37573%2C%206.41783%5D%2C%20%5B-75.37488%2C%206.41786%5D%2C%20%5B-75.37448%2C%206.4179%5D%2C%20%5B-75.37425%2C%206.41795%5D%2C%20%5B-75.37321%2C%206.41825%5D%2C%20%5B-75.37303%2C%206.41826%5D%2C%20%5B-75.37279%2C%206.41825%5D%2C%20%5B-75.37213%2C%206.41818%5D%2C%20%5B-75.37196%2C%206.41819%5D%2C%20%5B-75.37176%2C%206.41822%5D%2C%20%5B-75.37151%2C%206.41831%5D%2C%20%5B-75.37116%2C%206.4185%5D%2C%20%5B-75.37051%2C%206.41899%5D%2C%20%5B-75.37%2C%206.4195%5D%2C%20%5B-75.36981%2C%206.41967%5D%2C%20%5B-75.36961%2C%206.41978%5D%2C%20%5B-75.36915%2C%206.41998%5D%2C%20%5B-75.36885%2C%206.42012%5D%2C%20%5B-75.36838%2C%206.42048%5D%2C%20%5B-75.36809%2C%206.42066%5D%2C%20%5B-75.36773%2C%206.42078%5D%2C%20%5B-75.36732%2C%206.42084%5D%2C%20%5B-75.3672%2C%206.42087%5D%2C%20%5B-75.36701%2C%206.42091%5D%2C%20%5B-75.36683%2C%206.42098%5D%2C%20%5B-75.36663%2C%206.42109%5D%2C%20%5B-75.36647%2C%206.42122%5D%2C%20%5B-75.366%2C%206.42164%5D%2C%20%5B-75.36585%2C%206.42175%5D%2C%20%5B-75.36566%2C%206.42186%5D%2C%20%5B-75.36545%2C%206.42193%5D%2C%20%5B-75.36524%2C%206.42199%5D%2C%20%5B-75.36492%2C%206.42202%5D%2C%20%5B-75.36483%2C%206.42203%5D%2C%20%5B-75.36461%2C%206.42207%5D%2C%20%5B-75.36441%2C%206.42213%5D%2C%20%5B-75.36394%2C%206.42236%5D%2C%20%5B-75.36379%2C%206.42244%5D%2C%20%5B-75.36373%2C%206.42247%5D%2C%20%5B-75.36358%2C%206.42257%5D%2C%20%5B-75.3633%2C%206.42278%5D%2C%20%5B-75.3631%2C%206.42299%5D%2C%20%5B-75.36278%2C%206.42332%5D%2C%20%5B-75.36249%2C%206.42356%5D%2C%20%5B-75.3618%2C%206.42392%5D%2C%20%5B-75.36164%2C%206.42403%5D%2C%20%5B-75.36147%2C%206.42417%5D%2C%20%5B-75.36134%2C%206.4243%5D%2C%20%5B-75.36077%2C%206.42502%5D%2C%20%5B-75.36037%2C%206.42551%5D%2C%20%5B-75.36029%2C%206.42562%5D%2C%20%5B-75.36016%2C%206.42583%5D%2C%20%5B-75.36005%2C%206.42605%5D%2C%20%5B-75.35991%2C%206.42686%5D%2C%20%5B-75.35986%2C%206.42702%5D%2C%20%5B-75.35977%2C%206.42721%5D%2C%20%5B-75.35966%2C%206.42734%5D%2C%20%5B-75.3595%2C%206.4275%5D%2C%20%5B-75.3593%2C%206.4276%5D%2C%20%5B-75.35913%2C%206.42765%5D%2C%20%5B-75.35893%2C%206.42768%5D%2C%20%5B-75.35857%2C%206.42765%5D%2C%20%5B-75.35746%2C%206.42726%5D%2C%20%5B-75.35727%2C%206.42721%5D%2C%20%5B-75.35701%2C%206.42722%5D%2C%20%5B-75.35678%2C%206.42726%5D%2C%20%5B-75.35653%2C%206.42738%5D%2C%20%5B-75.35638%2C%206.42749%5D%2C%20%5B-75.35621%2C%206.42766%5D%2C%20%5B-75.35581%2C%206.42826%5D%2C%20%5B-75.35567%2C%206.4284%5D%2C%20%5B-75.35549%2C%206.4285%5D%2C%20%5B-75.35529%2C%206.42858%5D%2C%20%5B-75.35472%2C%206.42871%5D%2C%20%5B-75.35447%2C%206.42879%5D%2C%20%5B-75.35425%2C%206.42888%5D%2C%20%5B-75.35395%2C%206.42907%5D%2C%20%5B-75.35362%2C%206.42931%5D%2C%20%5B-75.35344%2C%206.42947%5D%2C%20%5B-75.35321%2C%206.42978%5D%2C%20%5B-75.35296%2C%206.43021%5D%2C%20%5B-75.35284%2C%206.43038%5D%2C%20%5B-75.35267%2C%206.43053%5D%2C%20%5B-75.35241%2C%206.43066%5D%2C%20%5B-75.35168%2C%206.43091%5D%2C%20%5B-75.35149%2C%206.43099%5D%2C%20%5B-75.35135%2C%206.43107%5D%2C%20%5B-75.3512%2C%206.4312%5D%2C%20%5B-75.35084%2C%206.43163%5D%2C%20%5B-75.35072%2C%206.43175%5D%2C%20%5B-75.35058%2C%206.43185%5D%2C%20%5B-75.35039%2C%206.43192%5D%2C%20%5B-75.35021%2C%206.43197%5D%2C%20%5B-75.35006%2C%206.43198%5D%2C%20%5B-75.34921%2C%206.4319%5D%2C%20%5B-75.34899%2C%206.43192%5D%2C%20%5B-75.34882%2C%206.43197%5D%2C%20%5B-75.34864%2C%206.43204%5D%2C%20%5B-75.3485%2C%206.43213%5D%2C%20%5B-75.34788%2C%206.43257%5D%2C%20%5B-75.3476%2C%206.43284%5D%2C%20%5B-75.34749%2C%206.43303%5D%2C%20%5B-75.34724%2C%206.43352%5D%2C%20%5B-75.34716%2C%206.43364%5D%2C%20%5B-75.34704%2C%206.43377%5D%2C%20%5B-75.34632%2C%206.43433%5D%2C%20%5B-75.34585%2C%206.43484%5D%2C%20%5B-75.3457%2C%206.43499%5D%2C%20%5B-75.34553%2C%206.4351%5D%2C%20%5B-75.34537%2C%206.43517%5D%2C%20%5B-75.34516%2C%206.43525%5D%2C%20%5B-75.34499%2C%206.43528%5D%2C%20%5B-75.34469%2C%206.43529%5D%2C%20%5B-75.34441%2C%206.43527%5D%2C%20%5B-75.34386%2C%206.43518%5D%2C%20%5B-75.34352%2C%206.43509%5D%2C%20%5B-75.34306%2C%206.43492%5D%2C%20%5B-75.34287%2C%206.43488%5D%2C%20%5B-75.34269%2C%206.43486%5D%2C%20%5B-75.34247%2C%206.43486%5D%2C%20%5B-75.34224%2C%206.43488%5D%2C%20%5B-75.34199%2C%206.43496%5D%2C%20%5B-75.34169%2C%206.43506%5D%2C%20%5B-75.34136%2C%206.43519%5D%2C%20%5B-75.34132%2C%206.43521%5D%2C%20%5B-75.34117%2C%206.4353%5D%2C%20%5B-75.34089%2C%206.43555%5D%2C%20%5B-75.34073%2C%206.43574%5D%2C%20%5B-75.34033%2C%206.4363%5D%2C%20%5B-75.34008%2C%206.43656%5D%2C%20%5B-75.33988%2C%206.43671%5D%2C%20%5B-75.33971%2C%206.43681%5D%2C%20%5B-75.33908%2C%206.43712%5D%2C%20%5B-75.33892%2C%206.43723%5D%2C%20%5B-75.33875%2C%206.43739%5D%2C%20%5B-75.33861%2C%206.43754%5D%2C%20%5B-75.33848%2C%206.43774%5D%2C%20%5B-75.33839%2C%206.43796%5D%2C%20%5B-75.33807%2C%206.43877%5D%2C%20%5B-75.33799%2C%206.43912%5D%2C%20%5B-75.33798%2C%206.43945%5D%2C%20%5B-75.33801%2C%206.43967%5D%2C%20%5B-75.3383%2C%206.44079%5D%2C%20%5B-75.33833%2C%206.44095%5D%2C%20%5B-75.33834%2C%206.4412%5D%2C%20%5B-75.33833%2C%206.44347%5D%2C%20%5B-75.3383%2C%206.4438%5D%2C%20%5B-75.33824%2C%206.44402%5D%2C%20%5B-75.33817%2C%206.44419%5D%2C%20%5B-75.33808%2C%206.44437%5D%2C%20%5B-75.33796%2C%206.44455%5D%2C%20%5B-75.3378%2C%206.44471%5D%2C%20%5B-75.33756%2C%206.44491%5D%2C%20%5B-75.33688%2C%206.4454%5D%2C%20%5B-75.33657%2C%206.44562%5D%2C%20%5B-75.3365%2C%206.44567%5D%2C%20%5B-75.3362%2C%206.44589%5D%2C%20%5B-75.33428%2C%206.44727%5D%2C%20%5B-75.33232%2C%206.44878%5D%2C%20%5B-75.33212%2C%206.4489%5D%2C%20%5B-75.33198%2C%206.449%5D%2C%20%5B-75.33172%2C%206.44916%5D%2C%20%5B-75.33095%2C%206.44954%5D%2C%20%5B-75.33091%2C%206.44956%5D%2C%20%5B-75.33039%2C%206.44981%5D%2C%20%5B-75.33024%2C%206.44989%5D%2C%20%5B-75.32899%2C%206.45062%5D%2C%20%5B-75.32863%2C%206.45084%5D%2C%20%5B-75.32774%2C%206.45145%5D%2C%20%5B-75.32737%2C%206.45183%5D%2C%20%5B-75.3257%2C%206.45423%5D%2C%20%5B-75.32515%2C%206.45493%5D%2C%20%5B-75.3249%2C%206.45517%5D%2C%20%5B-75.32468%2C%206.45532%5D%2C%20%5B-75.32429%2C%206.45549%5D%2C%20%5B-75.32411%2C%206.45556%5D%2C%20%5B-75.32387%2C%206.45559%5D%2C%20%5B-75.32352%2C%206.45561%5D%2C%20%5B-75.32322%2C%206.45558%5D%2C%20%5B-75.3205%2C%206.45491%5D%2C%20%5B-75.32019%2C%206.45489%5D%2C%20%5B-75.31583%2C%206.455%5D%2C%20%5B-75.31552%2C%206.45494%5D%2C%20%5B-75.31409%2C%206.45452%5D%2C%20%5B-75.31346%2C%206.45444%5D%2C%20%5B-75.31281%2C%206.45454%5D%2C%20%5B-75.31228%2C%206.45476%5D%2C%20%5B-75.31113%2C%206.45564%5D%2C%20%5B-75.31078%2C%206.45583%5D%2C%20%5B-75.31031%2C%206.456%5D%2C%20%5B-75.30971%2C%206.45612%5D%2C%20%5B-75.30921%2C%206.45625%5D%2C%20%5B-75.3087%2C%206.4565%5D%2C%20%5B-75.30845%2C%206.45673%5D%2C%20%5B-75.3083%2C%206.45686%5D%2C%20%5B-75.30749%2C%206.45758%5D%2C%20%5B-75.30709%2C%206.45779%5D%2C%20%5B-75.30592%2C%206.45826%5D%2C%20%5B-75.30539%2C%206.45849%5D%2C%20%5B-75.30476%2C%206.45877%5D%2C%20%5B-75.30363%2C%206.45953%5D%2C%20%5B-75.30306%2C%206.45976%5D%2C%20%5B-75.30236%2C%206.45995%5D%2C%20%5B-75.30189%2C%206.45996%5D%2C%20%5B-75.3013%2C%206.45987%5D%2C%20%5B-75.30125%2C%206.45986%5D%2C%20%5B-75.30043%2C%206.45972%5D%2C%20%5B-75.29977%2C%206.45977%5D%2C%20%5B-75.2992%2C%206.46003%5D%2C%20%5B-75.29911%2C%206.46007%5D%2C%20%5B-75.29849%2C%206.46057%5D%2C%20%5B-75.29587%2C%206.46307%5D%2C%20%5B-75.29545%2C%206.4633%5D%2C%20%5B-75.29502%2C%206.46345%5D%2C%20%5B-75.2934%2C%206.46388%5D%2C%20%5B-75.29281%2C%206.46418%5D%2C%20%5B-75.29247%2C%206.46447%5D%2C%20%5B-75.29229%2C%206.46461%5D%2C%20%5B-75.29174%2C%206.46531%5D%2C%20%5B-75.2903%2C%206.46735%5D%2C%20%5B-75.28898%2C%206.46874%5D%2C%20%5B-75.2887%2C%206.4691%5D%2C%20%5B-75.28851%2C%206.46948%5D%2C%20%5B-75.28739%2C%206.4726%5D%2C%20%5B-75.28722%2C%206.47301%5D%2C%20%5B-75.28697%2C%206.47342%5D%2C%20%5B-75.28531%2C%206.47597%5D%2C%20%5B-75.28494%2C%206.47642%5D%2C%20%5B-75.28447%2C%206.47679%5D%2C%20%5B-75.28396%2C%206.47701%5D%2C%20%5B-75.28205%2C%206.47743%5D%2C%20%5B-75.28147%2C%206.47752%5D%2C%20%5B-75.28027%2C%206.47766%5D%2C%20%5B-75.27971%2C%206.4778%5D%2C%20%5B-75.27941%2C%206.47791%5D%2C%20%5B-75.27927%2C%206.47796%5D%2C%20%5B-75.27904%2C%206.47809%5D%2C%20%5B-75.27881%2C%206.47822%5D%2C%20%5B-75.27764%2C%206.47924%5D%2C%20%5B-75.27704%2C%206.47968%5D%2C%20%5B-75.27569%2C%206.48062%5D%2C%20%5B-75.27508%2C%206.48111%5D%2C%20%5B-75.27484%2C%206.4815%5D%2C%20%5B-75.27464%2C%206.48202%5D%2C%20%5B-75.27455%2C%206.48267%5D%2C%20%5B-75.27452%2C%206.48315%5D%2C%20%5B-75.27431%2C%206.48386%5D%2C%20%5B-75.27415%2C%206.48421%5D%2C%20%5B-75.27284%2C%206.48625%5D%2C%20%5B-75.27158%2C%206.4884%5D%2C%20%5B-75.27105%2C%206.4891%5D%2C%20%5B-75.27085%2C%206.48934%5D%2C%20%5B-75.26989%2C%206.49021%5D%2C%20%5B-75.26955%2C%206.49052%5D%2C%20%5B-75.26907%2C%206.49094%5D%2C%20%5B-75.26882%2C%206.49117%5D%2C%20%5B-75.26844%2C%206.49162%5D%2C%20%5B-75.26827%2C%206.49191%5D%2C%20%5B-75.26793%2C%206.49251%5D%2C%20%5B-75.2668%2C%206.49447%5D%2C%20%5B-75.26654%2C%206.49517%5D%2C%20%5B-75.26637%2C%206.4958%5D%2C%20%5B-75.26603%2C%206.49704%5D%2C%20%5B-75.26578%2C%206.49793%5D%2C%20%5B-75.26555%2C%206.49845%5D%2C%20%5B-75.26537%2C%206.4988%5D%2C%20%5B-75.26447%2C%206.49994%5D%2C%20%5B-75.26428%2C%206.50048%5D%2C%20%5B-75.2642%2C%206.50088%5D%2C%20%5B-75.26431%2C%206.5023%5D%2C%20%5B-75.26432%2C%206.50259%5D%2C%20%5B-75.26432%2C%206.50285%5D%2C%20%5B-75.26415%2C%206.50329%5D%2C%20%5B-75.26358%2C%206.50458%5D%2C%20%5B-75.2632%2C%206.50509%5D%2C%20%5B-75.26299%2C%206.50533%5D%2C%20%5B-75.26209%2C%206.50636%5D%2C%20%5B-75.26166%2C%206.50678%5D%2C%20%5B-75.26093%2C%206.5073%5D%2C%20%5B-75.26079%2C%206.50743%5D%2C%20%5B-75.26072%2C%206.50749%5D%2C%20%5B-75.26055%2C%206.50769%5D%2C%20%5B-75.26046%2C%206.50784%5D%2C%20%5B-75.26025%2C%206.50826%5D%2C%20%5B-75.26022%2C%206.50837%5D%2C%20%5B-75.26014%2C%206.50876%5D%2C%20%5B-75.26014%2C%206.50891%5D%2C%20%5B-75.26013%2C%206.50925%5D%2C%20%5B-75.26019%2C%206.50947%5D%2C%20%5B-75.26025%2C%206.50961%5D%2C%20%5B-75.26091%2C%206.51048%5D%2C%20%5B-75.26102%2C%206.51059%5D%2C%20%5B-75.26106%2C%206.51067%5D%2C%20%5B-75.26109%2C%206.51075%5D%2C%20%5B-75.26111%2C%206.51087%5D%2C%20%5B-75.26112%2C%206.51105%5D%2C%20%5B-75.26111%2C%206.5112%5D%2C%20%5B-75.26106%2C%206.51137%5D%2C%20%5B-75.26095%2C%206.51162%5D%2C%20%5B-75.26049%2C%206.51202%5D%2C%20%5B-75.26037%2C%206.51211%5D%2C%20%5B-75.26023%2C%206.51218%5D%2C%20%5B-75.25984%2C%206.51231%5D%2C%20%5B-75.25973%2C%206.51238%5D%2C%20%5B-75.25964%2C%206.51246%5D%2C%20%5B-75.25903%2C%206.51317%5D%2C%20%5B-75.25887%2C%206.51341%5D%2C%20%5B-75.25881%2C%206.51356%5D%2C%20%5B-75.25874%2C%206.51364%5D%2C%20%5B-75.25866%2C%206.51369%5D%2C%20%5B-75.25837%2C%206.51382%5D%2C%20%5B-75.25822%2C%206.51396%5D%2C%20%5B-75.25813%2C%206.51408%5D%2C%20%5B-75.25765%2C%206.51487%5D%2C%20%5B-75.25754%2C%206.51498%5D%2C%20%5B-75.25741%2C%206.51507%5D%2C%20%5B-75.25693%2C%206.51534%5D%2C%20%5B-75.25682%2C%206.51549%5D%2C%20%5B-75.25674%2C%206.51569%5D%2C%20%5B-75.25665%2C%206.51585%5D%2C%20%5B-75.25656%2C%206.51592%5D%2C%20%5B-75.25632%2C%206.51602%5D%2C%20%5B-75.25559%2C%206.51614%5D%2C%20%5B-75.25512%2C%206.51625%5D%2C%20%5B-75.25515%2C%206.51639%5D%2C%20%5B-75.25521%2C%206.51674%5D%2C%20%5B-75.25527%2C%206.51715%5D%5D%2C%20%22type%22%3A%20%22LineString%22%7D%2C%20%22properties%22%3A%20%7B%22color%22%3A%20%22red%22%2C%20%22highlight%22%3A%20%7B%7D%2C%20%22style%22%3A%20%7B%22color%22%3A%20%22red%22%7D%7D%2C%20%22type%22%3A%20%22Feature%22%7D%5D%2C%20%22type%22%3A%20%22FeatureCollection%22%7D%2C%0A%20%20%20%20%20%20%20%20%20%20%20%20%7B%0A%20%20%20%20%20%20%20%20%20%20%20%20%7D%0A%20%20%20%20%20%20%20%20%29.addTo%28map_f8c6d5f91bf24b6898c58b8220516932%20%29%3B%0A%20%20%20%20%20%20%20%20geo_json_43e250002a804e2c90bb7499608dca40.setStyle%28function%28feature%29%20%7Breturn%20feature.properties.style%3B%7D%29%3B%0A%20%20%20%20%20%20%20%20%0A%20%20%20%20%0A%20%20%20%20%20%20%20%20geo_json_43e250002a804e2c90bb7499608dca40.bindTooltip%28%0A%20%20%20%20%20%20%20%20%20%20%20%20%60%3Cdiv%3E%60%0A%20%20%20%20%20%20%20%20%20%20%20%20%2B%20%60%3Ch4%3EVeh%C3%ADculo%200%3C/h4%3E%0A%20%20%20%20%20%20%20%20%3Cb%3EDistancia%3A%3C/b%3E%20118301%20m%20%3Cbr%3E%0A%20%20%20%20%20%20%20%20%3Cb%3EDuraci%C3%B3n%3A%3C/b%3E%207142%20secs%0A%20%20%20%20%20%20%20%20%60%20%2B%20%60%3C/div%3E%60%2C%0A%20%20%20%20%20%20%20%20%20%20%20%20%7B%22sticky%22%3A%20true%7D%0A%20%20%20%20%20%20%20%20%29%3B%0A%20%20%20%20%20%20%20%20%0A%20%20%20%20%0A%20%20%20%20%20%20%20%20var%20geo_json_b4cb4e8c17bd419bb1fed02430f7cf9f%20%3D%20L.geoJson%28%0A%20%20%20%20%20%20%20%20%20%20%20%20%7B%22features%22%3A%20%5B%7B%22geometry%22%3A%20%7B%22coordinates%22%3A%20%5B%5B-75.25527%2C%206.51715%5D%2C%20%5B-75.25521%2C%206.51674%5D%2C%20%5B-75.25515%2C%206.51639%5D%2C%20%5B-75.25512%2C%206.51625%5D%2C%20%5B-75.25559%2C%206.51614%5D%2C%20%5B-75.25632%2C%206.51602%5D%2C%20%5B-75.25656%2C%206.51592%5D%2C%20%5B-75.25665%2C%206.51585%5D%2C%20%5B-75.25674%2C%206.51569%5D%2C%20%5B-75.25682%2C%206.51549%5D%2C%20%5B-75.25693%2C%206.51534%5D%2C%20%5B-75.25741%2C%206.51507%5D%2C%20%5B-75.25754%2C%206.51498%5D%2C%20%5B-75.25765%2C%206.51487%5D%2C%20%5B-75.25813%2C%206.51408%5D%2C%20%5B-75.25822%2C%206.51396%5D%2C%20%5B-75.25837%2C%206.51382%5D%2C%20%5B-75.25866%2C%206.51369%5D%2C%20%5B-75.25874%2C%206.51364%5D%2C%20%5B-75.25881%2C%206.51356%5D%2C%20%5B-75.25887%2C%206.51341%5D%2C%20%5B-75.25903%2C%206.51317%5D%2C%20%5B-75.25964%2C%206.51246%5D%2C%20%5B-75.25973%2C%206.51238%5D%2C%20%5B-75.25984%2C%206.51231%5D%2C%20%5B-75.26023%2C%206.51218%5D%2C%20%5B-75.26037%2C%206.51211%5D%2C%20%5B-75.26049%2C%206.51202%5D%2C%20%5B-75.26095%2C%206.51162%5D%2C%20%5B-75.26156%2C%206.5111%5D%2C%20%5B-75.26146%2C%206.51114%5D%2C%20%5B-75.26138%2C%206.51115%5D%2C%20%5B-75.26128%2C%206.51112%5D%2C%20%5B-75.26122%2C%206.51107%5D%2C%20%5B-75.26116%2C%206.51097%5D%2C%20%5B-75.26111%2C%206.51087%5D%2C%20%5B-75.26109%2C%206.51075%5D%2C%20%5B-75.26106%2C%206.51067%5D%2C%20%5B-75.26102%2C%206.51059%5D%2C%20%5B-75.26097%2C%206.51045%5D%2C%20%5B-75.26078%2C%206.50998%5D%2C%20%5B-75.26063%2C%206.50903%5D%2C%20%5B-75.26064%2C%206.50869%5D%2C%20%5B-75.26071%2C%206.50846%5D%2C%20%5B-75.26076%2C%206.50834%5D%2C%20%5B-75.26092%2C%206.50811%5D%2C%20%5B-75.26127%2C%206.50765%5D%2C%20%5B-75.26133%2C%206.50758%5D%2C%20%5B-75.26222%2C%206.50647%5D%2C%20%5B-75.26334%2C%206.5052%5D%2C%20%5B-75.26373%2C%206.50467%5D%2C%20%5B-75.26431%2C%206.50335%5D%2C%20%5B-75.26449%2C%206.50289%5D%2C%20%5B-75.26449%2C%206.50259%5D%2C%20%5B-75.26448%2C%206.50229%5D%2C%20%5B-75.26438%2C%206.50089%5D%2C%20%5B-75.26444%2C%206.50053%5D%2C%20%5B-75.26462%2C%206.50002%5D%2C%20%5B-75.26551%2C%206.49889%5D%2C%20%5B-75.2657%2C%206.49852%5D%2C%20%5B-75.26594%2C%206.49799%5D%2C%20%5B-75.26619%2C%206.49709%5D%2C%20%5B-75.26654%2C%206.49585%5D%2C%20%5B-75.26671%2C%206.49522%5D%2C%20%5B-75.26696%2C%206.49454%5D%2C%20%5B-75.26813%2C%206.4925%5D%2C%20%5B-75.26846%2C%206.49194%5D%2C%20%5B-75.26858%2C%206.49172%5D%2C%20%5B-75.26894%2C%206.49129%5D%2C%20%5B-75.26952%2C%206.49077%5D%2C%20%5B-75.27019%2C%206.49017%5D%2C%20%5B-75.27097%2C%206.48946%5D%2C%20%5B-75.27119%2C%206.4892%5D%2C%20%5B-75.27173%2C%206.48849%5D%2C%20%5B-75.273%2C%206.48621%5D%2C%20%5B-75.27348%2C%206.48548%5D%2C%20%5B-75.27414%2C%206.48457%5D%2C%20%5B-75.27434%2C%206.48414%5D%2C%20%5B-75.27446%2C%206.48383%5D%2C%20%5B-75.27451%2C%206.48368%5D%2C%20%5B-75.27465%2C%206.48307%5D%2C%20%5B-75.27469%2C%206.48249%5D%2C%20%5B-75.27476%2C%206.48202%5D%2C%20%5B-75.27495%2C%206.48156%5D%2C%20%5B-75.27521%2C%206.48117%5D%2C%20%5B-75.27573%2C%206.48072%5D%2C%20%5B-75.27685%2C%206.48%5D%2C%20%5B-75.27805%2C%206.47913%5D%2C%20%5B-75.2785%2C%206.47883%5D%2C%20%5B-75.27895%2C%206.47865%5D%2C%20%5B-75.27933%2C%206.47849%5D%2C%20%5B-75.27984%2C%206.47829%5D%2C%20%5B-75.28097%2C%206.47782%5D%2C%20%5B-75.28137%2C%206.47772%5D%2C%20%5B-75.28208%2C%206.47759%5D%2C%20%5B-75.28402%2C%206.47717%5D%2C%20%5B-75.28456%2C%206.47694%5D%2C%20%5B-75.28506%2C%206.47654%5D%2C%20%5B-75.28545%2C%206.47607%5D%2C%20%5B-75.28711%2C%206.47351%5D%2C%20%5B-75.28737%2C%206.47309%5D%2C%20%5B-75.28755%2C%206.47266%5D%2C%20%5B-75.28835%2C%206.47034%5D%2C%20%5B-75.28864%2C%206.46951%5D%2C%20%5B-75.28882%2C%206.46916%5D%2C%20%5B-75.28904%2C%206.46887%5D%2C%20%5B-75.29038%2C%206.46747%5D%2C%20%5B-75.29178%2C%206.46548%5D%2C%20%5B-75.29189%2C%206.46533%5D%2C%20%5B-75.29241%2C%206.4647%5D%2C%20%5B-75.29285%2C%206.46433%5D%2C%20%5B-75.29346%2C%206.46404%5D%2C%20%5B-75.29507%2C%206.46362%5D%2C%20%5B-75.29552%2C%206.46345%5D%2C%20%5B-75.29597%2C%206.46321%5D%2C%20%5B-75.29733%2C%206.4618%5D%2C%20%5B-75.29768%2C%206.46148%5D%2C%20%5B-75.29835%2C%206.46102%5D%2C%20%5B-75.29919%2C%206.46053%5D%2C%20%5B-75.2994%2C%206.46045%5D%2C%20%5B-75.29951%2C%206.46041%5D%2C%20%5B-75.29964%2C%206.46036%5D%2C%20%5B-75.30002%2C%206.46032%5D%2C%20%5B-75.30045%2C%206.46034%5D%2C%20%5B-75.301%2C%206.46041%5D%2C%20%5B-75.30126%2C%206.46039%5D%2C%20%5B-75.30155%2C%206.46038%5D%2C%20%5B-75.30203%2C%206.46031%5D%2C%20%5B-75.30251%2C%206.46017%5D%2C%20%5B-75.30348%2C%206.45974%5D%2C%20%5B-75.30484%2C%206.45892%5D%2C%20%5B-75.30599%2C%206.45841%5D%2C%20%5B-75.30717%2C%206.45794%5D%2C%20%5B-75.30759%2C%206.45772%5D%2C%20%5B-75.30805%2C%206.45733%5D%2C%20%5B-75.30816%2C%206.45722%5D%2C%20%5B-75.3088%2C%206.45664%5D%2C%20%5B-75.30927%2C%206.45641%5D%2C%20%5B-75.30975%2C%206.45629%5D%2C%20%5B-75.31036%2C%206.45616%5D%2C%20%5B-75.31086%2C%206.45599%5D%2C%20%5B-75.31122%2C%206.45578%5D%2C%20%5B-75.31137%2C%206.45567%5D%2C%20%5B-75.31237%2C%206.45491%5D%2C%20%5B-75.31285%2C%206.45471%5D%2C%20%5B-75.31346%2C%206.45462%5D%2C%20%5B-75.31406%2C%206.45469%5D%2C%20%5B-75.31548%2C%206.45511%5D%2C%20%5B-75.31581%2C%206.45517%5D%2C%20%5B-75.32019%2C%206.45506%5D%2C%20%5B-75.32048%2C%206.45508%5D%2C%20%5B-75.32324%2C%206.45568%5D%2C%20%5B-75.32346%2C%206.45571%5D%2C%20%5B-75.32387%2C%206.4557%5D%2C%20%5B-75.32434%2C%206.45559%5D%2C%20%5B-75.32473%2C%206.45542%5D%2C%20%5B-75.32505%2C%206.45522%5D%2C%20%5B-75.32525%2C%206.45504%5D%2C%20%5B-75.32541%2C%206.45485%5D%2C%20%5B-75.32714%2C%206.45233%5D%2C%20%5B-75.32746%2C%206.45191%5D%2C%20%5B-75.32782%2C%206.45155%5D%2C%20%5B-75.32817%2C%206.4513%5D%2C%20%5B-75.32871%2C%206.45095%5D%2C%20%5B-75.32905%2C%206.45074%5D%2C%20%5B-75.32942%2C%206.45056%5D%2C%20%5B-75.32988%2C%206.45043%5D%2C%20%5B-75.33054%2C%206.45031%5D%2C%20%5B-75.33066%2C%206.45029%5D%2C%20%5B-75.33075%2C%206.45027%5D%2C%20%5B-75.33092%2C%206.45024%5D%2C%20%5B-75.3312%2C%206.45018%5D%2C%20%5B-75.33173%2C%206.44996%5D%2C%20%5B-75.33233%2C%206.4496%5D%2C%20%5B-75.33254%2C%206.44942%5D%2C%20%5B-75.33258%2C%206.44938%5D%2C%20%5B-75.33278%2C%206.4492%5D%2C%20%5B-75.33311%2C%206.44883%5D%2C%20%5B-75.3332%2C%206.4487%5D%2C%20%5B-75.33349%2C%206.44832%5D%2C%20%5B-75.33418%2C%206.44751%5D%2C%20%5B-75.33454%2C%206.44719%5D%2C%20%5B-75.3356%2C%206.44644%5D%2C%20%5B-75.33647%2C%206.44588%5D%2C%20%5B-75.33656%2C%206.44582%5D%2C%20%5B-75.33664%2C%206.44576%5D%2C%20%5B-75.33704%2C%206.44548%5D%2C%20%5B-75.3377%2C%206.44501%5D%2C%20%5B-75.3379%2C%206.44485%5D%2C%20%5B-75.33803%2C%206.44472%5D%2C%20%5B-75.33825%2C%206.44443%5D%2C%20%5B-75.33835%2C%206.44423%5D%2C%20%5B-75.33843%2C%206.44403%5D%2C%20%5B-75.33847%2C%206.44387%5D%2C%20%5B-75.33851%2C%206.44358%5D%2C%20%5B-75.33851%2C%206.44231%5D%2C%20%5B-75.33851%2C%206.44204%5D%2C%20%5B-75.33852%2C%206.44108%5D%2C%20%5B-75.33848%2C%206.44078%5D%2C%20%5B-75.33819%2C%206.43964%5D%2C%20%5B-75.33816%2C%206.43928%5D%2C%20%5B-75.33818%2C%206.43904%5D%2C%20%5B-75.33824%2C%206.43883%5D%2C%20%5B-75.33856%2C%206.43801%5D%2C%20%5B-75.33864%2C%206.43786%5D%2C%20%5B-75.33873%2C%206.43769%5D%2C%20%5B-75.33882%2C%206.43758%5D%2C%20%5B-75.33895%2C%206.43744%5D%2C%20%5B-75.33926%2C%206.43722%5D%2C%20%5B-75.34008%2C%206.43682%5D%2C%20%5B-75.34034%2C%206.43664%5D%2C%20%5B-75.34109%2C%206.43593%5D%2C%20%5B-75.34123%2C%206.43581%5D%2C%20%5B-75.34137%2C%206.43573%5D%2C%20%5B-75.34152%2C%206.43567%5D%2C%20%5B-75.34254%2C%206.4354%5D%2C%20%5B-75.34298%2C%206.43534%5D%2C%20%5B-75.34334%2C%206.43533%5D%2C%20%5B-75.34479%2C%206.43547%5D%2C%20%5B-75.34502%2C%206.43547%5D%2C%20%5B-75.34531%2C%206.4354%5D%2C%20%5B-75.34555%2C%206.4353%5D%2C%20%5B-75.34576%2C%206.43518%5D%2C%20%5B-75.34597%2C%206.43501%5D%2C%20%5B-75.3465%2C%206.43439%5D%2C%20%5B-75.34719%2C%206.43387%5D%2C%20%5B-75.3473%2C%206.43375%5D%2C%20%5B-75.34742%2C%206.43359%5D%2C%20%5B-75.34769%2C%206.43307%5D%2C%20%5B-75.3478%2C%206.4329%5D%2C%20%5B-75.34794%2C%206.43275%5D%2C%20%5B-75.34869%2C%206.43224%5D%2C%20%5B-75.34883%2C%206.43215%5D%2C%20%5B-75.34901%2C%206.43209%5D%2C%20%5B-75.34921%2C%206.43207%5D%2C%20%5B-75.34938%2C%206.43208%5D%2C%20%5B-75.35002%2C%206.43215%5D%2C%20%5B-75.35021%2C%206.43215%5D%2C%20%5B-75.35041%2C%206.43212%5D%2C%20%5B-75.35058%2C%206.43206%5D%2C%20%5B-75.35072%2C%206.43199%5D%2C%20%5B-75.35087%2C%206.43188%5D%2C%20%5B-75.35099%2C%206.43176%5D%2C%20%5B-75.35146%2C%206.43122%5D%2C%20%5B-75.35158%2C%206.43113%5D%2C%20%5B-75.35172%2C%206.43107%5D%2C%20%5B-75.35259%2C%206.43077%5D%2C%20%5B-75.35291%2C%206.43058%5D%2C%20%5B-75.35307%2C%206.4304%5D%2C%20%5B-75.35343%2C%206.42978%5D%2C%20%5B-75.35357%2C%206.42959%5D%2C%20%5B-75.35374%2C%206.42944%5D%2C%20%5B-75.35404%2C%206.42923%5D%2C%20%5B-75.35439%2C%206.42901%5D%2C%20%5B-75.35454%2C%206.42895%5D%2C%20%5B-75.35476%2C%206.42887%5D%2C%20%5B-75.35558%2C%206.42867%5D%2C%20%5B-75.35573%2C%206.4286%5D%2C%20%5B-75.35586%2C%206.4285%5D%2C%20%5B-75.35608%2C%206.42824%5D%2C%20%5B-75.3564%2C%206.42774%5D%2C%20%5B-75.35656%2C%206.42758%5D%2C%20%5B-75.35672%2C%206.42749%5D%2C%20%5B-75.35688%2C%206.42742%5D%2C%20%5B-75.35705%2C%206.42739%5D%2C%20%5B-75.35724%2C%206.42738%5D%2C%20%5B-75.35748%2C%206.42743%5D%2C%20%5B-75.35862%2C%206.42782%5D%2C%20%5B-75.35883%2C%206.42788%5D%2C%20%5B-75.35904%2C%206.42789%5D%2C%20%5B-75.35926%2C%206.42787%5D%2C%20%5B-75.35947%2C%206.4278%5D%2C%20%5B-75.35964%2C%206.42769%5D%2C%20%5B-75.35978%2C%206.42759%5D%2C%20%5B-75.3599%2C%206.42744%5D%2C%20%5B-75.36001%2C%206.42725%5D%2C%20%5B-75.36007%2C%206.4271%5D%2C%20%5B-75.36011%2C%206.42694%5D%2C%20%5B-75.36015%2C%206.42659%5D%2C%20%5B-75.3602%2C%206.42625%5D%2C%20%5B-75.36025%2C%206.42608%5D%2C%20%5B-75.36034%2C%206.42587%5D%2C%20%5B-75.36047%2C%206.42566%5D%2C%20%5B-75.3609%2C%206.42513%5D%2C%20%5B-75.36093%2C%206.42509%5D%2C%20%5B-75.36143%2C%206.42447%5D%2C%20%5B-75.36178%2C%206.42414%5D%2C%20%5B-75.36265%2C%206.42365%5D%2C%20%5B-75.36278%2C%206.42355%5D%2C%20%5B-75.3636%2C%206.42277%5D%2C%20%5B-75.36381%2C%206.42264%5D%2C%20%5B-75.36421%2C%206.42242%5D%2C%20%5B-75.36444%2C%206.42231%5D%2C%20%5B-75.36465%2C%206.42224%5D%2C%20%5B-75.36546%2C%206.42212%5D%2C%20%5B-75.36567%2C%206.42205%5D%2C%20%5B-75.36587%2C%206.42197%5D%2C%20%5B-75.36603%2C%206.42187%5D%2C%20%5B-75.36655%2C%206.42139%5D%2C%20%5B-75.36672%2C%206.42126%5D%2C%20%5B-75.3669%2C%206.42114%5D%2C%20%5B-75.36715%2C%206.42105%5D%2C%20%5B-75.36756%2C%206.42098%5D%2C%20%5B-75.36783%2C%206.42093%5D%2C%20%5B-75.36804%2C%206.42087%5D%2C%20%5B-75.36826%2C%206.42078%5D%2C%20%5B-75.36843%2C%206.42067%5D%2C%20%5B-75.36894%2C%206.42028%5D%2C%20%5B-75.3691%2C%206.42017%5D%2C%20%5B-75.36983%2C%206.41985%5D%2C%20%5B-75.36998%2C%206.41976%5D%2C%20%5B-75.37061%2C%206.41911%5D%2C%20%5B-75.3713%2C%206.41862%5D%2C%20%5B-75.3715%2C%206.4185%5D%2C%20%5B-75.37174%2C%206.4184%5D%2C%20%5B-75.37194%2C%206.41836%5D%2C%20%5B-75.37214%2C%206.41834%5D%2C%20%5B-75.37305%2C%206.41842%5D%2C%20%5B-75.37323%2C%206.41841%5D%2C%20%5B-75.37337%2C%206.41839%5D%2C%20%5B-75.37433%2C%206.4181%5D%2C%20%5B-75.37453%2C%206.41806%5D%2C%20%5B-75.37481%2C%206.41803%5D%2C%20%5B-75.37733%2C%206.41795%5D%2C%20%5B-75.37826%2C%206.41792%5D%2C%20%5B-75.37887%2C%206.41792%5D%2C%20%5B-75.37935%2C%206.41797%5D%2C%20%5B-75.38015%2C%206.41822%5D%2C%20%5B-75.38053%2C%206.41826%5D%2C%20%5B-75.38086%2C%206.41823%5D%2C%20%5B-75.38113%2C%206.41815%5D%2C%20%5B-75.38178%2C%206.41786%5D%2C%20%5B-75.38196%2C%206.41781%5D%2C%20%5B-75.3823%2C%206.41778%5D%2C%20%5B-75.38253%2C%206.41781%5D%2C%20%5B-75.38274%2C%206.41787%5D%2C%20%5B-75.38392%2C%206.41833%5D%2C%20%5B-75.38409%2C%206.41838%5D%2C%20%5B-75.38425%2C%206.4184%5D%2C%20%5B-75.38455%2C%206.41839%5D%2C%20%5B-75.38484%2C%206.41833%5D%2C%20%5B-75.38557%2C%206.41805%5D%2C%20%5B-75.3887%2C%206.41668%5D%2C%20%5B-75.38997%2C%206.41636%5D%2C%20%5B-75.39011%2C%206.41634%5D%2C%20%5B-75.39023%2C%206.41634%5D%2C%20%5B-75.39035%2C%206.41636%5D%2C%20%5B-75.39047%2C%206.41642%5D%2C%20%5B-75.39056%2C%206.41659%5D%2C%20%5B-75.39061%2C%206.41667%5D%2C%20%5B-75.39068%2C%206.41674%5D%2C%20%5B-75.39077%2C%206.41679%5D%2C%20%5B-75.39087%2C%206.41683%5D%2C%20%5B-75.39098%2C%206.41684%5D%2C%20%5B-75.39107%2C%206.41683%5D%2C%20%5B-75.39117%2C%206.41679%5D%2C%20%5B-75.39126%2C%206.41674%5D%2C%20%5B-75.39133%2C%206.41668%5D%2C%20%5B-75.39142%2C%206.41661%5D%2C%20%5B-75.39151%2C%206.41656%5D%2C%20%5B-75.39161%2C%206.41653%5D%2C%20%5B-75.39174%2C%206.41653%5D%2C%20%5B-75.39242%2C%206.41664%5D%2C%20%5B-75.39295%2C%206.41662%5D%2C%20%5B-75.39316%2C%206.41657%5D%2C%20%5B-75.3966%2C%206.41641%5D%2C%20%5B-75.39733%2C%206.41636%5D%2C%20%5B-75.39762%2C%206.41635%5D%2C%20%5B-75.39792%2C%206.41636%5D%2C%20%5B-75.39818%2C%206.41637%5D%2C%20%5B-75.39843%2C%206.4164%5D%2C%20%5B-75.39881%2C%206.41643%5D%2C%20%5B-75.39918%2C%206.41647%5D%2C%20%5B-75.39969%2C%206.41654%5D%2C%20%5B-75.40043%2C%206.41666%5D%2C%20%5B-75.40068%2C%206.41669%5D%2C%20%5B-75.40094%2C%206.41669%5D%2C%20%5B-75.40118%2C%206.41667%5D%2C%20%5B-75.40142%2C%206.41661%5D%2C%20%5B-75.40165%2C%206.41653%5D%2C%20%5B-75.40186%2C%206.41643%5D%2C%20%5B-75.40312%2C%206.41586%5D%2C%20%5B-75.40516%2C%206.41483%5D%2C%20%5B-75.4056%2C%206.4146%5D%2C%20%5B-75.40732%2C%206.41374%5D%2C%20%5B-75.40743%2C%206.41369%5D%2C%20%5B-75.40771%2C%206.41356%5D%2C%20%5B-75.40806%2C%206.41346%5D%2C%20%5B-75.40883%2C%206.41331%5D%2C%20%5B-75.41169%2C%206.41274%5D%2C%20%5B-75.41192%2C%206.41269%5D%2C%20%5B-75.41234%2C%206.41259%5D%2C%20%5B-75.41247%2C%206.41255%5D%2C%20%5B-75.41336%2C%206.41228%5D%2C%20%5B-75.41399%2C%206.41209%5D%2C%20%5B-75.41493%2C%206.41181%5D%2C%20%5B-75.41604%2C%206.41148%5D%2C%20%5B-75.41715%2C%206.41115%5D%2C%20%5B-75.42044%2C%206.41006%5D%2C%20%5B-75.42095%2C%206.40989%5D%2C%20%5B-75.42176%2C%206.40962%5D%2C%20%5B-75.42215%2C%206.40949%5D%2C%20%5B-75.42239%2C%206.40941%5D%2C%20%5B-75.42264%2C%206.40931%5D%2C%20%5B-75.42287%2C%206.4092%5D%2C%20%5B-75.42295%2C%206.40916%5D%2C%20%5B-75.42308%2C%206.40907%5D%2C%20%5B-75.42319%2C%206.409%5D%2C%20%5B-75.42354%2C%206.40869%5D%2C%20%5B-75.42427%2C%206.408%5D%2C%20%5B-75.42543%2C%206.40691%5D%2C%20%5B-75.42659%2C%206.40572%5D%2C%20%5B-75.42773%2C%206.40454%5D%2C%20%5B-75.42793%2C%206.40434%5D%2C%20%5B-75.42801%2C%206.40426%5D%2C%20%5B-75.42858%2C%206.40373%5D%2C%20%5B-75.42921%2C%206.40313%5D%2C%20%5B-75.42932%2C%206.40303%5D%2C%20%5B-75.43121%2C%206.40117%5D%2C%20%5B-75.43126%2C%206.40112%5D%2C%20%5B-75.43208%2C%206.40043%5D%2C%20%5B-75.43347%2C%206.39939%5D%2C%20%5B-75.43428%2C%206.39879%5D%2C%20%5B-75.43437%2C%206.39873%5D%2C%20%5B-75.43498%2C%206.39825%5D%2C%20%5B-75.43558%2C%206.39788%5D%2C%20%5B-75.43583%2C%206.39773%5D%2C%20%5B-75.43602%2C%206.39762%5D%2C%20%5B-75.43619%2C%206.39748%5D%2C%20%5B-75.43648%2C%206.39729%5D%2C%20%5B-75.43672%2C%206.39716%5D%2C%20%5B-75.43715%2C%206.39684%5D%2C%20%5B-75.43967%2C%206.3952%5D%2C%20%5B-75.44036%2C%206.39481%5D%2C%20%5B-75.44073%2C%206.39461%5D%2C%20%5B-75.44267%2C%206.39368%5D%2C%20%5B-75.44308%2C%206.39348%5D%2C%20%5B-75.44346%2C%206.39328%5D%2C%20%5B-75.44382%2C%206.39302%5D%2C%20%5B-75.44403%2C%206.39284%5D%2C%20%5B-75.44426%2C%206.39258%5D%2C%20%5B-75.44633%2C%206.39049%5D%2C%20%5B-75.44678%2C%206.39008%5D%2C%20%5B-75.44709%2C%206.38984%5D%2C%20%5B-75.44725%2C%206.38974%5D%2C%20%5B-75.44778%2C%206.38937%5D%2C%20%5B-75.44819%2C%206.38907%5D%2C%20%5B-75.4483%2C%206.389%5D%2C%20%5B-75.44877%2C%206.38868%5D%2C%20%5B-75.44941%2C%206.38824%5D%2C%20%5B-75.44952%2C%206.38817%5D%2C%20%5B-75.4498%2C%206.38799%5D%2C%20%5B-75.45006%2C%206.38786%5D%2C%20%5B-75.45149%2C%206.38731%5D%2C%20%5B-75.45264%2C%206.38681%5D%2C%20%5B-75.45474%2C%206.38545%5D%2C%20%5B-75.45533%2C%206.38516%5D%2C%20%5B-75.45559%2C%206.38503%5D%2C%20%5B-75.45579%2C%206.38493%5D%2C%20%5B-75.45664%2C%206.38455%5D%2C%20%5B-75.45689%2C%206.38446%5D%2C%20%5B-75.45713%2C%206.38441%5D%2C%20%5B-75.45751%2C%206.38435%5D%2C%20%5B-75.45807%2C%206.38432%5D%2C%20%5B-75.45903%2C%206.38434%5D%2C%20%5B-75.45922%2C%206.38434%5D%2C%20%5B-75.46039%2C%206.38433%5D%2C%20%5B-75.46123%2C%206.38432%5D%2C%20%5B-75.46374%2C%206.38431%5D%2C%20%5B-75.46417%2C%206.38428%5D%2C%20%5B-75.46442%2C%206.38424%5D%2C%20%5B-75.46465%2C%206.38417%5D%2C%20%5B-75.46611%2C%206.38359%5D%2C%20%5B-75.46639%2C%206.38352%5D%2C%20%5B-75.46668%2C%206.38349%5D%2C%20%5B-75.46694%2C%206.38348%5D%2C%20%5B-75.46724%2C%206.38347%5D%2C%20%5B-75.46788%2C%206.38345%5D%2C%20%5B-75.46841%2C%206.38341%5D%2C%20%5B-75.46896%2C%206.38334%5D%2C%20%5B-75.4706%2C%206.38312%5D%2C%20%5B-75.47121%2C%206.38302%5D%2C%20%5B-75.47143%2C%206.38299%5D%2C%20%5B-75.47213%2C%206.38282%5D%2C%20%5B-75.47349%2C%206.38243%5D%2C%20%5B-75.47401%2C%206.3823%5D%2C%20%5B-75.47524%2C%206.382%5D%2C%20%5B-75.47541%2C%206.38197%5D%2C%20%5B-75.47613%2C%206.38177%5D%2C%20%5B-75.47721%2C%206.3814%5D%2C%20%5B-75.47762%2C%206.3813%5D%2C%20%5B-75.47804%2C%206.38126%5D%2C%20%5B-75.47892%2C%206.38123%5D%2C%20%5B-75.47987%2C%206.38122%5D%2C%20%5B-75.48062%2C%206.38119%5D%2C%20%5B-75.48109%2C%206.38117%5D%2C%20%5B-75.48144%2C%206.38115%5D%2C%20%5B-75.4817%2C%206.38111%5D%2C%20%5B-75.48186%2C%206.38106%5D%2C%20%5B-75.48201%2C%206.38101%5D%2C%20%5B-75.48219%2C%206.38094%5D%2C%20%5B-75.4823%2C%206.38089%5D%2C%20%5B-75.48243%2C%206.38082%5D%2C%20%5B-75.48279%2C%206.38058%5D%2C%20%5B-75.4831%2C%206.38034%5D%2C%20%5B-75.48355%2C%206.38008%5D%2C%20%5B-75.48369%2C%206.38001%5D%2C%20%5B-75.48568%2C%206.37928%5D%2C%20%5B-75.486%2C%206.37907%5D%2C%20%5B-75.48615%2C%206.37896%5D%2C%20%5B-75.48631%2C%206.37882%5D%2C%20%5B-75.48752%2C%206.37777%5D%2C%20%5B-75.48805%2C%206.3774%5D%2C%20%5B-75.48867%2C%206.3769%5D%2C%20%5B-75.4889%2C%206.37668%5D%2C%20%5B-75.48903%2C%206.37651%5D%2C%20%5B-75.48915%2C%206.37633%5D%2C%20%5B-75.48997%2C%206.37392%5D%2C%20%5B-75.49007%2C%206.37339%5D%2C%20%5B-75.48999%2C%206.37125%5D%2C%20%5B-75.48993%2C%206.37043%5D%2C%20%5B-75.48999%2C%206.3698%5D%2C%20%5B-75.49014%2C%206.36934%5D%2C%20%5B-75.49026%2C%206.36904%5D%2C%20%5B-75.49036%2C%206.36881%5D%2C%20%5B-75.49053%2C%206.36841%5D%2C%20%5B-75.4907%2C%206.368%5D%2C%20%5B-75.4908%2C%206.36778%5D%2C%20%5B-75.49092%2C%206.36759%5D%2C%20%5B-75.49102%2C%206.36745%5D%2C%20%5B-75.49129%2C%206.36712%5D%2C%20%5B-75.49161%2C%206.36673%5D%2C%20%5B-75.49175%2C%206.36656%5D%2C%20%5B-75.49237%2C%206.36578%5D%2C%20%5B-75.49248%2C%206.36564%5D%2C%20%5B-75.49268%2C%206.36537%5D%2C%20%5B-75.49279%2C%206.36518%5D%2C%20%5B-75.49287%2C%206.36497%5D%2C%20%5B-75.49292%2C%206.36479%5D%2C%20%5B-75.49305%2C%206.36409%5D%2C%20%5B-75.4931%2C%206.36388%5D%2C%20%5B-75.49318%2C%206.36368%5D%2C%20%5B-75.49328%2C%206.36347%5D%2C%20%5B-75.49339%2C%206.3633%5D%2C%20%5B-75.49351%2C%206.36314%5D%2C%20%5B-75.49368%2C%206.36296%5D%2C%20%5B-75.49402%2C%206.36268%5D%2C%20%5B-75.49454%2C%206.36233%5D%2C%20%5B-75.49514%2C%206.36193%5D%2C%20%5B-75.49566%2C%206.3616%5D%2C%20%5B-75.4959%2C%206.36144%5D%2C%20%5B-75.4964%2C%206.36111%5D%2C%20%5B-75.49754%2C%206.36039%5D%2C%20%5B-75.49786%2C%206.3602%5D%2C%20%5B-75.49844%2C%206.3598%5D%2C%20%5B-75.49861%2C%206.35966%5D%2C%20%5B-75.49876%2C%206.35949%5D%2C%20%5B-75.49943%2C%206.35858%5D%2C%20%5B-75.49983%2C%206.35804%5D%2C%20%5B-75.50025%2C%206.35749%5D%2C%20%5B-75.50047%2C%206.35717%5D%2C%20%5B-75.50061%2C%206.35691%5D%2C%20%5B-75.50079%2C%206.35633%5D%2C%20%5B-75.50119%2C%206.35519%5D%2C%20%5B-75.50136%2C%206.3548%5D%2C%20%5B-75.5015%2C%206.35456%5D%2C%20%5B-75.50192%2C%206.354%5D%2C%20%5B-75.50252%2C%206.35328%5D%2C%20%5B-75.50277%2C%206.35307%5D%2C%20%5B-75.5029%2C%206.353%5D%2C%20%5B-75.50302%2C%206.35293%5D%2C%20%5B-75.50327%2C%206.35282%5D%2C%20%5B-75.50354%2C%206.35273%5D%2C%20%5B-75.50388%2C%206.35264%5D%2C%20%5B-75.50463%2C%206.35243%5D%2C%20%5B-75.5054%2C%206.35222%5D%2C%20%5B-75.50558%2C%206.35217%5D%2C%20%5B-75.50681%2C%206.35182%5D%2C%20%5B-75.50703%2C%206.35176%5D%2C%20%5B-75.50736%2C%206.35167%5D%2C%20%5B-75.50781%2C%206.35153%5D%2C%20%5B-75.50841%2C%206.35129%5D%2C%20%5B-75.5088%2C%206.35113%5D%2C%20%5B-75.5091%2C%206.35103%5D%2C%20%5B-75.50938%2C%206.35098%5D%2C%20%5B-75.50986%2C%206.3509%5D%2C%20%5B-75.51073%2C%206.35075%5D%2C%20%5B-75.51245%2C%206.35047%5D%2C%20%5B-75.51254%2C%206.35045%5D%2C%20%5B-75.51256%2C%206.35045%5D%2C%20%5B-75.51314%2C%206.35034%5D%2C%20%5B-75.51477%2C%206.34999%5D%2C%20%5B-75.51636%2C%206.34963%5D%2C%20%5B-75.51687%2C%206.34952%5D%2C%20%5B-75.51712%2C%206.34946%5D%2C%20%5B-75.51722%2C%206.34944%5D%2C%20%5B-75.5175%2C%206.34938%5D%2C%20%5B-75.51761%2C%206.34936%5D%2C%20%5B-75.51762%2C%206.34935%5D%2C%20%5B-75.51809%2C%206.34925%5D%2C%20%5B-75.51846%2C%206.34913%5D%2C%20%5B-75.5186%2C%206.34907%5D%2C%20%5B-75.51887%2C%206.3489%5D%2C%20%5B-75.51952%2C%206.34842%5D%2C%20%5B-75.51994%2C%206.34806%5D%2C%20%5B-75.51998%2C%206.34803%5D%2C%20%5B-75.52065%2C%206.34749%5D%2C%20%5B-75.5208%2C%206.34737%5D%2C%20%5B-75.52136%2C%206.34691%5D%2C%20%5B-75.52143%2C%206.34686%5D%2C%20%5B-75.52177%2C%206.34661%5D%2C%20%5B-75.52185%2C%206.34656%5D%2C%20%5B-75.52197%2C%206.34648%5D%2C%20%5B-75.52223%2C%206.34632%5D%2C%20%5B-75.52253%2C%206.34616%5D%2C%20%5B-75.52311%2C%206.34589%5D%2C%20%5B-75.52335%2C%206.3458%5D%2C%20%5B-75.52361%2C%206.34571%5D%2C%20%5B-75.52374%2C%206.34568%5D%2C%20%5B-75.52424%2C%206.34556%5D%2C%20%5B-75.52545%2C%206.34538%5D%2C%20%5B-75.52552%2C%206.34536%5D%2C%20%5B-75.52579%2C%206.3453%5D%2C%20%5B-75.52605%2C%206.34526%5D%2C%20%5B-75.5271%2C%206.34517%5D%2C%20%5B-75.52764%2C%206.34506%5D%2C%20%5B-75.52791%2C%206.345%5D%2C%20%5B-75.52812%2C%206.34497%5D%2C%20%5B-75.52898%2C%206.34483%5D%2C%20%5B-75.52965%2C%206.34472%5D%2C%20%5B-75.52999%2C%206.34468%5D%2C%20%5B-75.53008%2C%206.34466%5D%2C%20%5B-75.53017%2C%206.34465%5D%2C%20%5B-75.53065%2C%206.34456%5D%2C%20%5B-75.53114%2C%206.34443%5D%2C%20%5B-75.53139%2C%206.34436%5D%2C%20%5B-75.5315%2C%206.34432%5D%2C%20%5B-75.53174%2C%206.34421%5D%2C%20%5B-75.53205%2C%206.34406%5D%2C%20%5B-75.53236%2C%206.3439%5D%2C%20%5B-75.53269%2C%206.34371%5D%2C%20%5B-75.53285%2C%206.34362%5D%2C%20%5B-75.53289%2C%206.34359%5D%2C%20%5B-75.53323%2C%206.34336%5D%2C%20%5B-75.53338%2C%206.34327%5D%2C%20%5B-75.53452%2C%206.34246%5D%2C%20%5B-75.53503%2C%206.34211%5D%2C%20%5B-75.53515%2C%206.342%5D%2C%20%5B-75.53534%2C%206.34187%5D%2C%20%5B-75.53574%2C%206.34162%5D%2C%20%5B-75.5361%2C%206.34141%5D%2C%20%5B-75.5366%2C%206.3411%5D%2C%20%5B-75.53665%2C%206.34107%5D%2C%20%5B-75.53862%2C%206.33988%5D%2C%20%5B-75.5388%2C%206.33977%5D%2C%20%5B-75.53888%2C%206.33972%5D%2C%20%5B-75.53958%2C%206.33935%5D%2C%20%5B-75.53981%2C%206.33924%5D%2C%20%5B-75.5399%2C%206.33921%5D%2C%20%5B-75.5401%2C%206.33913%5D%2C%20%5B-75.54106%2C%206.33885%5D%2C%20%5B-75.54241%2C%206.33848%5D%2C%20%5B-75.5427%2C%206.33839%5D%2C%20%5B-75.54303%2C%206.33834%5D%2C%20%5B-75.54354%2C%206.33831%5D%2C%20%5B-75.54394%2C%206.33828%5D%2C%20%5B-75.544%2C%206.33828%5D%2C%20%5B-75.54408%2C%206.33828%5D%2C%20%5B-75.54418%2C%206.33827%5D%2C%20%5B-75.54434%2C%206.33824%5D%2C%20%5B-75.54458%2C%206.33819%5D%2C%20%5B-75.54467%2C%206.33816%5D%2C%20%5B-75.54475%2C%206.33813%5D%2C%20%5B-75.5449%2C%206.33804%5D%2C%20%5B-75.54498%2C%206.33797%5D%2C%20%5B-75.54501%2C%206.33793%5D%2C%20%5B-75.54506%2C%206.33783%5D%2C%20%5B-75.54508%2C%206.33777%5D%2C%20%5B-75.54509%2C%206.33762%5D%2C%20%5B-75.54505%2C%206.33748%5D%2C%20%5B-75.545%2C%206.33743%5D%2C%20%5B-75.54494%2C%206.33736%5D%2C%20%5B-75.54487%2C%206.33731%5D%2C%20%5B-75.54477%2C%206.33725%5D%2C%20%5B-75.54467%2C%206.33722%5D%2C%20%5B-75.54457%2C%206.33709%5D%2C%20%5B-75.54446%2C%206.33688%5D%2C%20%5B-75.54442%2C%206.33668%5D%2C%20%5B-75.54456%2C%206.33556%5D%2C%20%5B-75.54461%2C%206.33506%5D%2C%20%5B-75.54467%2C%206.33456%5D%2C%20%5B-75.5447%2C%206.33442%5D%2C%20%5B-75.54477%2C%206.33424%5D%2C%20%5B-75.54492%2C%206.33401%5D%2C%20%5B-75.54506%2C%206.33386%5D%2C%20%5B-75.5452%2C%206.33375%5D%2C%20%5B-75.54534%2C%206.33366%5D%2C%20%5B-75.54575%2C%206.33349%5D%2C%20%5B-75.54862%2C%206.33242%5D%2C%20%5B-75.54874%2C%206.33235%5D%2C%20%5B-75.54897%2C%206.33218%5D%2C%20%5B-75.54906%2C%206.3321%5D%2C%20%5B-75.54925%2C%206.33189%5D%2C%20%5B-75.54937%2C%206.33175%5D%2C%20%5B-75.55061%2C%206.32994%5D%2C%20%5B-75.55076%2C%206.32972%5D%2C%20%5B-75.55091%2C%206.32951%5D%2C%20%5B-75.55099%2C%206.32939%5D%2C%20%5B-75.55141%2C%206.32877%5D%2C%20%5B-75.5525%2C%206.32718%5D%2C%20%5B-75.55269%2C%206.32687%5D%2C%20%5B-75.5538%2C%206.32496%5D%2C%20%5B-75.55397%2C%206.32465%5D%2C%20%5B-75.55409%2C%206.32437%5D%2C%20%5B-75.55428%2C%206.32377%5D%2C%20%5B-75.5544%2C%206.32329%5D%2C%20%5B-75.55455%2C%206.3223%5D%2C%20%5B-75.5547%2C%206.32155%5D%2C%20%5B-75.55483%2C%206.32053%5D%2C%20%5B-75.55508%2C%206.31938%5D%2C%20%5B-75.55517%2C%206.31908%5D%2C%20%5B-75.55519%2C%206.31903%5D%2C%20%5B-75.55555%2C%206.318%5D%2C%20%5B-75.55559%2C%206.31785%5D%2C%20%5B-75.55571%2C%206.31734%5D%2C%20%5B-75.55578%2C%206.31673%5D%2C%20%5B-75.55577%2C%206.31636%5D%2C%20%5B-75.55571%2C%206.31513%5D%2C%20%5B-75.55565%2C%206.31434%5D%2C%20%5B-75.55566%2C%206.31409%5D%2C%20%5B-75.55568%2C%206.31368%5D%2C%20%5B-75.55572%2C%206.31341%5D%2C%20%5B-75.55579%2C%206.31315%5D%2C%20%5B-75.5559%2C%206.31291%5D%2C%20%5B-75.55614%2C%206.31246%5D%2C%20%5B-75.55631%2C%206.31219%5D%2C%20%5B-75.55652%2C%206.31194%5D%2C%20%5B-75.55681%2C%206.31161%5D%2C%20%5B-75.55693%2C%206.31147%5D%2C%20%5B-75.55708%2C%206.31129%5D%2C%20%5B-75.55731%2C%206.31101%5D%2C%20%5B-75.55745%2C%206.31084%5D%2C%20%5B-75.55776%2C%206.31037%5D%2C%20%5B-75.55794%2C%206.31013%5D%2C%20%5B-75.55802%2C%206.31001%5D%2C%20%5B-75.55807%2C%206.30994%5D%2C%20%5B-75.55821%2C%206.3097%5D%2C%20%5B-75.55832%2C%206.3095%5D%2C%20%5B-75.55842%2C%206.30922%5D%2C%20%5B-75.55849%2C%206.30899%5D%2C%20%5B-75.55852%2C%206.30882%5D%2C%20%5B-75.55854%2C%206.30865%5D%2C%20%5B-75.55854%2C%206.30833%5D%2C%20%5B-75.55832%2C%206.30704%5D%2C%20%5B-75.55824%2C%206.30657%5D%2C%20%5B-75.55818%2C%206.30622%5D%2C%20%5B-75.55813%2C%206.30585%5D%2C%20%5B-75.55805%2C%206.30512%5D%2C%20%5B-75.55798%2C%206.30448%5D%2C%20%5B-75.55797%2C%206.30418%5D%2C%20%5B-75.55799%2C%206.30392%5D%2C%20%5B-75.55809%2C%206.30345%5D%2C%20%5B-75.55817%2C%206.30317%5D%2C%20%5B-75.55825%2C%206.30285%5D%2C%20%5B-75.5584%2C%206.30228%5D%2C%20%5B-75.55863%2C%206.30158%5D%2C%20%5B-75.55869%2C%206.30133%5D%2C%20%5B-75.55877%2C%206.30105%5D%2C%20%5B-75.55894%2C%206.30055%5D%2C%20%5B-75.55951%2C%206.29924%5D%2C%20%5B-75.55988%2C%206.29834%5D%2C%20%5B-75.56001%2C%206.29811%5D%2C%20%5B-75.56038%2C%206.2976%5D%2C%20%5B-75.56056%2C%206.2974%5D%2C%20%5B-75.56143%2C%206.29636%5D%2C%20%5B-75.56217%2C%206.29558%5D%2C%20%5B-75.56224%2C%206.29551%5D%2C%20%5B-75.56233%2C%206.29541%5D%2C%20%5B-75.56343%2C%206.29427%5D%2C%20%5B-75.56353%2C%206.29413%5D%2C%20%5B-75.56364%2C%206.29387%5D%2C%20%5B-75.56365%2C%206.29384%5D%2C%20%5B-75.56367%2C%206.29376%5D%2C%20%5B-75.56367%2C%206.29375%5D%2C%20%5B-75.56408%2C%206.29197%5D%2C%20%5B-75.56415%2C%206.29173%5D%2C%20%5B-75.56421%2C%206.29158%5D%2C%20%5B-75.56427%2C%206.29147%5D%2C%20%5B-75.56433%2C%206.29139%5D%2C%20%5B-75.56594%2C%206.28941%5D%2C%20%5B-75.5661%2C%206.28912%5D%2C%20%5B-75.56616%2C%206.28893%5D%2C%20%5B-75.56622%2C%206.28865%5D%2C%20%5B-75.56626%2C%206.28834%5D%2C%20%5B-75.56631%2C%206.28768%5D%2C%20%5B-75.56635%2C%206.28752%5D%2C%20%5B-75.56639%2C%206.28734%5D%2C%20%5B-75.56643%2C%206.28721%5D%2C%20%5B-75.56655%2C%206.28699%5D%2C%20%5B-75.56778%2C%206.28563%5D%2C%20%5B-75.56785%2C%206.28554%5D%2C%20%5B-75.56791%2C%206.28548%5D%2C%20%5B-75.56799%2C%206.28536%5D%2C%20%5B-75.56832%2C%206.28473%5D%2C%20%5B-75.56859%2C%206.28429%5D%2C%20%5B-75.56882%2C%206.28384%5D%2C%20%5B-75.56896%2C%206.28352%5D%2C%20%5B-75.56901%2C%206.28335%5D%2C%20%5B-75.56901%2C%206.28318%5D%2C%20%5B-75.56896%2C%206.28165%5D%2C%20%5B-75.56899%2C%206.28123%5D%2C%20%5B-75.56904%2C%206.28084%5D%2C%20%5B-75.56914%2C%206.28036%5D%2C%20%5B-75.56995%2C%206.27677%5D%2C%20%5B-75.57038%2C%206.27481%5D%2C%20%5B-75.57041%2C%206.2747%5D%2C%20%5B-75.57049%2C%206.27434%5D%2C%20%5B-75.57119%2C%206.27116%5D%2C%20%5B-75.57161%2C%206.26935%5D%2C%20%5B-75.57171%2C%206.26892%5D%2C%20%5B-75.57242%2C%206.26574%5D%2C%20%5B-75.57272%2C%206.2646%5D%2C%20%5B-75.5729%2C%206.264%5D%2C%20%5B-75.57352%2C%206.26218%5D%2C%20%5B-75.57374%2C%206.26168%5D%2C%20%5B-75.57419%2C%206.26075%5D%2C%20%5B-75.57446%2C%206.26022%5D%2C%20%5B-75.5746%2C%206.25989%5D%2C%20%5B-75.57477%2C%206.25952%5D%2C%20%5B-75.57519%2C%206.25866%5D%2C%20%5B-75.57605%2C%206.25706%5D%2C%20%5B-75.57779%2C%206.25392%5D%2C%20%5B-75.57854%2C%206.25265%5D%2C%20%5B-75.57858%2C%206.25259%5D%2C%20%5B-75.57891%2C%206.252%5D%2C%20%5B-75.57932%2C%206.25124%5D%2C%20%5B-75.57947%2C%206.25096%5D%2C%20%5B-75.57953%2C%206.25085%5D%2C%20%5B-75.5796%2C%206.25072%5D%2C%20%5B-75.57969%2C%206.25054%5D%2C%20%5B-75.57983%2C%206.25025%5D%2C%20%5B-75.57998%2C%206.2497%5D%2C%20%5B-75.58003%2C%206.24956%5D%2C%20%5B-75.58014%2C%206.24937%5D%2C%20%5B-75.58039%2C%206.24891%5D%2C%20%5B-75.58048%2C%206.24866%5D%2C%20%5B-75.58055%2C%206.24802%5D%2C%20%5B-75.58049%2C%206.24765%5D%2C%20%5B-75.58043%2C%206.24733%5D%2C%20%5B-75.58034%2C%206.24705%5D%2C%20%5B-75.58013%2C%206.24643%5D%2C%20%5B-75.57981%2C%206.24548%5D%2C%20%5B-75.57963%2C%206.24488%5D%2C%20%5B-75.57941%2C%206.24428%5D%2C%20%5B-75.57845%2C%206.2414%5D%2C%20%5B-75.57833%2C%206.24101%5D%2C%20%5B-75.57829%2C%206.24084%5D%2C%20%5B-75.57819%2C%206.24058%5D%2C%20%5B-75.57791%2C%206.24019%5D%2C%20%5B-75.57723%2C%206.23806%5D%2C%20%5B-75.57673%2C%206.23664%5D%2C%20%5B-75.57665%2C%206.23621%5D%2C%20%5B-75.5765%2C%206.23578%5D%2C%20%5B-75.57633%2C%206.23528%5D%2C%20%5B-75.57625%2C%206.23506%5D%2C%20%5B-75.57624%2C%206.23504%5D%2C%20%5B-75.57622%2C%206.23496%5D%2C%20%5B-75.57619%2C%206.23488%5D%2C%20%5B-75.57627%2C%206.23436%5D%2C%20%5B-75.57637%2C%206.23396%5D%2C%20%5B-75.57662%2C%206.23316%5D%2C%20%5B-75.57677%2C%206.23248%5D%2C%20%5B-75.57682%2C%206.23239%5D%2C%20%5B-75.57689%2C%206.23232%5D%2C%20%5B-75.57713%2C%206.23213%5D%2C%20%5B-75.57721%2C%206.23208%5D%2C%20%5B-75.57733%2C%206.23203%5D%2C%20%5B-75.57738%2C%206.23201%5D%2C%20%5B-75.57745%2C%206.23199%5D%2C%20%5B-75.57755%2C%206.232%5D%2C%20%5B-75.57779%2C%206.232%5D%2C%20%5B-75.57787%2C%206.232%5D%2C%20%5B-75.57825%2C%206.23198%5D%2C%20%5B-75.57967%2C%206.23191%5D%2C%20%5B-75.57983%2C%206.23191%5D%2C%20%5B-75.57984%2C%206.23187%5D%2C%20%5B-75.57985%2C%206.23178%5D%2C%20%5B-75.57985%2C%206.23173%5D%2C%20%5B-75.5797%2C%206.23174%5D%2C%20%5B-75.57914%2C%206.23176%5D%2C%20%5B-75.57868%2C%206.23178%5D%2C%20%5B-75.57859%2C%206.23178%5D%2C%20%5B-75.57846%2C%206.23181%5D%2C%20%5B-75.57842%2C%206.23182%5D%2C%20%5B-75.57829%2C%206.23183%5D%2C%20%5B-75.57815%2C%206.23184%5D%2C%20%5B-75.57801%2C%206.23185%5D%2C%20%5B-75.57767%2C%206.23184%5D%2C%20%5B-75.57727%2C%206.23177%5D%2C%20%5B-75.577%2C%206.23167%5D%2C%20%5B-75.57685%2C%206.23162%5D%2C%20%5B-75.57676%2C%206.2316%5D%2C%20%5B-75.57668%2C%206.23158%5D%2C%20%5B-75.57628%2C%206.23148%5D%2C%20%5B-75.57619%2C%206.23145%5D%2C%20%5B-75.57496%2C%206.23109%5D%2C%20%5B-75.57405%2C%206.23082%5D%2C%20%5B-75.57378%2C%206.23069%5D%2C%20%5B-75.57369%2C%206.23063%5D%2C%20%5B-75.57316%2C%206.2302%5D%2C%20%5B-75.57307%2C%206.23013%5D%2C%20%5B-75.57205%2C%206.22938%5D%2C%20%5B-75.5715%2C%206.22898%5D%2C%20%5B-75.57145%2C%206.22894%5D%2C%20%5B-75.57135%2C%206.22887%5D%2C%20%5B-75.57089%2C%206.22853%5D%2C%20%5B-75.5708%2C%206.22847%5D%2C%20%5B-75.57074%2C%206.22842%5D%2C%20%5B-75.57007%2C%206.22793%5D%2C%20%5B-75.56981%2C%206.22775%5D%2C%20%5B-75.56971%2C%206.22764%5D%2C%20%5B-75.56955%2C%206.2274%5D%2C%20%5B-75.56954%2C%206.22737%5D%2C%20%5B-75.56944%2C%206.22718%5D%2C%20%5B-75.56937%2C%206.22701%5D%2C%20%5B-75.56933%2C%206.22681%5D%2C%20%5B-75.56932%2C%206.22653%5D%2C%20%5B-75.56927%2C%206.22594%5D%2C%20%5B-75.5693%2C%206.22513%5D%2C%20%5B-75.56929%2C%206.2243%5D%2C%20%5B-75.56929%2C%206.22338%5D%2C%20%5B-75.56931%2C%206.22306%5D%2C%20%5B-75.56933%2C%206.22273%5D%2C%20%5B-75.56933%2C%206.22265%5D%2C%20%5B-75.56934%2C%206.22254%5D%2C%20%5B-75.56935%2C%206.2225%5D%2C%20%5B-75.56943%2C%206.22216%5D%2C%20%5B-75.56945%2C%206.22202%5D%2C%20%5B-75.56949%2C%206.22154%5D%2C%20%5B-75.56949%2C%206.22111%5D%2C%20%5B-75.56948%2C%206.22075%5D%2C%20%5B-75.56949%2C%206.22051%5D%2C%20%5B-75.5695%2C%206.22018%5D%2C%20%5B-75.56952%2C%206.22002%5D%2C%20%5B-75.56959%2C%206.21969%5D%2C%20%5B-75.56981%2C%206.21869%5D%2C%20%5B-75.56995%2C%206.21783%5D%2C%20%5B-75.56999%2C%206.2173%5D%2C%20%5B-75.57001%2C%206.21699%5D%2C%20%5B-75.57003%2C%206.21642%5D%2C%20%5B-75.57003%2C%206.21601%5D%2C%20%5B-75.57002%2C%206.21554%5D%2C%20%5B-75.57002%2C%206.21526%5D%2C%20%5B-75.57004%2C%206.21476%5D%2C%20%5B-75.57004%2C%206.21464%5D%2C%20%5B-75.57004%2C%206.21387%5D%2C%20%5B-75.57004%2C%206.2129%5D%2C%20%5B-75.57004%2C%206.21284%5D%2C%20%5B-75.57004%2C%206.21279%5D%2C%20%5B-75.57004%2C%206.21277%5D%2C%20%5B-75.57006%2C%206.21225%5D%2C%20%5B-75.57009%2C%206.21203%5D%2C%20%5B-75.5701%2C%206.21192%5D%2C%20%5B-75.57016%2C%206.21165%5D%2C%20%5B-75.57025%2C%206.21135%5D%2C%20%5B-75.57027%2C%206.21128%5D%2C%20%5B-75.57031%2C%206.21118%5D%2C%20%5B-75.5705%2C%206.21069%5D%2C%20%5B-75.57052%2C%206.21063%5D%2C%20%5B-75.57056%2C%206.21053%5D%2C%20%5B-75.57065%2C%206.21028%5D%2C%20%5B-75.57081%2C%206.20986%5D%2C%20%5B-75.57119%2C%206.21001%5D%2C%20%5B-75.57139%2C%206.21009%5D%2C%20%5B-75.57144%2C%206.21011%5D%2C%20%5B-75.57225%2C%206.21041%5D%2C%20%5B-75.57308%2C%206.21072%5D%2C%20%5B-75.57314%2C%206.21074%5D%2C%20%5B-75.57286%2C%206.21152%5D%2C%20%5B-75.5725%2C%206.21138%5D%2C%20%5B-75.5721%2C%206.21229%5D%2C%20%5B-75.57234%2C%206.2124%5D%2C%20%5B-75.57258%2C%206.21252%5D%2C%20%5B-75.57276%2C%206.21264%5D%2C%20%5B-75.57289%2C%206.21271%5D%2C%20%5B-75.57301%2C%206.21277%5D%2C%20%5B-75.57313%2C%206.21282%5D%2C%20%5B-75.57327%2C%206.21284%5D%2C%20%5B-75.57374%2C%206.21286%5D%2C%20%5B-75.5739%2C%206.21288%5D%2C%20%5B-75.57411%2C%206.21292%5D%2C%20%5B-75.5742%2C%206.21293%5D%2C%20%5B-75.57453%2C%206.21301%5D%2C%20%5B-75.57473%2C%206.21306%5D%2C%20%5B-75.5753%2C%206.21311%5D%2C%20%5B-75.5755%2C%206.21315%5D%2C%20%5B-75.57581%2C%206.21323%5D%2C%20%5B-75.5763%2C%206.21334%5D%2C%20%5B-75.57641%2C%206.21343%5D%2C%20%5B-75.57655%2C%206.21353%5D%2C%20%5B-75.57663%2C%206.21356%5D%2C%20%5B-75.57715%2C%206.21369%5D%2C%20%5B-75.57726%2C%206.21373%5D%2C%20%5B-75.57734%2C%206.21378%5D%2C%20%5B-75.5774%2C%206.21385%5D%2C%20%5B-75.57743%2C%206.2139%5D%2C%20%5B-75.57746%2C%206.21406%5D%2C%20%5B-75.57744%2C%206.21417%5D%2C%20%5B-75.57735%2C%206.21479%5D%2C%20%5B-75.57734%2C%206.21492%5D%2C%20%5B-75.57735%2C%206.21502%5D%2C%20%5B-75.57739%2C%206.21526%5D%2C%20%5B-75.57709%2C%206.21711%5D%2C%20%5B-75.57709%2C%206.21713%5D%2C%20%5B-75.57706%2C%206.21729%5D%2C%20%5B-75.57696%2C%206.21795%5D%2C%20%5B-75.57686%2C%206.21865%5D%2C%20%5B-75.57684%2C%206.21875%5D%2C%20%5B-75.57666%2C%206.21994%5D%2C%20%5B-75.57661%2C%206.22042%5D%2C%20%5B-75.57649%2C%206.22131%5D%2C%20%5B-75.57648%2C%206.22138%5D%2C%20%5B-75.57621%2C%206.22323%5D%2C%20%5B-75.57615%2C%206.2237%5D%2C%20%5B-75.57606%2C%206.22441%5D%2C%20%5B-75.57603%2C%206.22469%5D%2C%20%5B-75.57591%2C%206.22555%5D%2C%20%5B-75.57588%2C%206.22581%5D%2C%20%5B-75.57574%2C%206.22682%5D%2C%20%5B-75.57567%2C%206.22734%5D%2C%20%5B-75.57568%2C%206.22829%5D%2C%20%5B-75.57531%2C%206.23097%5D%2C%20%5B-75.57514%2C%206.2321%5D%2C%20%5B-75.57505%2C%206.23286%5D%2C%20%5B-75.57503%2C%206.23335%5D%2C%20%5B-75.57507%2C%206.23363%5D%2C%20%5B-75.5752%2C%206.23408%5D%2C%20%5B-75.57597%2C%206.23628%5D%2C%20%5B-75.57681%2C%206.23871%5D%2C%20%5B-75.57699%2C%206.23923%5D%2C%20%5B-75.57733%2C%206.2402%5D%2C%20%5B-75.57756%2C%206.24092%5D%2C%20%5B-75.57783%2C%206.24185%5D%2C%20%5B-75.57919%2C%206.24578%5D%2C%20%5B-75.5795%2C%206.24694%5D%2C%20%5B-75.57966%2C%206.24746%5D%2C%20%5B-75.57969%2C%206.24758%5D%2C%20%5B-75.57975%2C%206.24795%5D%2C%20%5B-75.57973%2C%206.24834%5D%2C%20%5B-75.5797%2C%206.24844%5D%2C%20%5B-75.57965%2C%206.2486%5D%2C%20%5B-75.57959%2C%206.24876%5D%2C%20%5B-75.57943%2C%206.24905%5D%2C%20%5B-75.57918%2C%206.24949%5D%2C%20%5B-75.57891%2C%206.24998%5D%2C%20%5B-75.57849%2C%206.25074%5D%2C%20%5B-75.57824%2C%206.25148%5D%2C%20%5B-75.57806%2C%206.25184%5D%2C%20%5B-75.57706%2C%206.25369%5D%2C%20%5B-75.57633%2C%206.25506%5D%2C%20%5B-75.57601%2C%206.25565%5D%2C%20%5B-75.57534%2C%206.25681%5D%2C%20%5B-75.57441%2C%206.25839%5D%2C%20%5B-75.57369%2C%206.25958%5D%2C%20%5B-75.57357%2C%206.25984%5D%2C%20%5B-75.57347%2C%206.26006%5D%2C%20%5B-75.57323%2C%206.26068%5D%2C%20%5B-75.57291%2C%206.26152%5D%2C%20%5B-75.57257%2C%206.26241%5D%2C%20%5B-75.57198%2C%206.26413%5D%2C%20%5B-75.57183%2C%206.26468%5D%2C%20%5B-75.57158%2C%206.26569%5D%2C%20%5B-75.57131%2C%206.26684%5D%2C%20%5B-75.5711%2C%206.26773%5D%2C%20%5B-75.57069%2C%206.26953%5D%2C%20%5B-75.57027%2C%206.27139%5D%2C%20%5B-75.57011%2C%206.2721%5D%2C%20%5B-75.57009%2C%206.27222%5D%2C%20%5B-75.56976%2C%206.27369%5D%2C%20%5B-75.5696%2C%206.27435%5D%2C%20%5B-75.56946%2C%206.27451%5D%2C%20%5B-75.5694%2C%206.2746%5D%2C%20%5B-75.56936%2C%206.27468%5D%2C%20%5B-75.56934%2C%206.27476%5D%2C%20%5B-75.56926%2C%206.27507%5D%2C%20%5B-75.56918%2C%206.27547%5D%2C%20%5B-75.56905%2C%206.27611%5D%2C%20%5B-75.56901%2C%206.27619%5D%2C%20%5B-75.56896%2C%206.27625%5D%2C%20%5B-75.5689%2C%206.2763%5D%2C%20%5B-75.56882%2C%206.27632%5D%2C%20%5B-75.56874%2C%206.27633%5D%2C%20%5B-75.56866%2C%206.27631%5D%2C%20%5B-75.56859%2C%206.27627%5D%2C%20%5B-75.56853%2C%206.27621%5D%2C%20%5B-75.56849%2C%206.27615%5D%2C%20%5B-75.56847%2C%206.27607%5D%2C%20%5B-75.56847%2C%206.276%5D%2C%20%5B-75.56849%2C%206.27592%5D%2C%20%5B-75.56853%2C%206.27585%5D%2C%20%5B-75.56859%2C%206.2758%5D%2C%20%5B-75.56872%2C%206.27574%5D%2C%20%5B-75.56884%2C%206.2757%5D%2C%20%5B-75.56898%2C%206.27574%5D%2C%20%5B-75.57083%2C%206.27617%5D%2C%20%5B-75.57131%2C%206.27628%5D%2C%20%5B-75.57149%2C%206.27632%5D%2C%20%5B-75.57162%2C%206.27637%5D%2C%20%5B-75.57172%2C%206.27642%5D%2C%20%5B-75.57181%2C%206.2765%5D%2C%20%5B-75.5719%2C%206.27659%5D%2C%20%5B-75.572%2C%206.27672%5D%2C%20%5B-75.57204%2C%206.27684%5D%2C%20%5B-75.57209%2C%206.27693%5D%2C%20%5B-75.57215%2C%206.27701%5D%2C%20%5B-75.57221%2C%206.27706%5D%2C%20%5B-75.57224%2C%206.27708%5D%2C%20%5B-75.5723%2C%206.2771%5D%2C%20%5B-75.57243%2C%206.2771%5D%2C%20%5B-75.57247%2C%206.27709%5D%2C%20%5B-75.57256%2C%206.27705%5D%2C%20%5B-75.57263%2C%206.27699%5D%2C%20%5B-75.57268%2C%206.27692%5D%2C%20%5B-75.57282%2C%206.27636%5D%2C%20%5B-75.57293%2C%206.27606%5D%2C%20%5B-75.57306%2C%206.27576%5D%2C%20%5B-75.57316%2C%206.27566%5D%2C%20%5B-75.57326%2C%206.2756%5D%2C%20%5B-75.57335%2C%206.27556%5D%2C%20%5B-75.57345%2C%206.27552%5D%2C%20%5B-75.57359%2C%206.27547%5D%2C%20%5B-75.57356%2C%206.27559%5D%2C%20%5B-75.57351%2C%206.27574%5D%2C%20%5B-75.57336%2C%206.27629%5D%2C%20%5B-75.57319%2C%206.27688%5D%2C%20%5B-75.5731%2C%206.27723%5D%2C%20%5B-75.57302%2C%206.2775%5D%2C%20%5B-75.57295%2C%206.27778%5D%2C%20%5B-75.57279%2C%206.27836%5D%2C%20%5B-75.57262%2C%206.27899%5D%2C%20%5B-75.57251%2C%206.27942%5D%2C%20%5B-75.57238%2C%206.28004%5D%2C%20%5B-75.57215%2C%206.28182%5D%2C%20%5B-75.57212%2C%206.28197%5D%2C%20%5B-75.57208%2C%206.28209%5D%2C%20%5B-75.57204%2C%206.28219%5D%2C%20%5B-75.57193%2C%206.28259%5D%2C%20%5B-75.5718%2C%206.28318%5D%2C%20%5B-75.57178%2C%206.28329%5D%2C%20%5B-75.57174%2C%206.28345%5D%2C%20%5B-75.57169%2C%206.28359%5D%2C%20%5B-75.57165%2C%206.28367%5D%2C%20%5B-75.57161%2C%206.28375%5D%2C%20%5B-75.57118%2C%206.28456%5D%2C%20%5B-75.57077%2C%206.28541%5D%2C%20%5B-75.57068%2C%206.28567%5D%2C%20%5B-75.57064%2C%206.2858%5D%2C%20%5B-75.57049%2C%206.28626%5D%2C%20%5B-75.57022%2C%206.28708%5D%2C%20%5B-75.57019%2C%206.28726%5D%2C%20%5B-75.57019%2C%206.28745%5D%2C%20%5B-75.57026%2C%206.28791%5D%2C%20%5B-75.57028%2C%206.28803%5D%2C%20%5B-75.57029%2C%206.28812%5D%2C%20%5B-75.57034%2C%206.28846%5D%2C%20%5B-75.57035%2C%206.28869%5D%2C%20%5B-75.57034%2C%206.28886%5D%2C%20%5B-75.57029%2C%206.28905%5D%2C%20%5B-75.57028%2C%206.28908%5D%2C%20%5B-75.57024%2C%206.28918%5D%2C%20%5B-75.56982%2C%206.2904%5D%2C%20%5B-75.56979%2C%206.2905%5D%2C%20%5B-75.56977%2C%206.29054%5D%2C%20%5B-75.56963%2C%206.29096%5D%2C%20%5B-75.56949%2C%206.29139%5D%2C%20%5B-75.56947%2C%206.29146%5D%2C%20%5B-75.56931%2C%206.29174%5D%2C%20%5B-75.56916%2C%206.2919%5D%2C%20%5B-75.56905%2C%206.29203%5D%2C%20%5B-75.56891%2C%206.29218%5D%2C%20%5B-75.56885%2C%206.29223%5D%2C%20%5B-75.56878%2C%206.29227%5D%2C%20%5B-75.56868%2C%206.29228%5D%2C%20%5B-75.56854%2C%206.29227%5D%2C%20%5B-75.56811%2C%206.29213%5D%2C%20%5B-75.5676%2C%206.29196%5D%2C%20%5B-75.56709%2C%206.2918%5D%2C%20%5B-75.56711%2C%206.29173%5D%2C%20%5B-75.5676%2C%206.29189%5D%2C%20%5B-75.56773%2C%206.29193%5D%2C%20%5B-75.56805%2C%206.29203%5D%2C%20%5B-75.56819%2C%206.29208%5D%2C%20%5B-75.56828%2C%206.2921%5D%2C%20%5B-75.56818%2C%206.29243%5D%2C%20%5B-75.56805%2C%206.29284%5D%2C%20%5B-75.56785%2C%206.29345%5D%2C%20%5B-75.56758%2C%206.29428%5D%2C%20%5B-75.56738%2C%206.29493%5D%2C%20%5B-75.5672%2C%206.29553%5D%2C%20%5B-75.56711%2C%206.29583%5D%2C%20%5B-75.56682%2C%206.29679%5D%2C%20%5B-75.56671%2C%206.29713%5D%2C%20%5B-75.56667%2C%206.29727%5D%2C%20%5B-75.56657%2C%206.29758%5D%2C%20%5B-75.56655%2C%206.29765%5D%2C%20%5B-75.5664%2C%206.29806%5D%2C%20%5B-75.56635%2C%206.29817%5D%2C%20%5B-75.56625%2C%206.29841%5D%2C%20%5B-75.56601%2C%206.29883%5D%2C%20%5B-75.56584%2C%206.29905%5D%2C%20%5B-75.56579%2C%206.2991%5D%2C%20%5B-75.56556%2C%206.29936%5D%2C%20%5B-75.56481%2C%206.30014%5D%2C%20%5B-75.56478%2C%206.30018%5D%2C%20%5B-75.5645%2C%206.30045%5D%2C%20%5B-75.56427%2C%206.30069%5D%2C%20%5B-75.56406%2C%206.30094%5D%2C%20%5B-75.56386%2C%206.30133%5D%2C%20%5B-75.56366%2C%206.3017%5D%2C%20%5B-75.56351%2C%206.302%5D%2C%20%5B-75.56336%2C%206.30221%5D%2C%20%5B-75.56325%2C%206.30236%5D%2C%20%5B-75.56312%2C%206.30251%5D%2C%20%5B-75.56301%2C%206.30262%5D%2C%20%5B-75.56271%2C%206.30285%5D%2C%20%5B-75.56252%2C%206.30295%5D%2C%20%5B-75.56208%2C%206.30313%5D%2C%20%5B-75.56162%2C%206.30331%5D%2C%20%5B-75.56131%2C%206.30345%5D%2C%20%5B-75.5612%2C%206.30351%5D%2C%20%5B-75.5611%2C%206.30356%5D%2C%20%5B-75.56095%2C%206.30367%5D%2C%20%5B-75.56081%2C%206.30378%5D%2C%20%5B-75.56077%2C%206.30383%5D%2C%20%5B-75.56056%2C%206.30416%5D%2C%20%5B-75.56052%2C%206.30425%5D%2C%20%5B-75.56042%2C%206.30449%5D%2C%20%5B-75.56035%2C%206.30481%5D%2C%20%5B-75.56035%2C%206.30496%5D%2C%20%5B-75.56036%2C%206.30598%5D%2C%20%5B-75.56038%2C%206.30622%5D%2C%20%5B-75.56039%2C%206.30635%5D%2C%20%5B-75.56041%2C%206.30664%5D%2C%20%5B-75.5604%2C%206.30707%5D%2C%20%5B-75.56038%2C%206.30719%5D%2C%20%5B-75.56037%2C%206.30727%5D%2C%20%5B-75.56037%2C%206.30729%5D%2C%20%5B-75.56025%2C%206.30792%5D%2C%20%5B-75.56019%2C%206.30815%5D%2C%20%5B-75.56016%2C%206.30825%5D%2C%20%5B-75.56012%2C%206.3084%5D%2C%20%5B-75.5599%2C%206.30898%5D%2C%20%5B-75.55983%2C%206.30917%5D%2C%20%5B-75.55981%2C%206.30923%5D%2C%20%5B-75.55978%2C%206.30929%5D%2C%20%5B-75.55973%2C%206.30942%5D%2C%20%5B-75.55967%2C%206.30959%5D%2C%20%5B-75.55956%2C%206.30988%5D%2C%20%5B-75.55944%2C%206.31011%5D%2C%20%5B-75.55916%2C%206.31053%5D%2C%20%5B-75.55894%2C%206.3107%5D%2C%20%5B-75.55867%2C%206.31085%5D%2C%20%5B-75.55851%2C%206.3109%5D%2C%20%5B-75.55843%2C%206.31092%5D%2C%20%5B-75.55835%2C%206.31093%5D%2C%20%5B-75.55809%2C%206.31091%5D%2C%20%5B-75.55791%2C%206.31086%5D%2C%20%5B-75.55781%2C%206.31083%5D%2C%20%5B-75.55777%2C%206.31079%5D%2C%20%5B-75.55765%2C%206.31072%5D%2C%20%5B-75.55662%2C%206.30999%5D%2C%20%5B-75.55653%2C%206.30993%5D%2C%20%5B-75.55647%2C%206.30985%5D%2C%20%5B-75.55643%2C%206.30974%5D%2C%20%5B-75.55641%2C%206.30968%5D%2C%20%5B-75.55644%2C%206.30957%5D%2C%20%5B-75.55648%2C%206.30953%5D%2C%20%5B-75.55652%2C%206.30949%5D%2C%20%5B-75.55658%2C%206.30946%5D%2C%20%5B-75.55665%2C%206.30944%5D%2C%20%5B-75.55672%2C%206.30944%5D%2C%20%5B-75.5568%2C%206.30948%5D%2C%20%5B-75.55687%2C%206.30952%5D%2C%20%5B-75.55692%2C%206.30955%5D%2C%20%5B-75.55697%2C%206.30962%5D%2C%20%5B-75.55699%2C%206.30967%5D%2C%20%5B-75.557%2C%206.3098%5D%2C%20%5B-75.55694%2C%206.30996%5D%2C%20%5B-75.55687%2C%206.31009%5D%2C%20%5B-75.55681%2C%206.3102%5D%2C%20%5B-75.55676%2C%206.31029%5D%2C%20%5B-75.55671%2C%206.31035%5D%2C%20%5B-75.55631%2C%206.31087%5D%2C%20%5B-75.55603%2C%206.31117%5D%2C%20%5B-75.55579%2C%206.31151%5D%2C%20%5B-75.55547%2C%206.31196%5D%2C%20%5B-75.55521%2C%206.31239%5D%2C%20%5B-75.55508%2C%206.31254%5D%2C%20%5B-75.55496%2C%206.3126%5D%2C%20%5B-75.55475%2C%206.31262%5D%2C%20%5B-75.55441%2C%206.3125%5D%2C%20%5B-75.55428%2C%206.31246%5D%2C%20%5B-75.55426%2C%206.31245%5D%2C%20%5B-75.55418%2C%206.31241%5D%2C%20%5B-75.55404%2C%206.31235%5D%2C%20%5B-75.55402%2C%206.31234%5D%2C%20%5B-75.554%2C%206.31232%5D%2C%20%5B-75.55392%2C%206.31233%5D%2C%20%5B-75.55388%2C%206.3124%5D%2C%20%5B-75.55388%2C%206.31243%5D%2C%20%5B-75.55387%2C%206.31251%5D%2C%20%5B-75.55384%2C%206.31256%5D%2C%20%5B-75.55379%2C%206.31268%5D%2C%20%5B-75.55358%2C%206.31297%5D%2C%20%5B-75.55346%2C%206.31314%5D%2C%20%5B-75.55325%2C%206.31348%5D%2C%20%5B-75.55313%2C%206.31373%5D%2C%20%5B-75.55306%2C%206.31393%5D%2C%20%5B-75.55302%2C%206.31414%5D%2C%20%5B-75.55303%2C%206.31427%5D%2C%20%5B-75.55307%2C%206.3144%5D%2C%20%5B-75.55312%2C%206.31451%5D%2C%20%5B-75.55321%2C%206.31463%5D%2C%20%5B-75.55327%2C%206.31471%5D%2C%20%5B-75.55328%2C%206.31472%5D%2C%20%5B-75.55337%2C%206.31484%5D%2C%20%5B-75.55343%2C%206.31496%5D%2C%20%5B-75.55346%2C%206.31506%5D%2C%20%5B-75.55346%2C%206.31526%5D%2C%20%5B-75.55344%2C%206.31554%5D%2C%20%5B-75.55343%2C%206.31564%5D%2C%20%5B-75.55346%2C%206.31605%5D%2C%20%5B-75.55356%2C%206.31658%5D%2C%20%5B-75.55362%2C%206.317%5D%2C%20%5B-75.55363%2C%206.31714%5D%2C%20%5B-75.55363%2C%206.31723%5D%2C%20%5B-75.55362%2C%206.3173%5D%2C%20%5B-75.55362%2C%206.3174%5D%2C%20%5B-75.55355%2C%206.31794%5D%2C%20%5B-75.55351%2C%206.31836%5D%2C%20%5B-75.55346%2C%206.31871%5D%2C%20%5B-75.5534%2C%206.31887%5D%2C%20%5B-75.55333%2C%206.31897%5D%2C%20%5B-75.55319%2C%206.31916%5D%2C%20%5B-75.55288%2C%206.31958%5D%2C%20%5B-75.55277%2C%206.31976%5D%2C%20%5B-75.55254%2C%206.32004%5D%2C%20%5B-75.55221%2C%206.32047%5D%2C%20%5B-75.55196%2C%206.32081%5D%2C%20%5B-75.55177%2C%206.32103%5D%2C%20%5B-75.55154%2C%206.32124%5D%2C%20%5B-75.5514%2C%206.32129%5D%2C%20%5B-75.55129%2C%206.32132%5D%2C%20%5B-75.55104%2C%206.32143%5D%2C%20%5B-75.55088%2C%206.32162%5D%2C%20%5B-75.55045%2C%206.32211%5D%2C%20%5B-75.5501%2C%206.3223%5D%2C%20%5B-75.55005%2C%206.32233%5D%2C%20%5B-75.54977%2C%206.32247%5D%2C%20%5B-75.54936%2C%206.3227%5D%2C%20%5B-75.54916%2C%206.32298%5D%2C%20%5B-75.54907%2C%206.32323%5D%2C%20%5B-75.54899%2C%206.32347%5D%2C%20%5B-75.54892%2C%206.32368%5D%2C%20%5B-75.54884%2C%206.32372%5D%2C%20%5B-75.54864%2C%206.32384%5D%2C%20%5B-75.54845%2C%206.32403%5D%2C%20%5B-75.54828%2C%206.32418%5D%2C%20%5B-75.54774%2C%206.32487%5D%2C%20%5B-75.54766%2C%206.32498%5D%2C%20%5B-75.54693%2C%206.32559%5D%2C%20%5B-75.54662%2C%206.32584%5D%2C%20%5B-75.54637%2C%206.3262%5D%2C%20%5B-75.54629%2C%206.32684%5D%2C%20%5B-75.54618%2C%206.32697%5D%2C%20%5B-75.54573%2C%206.32713%5D%2C%20%5B-75.54564%2C%206.32727%5D%2C%20%5B-75.54562%2C%206.32755%5D%2C%20%5B-75.54561%2C%206.32802%5D%2C%20%5B-75.54563%2C%206.32821%5D%2C%20%5B-75.54577%2C%206.32873%5D%2C%20%5B-75.5457%2C%206.32888%5D%2C%20%5B-75.54553%2C%206.32897%5D%2C%20%5B-75.54514%2C%206.32898%5D%2C%20%5B-75.54504%2C%206.32905%5D%2C%20%5B-75.54494%2C%206.32925%5D%2C%20%5B-75.54481%2C%206.32949%5D%2C%20%5B-75.54479%2C%206.32953%5D%2C%20%5B-75.54468%2C%206.3298%5D%2C%20%5B-75.54452%2C%206.33065%5D%2C%20%5B-75.54448%2C%206.33076%5D%2C%20%5B-75.54446%2C%206.33082%5D%2C%20%5B-75.54436%2C%206.33096%5D%2C%20%5B-75.54427%2C%206.33103%5D%2C%20%5B-75.54408%2C%206.33113%5D%2C%20%5B-75.54389%2C%206.33124%5D%2C%20%5B-75.54366%2C%206.33123%5D%2C%20%5B-75.54342%2C%206.33119%5D%2C%20%5B-75.54305%2C%206.33114%5D%2C%20%5B-75.54271%2C%206.33109%5D%2C%20%5B-75.54242%2C%206.33105%5D%2C%20%5B-75.54226%2C%206.33097%5D%2C%20%5B-75.54213%2C%206.33086%5D%2C%20%5B-75.54193%2C%206.33069%5D%2C%20%5B-75.54168%2C%206.3306%5D%2C%20%5B-75.54129%2C%206.33065%5D%2C%20%5B-75.54107%2C%206.33066%5D%2C%20%5B-75.54098%2C%206.3307%5D%2C%20%5B-75.54072%2C%206.33084%5D%2C%20%5B-75.54047%2C%206.3311%5D%2C%20%5B-75.54019%2C%206.33128%5D%2C%20%5B-75.54002%2C%206.33139%5D%2C%20%5B-75.53973%2C%206.33154%5D%2C%20%5B-75.53951%2C%206.33168%5D%2C%20%5B-75.53929%2C%206.33185%5D%2C%20%5B-75.53891%2C%206.3322%5D%2C%20%5B-75.53859%2C%206.33256%5D%2C%20%5B-75.53853%2C%206.33262%5D%2C%20%5B-75.53823%2C%206.33288%5D%2C%20%5B-75.53817%2C%206.33294%5D%2C%20%5B-75.53806%2C%206.33307%5D%2C%20%5B-75.53785%2C%206.33329%5D%2C%20%5B-75.53779%2C%206.33338%5D%2C%20%5B-75.53753%2C%206.3338%5D%2C%20%5B-75.53737%2C%206.33398%5D%2C%20%5B-75.53725%2C%206.33404%5D%2C%20%5B-75.53714%2C%206.33408%5D%2C%20%5B-75.53703%2C%206.3341%5D%2C%20%5B-75.53673%2C%206.33411%5D%2C%20%5B-75.53634%2C%206.33412%5D%2C%20%5B-75.53607%2C%206.33414%5D%2C%20%5B-75.53542%2C%206.3342%5D%2C%20%5B-75.53533%2C%206.33417%5D%2C%20%5B-75.53526%2C%206.33412%5D%2C%20%5B-75.53522%2C%206.33409%5D%2C%20%5B-75.53504%2C%206.33397%5D%2C%20%5B-75.53489%2C%206.33381%5D%2C%20%5B-75.53473%2C%206.33364%5D%2C%20%5B-75.53462%2C%206.33359%5D%2C%20%5B-75.53441%2C%206.33358%5D%2C%20%5B-75.53418%2C%206.33362%5D%2C%20%5B-75.53403%2C%206.33368%5D%2C%20%5B-75.53395%2C%206.33373%5D%2C%20%5B-75.53381%2C%206.33383%5D%2C%20%5B-75.53367%2C%206.33401%5D%2C%20%5B-75.53361%2C%206.33406%5D%2C%20%5B-75.53338%2C%206.33428%5D%2C%20%5B-75.5333%2C%206.33431%5D%2C%20%5B-75.53323%2C%206.33433%5D%2C%20%5B-75.53275%2C%206.33435%5D%2C%20%5B-75.53264%2C%206.33437%5D%2C%20%5B-75.5325%2C%206.33449%5D%2C%20%5B-75.53239%2C%206.33464%5D%2C%20%5B-75.53231%2C%206.33485%5D%2C%20%5B-75.53223%2C%206.33512%5D%2C%20%5B-75.53183%2C%206.33636%5D%2C%20%5B-75.53176%2C%206.33648%5D%2C%20%5B-75.53162%2C%206.33664%5D%2C%20%5B-75.53148%2C%206.33676%5D%2C%20%5B-75.53135%2C%206.33682%5D%2C%20%5B-75.53096%2C%206.3369%5D%2C%20%5B-75.53068%2C%206.3369%5D%2C%20%5B-75.53046%2C%206.33693%5D%2C%20%5B-75.53039%2C%206.33694%5D%2C%20%5B-75.53012%2C%206.33698%5D%2C%20%5B-75.52988%2C%206.33696%5D%2C%20%5B-75.52947%2C%206.3368%5D%2C%20%5B-75.52932%2C%206.33679%5D%2C%20%5B-75.52923%2C%206.3368%5D%2C%20%5B-75.52916%2C%206.33682%5D%2C%20%5B-75.52854%2C%206.33701%5D%2C%20%5B-75.52813%2C%206.3372%5D%2C%20%5B-75.52807%2C%206.33721%5D%2C%20%5B-75.52794%2C%206.33719%5D%2C%20%5B-75.5277%2C%206.33711%5D%2C%20%5B-75.52761%2C%206.33708%5D%2C%20%5B-75.52744%2C%206.33707%5D%2C%20%5B-75.52701%2C%206.33708%5D%2C%20%5B-75.52653%2C%206.33711%5D%2C%20%5B-75.52618%2C%206.33714%5D%2C%20%5B-75.52608%2C%206.33715%5D%2C%20%5B-75.5259%2C%206.3372%5D%2C%20%5B-75.52435%2C%206.33759%5D%2C%20%5B-75.524%2C%206.33769%5D%2C%20%5B-75.52381%2C%206.33781%5D%2C%20%5B-75.52331%2C%206.33826%5D%2C%20%5B-75.52306%2C%206.33844%5D%2C%20%5B-75.52272%2C%206.3386%5D%2C%20%5B-75.5225%2C%206.33867%5D%2C%20%5B-75.52219%2C%206.33874%5D%2C%20%5B-75.52189%2C%206.33879%5D%2C%20%5B-75.52169%2C%206.33882%5D%2C%20%5B-75.52155%2C%206.33885%5D%2C%20%5B-75.52139%2C%206.33891%5D%2C%20%5B-75.52124%2C%206.33897%5D%2C%20%5B-75.52106%2C%206.33904%5D%2C%20%5B-75.52083%2C%206.33914%5D%2C%20%5B-75.52026%2C%206.33941%5D%2C%20%5B-75.52014%2C%206.33948%5D%2C%20%5B-75.52006%2C%206.3396%5D%2C%20%5B-75.51991%2C%206.34001%5D%2C%20%5B-75.51976%2C%206.34026%5D%2C%20%5B-75.51962%2C%206.34043%5D%2C%20%5B-75.51956%2C%206.34053%5D%2C%20%5B-75.51952%2C%206.34064%5D%2C%20%5B-75.51952%2C%206.34075%5D%2C%20%5B-75.51953%2C%206.34097%5D%2C%20%5B-75.51953%2C%206.34119%5D%2C%20%5B-75.51951%2C%206.34138%5D%2C%20%5B-75.51948%2C%206.34153%5D%2C%20%5B-75.51941%2C%206.34186%5D%2C%20%5B-75.51932%2C%206.34204%5D%2C%20%5B-75.51922%2C%206.34221%5D%2C%20%5B-75.51914%2C%206.34231%5D%2C%20%5B-75.51903%2C%206.34238%5D%2C%20%5B-75.51877%2C%206.34246%5D%2C%20%5B-75.51863%2C%206.34252%5D%2C%20%5B-75.51842%2C%206.34265%5D%2C%20%5B-75.51819%2C%206.34284%5D%2C%20%5B-75.51798%2C%206.34301%5D%2C%20%5B-75.51782%2C%206.34312%5D%2C%20%5B-75.51754%2C%206.34328%5D%2C%20%5B-75.51738%2C%206.34338%5D%2C%20%5B-75.51726%2C%206.34347%5D%2C%20%5B-75.51715%2C%206.34358%5D%2C%20%5B-75.51703%2C%206.3437%5D%2C%20%5B-75.51672%2C%206.34398%5D%2C%20%5B-75.51661%2C%206.34406%5D%2C%20%5B-75.51647%2C%206.34412%5D%2C%20%5B-75.51634%2C%206.34415%5D%2C%20%5B-75.51571%2C%206.34422%5D%2C%20%5B-75.51549%2C%206.34424%5D%2C%20%5B-75.51523%2C%206.34427%5D%2C%20%5B-75.51503%2C%206.34431%5D%2C%20%5B-75.51452%2C%206.34448%5D%2C%20%5B-75.51373%2C%206.34475%5D%2C%20%5B-75.51292%2C%206.34503%5D%2C%20%5B-75.51219%2C%206.34529%5D%2C%20%5B-75.51212%2C%206.34532%5D%2C%20%5B-75.51164%2C%206.34547%5D%2C%20%5B-75.51142%2C%206.34554%5D%2C%20%5B-75.51136%2C%206.34557%5D%2C%20%5B-75.51088%2C%206.34568%5D%2C%20%5B-75.51081%2C%206.34569%5D%2C%20%5B-75.51069%2C%206.34571%5D%2C%20%5B-75.51055%2C%206.34574%5D%2C%20%5B-75.50964%2C%206.34596%5D%2C%20%5B-75.50965%2C%206.34601%5D%2C%20%5B-75.50984%2C%206.34659%5D%2C%20%5B-75.50989%2C%206.3468%5D%2C%20%5B-75.50986%2C%206.34682%5D%2C%20%5B-75.50945%2C%206.34705%5D%2C%20%5B-75.50901%2C%206.34737%5D%2C%20%5B-75.5087%2C%206.34763%5D%2C%20%5B-75.50859%2C%206.34771%5D%2C%20%5B-75.50832%2C%206.34793%5D%2C%20%5B-75.50818%2C%206.34807%5D%2C%20%5B-75.50792%2C%206.3483%5D%2C%20%5B-75.50758%2C%206.34857%5D%2C%20%5B-75.50737%2C%206.34873%5D%2C%20%5B-75.50698%2C%206.34887%5D%2C%20%5B-75.50628%2C%206.34915%5D%2C%20%5B-75.5057%2C%206.34935%5D%2C%20%5B-75.50555%2C%206.34884%5D%2C%20%5B-75.50527%2C%206.34794%5D%2C%20%5B-75.50519%2C%206.34805%5D%2C%20%5B-75.50511%2C%206.3481%5D%2C%20%5B-75.50503%2C%206.34813%5D%2C%20%5B-75.50495%2C%206.34813%5D%2C%20%5B-75.50479%2C%206.34807%5D%2C%20%5B-75.50467%2C%206.34804%5D%2C%20%5B-75.50453%2C%206.34805%5D%2C%20%5B-75.5043%2C%206.34811%5D%2C%20%5B-75.5042%2C%206.34816%5D%2C%20%5B-75.50412%2C%206.34818%5D%2C%20%5B-75.50402%2C%206.34819%5D%2C%20%5B-75.50383%2C%206.3482%5D%2C%20%5B-75.50374%2C%206.34821%5D%2C%20%5B-75.50361%2C%206.34826%5D%2C%20%5B-75.50327%2C%206.34846%5D%2C%20%5B-75.50276%2C%206.34881%5D%2C%20%5B-75.50266%2C%206.3489%5D%2C%20%5B-75.50244%2C%206.34925%5D%2C%20%5B-75.50229%2C%206.3494%5D%2C%20%5B-75.50208%2C%206.34949%5D%2C%20%5B-75.50199%2C%206.34954%5D%2C%20%5B-75.50191%2C%206.3496%5D%2C%20%5B-75.50184%2C%206.34969%5D%2C%20%5B-75.50177%2C%206.34979%5D%2C%20%5B-75.50171%2C%206.34996%5D%2C%20%5B-75.50162%2C%206.35031%5D%2C%20%5B-75.50157%2C%206.35041%5D%2C%20%5B-75.50151%2C%206.35053%5D%2C%20%5B-75.50136%2C%206.35071%5D%2C%20%5B-75.50124%2C%206.35081%5D%2C%20%5B-75.50109%2C%206.35095%5D%2C%20%5B-75.50106%2C%206.35102%5D%2C%20%5B-75.50106%2C%206.35119%5D%2C%20%5B-75.50103%2C%206.35142%5D%2C%20%5B-75.50098%2C%206.35164%5D%2C%20%5B-75.50086%2C%206.3519%5D%2C%20%5B-75.50075%2C%206.35209%5D%2C%20%5B-75.50054%2C%206.3525%5D%2C%20%5B-75.50032%2C%206.35294%5D%2C%20%5B-75.50023%2C%206.3531%5D%2C%20%5B-75.50004%2C%206.35346%5D%2C%20%5B-75.49995%2C%206.35361%5D%2C%20%5B-75.49954%2C%206.35404%5D%2C%20%5B-75.49938%2C%206.35418%5D%2C%20%5B-75.49927%2C%206.35424%5D%2C%20%5B-75.49909%2C%206.3543%5D%2C%20%5B-75.49897%2C%206.35431%5D%2C%20%5B-75.49877%2C%206.35431%5D%2C%20%5B-75.49859%2C%206.35427%5D%2C%20%5B-75.49821%2C%206.35419%5D%2C%20%5B-75.49811%2C%206.35419%5D%2C%20%5B-75.49775%2C%206.35426%5D%2C%20%5B-75.49765%2C%206.35431%5D%2C%20%5B-75.49761%2C%206.35433%5D%2C%20%5B-75.49754%2C%206.35438%5D%2C%20%5B-75.49739%2C%206.35457%5D%2C%20%5B-75.4973%2C%206.35469%5D%2C%20%5B-75.49706%2C%206.35499%5D%2C%20%5B-75.49702%2C%206.35504%5D%2C%20%5B-75.497%2C%206.35509%5D%2C%20%5B-75.49698%2C%206.35524%5D%2C%20%5B-75.49697%2C%206.35559%5D%2C%20%5B-75.49695%2C%206.35572%5D%2C%20%5B-75.49691%2C%206.3558%5D%2C%20%5B-75.49679%2C%206.35593%5D%2C%20%5B-75.49658%2C%206.35614%5D%2C%20%5B-75.49649%2C%206.35624%5D%2C%20%5B-75.49643%2C%206.35632%5D%2C%20%5B-75.4964%2C%206.3564%5D%2C%20%5B-75.49633%2C%206.35655%5D%2C%20%5B-75.49619%2C%206.35684%5D%2C%20%5B-75.49605%2C%206.35707%5D%2C%20%5B-75.49568%2C%206.35752%5D%2C%20%5B-75.49562%2C%206.35764%5D%2C%20%5B-75.49551%2C%206.35797%5D%2C%20%5B-75.49537%2C%206.35825%5D%2C%20%5B-75.49532%2C%206.35857%5D%2C%20%5B-75.49525%2C%206.35869%5D%2C%20%5B-75.49509%2C%206.35885%5D%2C%20%5B-75.49497%2C%206.35894%5D%2C%20%5B-75.4949%2C%206.35898%5D%2C%20%5B-75.49473%2C%206.35908%5D%2C%20%5B-75.49444%2C%206.35927%5D%2C%20%5B-75.49433%2C%206.35931%5D%2C%20%5B-75.49385%2C%206.35937%5D%2C%20%5B-75.49372%2C%206.35937%5D%2C%20%5B-75.49328%2C%206.35925%5D%2C%20%5B-75.49321%2C%206.35924%5D%2C%20%5B-75.49313%2C%206.35926%5D%2C%20%5B-75.49282%2C%206.35946%5D%2C%20%5B-75.49231%2C%206.35967%5D%2C%20%5B-75.49196%2C%206.35984%5D%2C%20%5B-75.4918%2C%206.35999%5D%2C%20%5B-75.49171%2C%206.3601%5D%2C%20%5B-75.49144%2C%206.36072%5D%2C%20%5B-75.4914%2C%206.36082%5D%2C%20%5B-75.4913%2C%206.36111%5D%2C%20%5B-75.49114%2C%206.36142%5D%2C%20%5B-75.49105%2C%206.36159%5D%2C%20%5B-75.49099%2C%206.36173%5D%2C%20%5B-75.49092%2C%206.36204%5D%2C%20%5B-75.49089%2C%206.36216%5D%2C%20%5B-75.49089%2C%206.36227%5D%2C%20%5B-75.49092%2C%206.36241%5D%2C%20%5B-75.49102%2C%206.36264%5D%2C%20%5B-75.49121%2C%206.36309%5D%2C%20%5B-75.49135%2C%206.36354%5D%2C%20%5B-75.49136%2C%206.36404%5D%2C%20%5B-75.49142%2C%206.36446%5D%2C%20%5B-75.4914%2C%206.36457%5D%2C%20%5B-75.49134%2C%206.36471%5D%2C%20%5B-75.49129%2C%206.36476%5D%2C%20%5B-75.49097%2C%206.36504%5D%2C%20%5B-75.49064%2C%206.36542%5D%2C%20%5B-75.49028%2C%206.3657%5D%2C%20%5B-75.49022%2C%206.36579%5D%2C%20%5B-75.48987%2C%206.3665%5D%2C%20%5B-75.48978%2C%206.36671%5D%2C%20%5B-75.48973%2C%206.36683%5D%2C%20%5B-75.48959%2C%206.36707%5D%2C%20%5B-75.4895%2C%206.36719%5D%2C%20%5B-75.48935%2C%206.36747%5D%2C%20%5B-75.48932%2C%206.36761%5D%2C%20%5B-75.48932%2C%206.36769%5D%2C%20%5B-75.48938%2C%206.36803%5D%2C%20%5B-75.48945%2C%206.36827%5D%2C%20%5B-75.48947%2C%206.36841%5D%2C%20%5B-75.48946%2C%206.36856%5D%2C%20%5B-75.48942%2C%206.36888%5D%2C%20%5B-75.48946%2C%206.36931%5D%2C%20%5B-75.48937%2C%206.36972%5D%2C%20%5B-75.48936%2C%206.36976%5D%2C%20%5B-75.4893%2C%206.36996%5D%2C%20%5B-75.4891%2C%206.37057%5D%2C%20%5B-75.48902%2C%206.37121%5D%2C%20%5B-75.4891%2C%206.37122%5D%2C%20%5B-75.48938%2C%206.37101%5D%2C%20%5B-75.48971%2C%206.37083%5D%2C%20%5B-75.48971%2C%206.37116%5D%2C%20%5B-75.48966%2C%206.3714%5D%2C%20%5B-75.48955%2C%206.37165%5D%2C%20%5B-75.48939%2C%206.37185%5D%2C%20%5B-75.48822%2C%206.3731%5D%2C%20%5B-75.48796%2C%206.3733%5D%2C%20%5B-75.48726%2C%206.37365%5D%2C%20%5B-75.48654%2C%206.374%5D%2C%20%5B-75.486%2C%206.37438%5D%2C%20%5B-75.48487%2C%206.37538%5D%2C%20%5B-75.4847%2C%206.37554%5D%2C%20%5B-75.48446%2C%206.37581%5D%2C%20%5B-75.48429%2C%206.37609%5D%2C%20%5B-75.4842%2C%206.37622%5D%2C%20%5B-75.48398%2C%206.3766%5D%2C%20%5B-75.48351%2C%206.37737%5D%2C%20%5B-75.4829%2C%206.37841%5D%2C%20%5B-75.4827%2C%206.37866%5D%2C%20%5B-75.48242%2C%206.37895%5D%2C%20%5B-75.48211%2C%206.37926%5D%2C%20%5B-75.48159%2C%206.37964%5D%2C%20%5B-75.48128%2C%206.37981%5D%2C%20%5B-75.48113%2C%206.37988%5D%2C%20%5B-75.48073%2C%206.38004%5D%2C%20%5B-75.48043%2C%206.38013%5D%2C%20%5B-75.47987%2C%206.3803%5D%2C%20%5B-75.47876%2C%206.38062%5D%2C%20%5B-75.47842%2C%206.38071%5D%2C%20%5B-75.47617%2C%206.38135%5D%2C%20%5B-75.47319%2C%206.38224%5D%2C%20%5B-75.47237%2C%206.38247%5D%2C%20%5B-75.47197%2C%206.38257%5D%2C%20%5B-75.47137%2C%206.38271%5D%2C%20%5B-75.47115%2C%206.38274%5D%2C%20%5B-75.4706%2C%206.38282%5D%2C%20%5B-75.47023%2C%206.38286%5D%2C%20%5B-75.46978%2C%206.38292%5D%2C%20%5B-75.46905%2C%206.38301%5D%2C%20%5B-75.46817%2C%206.38311%5D%2C%20%5B-75.46804%2C%206.38313%5D%2C%20%5B-75.46743%2C%206.3832%5D%2C%20%5B-75.46679%2C%206.38328%5D%2C%20%5B-75.46626%2C%206.38341%5D%2C%20%5B-75.46436%2C%206.38389%5D%2C%20%5B-75.46389%2C%206.38398%5D%2C%20%5B-75.46306%2C%206.38404%5D%2C%20%5B-75.46184%2C%206.38405%5D%2C%20%5B-75.46144%2C%206.38405%5D%2C%20%5B-75.46036%2C%206.38406%5D%2C%20%5B-75.45908%2C%206.38406%5D%2C%20%5B-75.45857%2C%206.38406%5D%2C%20%5B-75.45786%2C%206.38407%5D%2C%20%5B-75.45713%2C%206.38409%5D%2C%20%5B-75.45695%2C%206.38412%5D%2C%20%5B-75.4567%2C%206.38419%5D%2C%20%5B-75.45651%2C%206.38429%5D%2C%20%5B-75.45582%2C%206.38472%5D%2C%20%5B-75.45558%2C%206.38486%5D%2C%20%5B-75.45535%2C%206.38495%5D%2C%20%5B-75.45522%2C%206.38498%5D%2C%20%5B-75.45498%2C%206.38502%5D%2C%20%5B-75.45485%2C%206.38504%5D%2C%20%5B-75.4547%2C%206.38508%5D%2C%20%5B-75.45452%2C%206.38515%5D%2C%20%5B-75.45435%2C%206.38524%5D%2C%20%5B-75.45418%2C%206.38535%5D%2C%20%5B-75.45392%2C%206.38555%5D%2C%20%5B-75.45286%2C%206.38636%5D%2C%20%5B-75.45228%2C%206.38671%5D%2C%20%5B-75.44997%2C%206.38764%5D%2C%20%5B-75.44961%2C%206.38781%5D%2C%20%5B-75.44956%2C%206.38784%5D%2C%20%5B-75.44927%2C%206.38803%5D%2C%20%5B-75.44869%2C%206.38846%5D%2C%20%5B-75.44721%2C%206.38953%5D%2C%20%5B-75.44713%2C%206.3896%5D%2C%20%5B-75.44672%2C%206.38992%5D%2C%20%5B-75.44631%2C%206.3903%5D%2C%20%5B-75.44408%2C%206.39255%5D%2C%20%5B-75.44391%2C%206.3927%5D%2C%20%5B-75.44374%2C%206.39283%5D%2C%20%5B-75.44357%2C%206.39294%5D%2C%20%5B-75.44337%2C%206.39305%5D%2C%20%5B-75.44074%2C%206.3943%5D%2C%20%5B-75.43989%2C%206.39477%5D%2C%20%5B-75.4386%2C%206.39555%5D%2C%20%5B-75.43804%2C%206.39587%5D%2C%20%5B-75.43803%2C%206.39588%5D%2C%20%5B-75.43736%2C%206.39628%5D%2C%20%5B-75.43667%2C%206.3967%5D%2C%20%5B-75.4364%2C%206.39686%5D%2C%20%5B-75.43614%2C%206.39702%5D%2C%20%5B-75.43592%2C%206.39715%5D%2C%20%5B-75.43544%2C%206.3974%5D%2C%20%5B-75.43485%2C%206.39776%5D%2C%20%5B-75.43453%2C%206.39798%5D%2C%20%5B-75.43439%2C%206.39811%5D%2C%20%5B-75.43396%2C%206.39853%5D%2C%20%5B-75.43352%2C%206.39904%5D%2C%20%5B-75.43312%2C%206.39945%5D%2C%20%5B-75.43293%2C%206.39962%5D%2C%20%5B-75.43214%2C%206.40019%5D%2C%20%5B-75.43165%2C%206.40056%5D%2C%20%5B-75.43112%2C%206.40103%5D%2C%20%5B-75.43033%2C%206.40181%5D%2C%20%5B-75.42984%2C%206.40225%5D%2C%20%5B-75.42924%2C%206.40288%5D%2C%20%5B-75.4286%2C%206.4035%5D%2C%20%5B-75.42802%2C%206.40403%5D%2C%20%5B-75.42733%2C%206.40473%5D%2C%20%5B-75.42591%2C%206.40622%5D%2C%20%5B-75.42533%2C%206.40679%5D%2C%20%5B-75.42508%2C%206.40703%5D%2C%20%5B-75.42438%2C%206.40769%5D%2C%20%5B-75.42403%2C%206.40804%5D%2C%20%5B-75.42351%2C%206.40852%5D%2C%20%5B-75.4232%2C%206.40874%5D%2C%20%5B-75.423%2C%206.40885%5D%2C%20%5B-75.42284%2C%206.40894%5D%2C%20%5B-75.42267%2C%206.40902%5D%2C%20%5B-75.42248%2C%206.40908%5D%2C%20%5B-75.42215%2C%206.40919%5D%2C%20%5B-75.42191%2C%206.40927%5D%2C%20%5B-75.41535%2C%206.41145%5D%2C%20%5B-75.41502%2C%206.41153%5D%2C%20%5B-75.41398%2C%206.41161%5D%2C%20%5B-75.4139%2C%206.41162%5D%2C%20%5B-75.41376%2C%206.41164%5D%2C%20%5B-75.4135%2C%206.41169%5D%2C%20%5B-75.41332%2C%206.41176%5D%2C%20%5B-75.41319%2C%206.41182%5D%2C%20%5B-75.41311%2C%206.41185%5D%2C%20%5B-75.41203%2C%206.41242%5D%2C%20%5B-75.41161%2C%206.41255%5D%2C%20%5B-75.40881%2C%206.41311%5D%2C%20%5B-75.40847%2C%206.41318%5D%2C%20%5B-75.40791%2C%206.41331%5D%2C%20%5B-75.40758%2C%206.41341%5D%2C%20%5B-75.40735%2C%206.41351%5D%2C%20%5B-75.40179%2C%206.41631%5D%2C%20%5B-75.40158%2C%206.4164%5D%2C%20%5B-75.40136%2C%206.41647%5D%2C%20%5B-75.40115%2C%206.41652%5D%2C%20%5B-75.40092%2C%206.41655%5D%2C%20%5B-75.40067%2C%206.41655%5D%2C%20%5B-75.40044%2C%206.41652%5D%2C%20%5B-75.3997%2C%206.41639%5D%2C%20%5B-75.39956%2C%206.41634%5D%2C%20%5B-75.39898%2C%206.4161%5D%2C%20%5B-75.39866%2C%206.41601%5D%2C%20%5B-75.39845%2C%206.41599%5D%2C%20%5B-75.39825%2C%206.41598%5D%2C%20%5B-75.39738%2C%206.41608%5D%2C%20%5B-75.39733%2C%206.41609%5D%2C%20%5B-75.39696%2C%206.41615%5D%2C%20%5B-75.39658%2C%206.41619%5D%2C%20%5B-75.39581%2C%206.41622%5D%2C%20%5B-75.39407%2C%206.41626%5D%2C%20%5B-75.3937%2C%206.41628%5D%2C%20%5B-75.39255%2C%206.41633%5D%2C%20%5B-75.39229%2C%206.41632%5D%2C%20%5B-75.39202%2C%206.4163%5D%2C%20%5B-75.3918%2C%206.41626%5D%2C%20%5B-75.39083%2C%206.41603%5D%2C%20%5B-75.39063%2C%206.416%5D%2C%20%5B-75.39042%2C%206.416%5D%2C%20%5B-75.3902%2C%206.41601%5D%2C%20%5B-75.39001%2C%206.41604%5D%2C%20%5B-75.38982%2C%206.41609%5D%2C%20%5B-75.38947%2C%206.41621%5D%2C%20%5B-75.38865%2C%206.41655%5D%2C%20%5B-75.38528%2C%206.41797%5D%2C%20%5B-75.38482%2C%206.41815%5D%2C%20%5B-75.38457%2C%206.4182%5D%2C%20%5B-75.38434%2C%206.41822%5D%2C%20%5B-75.38415%2C%206.41821%5D%2C%20%5B-75.38396%2C%206.41817%5D%2C%20%5B-75.38261%2C%206.41765%5D%2C%20%5B-75.38232%2C%206.41761%5D%2C%20%5B-75.38204%2C%206.41761%5D%2C%20%5B-75.38181%2C%206.41765%5D%2C%20%5B-75.38164%2C%206.41771%5D%2C%20%5B-75.38102%2C%206.41798%5D%2C%20%5B-75.38081%2C%206.41804%5D%2C%20%5B-75.3806%2C%206.41807%5D%2C%20%5B-75.38037%2C%206.41808%5D%2C%20%5B-75.38013%2C%206.41804%5D%2C%20%5B-75.37885%2C%206.41761%5D%2C%20%5B-75.37816%2C%206.4174%5D%2C%20%5B-75.37787%2C%206.41737%5D%2C%20%5B-75.37777%2C%206.41736%5D%2C%20%5B-75.37748%2C%206.41737%5D%2C%20%5B-75.37724%2C%206.41741%5D%2C%20%5B-75.37712%2C%206.41744%5D%2C%20%5B-75.37603%2C%206.41779%5D%2C%20%5B-75.37573%2C%206.41783%5D%2C%20%5B-75.37488%2C%206.41786%5D%2C%20%5B-75.37448%2C%206.4179%5D%2C%20%5B-75.37425%2C%206.41795%5D%2C%20%5B-75.37321%2C%206.41825%5D%2C%20%5B-75.37303%2C%206.41826%5D%2C%20%5B-75.37279%2C%206.41825%5D%2C%20%5B-75.37213%2C%206.41818%5D%2C%20%5B-75.37196%2C%206.41819%5D%2C%20%5B-75.37176%2C%206.41822%5D%2C%20%5B-75.37151%2C%206.41831%5D%2C%20%5B-75.37116%2C%206.4185%5D%2C%20%5B-75.37051%2C%206.41899%5D%2C%20%5B-75.37%2C%206.4195%5D%2C%20%5B-75.36981%2C%206.41967%5D%2C%20%5B-75.36961%2C%206.41978%5D%2C%20%5B-75.36915%2C%206.41998%5D%2C%20%5B-75.36885%2C%206.42012%5D%2C%20%5B-75.36838%2C%206.42048%5D%2C%20%5B-75.36809%2C%206.42066%5D%2C%20%5B-75.36773%2C%206.42078%5D%2C%20%5B-75.36732%2C%206.42084%5D%2C%20%5B-75.3672%2C%206.42087%5D%2C%20%5B-75.36701%2C%206.42091%5D%2C%20%5B-75.36683%2C%206.42098%5D%2C%20%5B-75.36663%2C%206.42109%5D%2C%20%5B-75.36647%2C%206.42122%5D%2C%20%5B-75.366%2C%206.42164%5D%2C%20%5B-75.36585%2C%206.42175%5D%2C%20%5B-75.36566%2C%206.42186%5D%2C%20%5B-75.36545%2C%206.42193%5D%2C%20%5B-75.36524%2C%206.42199%5D%2C%20%5B-75.36492%2C%206.42202%5D%2C%20%5B-75.36483%2C%206.42203%5D%2C%20%5B-75.36461%2C%206.42207%5D%2C%20%5B-75.36441%2C%206.42213%5D%2C%20%5B-75.36394%2C%206.42236%5D%2C%20%5B-75.36379%2C%206.42244%5D%2C%20%5B-75.36373%2C%206.42247%5D%2C%20%5B-75.36358%2C%206.42257%5D%2C%20%5B-75.3633%2C%206.42278%5D%2C%20%5B-75.3631%2C%206.42299%5D%2C%20%5B-75.36278%2C%206.42332%5D%2C%20%5B-75.36249%2C%206.42356%5D%2C%20%5B-75.3618%2C%206.42392%5D%2C%20%5B-75.36164%2C%206.42403%5D%2C%20%5B-75.36147%2C%206.42417%5D%2C%20%5B-75.36134%2C%206.4243%5D%2C%20%5B-75.36077%2C%206.42502%5D%2C%20%5B-75.36037%2C%206.42551%5D%2C%20%5B-75.36029%2C%206.42562%5D%2C%20%5B-75.36016%2C%206.42583%5D%2C%20%5B-75.36005%2C%206.42605%5D%2C%20%5B-75.35991%2C%206.42686%5D%2C%20%5B-75.35986%2C%206.42702%5D%2C%20%5B-75.35977%2C%206.42721%5D%2C%20%5B-75.35966%2C%206.42734%5D%2C%20%5B-75.3595%2C%206.4275%5D%2C%20%5B-75.3593%2C%206.4276%5D%2C%20%5B-75.35913%2C%206.42765%5D%2C%20%5B-75.35893%2C%206.42768%5D%2C%20%5B-75.35857%2C%206.42765%5D%2C%20%5B-75.35746%2C%206.42726%5D%2C%20%5B-75.35727%2C%206.42721%5D%2C%20%5B-75.35701%2C%206.42722%5D%2C%20%5B-75.35678%2C%206.42726%5D%2C%20%5B-75.35653%2C%206.42738%5D%2C%20%5B-75.35638%2C%206.42749%5D%2C%20%5B-75.35621%2C%206.42766%5D%2C%20%5B-75.35581%2C%206.42826%5D%2C%20%5B-75.35567%2C%206.4284%5D%2C%20%5B-75.35549%2C%206.4285%5D%2C%20%5B-75.35529%2C%206.42858%5D%2C%20%5B-75.35472%2C%206.42871%5D%2C%20%5B-75.35447%2C%206.42879%5D%2C%20%5B-75.35425%2C%206.42888%5D%2C%20%5B-75.35395%2C%206.42907%5D%2C%20%5B-75.35362%2C%206.42931%5D%2C%20%5B-75.35344%2C%206.42947%5D%2C%20%5B-75.35321%2C%206.42978%5D%2C%20%5B-75.35296%2C%206.43021%5D%2C%20%5B-75.35284%2C%206.43038%5D%2C%20%5B-75.35267%2C%206.43053%5D%2C%20%5B-75.35241%2C%206.43066%5D%2C%20%5B-75.35168%2C%206.43091%5D%2C%20%5B-75.35149%2C%206.43099%5D%2C%20%5B-75.35135%2C%206.43107%5D%2C%20%5B-75.3512%2C%206.4312%5D%2C%20%5B-75.35084%2C%206.43163%5D%2C%20%5B-75.35072%2C%206.43175%5D%2C%20%5B-75.35058%2C%206.43185%5D%2C%20%5B-75.35039%2C%206.43192%5D%2C%20%5B-75.35021%2C%206.43197%5D%2C%20%5B-75.35006%2C%206.43198%5D%2C%20%5B-75.34921%2C%206.4319%5D%2C%20%5B-75.34899%2C%206.43192%5D%2C%20%5B-75.34882%2C%206.43197%5D%2C%20%5B-75.34864%2C%206.43204%5D%2C%20%5B-75.3485%2C%206.43213%5D%2C%20%5B-75.34788%2C%206.43257%5D%2C%20%5B-75.3476%2C%206.43284%5D%2C%20%5B-75.34749%2C%206.43303%5D%2C%20%5B-75.34724%2C%206.43352%5D%2C%20%5B-75.34716%2C%206.43364%5D%2C%20%5B-75.34704%2C%206.43377%5D%2C%20%5B-75.34632%2C%206.43433%5D%2C%20%5B-75.34585%2C%206.43484%5D%2C%20%5B-75.3457%2C%206.43499%5D%2C%20%5B-75.34553%2C%206.4351%5D%2C%20%5B-75.34537%2C%206.43517%5D%2C%20%5B-75.34516%2C%206.43525%5D%2C%20%5B-75.34499%2C%206.43528%5D%2C%20%5B-75.34469%2C%206.43529%5D%2C%20%5B-75.34441%2C%206.43527%5D%2C%20%5B-75.34386%2C%206.43518%5D%2C%20%5B-75.34352%2C%206.43509%5D%2C%20%5B-75.34306%2C%206.43492%5D%2C%20%5B-75.34287%2C%206.43488%5D%2C%20%5B-75.34269%2C%206.43486%5D%2C%20%5B-75.34247%2C%206.43486%5D%2C%20%5B-75.34224%2C%206.43488%5D%2C%20%5B-75.34199%2C%206.43496%5D%2C%20%5B-75.34169%2C%206.43506%5D%2C%20%5B-75.34136%2C%206.43519%5D%2C%20%5B-75.34132%2C%206.43521%5D%2C%20%5B-75.34117%2C%206.4353%5D%2C%20%5B-75.34089%2C%206.43555%5D%2C%20%5B-75.34073%2C%206.43574%5D%2C%20%5B-75.34033%2C%206.4363%5D%2C%20%5B-75.34008%2C%206.43656%5D%2C%20%5B-75.33988%2C%206.43671%5D%2C%20%5B-75.33971%2C%206.43681%5D%2C%20%5B-75.33908%2C%206.43712%5D%2C%20%5B-75.33892%2C%206.43723%5D%2C%20%5B-75.33875%2C%206.43739%5D%2C%20%5B-75.33861%2C%206.43754%5D%2C%20%5B-75.33848%2C%206.43774%5D%2C%20%5B-75.33839%2C%206.43796%5D%2C%20%5B-75.33807%2C%206.43877%5D%2C%20%5B-75.33799%2C%206.43912%5D%2C%20%5B-75.33798%2C%206.43945%5D%2C%20%5B-75.33801%2C%206.43967%5D%2C%20%5B-75.3383%2C%206.44079%5D%2C%20%5B-75.33833%2C%206.44095%5D%2C%20%5B-75.33834%2C%206.4412%5D%2C%20%5B-75.33833%2C%206.44347%5D%2C%20%5B-75.3383%2C%206.4438%5D%2C%20%5B-75.33824%2C%206.44402%5D%2C%20%5B-75.33817%2C%206.44419%5D%2C%20%5B-75.33808%2C%206.44437%5D%2C%20%5B-75.33796%2C%206.44455%5D%2C%20%5B-75.3378%2C%206.44471%5D%2C%20%5B-75.33756%2C%206.44491%5D%2C%20%5B-75.33688%2C%206.4454%5D%2C%20%5B-75.33657%2C%206.44562%5D%2C%20%5B-75.3365%2C%206.44567%5D%2C%20%5B-75.3362%2C%206.44589%5D%2C%20%5B-75.33428%2C%206.44727%5D%2C%20%5B-75.33232%2C%206.44878%5D%2C%20%5B-75.33212%2C%206.4489%5D%2C%20%5B-75.33198%2C%206.449%5D%2C%20%5B-75.33172%2C%206.44916%5D%2C%20%5B-75.33095%2C%206.44954%5D%2C%20%5B-75.33091%2C%206.44956%5D%2C%20%5B-75.33039%2C%206.44981%5D%2C%20%5B-75.33024%2C%206.44989%5D%2C%20%5B-75.32899%2C%206.45062%5D%2C%20%5B-75.32863%2C%206.45084%5D%2C%20%5B-75.32774%2C%206.45145%5D%2C%20%5B-75.32737%2C%206.45183%5D%2C%20%5B-75.3257%2C%206.45423%5D%2C%20%5B-75.32515%2C%206.45493%5D%2C%20%5B-75.3249%2C%206.45517%5D%2C%20%5B-75.32468%2C%206.45532%5D%2C%20%5B-75.32429%2C%206.45549%5D%2C%20%5B-75.32411%2C%206.45556%5D%2C%20%5B-75.32387%2C%206.45559%5D%2C%20%5B-75.32352%2C%206.45561%5D%2C%20%5B-75.32322%2C%206.45558%5D%2C%20%5B-75.3205%2C%206.45491%5D%2C%20%5B-75.32019%2C%206.45489%5D%2C%20%5B-75.31583%2C%206.455%5D%2C%20%5B-75.31552%2C%206.45494%5D%2C%20%5B-75.31409%2C%206.45452%5D%2C%20%5B-75.31346%2C%206.45444%5D%2C%20%5B-75.31281%2C%206.45454%5D%2C%20%5B-75.31228%2C%206.45476%5D%2C%20%5B-75.31113%2C%206.45564%5D%2C%20%5B-75.31078%2C%206.45583%5D%2C%20%5B-75.31031%2C%206.456%5D%2C%20%5B-75.30971%2C%206.45612%5D%2C%20%5B-75.30921%2C%206.45625%5D%2C%20%5B-75.3087%2C%206.4565%5D%2C%20%5B-75.30845%2C%206.45673%5D%2C%20%5B-75.3083%2C%206.45686%5D%2C%20%5B-75.30749%2C%206.45758%5D%2C%20%5B-75.30709%2C%206.45779%5D%2C%20%5B-75.30592%2C%206.45826%5D%2C%20%5B-75.30539%2C%206.45849%5D%2C%20%5B-75.30476%2C%206.45877%5D%2C%20%5B-75.30363%2C%206.45953%5D%2C%20%5B-75.30306%2C%206.45976%5D%2C%20%5B-75.30236%2C%206.45995%5D%2C%20%5B-75.30189%2C%206.45996%5D%2C%20%5B-75.3013%2C%206.45987%5D%2C%20%5B-75.30125%2C%206.45986%5D%2C%20%5B-75.30043%2C%206.45972%5D%2C%20%5B-75.29977%2C%206.45977%5D%2C%20%5B-75.2992%2C%206.46003%5D%2C%20%5B-75.29911%2C%206.46007%5D%2C%20%5B-75.29849%2C%206.46057%5D%2C%20%5B-75.29587%2C%206.46307%5D%2C%20%5B-75.29545%2C%206.4633%5D%2C%20%5B-75.29502%2C%206.46345%5D%2C%20%5B-75.2934%2C%206.46388%5D%2C%20%5B-75.29281%2C%206.46418%5D%2C%20%5B-75.29247%2C%206.46447%5D%2C%20%5B-75.29229%2C%206.46461%5D%2C%20%5B-75.29174%2C%206.46531%5D%2C%20%5B-75.2903%2C%206.46735%5D%2C%20%5B-75.28898%2C%206.46874%5D%2C%20%5B-75.2887%2C%206.4691%5D%2C%20%5B-75.28851%2C%206.46948%5D%2C%20%5B-75.28739%2C%206.4726%5D%2C%20%5B-75.28722%2C%206.47301%5D%2C%20%5B-75.28697%2C%206.47342%5D%2C%20%5B-75.28531%2C%206.47597%5D%2C%20%5B-75.28494%2C%206.47642%5D%2C%20%5B-75.28447%2C%206.47679%5D%2C%20%5B-75.28396%2C%206.47701%5D%2C%20%5B-75.28205%2C%206.47743%5D%2C%20%5B-75.28147%2C%206.47752%5D%2C%20%5B-75.28027%2C%206.47766%5D%2C%20%5B-75.27971%2C%206.4778%5D%2C%20%5B-75.27941%2C%206.47791%5D%2C%20%5B-75.27927%2C%206.47796%5D%2C%20%5B-75.27904%2C%206.47809%5D%2C%20%5B-75.27881%2C%206.47822%5D%2C%20%5B-75.27764%2C%206.47924%5D%2C%20%5B-75.27704%2C%206.47968%5D%2C%20%5B-75.27569%2C%206.48062%5D%2C%20%5B-75.27508%2C%206.48111%5D%2C%20%5B-75.27484%2C%206.4815%5D%2C%20%5B-75.27464%2C%206.48202%5D%2C%20%5B-75.27455%2C%206.48267%5D%2C%20%5B-75.27452%2C%206.48315%5D%2C%20%5B-75.27431%2C%206.48386%5D%2C%20%5B-75.27415%2C%206.48421%5D%2C%20%5B-75.27284%2C%206.48625%5D%2C%20%5B-75.27158%2C%206.4884%5D%2C%20%5B-75.27105%2C%206.4891%5D%2C%20%5B-75.27085%2C%206.48934%5D%2C%20%5B-75.26989%2C%206.49021%5D%2C%20%5B-75.26955%2C%206.49052%5D%2C%20%5B-75.26907%2C%206.49094%5D%2C%20%5B-75.26882%2C%206.49117%5D%2C%20%5B-75.26844%2C%206.49162%5D%2C%20%5B-75.26827%2C%206.49191%5D%2C%20%5B-75.26793%2C%206.49251%5D%2C%20%5B-75.2668%2C%206.49447%5D%2C%20%5B-75.26654%2C%206.49517%5D%2C%20%5B-75.26637%2C%206.4958%5D%2C%20%5B-75.26603%2C%206.49704%5D%2C%20%5B-75.26578%2C%206.49793%5D%2C%20%5B-75.26555%2C%206.49845%5D%2C%20%5B-75.26537%2C%206.4988%5D%2C%20%5B-75.26447%2C%206.49994%5D%2C%20%5B-75.26428%2C%206.50048%5D%2C%20%5B-75.2642%2C%206.50088%5D%2C%20%5B-75.26431%2C%206.5023%5D%2C%20%5B-75.26432%2C%206.50259%5D%2C%20%5B-75.26432%2C%206.50285%5D%2C%20%5B-75.26415%2C%206.50329%5D%2C%20%5B-75.26358%2C%206.50458%5D%2C%20%5B-75.2632%2C%206.50509%5D%2C%20%5B-75.26299%2C%206.50533%5D%2C%20%5B-75.26209%2C%206.50636%5D%2C%20%5B-75.26166%2C%206.50678%5D%2C%20%5B-75.26093%2C%206.5073%5D%2C%20%5B-75.26079%2C%206.50743%5D%2C%20%5B-75.26072%2C%206.50749%5D%2C%20%5B-75.26055%2C%206.50769%5D%2C%20%5B-75.26046%2C%206.50784%5D%2C%20%5B-75.26025%2C%206.50826%5D%2C%20%5B-75.26022%2C%206.50837%5D%2C%20%5B-75.26014%2C%206.50876%5D%2C%20%5B-75.26014%2C%206.50891%5D%2C%20%5B-75.26013%2C%206.50925%5D%2C%20%5B-75.26019%2C%206.50947%5D%2C%20%5B-75.26025%2C%206.50961%5D%2C%20%5B-75.26091%2C%206.51048%5D%2C%20%5B-75.26102%2C%206.51059%5D%2C%20%5B-75.26106%2C%206.51067%5D%2C%20%5B-75.26109%2C%206.51075%5D%2C%20%5B-75.26111%2C%206.51087%5D%2C%20%5B-75.26112%2C%206.51105%5D%2C%20%5B-75.26111%2C%206.5112%5D%2C%20%5B-75.26106%2C%206.51137%5D%2C%20%5B-75.26095%2C%206.51162%5D%2C%20%5B-75.26049%2C%206.51202%5D%2C%20%5B-75.26037%2C%206.51211%5D%2C%20%5B-75.26023%2C%206.51218%5D%2C%20%5B-75.25984%2C%206.51231%5D%2C%20%5B-75.25973%2C%206.51238%5D%2C%20%5B-75.25964%2C%206.51246%5D%2C%20%5B-75.25903%2C%206.51317%5D%2C%20%5B-75.25887%2C%206.51341%5D%2C%20%5B-75.25881%2C%206.51356%5D%2C%20%5B-75.25874%2C%206.51364%5D%2C%20%5B-75.25866%2C%206.51369%5D%2C%20%5B-75.25837%2C%206.51382%5D%2C%20%5B-75.25822%2C%206.51396%5D%2C%20%5B-75.25813%2C%206.51408%5D%2C%20%5B-75.25765%2C%206.51487%5D%2C%20%5B-75.25754%2C%206.51498%5D%2C%20%5B-75.25741%2C%206.51507%5D%2C%20%5B-75.25693%2C%206.51534%5D%2C%20%5B-75.25682%2C%206.51549%5D%2C%20%5B-75.25674%2C%206.51569%5D%2C%20%5B-75.25665%2C%206.51585%5D%2C%20%5B-75.25656%2C%206.51592%5D%2C%20%5B-75.25632%2C%206.51602%5D%2C%20%5B-75.25559%2C%206.51614%5D%2C%20%5B-75.25512%2C%206.51625%5D%2C%20%5B-75.25515%2C%206.51639%5D%2C%20%5B-75.25521%2C%206.51674%5D%2C%20%5B-75.25527%2C%206.51715%5D%5D%2C%20%22type%22%3A%20%22LineString%22%7D%2C%20%22properties%22%3A%20%7B%22color%22%3A%20%22green%22%2C%20%22highlight%22%3A%20%7B%7D%2C%20%22style%22%3A%20%7B%22color%22%3A%20%22green%22%7D%7D%2C%20%22type%22%3A%20%22Feature%22%7D%5D%2C%20%22type%22%3A%20%22FeatureCollection%22%7D%2C%0A%20%20%20%20%20%20%20%20%20%20%20%20%7B%0A%20%20%20%20%20%20%20%20%20%20%20%20%7D%0A%20%20%20%20%20%20%20%20%29.addTo%28map_f8c6d5f91bf24b6898c58b8220516932%20%29%3B%0A%20%20%20%20%20%20%20%20geo_json_b4cb4e8c17bd419bb1fed02430f7cf9f.setStyle%28function%28feature%29%20%7Breturn%20feature.properties.style%3B%7D%29%3B%0A%20%20%20%20%20%20%20%20%0A%20%20%20%20%0A%20%20%20%20%20%20%20%20geo_json_b4cb4e8c17bd419bb1fed02430f7cf9f.bindTooltip%28%0A%20%20%20%20%20%20%20%20%20%20%20%20%60%3Cdiv%3E%60%0A%20%20%20%20%20%20%20%20%20%20%20%20%2B%20%60%3Ch4%3EVeh%C3%ADculo%201%3C/h4%3E%0A%20%20%20%20%20%20%20%20%3Cb%3EDistancia%3A%3C/b%3E%20118627%20m%20%3Cbr%3E%0A%20%20%20%20%20%20%20%20%3Cb%3EDuraci%C3%B3n%3A%3C/b%3E%207174%20secs%0A%20%20%20%20%20%20%20%20%60%20%2B%20%60%3C/div%3E%60%2C%0A%20%20%20%20%20%20%20%20%20%20%20%20%7B%22sticky%22%3A%20true%7D%0A%20%20%20%20%20%20%20%20%29%3B%0A%20%20%20%20%20%20%20%20%0A%20%20%20%20%0A%20%20%20%20%20%20%20%20var%20geo_json_c7d6a10de9d74ed8a0840f39bfd60dea%20%3D%20L.geoJson%28%0A%20%20%20%20%20%20%20%20%20%20%20%20%7B%22features%22%3A%20%5B%7B%22geometry%22%3A%20%7B%22coordinates%22%3A%20%5B%5B-75.25527%2C%206.51715%5D%2C%20%5B-75.25521%2C%206.51674%5D%2C%20%5B-75.25515%2C%206.51639%5D%2C%20%5B-75.25512%2C%206.51625%5D%2C%20%5B-75.25559%2C%206.51614%5D%2C%20%5B-75.25632%2C%206.51602%5D%2C%20%5B-75.25656%2C%206.51592%5D%2C%20%5B-75.25665%2C%206.51585%5D%2C%20%5B-75.25674%2C%206.51569%5D%2C%20%5B-75.25682%2C%206.51549%5D%2C%20%5B-75.25693%2C%206.51534%5D%2C%20%5B-75.25741%2C%206.51507%5D%2C%20%5B-75.25754%2C%206.51498%5D%2C%20%5B-75.25765%2C%206.51487%5D%2C%20%5B-75.25813%2C%206.51408%5D%2C%20%5B-75.25822%2C%206.51396%5D%2C%20%5B-75.25837%2C%206.51382%5D%2C%20%5B-75.25866%2C%206.51369%5D%2C%20%5B-75.25874%2C%206.51364%5D%2C%20%5B-75.25881%2C%206.51356%5D%2C%20%5B-75.25887%2C%206.51341%5D%2C%20%5B-75.25903%2C%206.51317%5D%2C%20%5B-75.25964%2C%206.51246%5D%2C%20%5B-75.25973%2C%206.51238%5D%2C%20%5B-75.25984%2C%206.51231%5D%2C%20%5B-75.26023%2C%206.51218%5D%2C%20%5B-75.26037%2C%206.51211%5D%2C%20%5B-75.26049%2C%206.51202%5D%2C%20%5B-75.26095%2C%206.51162%5D%2C%20%5B-75.26156%2C%206.5111%5D%2C%20%5B-75.26146%2C%206.51114%5D%2C%20%5B-75.26138%2C%206.51115%5D%2C%20%5B-75.26128%2C%206.51112%5D%2C%20%5B-75.26122%2C%206.51107%5D%2C%20%5B-75.26116%2C%206.51097%5D%2C%20%5B-75.26111%2C%206.51087%5D%2C%20%5B-75.26109%2C%206.51075%5D%2C%20%5B-75.26106%2C%206.51067%5D%2C%20%5B-75.26102%2C%206.51059%5D%2C%20%5B-75.26097%2C%206.51045%5D%2C%20%5B-75.26078%2C%206.50998%5D%2C%20%5B-75.26063%2C%206.50903%5D%2C%20%5B-75.26064%2C%206.50869%5D%2C%20%5B-75.26071%2C%206.50846%5D%2C%20%5B-75.26076%2C%206.50834%5D%2C%20%5B-75.26092%2C%206.50811%5D%2C%20%5B-75.26127%2C%206.50765%5D%2C%20%5B-75.26133%2C%206.50758%5D%2C%20%5B-75.26222%2C%206.50647%5D%2C%20%5B-75.26334%2C%206.5052%5D%2C%20%5B-75.26373%2C%206.50467%5D%2C%20%5B-75.26431%2C%206.50335%5D%2C%20%5B-75.26449%2C%206.50289%5D%2C%20%5B-75.26449%2C%206.50259%5D%2C%20%5B-75.26448%2C%206.50229%5D%2C%20%5B-75.26438%2C%206.50089%5D%2C%20%5B-75.26444%2C%206.50053%5D%2C%20%5B-75.26462%2C%206.50002%5D%2C%20%5B-75.26551%2C%206.49889%5D%2C%20%5B-75.2657%2C%206.49852%5D%2C%20%5B-75.26594%2C%206.49799%5D%2C%20%5B-75.26619%2C%206.49709%5D%2C%20%5B-75.26654%2C%206.49585%5D%2C%20%5B-75.26671%2C%206.49522%5D%2C%20%5B-75.26696%2C%206.49454%5D%2C%20%5B-75.26813%2C%206.4925%5D%2C%20%5B-75.26846%2C%206.49194%5D%2C%20%5B-75.26858%2C%206.49172%5D%2C%20%5B-75.26894%2C%206.49129%5D%2C%20%5B-75.26952%2C%206.49077%5D%2C%20%5B-75.27019%2C%206.49017%5D%2C%20%5B-75.27097%2C%206.48946%5D%2C%20%5B-75.27119%2C%206.4892%5D%2C%20%5B-75.27173%2C%206.48849%5D%2C%20%5B-75.273%2C%206.48621%5D%2C%20%5B-75.27348%2C%206.48548%5D%2C%20%5B-75.27414%2C%206.48457%5D%2C%20%5B-75.27434%2C%206.48414%5D%2C%20%5B-75.27446%2C%206.48383%5D%2C%20%5B-75.27451%2C%206.48368%5D%2C%20%5B-75.27465%2C%206.48307%5D%2C%20%5B-75.27469%2C%206.48249%5D%2C%20%5B-75.27476%2C%206.48202%5D%2C%20%5B-75.27495%2C%206.48156%5D%2C%20%5B-75.27521%2C%206.48117%5D%2C%20%5B-75.27573%2C%206.48072%5D%2C%20%5B-75.27685%2C%206.48%5D%2C%20%5B-75.27805%2C%206.47913%5D%2C%20%5B-75.2785%2C%206.47883%5D%2C%20%5B-75.27895%2C%206.47865%5D%2C%20%5B-75.27933%2C%206.47849%5D%2C%20%5B-75.27984%2C%206.47829%5D%2C%20%5B-75.28097%2C%206.47782%5D%2C%20%5B-75.28137%2C%206.47772%5D%2C%20%5B-75.28208%2C%206.47759%5D%2C%20%5B-75.28402%2C%206.47717%5D%2C%20%5B-75.28456%2C%206.47694%5D%2C%20%5B-75.28506%2C%206.47654%5D%2C%20%5B-75.28545%2C%206.47607%5D%2C%20%5B-75.28711%2C%206.47351%5D%2C%20%5B-75.28737%2C%206.47309%5D%2C%20%5B-75.28755%2C%206.47266%5D%2C%20%5B-75.28835%2C%206.47034%5D%2C%20%5B-75.28864%2C%206.46951%5D%2C%20%5B-75.28882%2C%206.46916%5D%2C%20%5B-75.28904%2C%206.46887%5D%2C%20%5B-75.29038%2C%206.46747%5D%2C%20%5B-75.29178%2C%206.46548%5D%2C%20%5B-75.29189%2C%206.46533%5D%2C%20%5B-75.29241%2C%206.4647%5D%2C%20%5B-75.29285%2C%206.46433%5D%2C%20%5B-75.29346%2C%206.46404%5D%2C%20%5B-75.29507%2C%206.46362%5D%2C%20%5B-75.29552%2C%206.46345%5D%2C%20%5B-75.29597%2C%206.46321%5D%2C%20%5B-75.29733%2C%206.4618%5D%2C%20%5B-75.29768%2C%206.46148%5D%2C%20%5B-75.29835%2C%206.46102%5D%2C%20%5B-75.29919%2C%206.46053%5D%2C%20%5B-75.2994%2C%206.46045%5D%2C%20%5B-75.29951%2C%206.46041%5D%2C%20%5B-75.29964%2C%206.46036%5D%2C%20%5B-75.30002%2C%206.46032%5D%2C%20%5B-75.30045%2C%206.46034%5D%2C%20%5B-75.301%2C%206.46041%5D%2C%20%5B-75.30126%2C%206.46039%5D%2C%20%5B-75.30155%2C%206.46038%5D%2C%20%5B-75.30203%2C%206.46031%5D%2C%20%5B-75.30251%2C%206.46017%5D%2C%20%5B-75.30348%2C%206.45974%5D%2C%20%5B-75.30484%2C%206.45892%5D%2C%20%5B-75.30599%2C%206.45841%5D%2C%20%5B-75.30717%2C%206.45794%5D%2C%20%5B-75.30759%2C%206.45772%5D%2C%20%5B-75.30805%2C%206.45733%5D%2C%20%5B-75.30816%2C%206.45722%5D%2C%20%5B-75.3088%2C%206.45664%5D%2C%20%5B-75.30927%2C%206.45641%5D%2C%20%5B-75.30975%2C%206.45629%5D%2C%20%5B-75.31036%2C%206.45616%5D%2C%20%5B-75.31086%2C%206.45599%5D%2C%20%5B-75.31122%2C%206.45578%5D%2C%20%5B-75.31137%2C%206.45567%5D%2C%20%5B-75.31237%2C%206.45491%5D%2C%20%5B-75.31285%2C%206.45471%5D%2C%20%5B-75.31346%2C%206.45462%5D%2C%20%5B-75.31406%2C%206.45469%5D%2C%20%5B-75.31548%2C%206.45511%5D%2C%20%5B-75.31581%2C%206.45517%5D%2C%20%5B-75.32019%2C%206.45506%5D%2C%20%5B-75.32048%2C%206.45508%5D%2C%20%5B-75.32324%2C%206.45568%5D%2C%20%5B-75.32346%2C%206.45571%5D%2C%20%5B-75.32387%2C%206.4557%5D%2C%20%5B-75.32434%2C%206.45559%5D%2C%20%5B-75.32473%2C%206.45542%5D%2C%20%5B-75.32505%2C%206.45522%5D%2C%20%5B-75.32525%2C%206.45504%5D%2C%20%5B-75.32541%2C%206.45485%5D%2C%20%5B-75.32714%2C%206.45233%5D%2C%20%5B-75.32746%2C%206.45191%5D%2C%20%5B-75.32782%2C%206.45155%5D%2C%20%5B-75.32817%2C%206.4513%5D%2C%20%5B-75.32871%2C%206.45095%5D%2C%20%5B-75.32905%2C%206.45074%5D%2C%20%5B-75.32942%2C%206.45056%5D%2C%20%5B-75.32988%2C%206.45043%5D%2C%20%5B-75.33054%2C%206.45031%5D%2C%20%5B-75.33066%2C%206.45029%5D%2C%20%5B-75.33075%2C%206.45027%5D%2C%20%5B-75.33092%2C%206.45024%5D%2C%20%5B-75.3312%2C%206.45018%5D%2C%20%5B-75.33173%2C%206.44996%5D%2C%20%5B-75.33233%2C%206.4496%5D%2C%20%5B-75.33254%2C%206.44942%5D%2C%20%5B-75.33258%2C%206.44938%5D%2C%20%5B-75.33278%2C%206.4492%5D%2C%20%5B-75.33311%2C%206.44883%5D%2C%20%5B-75.3332%2C%206.4487%5D%2C%20%5B-75.33349%2C%206.44832%5D%2C%20%5B-75.33418%2C%206.44751%5D%2C%20%5B-75.33454%2C%206.44719%5D%2C%20%5B-75.3356%2C%206.44644%5D%2C%20%5B-75.33647%2C%206.44588%5D%2C%20%5B-75.33656%2C%206.44582%5D%2C%20%5B-75.33664%2C%206.44576%5D%2C%20%5B-75.33704%2C%206.44548%5D%2C%20%5B-75.3377%2C%206.44501%5D%2C%20%5B-75.3379%2C%206.44485%5D%2C%20%5B-75.33803%2C%206.44472%5D%2C%20%5B-75.33825%2C%206.44443%5D%2C%20%5B-75.33835%2C%206.44423%5D%2C%20%5B-75.33843%2C%206.44403%5D%2C%20%5B-75.33847%2C%206.44387%5D%2C%20%5B-75.33851%2C%206.44358%5D%2C%20%5B-75.33851%2C%206.44231%5D%2C%20%5B-75.33851%2C%206.44204%5D%2C%20%5B-75.33852%2C%206.44108%5D%2C%20%5B-75.33848%2C%206.44078%5D%2C%20%5B-75.33819%2C%206.43964%5D%2C%20%5B-75.33816%2C%206.43928%5D%2C%20%5B-75.33818%2C%206.43904%5D%2C%20%5B-75.33824%2C%206.43883%5D%2C%20%5B-75.33856%2C%206.43801%5D%2C%20%5B-75.33864%2C%206.43786%5D%2C%20%5B-75.33873%2C%206.43769%5D%2C%20%5B-75.33882%2C%206.43758%5D%2C%20%5B-75.33895%2C%206.43744%5D%2C%20%5B-75.33926%2C%206.43722%5D%2C%20%5B-75.34008%2C%206.43682%5D%2C%20%5B-75.34034%2C%206.43664%5D%2C%20%5B-75.34109%2C%206.43593%5D%2C%20%5B-75.34123%2C%206.43581%5D%2C%20%5B-75.34137%2C%206.43573%5D%2C%20%5B-75.34152%2C%206.43567%5D%2C%20%5B-75.34254%2C%206.4354%5D%2C%20%5B-75.34298%2C%206.43534%5D%2C%20%5B-75.34334%2C%206.43533%5D%2C%20%5B-75.34479%2C%206.43547%5D%2C%20%5B-75.34502%2C%206.43547%5D%2C%20%5B-75.34531%2C%206.4354%5D%2C%20%5B-75.34555%2C%206.4353%5D%2C%20%5B-75.34576%2C%206.43518%5D%2C%20%5B-75.34597%2C%206.43501%5D%2C%20%5B-75.3465%2C%206.43439%5D%2C%20%5B-75.34719%2C%206.43387%5D%2C%20%5B-75.3473%2C%206.43375%5D%2C%20%5B-75.34742%2C%206.43359%5D%2C%20%5B-75.34769%2C%206.43307%5D%2C%20%5B-75.3478%2C%206.4329%5D%2C%20%5B-75.34794%2C%206.43275%5D%2C%20%5B-75.34869%2C%206.43224%5D%2C%20%5B-75.34883%2C%206.43215%5D%2C%20%5B-75.34901%2C%206.43209%5D%2C%20%5B-75.34921%2C%206.43207%5D%2C%20%5B-75.34938%2C%206.43208%5D%2C%20%5B-75.35002%2C%206.43215%5D%2C%20%5B-75.35021%2C%206.43215%5D%2C%20%5B-75.35041%2C%206.43212%5D%2C%20%5B-75.35058%2C%206.43206%5D%2C%20%5B-75.35072%2C%206.43199%5D%2C%20%5B-75.35087%2C%206.43188%5D%2C%20%5B-75.35099%2C%206.43176%5D%2C%20%5B-75.35146%2C%206.43122%5D%2C%20%5B-75.35158%2C%206.43113%5D%2C%20%5B-75.35172%2C%206.43107%5D%2C%20%5B-75.35259%2C%206.43077%5D%2C%20%5B-75.35291%2C%206.43058%5D%2C%20%5B-75.35307%2C%206.4304%5D%2C%20%5B-75.35343%2C%206.42978%5D%2C%20%5B-75.35357%2C%206.42959%5D%2C%20%5B-75.35374%2C%206.42944%5D%2C%20%5B-75.35404%2C%206.42923%5D%2C%20%5B-75.35439%2C%206.42901%5D%2C%20%5B-75.35454%2C%206.42895%5D%2C%20%5B-75.35476%2C%206.42887%5D%2C%20%5B-75.35558%2C%206.42867%5D%2C%20%5B-75.35573%2C%206.4286%5D%2C%20%5B-75.35586%2C%206.4285%5D%2C%20%5B-75.35608%2C%206.42824%5D%2C%20%5B-75.3564%2C%206.42774%5D%2C%20%5B-75.35656%2C%206.42758%5D%2C%20%5B-75.35672%2C%206.42749%5D%2C%20%5B-75.35688%2C%206.42742%5D%2C%20%5B-75.35705%2C%206.42739%5D%2C%20%5B-75.35724%2C%206.42738%5D%2C%20%5B-75.35748%2C%206.42743%5D%2C%20%5B-75.35862%2C%206.42782%5D%2C%20%5B-75.35883%2C%206.42788%5D%2C%20%5B-75.35904%2C%206.42789%5D%2C%20%5B-75.35926%2C%206.42787%5D%2C%20%5B-75.35947%2C%206.4278%5D%2C%20%5B-75.35964%2C%206.42769%5D%2C%20%5B-75.35978%2C%206.42759%5D%2C%20%5B-75.3599%2C%206.42744%5D%2C%20%5B-75.36001%2C%206.42725%5D%2C%20%5B-75.36007%2C%206.4271%5D%2C%20%5B-75.36011%2C%206.42694%5D%2C%20%5B-75.36015%2C%206.42659%5D%2C%20%5B-75.3602%2C%206.42625%5D%2C%20%5B-75.36025%2C%206.42608%5D%2C%20%5B-75.36034%2C%206.42587%5D%2C%20%5B-75.36047%2C%206.42566%5D%2C%20%5B-75.3609%2C%206.42513%5D%2C%20%5B-75.36093%2C%206.42509%5D%2C%20%5B-75.36143%2C%206.42447%5D%2C%20%5B-75.36178%2C%206.42414%5D%2C%20%5B-75.36265%2C%206.42365%5D%2C%20%5B-75.36278%2C%206.42355%5D%2C%20%5B-75.3636%2C%206.42277%5D%2C%20%5B-75.36381%2C%206.42264%5D%2C%20%5B-75.36421%2C%206.42242%5D%2C%20%5B-75.36444%2C%206.42231%5D%2C%20%5B-75.36465%2C%206.42224%5D%2C%20%5B-75.36546%2C%206.42212%5D%2C%20%5B-75.36567%2C%206.42205%5D%2C%20%5B-75.36587%2C%206.42197%5D%2C%20%5B-75.36603%2C%206.42187%5D%2C%20%5B-75.36655%2C%206.42139%5D%2C%20%5B-75.36672%2C%206.42126%5D%2C%20%5B-75.3669%2C%206.42114%5D%2C%20%5B-75.36715%2C%206.42105%5D%2C%20%5B-75.36756%2C%206.42098%5D%2C%20%5B-75.36783%2C%206.42093%5D%2C%20%5B-75.36804%2C%206.42087%5D%2C%20%5B-75.36826%2C%206.42078%5D%2C%20%5B-75.36843%2C%206.42067%5D%2C%20%5B-75.36894%2C%206.42028%5D%2C%20%5B-75.3691%2C%206.42017%5D%2C%20%5B-75.36983%2C%206.41985%5D%2C%20%5B-75.36998%2C%206.41976%5D%2C%20%5B-75.37061%2C%206.41911%5D%2C%20%5B-75.3713%2C%206.41862%5D%2C%20%5B-75.3715%2C%206.4185%5D%2C%20%5B-75.37174%2C%206.4184%5D%2C%20%5B-75.37194%2C%206.41836%5D%2C%20%5B-75.37214%2C%206.41834%5D%2C%20%5B-75.37305%2C%206.41842%5D%2C%20%5B-75.37323%2C%206.41841%5D%2C%20%5B-75.37337%2C%206.41839%5D%2C%20%5B-75.37433%2C%206.4181%5D%2C%20%5B-75.37453%2C%206.41806%5D%2C%20%5B-75.37481%2C%206.41803%5D%2C%20%5B-75.37733%2C%206.41795%5D%2C%20%5B-75.37826%2C%206.41792%5D%2C%20%5B-75.37887%2C%206.41792%5D%2C%20%5B-75.37935%2C%206.41797%5D%2C%20%5B-75.38015%2C%206.41822%5D%2C%20%5B-75.38053%2C%206.41826%5D%2C%20%5B-75.38086%2C%206.41823%5D%2C%20%5B-75.38113%2C%206.41815%5D%2C%20%5B-75.38178%2C%206.41786%5D%2C%20%5B-75.38196%2C%206.41781%5D%2C%20%5B-75.3823%2C%206.41778%5D%2C%20%5B-75.38253%2C%206.41781%5D%2C%20%5B-75.38274%2C%206.41787%5D%2C%20%5B-75.38392%2C%206.41833%5D%2C%20%5B-75.38409%2C%206.41838%5D%2C%20%5B-75.38425%2C%206.4184%5D%2C%20%5B-75.38455%2C%206.41839%5D%2C%20%5B-75.38484%2C%206.41833%5D%2C%20%5B-75.38557%2C%206.41805%5D%2C%20%5B-75.3887%2C%206.41668%5D%2C%20%5B-75.38997%2C%206.41636%5D%2C%20%5B-75.39011%2C%206.41634%5D%2C%20%5B-75.39023%2C%206.41634%5D%2C%20%5B-75.39035%2C%206.41636%5D%2C%20%5B-75.39047%2C%206.41642%5D%2C%20%5B-75.39056%2C%206.41659%5D%2C%20%5B-75.39061%2C%206.41667%5D%2C%20%5B-75.39068%2C%206.41674%5D%2C%20%5B-75.39077%2C%206.41679%5D%2C%20%5B-75.39087%2C%206.41683%5D%2C%20%5B-75.39098%2C%206.41684%5D%2C%20%5B-75.39107%2C%206.41683%5D%2C%20%5B-75.39117%2C%206.41679%5D%2C%20%5B-75.39126%2C%206.41674%5D%2C%20%5B-75.39133%2C%206.41668%5D%2C%20%5B-75.39142%2C%206.41661%5D%2C%20%5B-75.39151%2C%206.41656%5D%2C%20%5B-75.39161%2C%206.41653%5D%2C%20%5B-75.39174%2C%206.41653%5D%2C%20%5B-75.39242%2C%206.41664%5D%2C%20%5B-75.39295%2C%206.41662%5D%2C%20%5B-75.39316%2C%206.41657%5D%2C%20%5B-75.3966%2C%206.41641%5D%2C%20%5B-75.39733%2C%206.41636%5D%2C%20%5B-75.39762%2C%206.41635%5D%2C%20%5B-75.39792%2C%206.41636%5D%2C%20%5B-75.39818%2C%206.41637%5D%2C%20%5B-75.39843%2C%206.4164%5D%2C%20%5B-75.39881%2C%206.41643%5D%2C%20%5B-75.39918%2C%206.41647%5D%2C%20%5B-75.39969%2C%206.41654%5D%2C%20%5B-75.40043%2C%206.41666%5D%2C%20%5B-75.40068%2C%206.41669%5D%2C%20%5B-75.40094%2C%206.41669%5D%2C%20%5B-75.40118%2C%206.41667%5D%2C%20%5B-75.40142%2C%206.41661%5D%2C%20%5B-75.40165%2C%206.41653%5D%2C%20%5B-75.40186%2C%206.41643%5D%2C%20%5B-75.40312%2C%206.41586%5D%2C%20%5B-75.40516%2C%206.41483%5D%2C%20%5B-75.4056%2C%206.4146%5D%2C%20%5B-75.40732%2C%206.41374%5D%2C%20%5B-75.40743%2C%206.41369%5D%2C%20%5B-75.40771%2C%206.41356%5D%2C%20%5B-75.40806%2C%206.41346%5D%2C%20%5B-75.40883%2C%206.41331%5D%2C%20%5B-75.41169%2C%206.41274%5D%2C%20%5B-75.41192%2C%206.41269%5D%2C%20%5B-75.41234%2C%206.41259%5D%2C%20%5B-75.41247%2C%206.41255%5D%2C%20%5B-75.41336%2C%206.41228%5D%2C%20%5B-75.41399%2C%206.41209%5D%2C%20%5B-75.41493%2C%206.41181%5D%2C%20%5B-75.41604%2C%206.41148%5D%2C%20%5B-75.41715%2C%206.41115%5D%2C%20%5B-75.42044%2C%206.41006%5D%2C%20%5B-75.42095%2C%206.40989%5D%2C%20%5B-75.42176%2C%206.40962%5D%2C%20%5B-75.42215%2C%206.40949%5D%2C%20%5B-75.42239%2C%206.40941%5D%2C%20%5B-75.42264%2C%206.40931%5D%2C%20%5B-75.42287%2C%206.4092%5D%2C%20%5B-75.42295%2C%206.40916%5D%2C%20%5B-75.42308%2C%206.40907%5D%2C%20%5B-75.42319%2C%206.409%5D%2C%20%5B-75.42354%2C%206.40869%5D%2C%20%5B-75.42427%2C%206.408%5D%2C%20%5B-75.42543%2C%206.40691%5D%2C%20%5B-75.42659%2C%206.40572%5D%2C%20%5B-75.42773%2C%206.40454%5D%2C%20%5B-75.42793%2C%206.40434%5D%2C%20%5B-75.42801%2C%206.40426%5D%2C%20%5B-75.42858%2C%206.40373%5D%2C%20%5B-75.42921%2C%206.40313%5D%2C%20%5B-75.42932%2C%206.40303%5D%2C%20%5B-75.43121%2C%206.40117%5D%2C%20%5B-75.43126%2C%206.40112%5D%2C%20%5B-75.43208%2C%206.40043%5D%2C%20%5B-75.43347%2C%206.39939%5D%2C%20%5B-75.43428%2C%206.39879%5D%2C%20%5B-75.43437%2C%206.39873%5D%2C%20%5B-75.43498%2C%206.39825%5D%2C%20%5B-75.43558%2C%206.39788%5D%2C%20%5B-75.43583%2C%206.39773%5D%2C%20%5B-75.43602%2C%206.39762%5D%2C%20%5B-75.43619%2C%206.39748%5D%2C%20%5B-75.43648%2C%206.39729%5D%2C%20%5B-75.43672%2C%206.39716%5D%2C%20%5B-75.43715%2C%206.39684%5D%2C%20%5B-75.43967%2C%206.3952%5D%2C%20%5B-75.44036%2C%206.39481%5D%2C%20%5B-75.44073%2C%206.39461%5D%2C%20%5B-75.44267%2C%206.39368%5D%2C%20%5B-75.44308%2C%206.39348%5D%2C%20%5B-75.44346%2C%206.39328%5D%2C%20%5B-75.44382%2C%206.39302%5D%2C%20%5B-75.44403%2C%206.39284%5D%2C%20%5B-75.44426%2C%206.39258%5D%2C%20%5B-75.44633%2C%206.39049%5D%2C%20%5B-75.44678%2C%206.39008%5D%2C%20%5B-75.44709%2C%206.38984%5D%2C%20%5B-75.44725%2C%206.38974%5D%2C%20%5B-75.44778%2C%206.38937%5D%2C%20%5B-75.44819%2C%206.38907%5D%2C%20%5B-75.4483%2C%206.389%5D%2C%20%5B-75.44877%2C%206.38868%5D%2C%20%5B-75.44941%2C%206.38824%5D%2C%20%5B-75.44952%2C%206.38817%5D%2C%20%5B-75.4498%2C%206.38799%5D%2C%20%5B-75.45006%2C%206.38786%5D%2C%20%5B-75.45149%2C%206.38731%5D%2C%20%5B-75.45264%2C%206.38681%5D%2C%20%5B-75.45474%2C%206.38545%5D%2C%20%5B-75.45533%2C%206.38516%5D%2C%20%5B-75.45559%2C%206.38503%5D%2C%20%5B-75.45579%2C%206.38493%5D%2C%20%5B-75.45664%2C%206.38455%5D%2C%20%5B-75.45689%2C%206.38446%5D%2C%20%5B-75.45713%2C%206.38441%5D%2C%20%5B-75.45751%2C%206.38435%5D%2C%20%5B-75.45807%2C%206.38432%5D%2C%20%5B-75.45903%2C%206.38434%5D%2C%20%5B-75.45922%2C%206.38434%5D%2C%20%5B-75.46039%2C%206.38433%5D%2C%20%5B-75.46123%2C%206.38432%5D%2C%20%5B-75.46374%2C%206.38431%5D%2C%20%5B-75.46417%2C%206.38428%5D%2C%20%5B-75.46442%2C%206.38424%5D%2C%20%5B-75.46465%2C%206.38417%5D%2C%20%5B-75.46611%2C%206.38359%5D%2C%20%5B-75.46639%2C%206.38352%5D%2C%20%5B-75.46668%2C%206.38349%5D%2C%20%5B-75.46694%2C%206.38348%5D%2C%20%5B-75.46724%2C%206.38347%5D%2C%20%5B-75.46788%2C%206.38345%5D%2C%20%5B-75.46841%2C%206.38341%5D%2C%20%5B-75.46896%2C%206.38334%5D%2C%20%5B-75.4706%2C%206.38312%5D%2C%20%5B-75.47121%2C%206.38302%5D%2C%20%5B-75.47143%2C%206.38299%5D%2C%20%5B-75.47213%2C%206.38282%5D%2C%20%5B-75.47349%2C%206.38243%5D%2C%20%5B-75.47401%2C%206.3823%5D%2C%20%5B-75.47524%2C%206.382%5D%2C%20%5B-75.47541%2C%206.38197%5D%2C%20%5B-75.47613%2C%206.38177%5D%2C%20%5B-75.47721%2C%206.3814%5D%2C%20%5B-75.47762%2C%206.3813%5D%2C%20%5B-75.47804%2C%206.38126%5D%2C%20%5B-75.47892%2C%206.38123%5D%2C%20%5B-75.47987%2C%206.38122%5D%2C%20%5B-75.48062%2C%206.38119%5D%2C%20%5B-75.48109%2C%206.38117%5D%2C%20%5B-75.48144%2C%206.38115%5D%2C%20%5B-75.4817%2C%206.38111%5D%2C%20%5B-75.48186%2C%206.38106%5D%2C%20%5B-75.48201%2C%206.38101%5D%2C%20%5B-75.48219%2C%206.38094%5D%2C%20%5B-75.4823%2C%206.38089%5D%2C%20%5B-75.48243%2C%206.38082%5D%2C%20%5B-75.48279%2C%206.38058%5D%2C%20%5B-75.4831%2C%206.38034%5D%2C%20%5B-75.48355%2C%206.38008%5D%2C%20%5B-75.48369%2C%206.38001%5D%2C%20%5B-75.48568%2C%206.37928%5D%2C%20%5B-75.486%2C%206.37907%5D%2C%20%5B-75.48615%2C%206.37896%5D%2C%20%5B-75.48631%2C%206.37882%5D%2C%20%5B-75.48752%2C%206.37777%5D%2C%20%5B-75.48805%2C%206.3774%5D%2C%20%5B-75.48867%2C%206.3769%5D%2C%20%5B-75.4889%2C%206.37668%5D%2C%20%5B-75.48903%2C%206.37651%5D%2C%20%5B-75.48915%2C%206.37633%5D%2C%20%5B-75.48997%2C%206.37392%5D%2C%20%5B-75.49007%2C%206.37339%5D%2C%20%5B-75.48999%2C%206.37125%5D%2C%20%5B-75.48993%2C%206.37043%5D%2C%20%5B-75.48999%2C%206.3698%5D%2C%20%5B-75.49014%2C%206.36934%5D%2C%20%5B-75.49026%2C%206.36904%5D%2C%20%5B-75.49036%2C%206.36881%5D%2C%20%5B-75.49053%2C%206.36841%5D%2C%20%5B-75.4907%2C%206.368%5D%2C%20%5B-75.4908%2C%206.36778%5D%2C%20%5B-75.49092%2C%206.36759%5D%2C%20%5B-75.49102%2C%206.36745%5D%2C%20%5B-75.49129%2C%206.36712%5D%2C%20%5B-75.49161%2C%206.36673%5D%2C%20%5B-75.49175%2C%206.36656%5D%2C%20%5B-75.49237%2C%206.36578%5D%2C%20%5B-75.49248%2C%206.36564%5D%2C%20%5B-75.49268%2C%206.36537%5D%2C%20%5B-75.49279%2C%206.36518%5D%2C%20%5B-75.49287%2C%206.36497%5D%2C%20%5B-75.49292%2C%206.36479%5D%2C%20%5B-75.49305%2C%206.36409%5D%2C%20%5B-75.4931%2C%206.36388%5D%2C%20%5B-75.49318%2C%206.36368%5D%2C%20%5B-75.49328%2C%206.36347%5D%2C%20%5B-75.49339%2C%206.3633%5D%2C%20%5B-75.49351%2C%206.36314%5D%2C%20%5B-75.49368%2C%206.36296%5D%2C%20%5B-75.49402%2C%206.36268%5D%2C%20%5B-75.49454%2C%206.36233%5D%2C%20%5B-75.49514%2C%206.36193%5D%2C%20%5B-75.49566%2C%206.3616%5D%2C%20%5B-75.4959%2C%206.36144%5D%2C%20%5B-75.4964%2C%206.36111%5D%2C%20%5B-75.49754%2C%206.36039%5D%2C%20%5B-75.49786%2C%206.3602%5D%2C%20%5B-75.49844%2C%206.3598%5D%2C%20%5B-75.49861%2C%206.35966%5D%2C%20%5B-75.49876%2C%206.35949%5D%2C%20%5B-75.49943%2C%206.35858%5D%2C%20%5B-75.49983%2C%206.35804%5D%2C%20%5B-75.50025%2C%206.35749%5D%2C%20%5B-75.50047%2C%206.35717%5D%2C%20%5B-75.50061%2C%206.35691%5D%2C%20%5B-75.50079%2C%206.35633%5D%2C%20%5B-75.50119%2C%206.35519%5D%2C%20%5B-75.50136%2C%206.3548%5D%2C%20%5B-75.5015%2C%206.35456%5D%2C%20%5B-75.50192%2C%206.354%5D%2C%20%5B-75.50252%2C%206.35328%5D%2C%20%5B-75.50277%2C%206.35307%5D%2C%20%5B-75.5029%2C%206.353%5D%2C%20%5B-75.50302%2C%206.35293%5D%2C%20%5B-75.50327%2C%206.35282%5D%2C%20%5B-75.50354%2C%206.35273%5D%2C%20%5B-75.50388%2C%206.35264%5D%2C%20%5B-75.50463%2C%206.35243%5D%2C%20%5B-75.5054%2C%206.35222%5D%2C%20%5B-75.50558%2C%206.35217%5D%2C%20%5B-75.50681%2C%206.35182%5D%2C%20%5B-75.50703%2C%206.35176%5D%2C%20%5B-75.50736%2C%206.35167%5D%2C%20%5B-75.50781%2C%206.35153%5D%2C%20%5B-75.50841%2C%206.35129%5D%2C%20%5B-75.5088%2C%206.35113%5D%2C%20%5B-75.5091%2C%206.35103%5D%2C%20%5B-75.50938%2C%206.35098%5D%2C%20%5B-75.50986%2C%206.3509%5D%2C%20%5B-75.51073%2C%206.35075%5D%2C%20%5B-75.51245%2C%206.35047%5D%2C%20%5B-75.51254%2C%206.35045%5D%2C%20%5B-75.51256%2C%206.35045%5D%2C%20%5B-75.51314%2C%206.35034%5D%2C%20%5B-75.51477%2C%206.34999%5D%2C%20%5B-75.51636%2C%206.34963%5D%2C%20%5B-75.51687%2C%206.34952%5D%2C%20%5B-75.51712%2C%206.34946%5D%2C%20%5B-75.51722%2C%206.34944%5D%2C%20%5B-75.5175%2C%206.34938%5D%2C%20%5B-75.51761%2C%206.34936%5D%2C%20%5B-75.51762%2C%206.34935%5D%2C%20%5B-75.51809%2C%206.34925%5D%2C%20%5B-75.51846%2C%206.34913%5D%2C%20%5B-75.5186%2C%206.34907%5D%2C%20%5B-75.51887%2C%206.3489%5D%2C%20%5B-75.51952%2C%206.34842%5D%2C%20%5B-75.51994%2C%206.34806%5D%2C%20%5B-75.51998%2C%206.34803%5D%2C%20%5B-75.52065%2C%206.34749%5D%2C%20%5B-75.5208%2C%206.34737%5D%2C%20%5B-75.52136%2C%206.34691%5D%2C%20%5B-75.52143%2C%206.34686%5D%2C%20%5B-75.52177%2C%206.34661%5D%2C%20%5B-75.52185%2C%206.34656%5D%2C%20%5B-75.52197%2C%206.34648%5D%2C%20%5B-75.52223%2C%206.34632%5D%2C%20%5B-75.52253%2C%206.34616%5D%2C%20%5B-75.52311%2C%206.34589%5D%2C%20%5B-75.52335%2C%206.3458%5D%2C%20%5B-75.52361%2C%206.34571%5D%2C%20%5B-75.52374%2C%206.34568%5D%2C%20%5B-75.52424%2C%206.34556%5D%2C%20%5B-75.52545%2C%206.34538%5D%2C%20%5B-75.52552%2C%206.34536%5D%2C%20%5B-75.52579%2C%206.3453%5D%2C%20%5B-75.52605%2C%206.34526%5D%2C%20%5B-75.5271%2C%206.34517%5D%2C%20%5B-75.52764%2C%206.34506%5D%2C%20%5B-75.52791%2C%206.345%5D%2C%20%5B-75.52812%2C%206.34497%5D%2C%20%5B-75.52898%2C%206.34483%5D%2C%20%5B-75.52965%2C%206.34472%5D%2C%20%5B-75.52999%2C%206.34468%5D%2C%20%5B-75.53008%2C%206.34466%5D%2C%20%5B-75.53017%2C%206.34465%5D%2C%20%5B-75.53065%2C%206.34456%5D%2C%20%5B-75.53114%2C%206.34443%5D%2C%20%5B-75.53139%2C%206.34436%5D%2C%20%5B-75.5315%2C%206.34432%5D%2C%20%5B-75.53174%2C%206.34421%5D%2C%20%5B-75.53205%2C%206.34406%5D%2C%20%5B-75.53236%2C%206.3439%5D%2C%20%5B-75.53269%2C%206.34371%5D%2C%20%5B-75.53285%2C%206.34362%5D%2C%20%5B-75.53289%2C%206.34359%5D%2C%20%5B-75.53323%2C%206.34336%5D%2C%20%5B-75.53338%2C%206.34327%5D%2C%20%5B-75.53452%2C%206.34246%5D%2C%20%5B-75.53503%2C%206.34211%5D%2C%20%5B-75.53515%2C%206.342%5D%2C%20%5B-75.53534%2C%206.34187%5D%2C%20%5B-75.53574%2C%206.34162%5D%2C%20%5B-75.5361%2C%206.34141%5D%2C%20%5B-75.5366%2C%206.3411%5D%2C%20%5B-75.53665%2C%206.34107%5D%2C%20%5B-75.53862%2C%206.33988%5D%2C%20%5B-75.5388%2C%206.33977%5D%2C%20%5B-75.53888%2C%206.33972%5D%2C%20%5B-75.53958%2C%206.33935%5D%2C%20%5B-75.53981%2C%206.33924%5D%2C%20%5B-75.5399%2C%206.33921%5D%2C%20%5B-75.5401%2C%206.33913%5D%2C%20%5B-75.54106%2C%206.33885%5D%2C%20%5B-75.54241%2C%206.33848%5D%2C%20%5B-75.5427%2C%206.33839%5D%2C%20%5B-75.54303%2C%206.33834%5D%2C%20%5B-75.54354%2C%206.33831%5D%2C%20%5B-75.54394%2C%206.33828%5D%2C%20%5B-75.544%2C%206.33828%5D%2C%20%5B-75.54408%2C%206.33828%5D%2C%20%5B-75.54418%2C%206.33827%5D%2C%20%5B-75.54434%2C%206.33824%5D%2C%20%5B-75.54458%2C%206.33819%5D%2C%20%5B-75.54467%2C%206.33816%5D%2C%20%5B-75.54475%2C%206.33813%5D%2C%20%5B-75.5449%2C%206.33804%5D%2C%20%5B-75.54498%2C%206.33797%5D%2C%20%5B-75.54501%2C%206.33793%5D%2C%20%5B-75.54506%2C%206.33783%5D%2C%20%5B-75.54508%2C%206.33777%5D%2C%20%5B-75.54509%2C%206.33762%5D%2C%20%5B-75.54505%2C%206.33748%5D%2C%20%5B-75.545%2C%206.33743%5D%2C%20%5B-75.54494%2C%206.33736%5D%2C%20%5B-75.54487%2C%206.33731%5D%2C%20%5B-75.54477%2C%206.33725%5D%2C%20%5B-75.54467%2C%206.33722%5D%2C%20%5B-75.54457%2C%206.33709%5D%2C%20%5B-75.54446%2C%206.33688%5D%2C%20%5B-75.54442%2C%206.33668%5D%2C%20%5B-75.54456%2C%206.33556%5D%2C%20%5B-75.54461%2C%206.33506%5D%2C%20%5B-75.54467%2C%206.33456%5D%2C%20%5B-75.5447%2C%206.33442%5D%2C%20%5B-75.54477%2C%206.33424%5D%2C%20%5B-75.54492%2C%206.33401%5D%2C%20%5B-75.54506%2C%206.33386%5D%2C%20%5B-75.5452%2C%206.33375%5D%2C%20%5B-75.54534%2C%206.33366%5D%2C%20%5B-75.54575%2C%206.33349%5D%2C%20%5B-75.54862%2C%206.33242%5D%2C%20%5B-75.54874%2C%206.33235%5D%2C%20%5B-75.54897%2C%206.33218%5D%2C%20%5B-75.54906%2C%206.3321%5D%2C%20%5B-75.54925%2C%206.33189%5D%2C%20%5B-75.54937%2C%206.33175%5D%2C%20%5B-75.55061%2C%206.32994%5D%2C%20%5B-75.55076%2C%206.32972%5D%2C%20%5B-75.55091%2C%206.32951%5D%2C%20%5B-75.55099%2C%206.32939%5D%2C%20%5B-75.55141%2C%206.32877%5D%2C%20%5B-75.5525%2C%206.32718%5D%2C%20%5B-75.55269%2C%206.32687%5D%2C%20%5B-75.5538%2C%206.32496%5D%2C%20%5B-75.55397%2C%206.32465%5D%2C%20%5B-75.55409%2C%206.32437%5D%2C%20%5B-75.55428%2C%206.32377%5D%2C%20%5B-75.5544%2C%206.32329%5D%2C%20%5B-75.55455%2C%206.3223%5D%2C%20%5B-75.5547%2C%206.32155%5D%2C%20%5B-75.55483%2C%206.32053%5D%2C%20%5B-75.55508%2C%206.31938%5D%2C%20%5B-75.55517%2C%206.31908%5D%2C%20%5B-75.55519%2C%206.31903%5D%2C%20%5B-75.55555%2C%206.318%5D%2C%20%5B-75.55559%2C%206.31785%5D%2C%20%5B-75.55571%2C%206.31734%5D%2C%20%5B-75.55578%2C%206.31673%5D%2C%20%5B-75.55577%2C%206.31636%5D%2C%20%5B-75.55571%2C%206.31513%5D%2C%20%5B-75.55565%2C%206.31434%5D%2C%20%5B-75.55566%2C%206.31409%5D%2C%20%5B-75.55568%2C%206.31368%5D%2C%20%5B-75.55572%2C%206.31341%5D%2C%20%5B-75.55579%2C%206.31315%5D%2C%20%5B-75.5559%2C%206.31291%5D%2C%20%5B-75.55614%2C%206.31246%5D%2C%20%5B-75.55631%2C%206.31219%5D%2C%20%5B-75.55652%2C%206.31194%5D%2C%20%5B-75.55681%2C%206.31161%5D%2C%20%5B-75.55693%2C%206.31147%5D%2C%20%5B-75.55708%2C%206.31129%5D%2C%20%5B-75.55731%2C%206.31101%5D%2C%20%5B-75.55745%2C%206.31084%5D%2C%20%5B-75.55776%2C%206.31037%5D%2C%20%5B-75.55794%2C%206.31013%5D%2C%20%5B-75.55802%2C%206.31001%5D%2C%20%5B-75.55807%2C%206.30994%5D%2C%20%5B-75.55821%2C%206.3097%5D%2C%20%5B-75.55832%2C%206.3095%5D%2C%20%5B-75.55842%2C%206.30922%5D%2C%20%5B-75.55849%2C%206.30899%5D%2C%20%5B-75.55852%2C%206.30882%5D%2C%20%5B-75.55854%2C%206.30865%5D%2C%20%5B-75.55854%2C%206.30833%5D%2C%20%5B-75.55832%2C%206.30704%5D%2C%20%5B-75.55824%2C%206.30657%5D%2C%20%5B-75.55818%2C%206.30622%5D%2C%20%5B-75.55813%2C%206.30585%5D%2C%20%5B-75.55805%2C%206.30512%5D%2C%20%5B-75.55798%2C%206.30448%5D%2C%20%5B-75.55797%2C%206.30418%5D%2C%20%5B-75.55799%2C%206.30392%5D%2C%20%5B-75.55809%2C%206.30345%5D%2C%20%5B-75.55817%2C%206.30317%5D%2C%20%5B-75.55825%2C%206.30285%5D%2C%20%5B-75.5584%2C%206.30228%5D%2C%20%5B-75.55863%2C%206.30158%5D%2C%20%5B-75.55869%2C%206.30133%5D%2C%20%5B-75.55877%2C%206.30105%5D%2C%20%5B-75.55894%2C%206.30055%5D%2C%20%5B-75.55951%2C%206.29924%5D%2C%20%5B-75.55988%2C%206.29834%5D%2C%20%5B-75.56001%2C%206.29811%5D%2C%20%5B-75.56038%2C%206.2976%5D%2C%20%5B-75.56056%2C%206.2974%5D%2C%20%5B-75.56143%2C%206.29636%5D%2C%20%5B-75.56217%2C%206.29558%5D%2C%20%5B-75.56224%2C%206.29551%5D%2C%20%5B-75.56233%2C%206.29541%5D%2C%20%5B-75.56343%2C%206.29427%5D%2C%20%5B-75.56353%2C%206.29413%5D%2C%20%5B-75.56364%2C%206.29387%5D%2C%20%5B-75.56365%2C%206.29384%5D%2C%20%5B-75.56367%2C%206.29376%5D%2C%20%5B-75.56367%2C%206.29375%5D%2C%20%5B-75.56408%2C%206.29197%5D%2C%20%5B-75.56415%2C%206.29173%5D%2C%20%5B-75.56421%2C%206.29158%5D%2C%20%5B-75.56427%2C%206.29147%5D%2C%20%5B-75.56433%2C%206.29139%5D%2C%20%5B-75.56594%2C%206.28941%5D%2C%20%5B-75.5661%2C%206.28912%5D%2C%20%5B-75.56616%2C%206.28893%5D%2C%20%5B-75.56622%2C%206.28865%5D%2C%20%5B-75.56626%2C%206.28834%5D%2C%20%5B-75.56631%2C%206.28768%5D%2C%20%5B-75.56635%2C%206.28752%5D%2C%20%5B-75.56639%2C%206.28734%5D%2C%20%5B-75.56643%2C%206.28721%5D%2C%20%5B-75.56655%2C%206.28699%5D%2C%20%5B-75.56778%2C%206.28563%5D%2C%20%5B-75.56785%2C%206.28554%5D%2C%20%5B-75.56791%2C%206.28548%5D%2C%20%5B-75.56799%2C%206.28536%5D%2C%20%5B-75.56832%2C%206.28473%5D%2C%20%5B-75.56859%2C%206.28429%5D%2C%20%5B-75.56882%2C%206.28384%5D%2C%20%5B-75.56896%2C%206.28352%5D%2C%20%5B-75.56901%2C%206.28335%5D%2C%20%5B-75.56901%2C%206.28318%5D%2C%20%5B-75.56896%2C%206.28165%5D%2C%20%5B-75.56899%2C%206.28123%5D%2C%20%5B-75.56904%2C%206.28084%5D%2C%20%5B-75.56914%2C%206.28036%5D%2C%20%5B-75.56995%2C%206.27677%5D%2C%20%5B-75.57038%2C%206.27481%5D%2C%20%5B-75.57041%2C%206.2747%5D%2C%20%5B-75.57054%2C%206.27463%5D%2C%20%5B-75.57056%2C%206.27462%5D%2C%20%5B-75.57058%2C%206.27461%5D%2C%20%5B-75.57065%2C%206.27427%5D%2C%20%5B-75.57079%2C%206.27366%5D%2C%20%5B-75.57143%2C%206.2708%5D%2C%20%5B-75.5715%2C%206.27051%5D%2C%20%5B-75.57157%2C%206.27022%5D%2C%20%5B-75.57169%2C%206.2697%5D%2C%20%5B-75.57169%2C%206.26966%5D%2C%20%5B-75.57181%2C%206.26917%5D%2C%20%5B-75.57197%2C%206.26845%5D%2C%20%5B-75.57199%2C%206.26837%5D%2C%20%5B-75.57234%2C%206.2668%5D%2C%20%5B-75.57247%2C%206.26612%5D%2C%20%5B-75.57255%2C%206.26582%5D%2C%20%5B-75.57282%2C%206.26474%5D%2C%20%5B-75.57298%2C%206.26406%5D%2C%20%5B-75.57313%2C%206.26363%5D%2C%20%5B-75.57334%2C%206.26305%5D%2C%20%5B-75.57379%2C%206.2619%5D%2C%20%5B-75.57418%2C%206.26109%5D%2C%20%5B-75.57437%2C%206.26073%5D%2C%20%5B-75.57508%2C%206.25988%5D%2C%20%5B-75.57505%2C%206.26106%5D%2C%20%5B-75.57501%2C%206.26127%5D%2C%20%5B-75.57498%2C%206.26137%5D%2C%20%5B-75.57494%2C%206.26147%5D%2C%20%5B-75.57487%2C%206.26154%5D%2C%20%5B-75.57478%2C%206.26158%5D%2C%20%5B-75.57468%2C%206.26162%5D%2C%20%5B-75.57454%2C%206.2616%5D%2C%20%5B-75.57439%2C%206.26156%5D%2C%20%5B-75.57414%2C%206.26138%5D%2C%20%5B-75.5732%2C%206.26013%5D%2C%20%5B-75.57297%2C%206.25982%5D%2C%20%5B-75.57265%2C%206.25939%5D%2C%20%5B-75.57251%2C%206.25904%5D%2C%20%5B-75.57239%2C%206.2587%5D%2C%20%5B-75.57235%2C%206.25859%5D%2C%20%5B-75.57231%2C%206.25844%5D%2C%20%5B-75.57225%2C%206.2583%5D%2C%20%5B-75.57222%2C%206.25816%5D%2C%20%5B-75.57222%2C%206.25795%5D%2C%20%5B-75.57224%2C%206.25778%5D%2C%20%5B-75.57237%2C%206.2574%5D%2C%20%5B-75.57241%2C%206.2573%5D%2C%20%5B-75.57251%2C%206.25707%5D%2C%20%5B-75.57269%2C%206.25683%5D%2C%20%5B-75.5728%2C%206.2567%5D%2C%20%5B-75.57286%2C%206.25663%5D%2C%20%5B-75.57312%2C%206.25637%5D%2C%20%5B-75.57342%2C%206.25607%5D%2C%20%5B-75.57368%2C%206.25581%5D%2C%20%5B-75.57374%2C%206.25575%5D%2C%20%5B-75.57453%2C%206.25492%5D%2C%20%5B-75.57473%2C%206.25467%5D%2C%20%5B-75.57485%2C%206.25448%5D%2C%20%5B-75.5749%2C%206.25437%5D%2C%20%5B-75.57494%2C%206.25427%5D%2C%20%5B-75.57498%2C%206.25408%5D%2C%20%5B-75.57501%2C%206.25366%5D%2C%20%5B-75.5751%2C%206.25224%5D%2C%20%5B-75.57516%2C%206.25188%5D%2C%20%5B-75.57518%2C%206.25138%5D%2C%20%5B-75.57523%2C%206.25027%5D%2C%20%5B-75.57524%2C%206.25016%5D%2C%20%5B-75.57526%2C%206.24944%5D%2C%20%5B-75.57527%2C%206.2492%5D%2C%20%5B-75.57527%2C%206.24899%5D%2C%20%5B-75.5753%2C%206.24859%5D%2C%20%5B-75.57531%2C%206.24843%5D%2C%20%5B-75.57532%2C%206.24835%5D%2C%20%5B-75.57534%2C%206.24765%5D%2C%20%5B-75.57536%2C%206.24718%5D%2C%20%5B-75.57539%2C%206.2469%5D%2C%20%5B-75.57541%2C%206.24683%5D%2C%20%5B-75.57543%2C%206.24675%5D%2C%20%5B-75.57561%2C%206.24665%5D%2C%20%5B-75.57567%2C%206.2466%5D%2C%20%5B-75.57572%2C%206.24656%5D%2C%20%5B-75.57575%2C%206.24651%5D%2C%20%5B-75.57579%2C%206.24637%5D%2C%20%5B-75.57579%2C%206.24628%5D%2C%20%5B-75.57578%2C%206.24622%5D%2C%20%5B-75.57575%2C%206.24616%5D%2C%20%5B-75.57567%2C%206.24602%5D%2C%20%5B-75.57554%2C%206.24586%5D%2C%20%5B-75.57551%2C%206.24583%5D%2C%20%5B-75.57544%2C%206.24578%5D%2C%20%5B-75.57524%2C%206.24574%5D%2C%20%5B-75.57511%2C%206.24576%5D%2C%20%5B-75.57504%2C%206.24579%5D%2C%20%5B-75.57494%2C%206.24587%5D%2C%20%5B-75.57475%2C%206.24591%5D%2C%20%5B-75.57466%2C%206.24592%5D%2C%20%5B-75.57452%2C%206.24589%5D%2C%20%5B-75.57419%2C%206.24578%5D%2C%20%5B-75.57375%2C%206.24561%5D%2C%20%5B-75.57364%2C%206.24557%5D%2C%20%5B-75.57354%2C%206.24544%5D%2C%20%5B-75.57351%2C%206.24543%5D%2C%20%5B-75.57352%2C%206.2454%5D%2C%20%5B-75.57352%2C%206.24516%5D%2C%20%5B-75.57352%2C%206.2454%5D%2C%20%5B-75.57351%2C%206.24543%5D%2C%20%5B-75.57285%2C%206.24519%5D%2C%20%5B-75.57281%2C%206.24517%5D%2C%20%5B-75.57276%2C%206.24515%5D%2C%20%5B-75.57273%2C%206.24515%5D%2C%20%5B-75.57271%2C%206.24516%5D%2C%20%5B-75.57261%2C%206.24521%5D%2C%20%5B-75.57255%2C%206.24518%5D%2C%20%5B-75.57183%2C%206.24502%5D%2C%20%5B-75.57164%2C%206.24495%5D%2C%20%5B-75.57152%2C%206.24491%5D%2C%20%5B-75.57147%2C%206.24507%5D%2C%20%5B-75.57157%2C%206.24512%5D%2C%20%5B-75.57178%2C%206.2452%5D%2C%20%5B-75.5725%2C%206.24552%5D%2C%20%5B-75.5727%2C%206.24559%5D%2C%20%5B-75.57359%2C%206.2459%5D%2C%20%5B-75.57419%2C%206.24612%5D%2C%20%5B-75.57448%2C%206.24622%5D%2C%20%5B-75.57458%2C%206.24626%5D%2C%20%5B-75.57466%2C%206.24629%5D%2C%20%5B-75.57474%2C%206.24635%5D%2C%20%5B-75.57494%2C%206.24662%5D%2C%20%5B-75.57498%2C%206.24667%5D%2C%20%5B-75.57503%2C%206.24677%5D%2C%20%5B-75.57508%2C%206.24694%5D%2C%20%5B-75.57508%2C%206.24697%5D%2C%20%5B-75.57509%2C%206.24706%5D%2C%20%5B-75.57508%2C%206.24727%5D%2C%20%5B-75.57507%2C%206.24757%5D%2C%20%5B-75.57504%2C%206.24828%5D%2C%20%5B-75.57504%2C%206.24874%5D%2C%20%5B-75.57503%2C%206.24886%5D%2C%20%5B-75.57503%2C%206.2491%5D%2C%20%5B-75.575%2C%206.24974%5D%2C%20%5B-75.57499%2C%206.2501%5D%2C%20%5B-75.57498%2C%206.25021%5D%2C%20%5B-75.57496%2C%206.25069%5D%2C%20%5B-75.57496%2C%206.25077%5D%2C%20%5B-75.57493%2C%206.25132%5D%2C%20%5B-75.57489%2C%206.25172%5D%2C%20%5B-75.5748%2C%206.25228%5D%2C%20%5B-75.57475%2C%206.25259%5D%2C%20%5B-75.57473%2C%206.25265%5D%2C%20%5B-75.57471%2C%206.25271%5D%2C%20%5B-75.57459%2C%206.25297%5D%2C%20%5B-75.57407%2C%206.25406%5D%2C%20%5B-75.57338%2C%206.25524%5D%2C%20%5B-75.57325%2C%206.25545%5D%2C%20%5B-75.57295%2C%206.25598%5D%2C%20%5B-75.57285%2C%206.25615%5D%2C%20%5B-75.57283%2C%206.25618%5D%2C%20%5B-75.57233%2C%206.25667%5D%2C%20%5B-75.57219%2C%206.2568%5D%2C%20%5B-75.57208%2C%206.25687%5D%2C%20%5B-75.57205%2C%206.25689%5D%2C%20%5B-75.57191%2C%206.25697%5D%2C%20%5B-75.57175%2C%206.25694%5D%2C%20%5B-75.57175%2C%206.257%5D%2C%20%5B-75.57171%2C%206.25702%5D%2C%20%5B-75.57165%2C%206.25704%5D%2C%20%5B-75.57159%2C%206.25706%5D%2C%20%5B-75.57156%2C%206.25708%5D%2C%20%5B-75.57153%2C%206.2571%5D%2C%20%5B-75.57144%2C%206.25717%5D%2C%20%5B-75.57108%2C%206.25747%5D%2C%20%5B-75.57095%2C%206.25759%5D%2C%20%5B-75.57065%2C%206.25788%5D%2C%20%5B-75.57059%2C%206.25798%5D%2C%20%5B-75.57057%2C%206.25803%5D%2C%20%5B-75.57056%2C%206.25812%5D%2C%20%5B-75.57056%2C%206.25818%5D%2C%20%5B-75.57057%2C%206.25827%5D%2C%20%5B-75.57053%2C%206.25832%5D%2C%20%5B-75.57043%2C%206.25847%5D%2C%20%5B-75.57034%2C%206.25858%5D%2C%20%5B-75.57028%2C%206.25865%5D%2C%20%5B-75.57%2C%206.25897%5D%2C%20%5B-75.56988%2C%206.25916%5D%2C%20%5B-75.56969%2C%206.25953%5D%2C%20%5B-75.5694%2C%206.26011%5D%2C%20%5B-75.56936%2C%206.26019%5D%2C%20%5B-75.56931%2C%206.26028%5D%2C%20%5B-75.56927%2C%206.26036%5D%2C%20%5B-75.56908%2C%206.26073%5D%2C%20%5B-75.56884%2C%206.26119%5D%2C%20%5B-75.56879%2C%206.26127%5D%2C%20%5B-75.56867%2C%206.2615%5D%2C%20%5B-75.56833%2C%206.26214%5D%2C%20%5B-75.56796%2C%206.26284%5D%2C%20%5B-75.56789%2C%206.26294%5D%2C%20%5B-75.56785%2C%206.26301%5D%2C%20%5B-75.56783%2C%206.26304%5D%2C%20%5B-75.56782%2C%206.26306%5D%2C%20%5B-75.56779%2C%206.26312%5D%2C%20%5B-75.56757%2C%206.26358%5D%2C%20%5B-75.56744%2C%206.2643%5D%2C%20%5B-75.56743%2C%206.26438%5D%2C%20%5B-75.56742%2C%206.26447%5D%2C%20%5B-75.56741%2C%206.26453%5D%2C%20%5B-75.56739%2C%206.26464%5D%2C%20%5B-75.56735%2C%206.26483%5D%2C%20%5B-75.56681%2C%206.26732%5D%2C%20%5B-75.56673%2C%206.26768%5D%2C%20%5B-75.56635%2C%206.26926%5D%2C%20%5B-75.5663%2C%206.26947%5D%2C%20%5B-75.56626%2C%206.26965%5D%2C%20%5B-75.56619%2C%206.27004%5D%2C%20%5B-75.56615%2C%206.27023%5D%2C%20%5B-75.56584%2C%206.27129%5D%2C%20%5B-75.5656%2C%206.27213%5D%2C%20%5B-75.56558%2C%206.27216%5D%2C%20%5B-75.56556%2C%206.27218%5D%2C%20%5B-75.56551%2C%206.2722%5D%2C%20%5B-75.56545%2C%206.2722%5D%2C%20%5B-75.5651%2C%206.27214%5D%2C%20%5B-75.56504%2C%206.27216%5D%2C%20%5B-75.56499%2C%206.27218%5D%2C%20%5B-75.56492%2C%206.27232%5D%2C%20%5B-75.56483%2C%206.27279%5D%2C%20%5B-75.56478%2C%206.27287%5D%2C%20%5B-75.56473%2C%206.2729%5D%2C%20%5B-75.5647%2C%206.27291%5D%2C%20%5B-75.56464%2C%206.2729%5D%2C%20%5B-75.56461%2C%206.27305%5D%2C%20%5B-75.56472%2C%206.27308%5D%2C%20%5B-75.56475%2C%206.27312%5D%2C%20%5B-75.56469%2C%206.27336%5D%2C%20%5B-75.5648%2C%206.27338%5D%2C%20%5B-75.56485%2C%206.27314%5D%2C%20%5B-75.56492%2C%206.27281%5D%2C%20%5B-75.565%2C%206.27232%5D%2C%20%5B-75.56504%2C%206.27231%5D%2C%20%5B-75.56508%2C%206.2723%5D%2C%20%5B-75.56516%2C%206.27231%5D%2C%20%5B-75.56523%2C%206.27234%5D%2C%20%5B-75.5653%2C%206.27239%5D%2C%20%5B-75.56543%2C%206.27251%5D%2C%20%5B-75.56584%2C%206.27295%5D%2C%20%5B-75.5661%2C%206.27325%5D%2C%20%5B-75.56624%2C%206.2734%5D%2C%20%5B-75.56702%2C%206.27417%5D%2C%20%5B-75.56776%2C%206.2749%5D%2C%20%5B-75.5678%2C%206.27493%5D%2C%20%5B-75.56835%2C%206.27544%5D%2C%20%5B-75.56852%2C%206.27556%5D%2C%20%5B-75.56874%2C%206.27567%5D%2C%20%5B-75.56884%2C%206.2757%5D%2C%20%5B-75.56898%2C%206.27574%5D%2C%20%5B-75.57083%2C%206.27617%5D%2C%20%5B-75.57131%2C%206.27628%5D%2C%20%5B-75.57149%2C%206.27632%5D%2C%20%5B-75.57162%2C%206.27637%5D%2C%20%5B-75.57172%2C%206.27642%5D%2C%20%5B-75.57181%2C%206.2765%5D%2C%20%5B-75.5719%2C%206.27659%5D%2C%20%5B-75.572%2C%206.27672%5D%2C%20%5B-75.57204%2C%206.27684%5D%2C%20%5B-75.57205%2C%206.27695%5D%2C%20%5B-75.57206%2C%206.27706%5D%2C%20%5B-75.57206%2C%206.27736%5D%2C%20%5B-75.57204%2C%206.27799%5D%2C%20%5B-75.57203%2C%206.27882%5D%2C%20%5B-75.57194%2C%206.27951%5D%2C%20%5B-75.57179%2C%206.28068%5D%2C%20%5B-75.57176%2C%206.28102%5D%2C%20%5B-75.57173%2C%206.28116%5D%2C%20%5B-75.57161%2C%206.28171%5D%2C%20%5B-75.57133%2C%206.28268%5D%2C%20%5B-75.57096%2C%206.28377%5D%2C%20%5B-75.57095%2C%206.28382%5D%2C%20%5B-75.57083%2C%206.28424%5D%2C%20%5B-75.57058%2C%206.28505%5D%2C%20%5B-75.57038%2C%206.28563%5D%2C%20%5B-75.57016%2C%206.28629%5D%2C%20%5B-75.57011%2C%206.28643%5D%2C%20%5B-75.56999%2C%206.28683%5D%2C%20%5B-75.56995%2C%206.28697%5D%2C%20%5B-75.56993%2C%206.28701%5D%2C%20%5B-75.56991%2C%206.28708%5D%2C%20%5B-75.56979%2C%206.28742%5D%2C%20%5B-75.56973%2C%206.28761%5D%2C%20%5B-75.56959%2C%206.28805%5D%2C%20%5B-75.56941%2C%206.28863%5D%2C%20%5B-75.56912%2C%206.28951%5D%2C%20%5B-75.56875%2C%206.29068%5D%2C%20%5B-75.56828%2C%206.2921%5D%2C%20%5B-75.56818%2C%206.29243%5D%2C%20%5B-75.56805%2C%206.29284%5D%2C%20%5B-75.56785%2C%206.29345%5D%2C%20%5B-75.56758%2C%206.29428%5D%2C%20%5B-75.56738%2C%206.29493%5D%2C%20%5B-75.5672%2C%206.29553%5D%2C%20%5B-75.56711%2C%206.29583%5D%2C%20%5B-75.56682%2C%206.29679%5D%2C%20%5B-75.56671%2C%206.29713%5D%2C%20%5B-75.56667%2C%206.29727%5D%2C%20%5B-75.56657%2C%206.29758%5D%2C%20%5B-75.56655%2C%206.29765%5D%2C%20%5B-75.5664%2C%206.29806%5D%2C%20%5B-75.56635%2C%206.29817%5D%2C%20%5B-75.56625%2C%206.29841%5D%2C%20%5B-75.56601%2C%206.29883%5D%2C%20%5B-75.56584%2C%206.29905%5D%2C%20%5B-75.56579%2C%206.2991%5D%2C%20%5B-75.56556%2C%206.29936%5D%2C%20%5B-75.56481%2C%206.30014%5D%2C%20%5B-75.56478%2C%206.30018%5D%2C%20%5B-75.5645%2C%206.30045%5D%2C%20%5B-75.56427%2C%206.30069%5D%2C%20%5B-75.56406%2C%206.30094%5D%2C%20%5B-75.56386%2C%206.30133%5D%2C%20%5B-75.56366%2C%206.3017%5D%2C%20%5B-75.56351%2C%206.302%5D%2C%20%5B-75.56336%2C%206.30221%5D%2C%20%5B-75.56325%2C%206.30236%5D%2C%20%5B-75.56312%2C%206.30251%5D%2C%20%5B-75.56301%2C%206.30262%5D%2C%20%5B-75.56271%2C%206.30285%5D%2C%20%5B-75.56252%2C%206.30295%5D%2C%20%5B-75.56208%2C%206.30313%5D%2C%20%5B-75.56162%2C%206.30331%5D%2C%20%5B-75.56131%2C%206.30345%5D%2C%20%5B-75.5612%2C%206.30351%5D%2C%20%5B-75.5611%2C%206.30356%5D%2C%20%5B-75.56095%2C%206.30367%5D%2C%20%5B-75.56081%2C%206.30378%5D%2C%20%5B-75.56077%2C%206.30383%5D%2C%20%5B-75.56056%2C%206.30416%5D%2C%20%5B-75.56052%2C%206.30425%5D%2C%20%5B-75.56042%2C%206.30449%5D%2C%20%5B-75.56035%2C%206.30481%5D%2C%20%5B-75.56035%2C%206.30496%5D%2C%20%5B-75.56036%2C%206.30598%5D%2C%20%5B-75.56038%2C%206.30622%5D%2C%20%5B-75.56039%2C%206.30635%5D%2C%20%5B-75.56041%2C%206.30664%5D%2C%20%5B-75.5604%2C%206.30707%5D%2C%20%5B-75.56038%2C%206.30719%5D%2C%20%5B-75.56037%2C%206.30727%5D%2C%20%5B-75.56037%2C%206.30729%5D%2C%20%5B-75.56025%2C%206.30792%5D%2C%20%5B-75.56019%2C%206.30815%5D%2C%20%5B-75.56016%2C%206.30825%5D%2C%20%5B-75.56012%2C%206.3084%5D%2C%20%5B-75.5599%2C%206.30898%5D%2C%20%5B-75.55983%2C%206.30917%5D%2C%20%5B-75.55981%2C%206.30923%5D%2C%20%5B-75.55978%2C%206.30929%5D%2C%20%5B-75.55973%2C%206.30942%5D%2C%20%5B-75.55967%2C%206.30959%5D%2C%20%5B-75.55956%2C%206.30988%5D%2C%20%5B-75.55944%2C%206.31011%5D%2C%20%5B-75.55916%2C%206.31053%5D%2C%20%5B-75.55894%2C%206.3107%5D%2C%20%5B-75.55867%2C%206.31085%5D%2C%20%5B-75.55851%2C%206.3109%5D%2C%20%5B-75.55843%2C%206.31092%5D%2C%20%5B-75.55835%2C%206.31093%5D%2C%20%5B-75.55809%2C%206.31091%5D%2C%20%5B-75.55791%2C%206.31086%5D%2C%20%5B-75.55781%2C%206.31083%5D%2C%20%5B-75.55777%2C%206.31079%5D%2C%20%5B-75.55765%2C%206.31072%5D%2C%20%5B-75.55662%2C%206.30999%5D%2C%20%5B-75.55653%2C%206.30993%5D%2C%20%5B-75.55647%2C%206.30985%5D%2C%20%5B-75.55643%2C%206.30974%5D%2C%20%5B-75.55641%2C%206.30968%5D%2C%20%5B-75.55644%2C%206.30957%5D%2C%20%5B-75.55648%2C%206.30953%5D%2C%20%5B-75.55652%2C%206.30949%5D%2C%20%5B-75.55658%2C%206.30946%5D%2C%20%5B-75.55665%2C%206.30944%5D%2C%20%5B-75.55672%2C%206.30944%5D%2C%20%5B-75.5568%2C%206.30948%5D%2C%20%5B-75.55687%2C%206.30952%5D%2C%20%5B-75.55692%2C%206.30955%5D%2C%20%5B-75.55697%2C%206.30962%5D%2C%20%5B-75.55699%2C%206.30967%5D%2C%20%5B-75.557%2C%206.3098%5D%2C%20%5B-75.55694%2C%206.30996%5D%2C%20%5B-75.55687%2C%206.31009%5D%2C%20%5B-75.55681%2C%206.3102%5D%2C%20%5B-75.55676%2C%206.31029%5D%2C%20%5B-75.55671%2C%206.31035%5D%2C%20%5B-75.55631%2C%206.31087%5D%2C%20%5B-75.55603%2C%206.31117%5D%2C%20%5B-75.55579%2C%206.31151%5D%2C%20%5B-75.55547%2C%206.31196%5D%2C%20%5B-75.55521%2C%206.31239%5D%2C%20%5B-75.55508%2C%206.31254%5D%2C%20%5B-75.55496%2C%206.3126%5D%2C%20%5B-75.55475%2C%206.31262%5D%2C%20%5B-75.55441%2C%206.3125%5D%2C%20%5B-75.55428%2C%206.31246%5D%2C%20%5B-75.55426%2C%206.31245%5D%2C%20%5B-75.55418%2C%206.31241%5D%2C%20%5B-75.55404%2C%206.31235%5D%2C%20%5B-75.55402%2C%206.31234%5D%2C%20%5B-75.554%2C%206.31232%5D%2C%20%5B-75.55392%2C%206.31233%5D%2C%20%5B-75.55388%2C%206.3124%5D%2C%20%5B-75.55388%2C%206.31243%5D%2C%20%5B-75.55387%2C%206.31251%5D%2C%20%5B-75.55384%2C%206.31256%5D%2C%20%5B-75.55379%2C%206.31268%5D%2C%20%5B-75.55358%2C%206.31297%5D%2C%20%5B-75.55346%2C%206.31314%5D%2C%20%5B-75.55325%2C%206.31348%5D%2C%20%5B-75.55313%2C%206.31373%5D%2C%20%5B-75.55306%2C%206.31393%5D%2C%20%5B-75.55302%2C%206.31414%5D%2C%20%5B-75.55303%2C%206.31427%5D%2C%20%5B-75.55307%2C%206.3144%5D%2C%20%5B-75.55312%2C%206.31451%5D%2C%20%5B-75.55321%2C%206.31463%5D%2C%20%5B-75.55327%2C%206.31471%5D%2C%20%5B-75.55328%2C%206.31472%5D%2C%20%5B-75.55337%2C%206.31484%5D%2C%20%5B-75.55343%2C%206.31496%5D%2C%20%5B-75.55346%2C%206.31506%5D%2C%20%5B-75.55346%2C%206.31526%5D%2C%20%5B-75.55344%2C%206.31554%5D%2C%20%5B-75.55343%2C%206.31564%5D%2C%20%5B-75.55346%2C%206.31605%5D%2C%20%5B-75.55356%2C%206.31658%5D%2C%20%5B-75.55362%2C%206.317%5D%2C%20%5B-75.55363%2C%206.31714%5D%2C%20%5B-75.55363%2C%206.31723%5D%2C%20%5B-75.55362%2C%206.3173%5D%2C%20%5B-75.55362%2C%206.3174%5D%2C%20%5B-75.55355%2C%206.31794%5D%2C%20%5B-75.55351%2C%206.31836%5D%2C%20%5B-75.55346%2C%206.31871%5D%2C%20%5B-75.5534%2C%206.31887%5D%2C%20%5B-75.55333%2C%206.31897%5D%2C%20%5B-75.55319%2C%206.31916%5D%2C%20%5B-75.55288%2C%206.31958%5D%2C%20%5B-75.55277%2C%206.31976%5D%2C%20%5B-75.55254%2C%206.32004%5D%2C%20%5B-75.55221%2C%206.32047%5D%2C%20%5B-75.55196%2C%206.32081%5D%2C%20%5B-75.55177%2C%206.32103%5D%2C%20%5B-75.55154%2C%206.32124%5D%2C%20%5B-75.5514%2C%206.32129%5D%2C%20%5B-75.55129%2C%206.32132%5D%2C%20%5B-75.55104%2C%206.32143%5D%2C%20%5B-75.55088%2C%206.32162%5D%2C%20%5B-75.55045%2C%206.32211%5D%2C%20%5B-75.5501%2C%206.3223%5D%2C%20%5B-75.55005%2C%206.32233%5D%2C%20%5B-75.54977%2C%206.32247%5D%2C%20%5B-75.54936%2C%206.3227%5D%2C%20%5B-75.54916%2C%206.32298%5D%2C%20%5B-75.54907%2C%206.32323%5D%2C%20%5B-75.54899%2C%206.32347%5D%2C%20%5B-75.54892%2C%206.32368%5D%2C%20%5B-75.54884%2C%206.32372%5D%2C%20%5B-75.54864%2C%206.32384%5D%2C%20%5B-75.54845%2C%206.32403%5D%2C%20%5B-75.54828%2C%206.32418%5D%2C%20%5B-75.54774%2C%206.32487%5D%2C%20%5B-75.54766%2C%206.32498%5D%2C%20%5B-75.54693%2C%206.32559%5D%2C%20%5B-75.54662%2C%206.32584%5D%2C%20%5B-75.54637%2C%206.3262%5D%2C%20%5B-75.54629%2C%206.32684%5D%2C%20%5B-75.54618%2C%206.32697%5D%2C%20%5B-75.54573%2C%206.32713%5D%2C%20%5B-75.54564%2C%206.32727%5D%2C%20%5B-75.54562%2C%206.32755%5D%2C%20%5B-75.54561%2C%206.32802%5D%2C%20%5B-75.54563%2C%206.32821%5D%2C%20%5B-75.54577%2C%206.32873%5D%2C%20%5B-75.5457%2C%206.32888%5D%2C%20%5B-75.54553%2C%206.32897%5D%2C%20%5B-75.54514%2C%206.32898%5D%2C%20%5B-75.54504%2C%206.32905%5D%2C%20%5B-75.54494%2C%206.32925%5D%2C%20%5B-75.54481%2C%206.32949%5D%2C%20%5B-75.54479%2C%206.32953%5D%2C%20%5B-75.54468%2C%206.3298%5D%2C%20%5B-75.54452%2C%206.33065%5D%2C%20%5B-75.54448%2C%206.33076%5D%2C%20%5B-75.54446%2C%206.33082%5D%2C%20%5B-75.54436%2C%206.33096%5D%2C%20%5B-75.54427%2C%206.33103%5D%2C%20%5B-75.54408%2C%206.33113%5D%2C%20%5B-75.54389%2C%206.33124%5D%2C%20%5B-75.54366%2C%206.33123%5D%2C%20%5B-75.54342%2C%206.33119%5D%2C%20%5B-75.54305%2C%206.33114%5D%2C%20%5B-75.54271%2C%206.33109%5D%2C%20%5B-75.54242%2C%206.33105%5D%2C%20%5B-75.54226%2C%206.33097%5D%2C%20%5B-75.54213%2C%206.33086%5D%2C%20%5B-75.54193%2C%206.33069%5D%2C%20%5B-75.54168%2C%206.3306%5D%2C%20%5B-75.54129%2C%206.33065%5D%2C%20%5B-75.54107%2C%206.33066%5D%2C%20%5B-75.54098%2C%206.3307%5D%2C%20%5B-75.54072%2C%206.33084%5D%2C%20%5B-75.54047%2C%206.3311%5D%2C%20%5B-75.54019%2C%206.33128%5D%2C%20%5B-75.54002%2C%206.33139%5D%2C%20%5B-75.53973%2C%206.33154%5D%2C%20%5B-75.53951%2C%206.33168%5D%2C%20%5B-75.53929%2C%206.33185%5D%2C%20%5B-75.53891%2C%206.3322%5D%2C%20%5B-75.53859%2C%206.33256%5D%2C%20%5B-75.53853%2C%206.33262%5D%2C%20%5B-75.53823%2C%206.33288%5D%2C%20%5B-75.53817%2C%206.33294%5D%2C%20%5B-75.53806%2C%206.33307%5D%2C%20%5B-75.53785%2C%206.33329%5D%2C%20%5B-75.53779%2C%206.33338%5D%2C%20%5B-75.53753%2C%206.3338%5D%2C%20%5B-75.53737%2C%206.33398%5D%2C%20%5B-75.53725%2C%206.33404%5D%2C%20%5B-75.53714%2C%206.33408%5D%2C%20%5B-75.53703%2C%206.3341%5D%2C%20%5B-75.53673%2C%206.33411%5D%2C%20%5B-75.53634%2C%206.33412%5D%2C%20%5B-75.53607%2C%206.33414%5D%2C%20%5B-75.53542%2C%206.3342%5D%2C%20%5B-75.53533%2C%206.33417%5D%2C%20%5B-75.53526%2C%206.33412%5D%2C%20%5B-75.53522%2C%206.33409%5D%2C%20%5B-75.53504%2C%206.33397%5D%2C%20%5B-75.53489%2C%206.33381%5D%2C%20%5B-75.53473%2C%206.33364%5D%2C%20%5B-75.53462%2C%206.33359%5D%2C%20%5B-75.53441%2C%206.33358%5D%2C%20%5B-75.53418%2C%206.33362%5D%2C%20%5B-75.53403%2C%206.33368%5D%2C%20%5B-75.53395%2C%206.33373%5D%2C%20%5B-75.53381%2C%206.33383%5D%2C%20%5B-75.53367%2C%206.33401%5D%2C%20%5B-75.53361%2C%206.33406%5D%2C%20%5B-75.53338%2C%206.33428%5D%2C%20%5B-75.5333%2C%206.33431%5D%2C%20%5B-75.53323%2C%206.33433%5D%2C%20%5B-75.53275%2C%206.33435%5D%2C%20%5B-75.53264%2C%206.33437%5D%2C%20%5B-75.5325%2C%206.33449%5D%2C%20%5B-75.53239%2C%206.33464%5D%2C%20%5B-75.53231%2C%206.33485%5D%2C%20%5B-75.53223%2C%206.33512%5D%2C%20%5B-75.53183%2C%206.33636%5D%2C%20%5B-75.53176%2C%206.33648%5D%2C%20%5B-75.53162%2C%206.33664%5D%2C%20%5B-75.53148%2C%206.33676%5D%2C%20%5B-75.53135%2C%206.33682%5D%2C%20%5B-75.53096%2C%206.3369%5D%2C%20%5B-75.53068%2C%206.3369%5D%2C%20%5B-75.53046%2C%206.33693%5D%2C%20%5B-75.53039%2C%206.33694%5D%2C%20%5B-75.53012%2C%206.33698%5D%2C%20%5B-75.52988%2C%206.33696%5D%2C%20%5B-75.52947%2C%206.3368%5D%2C%20%5B-75.52932%2C%206.33679%5D%2C%20%5B-75.52923%2C%206.3368%5D%2C%20%5B-75.52916%2C%206.33682%5D%2C%20%5B-75.52854%2C%206.33701%5D%2C%20%5B-75.52813%2C%206.3372%5D%2C%20%5B-75.52807%2C%206.33721%5D%2C%20%5B-75.52794%2C%206.33719%5D%2C%20%5B-75.5277%2C%206.33711%5D%2C%20%5B-75.52761%2C%206.33708%5D%2C%20%5B-75.52744%2C%206.33707%5D%2C%20%5B-75.52701%2C%206.33708%5D%2C%20%5B-75.52653%2C%206.33711%5D%2C%20%5B-75.52618%2C%206.33714%5D%2C%20%5B-75.52608%2C%206.33715%5D%2C%20%5B-75.5259%2C%206.3372%5D%2C%20%5B-75.52435%2C%206.33759%5D%2C%20%5B-75.524%2C%206.33769%5D%2C%20%5B-75.52381%2C%206.33781%5D%2C%20%5B-75.52331%2C%206.33826%5D%2C%20%5B-75.52306%2C%206.33844%5D%2C%20%5B-75.52272%2C%206.3386%5D%2C%20%5B-75.5225%2C%206.33867%5D%2C%20%5B-75.52219%2C%206.33874%5D%2C%20%5B-75.52189%2C%206.33879%5D%2C%20%5B-75.52169%2C%206.33882%5D%2C%20%5B-75.52155%2C%206.33885%5D%2C%20%5B-75.52139%2C%206.33891%5D%2C%20%5B-75.52124%2C%206.33897%5D%2C%20%5B-75.52106%2C%206.33904%5D%2C%20%5B-75.52083%2C%206.33914%5D%2C%20%5B-75.52026%2C%206.33941%5D%2C%20%5B-75.52014%2C%206.33948%5D%2C%20%5B-75.52006%2C%206.3396%5D%2C%20%5B-75.51991%2C%206.34001%5D%2C%20%5B-75.51976%2C%206.34026%5D%2C%20%5B-75.51962%2C%206.34043%5D%2C%20%5B-75.51956%2C%206.34053%5D%2C%20%5B-75.51952%2C%206.34064%5D%2C%20%5B-75.51952%2C%206.34075%5D%2C%20%5B-75.51953%2C%206.34097%5D%2C%20%5B-75.51953%2C%206.34119%5D%2C%20%5B-75.51951%2C%206.34138%5D%2C%20%5B-75.51948%2C%206.34153%5D%2C%20%5B-75.51941%2C%206.34186%5D%2C%20%5B-75.51932%2C%206.34204%5D%2C%20%5B-75.51922%2C%206.34221%5D%2C%20%5B-75.51914%2C%206.34231%5D%2C%20%5B-75.51903%2C%206.34238%5D%2C%20%5B-75.51877%2C%206.34246%5D%2C%20%5B-75.51863%2C%206.34252%5D%2C%20%5B-75.51842%2C%206.34265%5D%2C%20%5B-75.51819%2C%206.34284%5D%2C%20%5B-75.51798%2C%206.34301%5D%2C%20%5B-75.51782%2C%206.34312%5D%2C%20%5B-75.51754%2C%206.34328%5D%2C%20%5B-75.51738%2C%206.34338%5D%2C%20%5B-75.51726%2C%206.34347%5D%2C%20%5B-75.51715%2C%206.34358%5D%2C%20%5B-75.51703%2C%206.3437%5D%2C%20%5B-75.51672%2C%206.34398%5D%2C%20%5B-75.51661%2C%206.34406%5D%2C%20%5B-75.51647%2C%206.34412%5D%2C%20%5B-75.51634%2C%206.34415%5D%2C%20%5B-75.51571%2C%206.34422%5D%2C%20%5B-75.51549%2C%206.34424%5D%2C%20%5B-75.51523%2C%206.34427%5D%2C%20%5B-75.51503%2C%206.34431%5D%2C%20%5B-75.51452%2C%206.34448%5D%2C%20%5B-75.51373%2C%206.34475%5D%2C%20%5B-75.51292%2C%206.34503%5D%2C%20%5B-75.51219%2C%206.34529%5D%2C%20%5B-75.51212%2C%206.34532%5D%2C%20%5B-75.51164%2C%206.34547%5D%2C%20%5B-75.51142%2C%206.34554%5D%2C%20%5B-75.51136%2C%206.34557%5D%2C%20%5B-75.51088%2C%206.34568%5D%2C%20%5B-75.51081%2C%206.34569%5D%2C%20%5B-75.51069%2C%206.34571%5D%2C%20%5B-75.51055%2C%206.34574%5D%2C%20%5B-75.50964%2C%206.34596%5D%2C%20%5B-75.50965%2C%206.34601%5D%2C%20%5B-75.50984%2C%206.34659%5D%2C%20%5B-75.50989%2C%206.3468%5D%2C%20%5B-75.50986%2C%206.34682%5D%2C%20%5B-75.50945%2C%206.34705%5D%2C%20%5B-75.50901%2C%206.34737%5D%2C%20%5B-75.5087%2C%206.34763%5D%2C%20%5B-75.50859%2C%206.34771%5D%2C%20%5B-75.50832%2C%206.34793%5D%2C%20%5B-75.50818%2C%206.34807%5D%2C%20%5B-75.50792%2C%206.3483%5D%2C%20%5B-75.50758%2C%206.34857%5D%2C%20%5B-75.50737%2C%206.34873%5D%2C%20%5B-75.50698%2C%206.34887%5D%2C%20%5B-75.50628%2C%206.34915%5D%2C%20%5B-75.5057%2C%206.34935%5D%2C%20%5B-75.50555%2C%206.34884%5D%2C%20%5B-75.50527%2C%206.34794%5D%2C%20%5B-75.50519%2C%206.34805%5D%2C%20%5B-75.50511%2C%206.3481%5D%2C%20%5B-75.50503%2C%206.34813%5D%2C%20%5B-75.50495%2C%206.34813%5D%2C%20%5B-75.50479%2C%206.34807%5D%2C%20%5B-75.50467%2C%206.34804%5D%2C%20%5B-75.50453%2C%206.34805%5D%2C%20%5B-75.5043%2C%206.34811%5D%2C%20%5B-75.5042%2C%206.34816%5D%2C%20%5B-75.50412%2C%206.34818%5D%2C%20%5B-75.50402%2C%206.34819%5D%2C%20%5B-75.50383%2C%206.3482%5D%2C%20%5B-75.50374%2C%206.34821%5D%2C%20%5B-75.50361%2C%206.34826%5D%2C%20%5B-75.50327%2C%206.34846%5D%2C%20%5B-75.50276%2C%206.34881%5D%2C%20%5B-75.50266%2C%206.3489%5D%2C%20%5B-75.50244%2C%206.34925%5D%2C%20%5B-75.50229%2C%206.3494%5D%2C%20%5B-75.50208%2C%206.34949%5D%2C%20%5B-75.50199%2C%206.34954%5D%2C%20%5B-75.50191%2C%206.3496%5D%2C%20%5B-75.50184%2C%206.34969%5D%2C%20%5B-75.50177%2C%206.34979%5D%2C%20%5B-75.50171%2C%206.34996%5D%2C%20%5B-75.50162%2C%206.35031%5D%2C%20%5B-75.50157%2C%206.35041%5D%2C%20%5B-75.50151%2C%206.35053%5D%2C%20%5B-75.50136%2C%206.35071%5D%2C%20%5B-75.50124%2C%206.35081%5D%2C%20%5B-75.50109%2C%206.35095%5D%2C%20%5B-75.50106%2C%206.35102%5D%2C%20%5B-75.50106%2C%206.35119%5D%2C%20%5B-75.50103%2C%206.35142%5D%2C%20%5B-75.50098%2C%206.35164%5D%2C%20%5B-75.50086%2C%206.3519%5D%2C%20%5B-75.50075%2C%206.35209%5D%2C%20%5B-75.50054%2C%206.3525%5D%2C%20%5B-75.50032%2C%206.35294%5D%2C%20%5B-75.50023%2C%206.3531%5D%2C%20%5B-75.50004%2C%206.35346%5D%2C%20%5B-75.49995%2C%206.35361%5D%2C%20%5B-75.49954%2C%206.35404%5D%2C%20%5B-75.49938%2C%206.35418%5D%2C%20%5B-75.49927%2C%206.35424%5D%2C%20%5B-75.49909%2C%206.3543%5D%2C%20%5B-75.49897%2C%206.35431%5D%2C%20%5B-75.49877%2C%206.35431%5D%2C%20%5B-75.49859%2C%206.35427%5D%2C%20%5B-75.49821%2C%206.35419%5D%2C%20%5B-75.49811%2C%206.35419%5D%2C%20%5B-75.49775%2C%206.35426%5D%2C%20%5B-75.49765%2C%206.35431%5D%2C%20%5B-75.49761%2C%206.35433%5D%2C%20%5B-75.49754%2C%206.35438%5D%2C%20%5B-75.49739%2C%206.35457%5D%2C%20%5B-75.4973%2C%206.35469%5D%2C%20%5B-75.49706%2C%206.35499%5D%2C%20%5B-75.49702%2C%206.35504%5D%2C%20%5B-75.497%2C%206.35509%5D%2C%20%5B-75.49698%2C%206.35524%5D%2C%20%5B-75.49697%2C%206.35559%5D%2C%20%5B-75.49695%2C%206.35572%5D%2C%20%5B-75.49691%2C%206.3558%5D%2C%20%5B-75.49679%2C%206.35593%5D%2C%20%5B-75.49658%2C%206.35614%5D%2C%20%5B-75.49649%2C%206.35624%5D%2C%20%5B-75.49643%2C%206.35632%5D%2C%20%5B-75.4964%2C%206.3564%5D%2C%20%5B-75.49633%2C%206.35655%5D%2C%20%5B-75.49619%2C%206.35684%5D%2C%20%5B-75.49605%2C%206.35707%5D%2C%20%5B-75.49568%2C%206.35752%5D%2C%20%5B-75.49562%2C%206.35764%5D%2C%20%5B-75.49551%2C%206.35797%5D%2C%20%5B-75.49537%2C%206.35825%5D%2C%20%5B-75.49532%2C%206.35857%5D%2C%20%5B-75.49525%2C%206.35869%5D%2C%20%5B-75.49509%2C%206.35885%5D%2C%20%5B-75.49497%2C%206.35894%5D%2C%20%5B-75.4949%2C%206.35898%5D%2C%20%5B-75.49473%2C%206.35908%5D%2C%20%5B-75.49444%2C%206.35927%5D%2C%20%5B-75.49433%2C%206.35931%5D%2C%20%5B-75.49385%2C%206.35937%5D%2C%20%5B-75.49372%2C%206.35937%5D%2C%20%5B-75.49328%2C%206.35925%5D%2C%20%5B-75.49321%2C%206.35924%5D%2C%20%5B-75.49313%2C%206.35926%5D%2C%20%5B-75.49282%2C%206.35946%5D%2C%20%5B-75.49231%2C%206.35967%5D%2C%20%5B-75.49196%2C%206.35984%5D%2C%20%5B-75.4918%2C%206.35999%5D%2C%20%5B-75.49171%2C%206.3601%5D%2C%20%5B-75.49144%2C%206.36072%5D%2C%20%5B-75.4914%2C%206.36082%5D%2C%20%5B-75.4913%2C%206.36111%5D%2C%20%5B-75.49114%2C%206.36142%5D%2C%20%5B-75.49105%2C%206.36159%5D%2C%20%5B-75.49099%2C%206.36173%5D%2C%20%5B-75.49092%2C%206.36204%5D%2C%20%5B-75.49089%2C%206.36216%5D%2C%20%5B-75.49089%2C%206.36227%5D%2C%20%5B-75.49092%2C%206.36241%5D%2C%20%5B-75.49102%2C%206.36264%5D%2C%20%5B-75.49121%2C%206.36309%5D%2C%20%5B-75.49135%2C%206.36354%5D%2C%20%5B-75.49136%2C%206.36404%5D%2C%20%5B-75.49142%2C%206.36446%5D%2C%20%5B-75.4914%2C%206.36457%5D%2C%20%5B-75.49134%2C%206.36471%5D%2C%20%5B-75.49129%2C%206.36476%5D%2C%20%5B-75.49097%2C%206.36504%5D%2C%20%5B-75.49064%2C%206.36542%5D%2C%20%5B-75.49028%2C%206.3657%5D%2C%20%5B-75.49022%2C%206.36579%5D%2C%20%5B-75.48987%2C%206.3665%5D%2C%20%5B-75.48978%2C%206.36671%5D%2C%20%5B-75.48973%2C%206.36683%5D%2C%20%5B-75.48959%2C%206.36707%5D%2C%20%5B-75.4895%2C%206.36719%5D%2C%20%5B-75.48935%2C%206.36747%5D%2C%20%5B-75.48932%2C%206.36761%5D%2C%20%5B-75.48932%2C%206.36769%5D%2C%20%5B-75.48938%2C%206.36803%5D%2C%20%5B-75.48945%2C%206.36827%5D%2C%20%5B-75.48947%2C%206.36841%5D%2C%20%5B-75.48946%2C%206.36856%5D%2C%20%5B-75.48942%2C%206.36888%5D%2C%20%5B-75.48946%2C%206.36931%5D%2C%20%5B-75.48937%2C%206.36972%5D%2C%20%5B-75.48936%2C%206.36976%5D%2C%20%5B-75.4893%2C%206.36996%5D%2C%20%5B-75.4891%2C%206.37057%5D%2C%20%5B-75.48902%2C%206.37121%5D%2C%20%5B-75.4891%2C%206.37122%5D%2C%20%5B-75.48938%2C%206.37101%5D%2C%20%5B-75.48971%2C%206.37083%5D%2C%20%5B-75.48971%2C%206.37116%5D%2C%20%5B-75.48966%2C%206.3714%5D%2C%20%5B-75.48955%2C%206.37165%5D%2C%20%5B-75.48939%2C%206.37185%5D%2C%20%5B-75.48822%2C%206.3731%5D%2C%20%5B-75.48796%2C%206.3733%5D%2C%20%5B-75.48726%2C%206.37365%5D%2C%20%5B-75.48654%2C%206.374%5D%2C%20%5B-75.486%2C%206.37438%5D%2C%20%5B-75.48487%2C%206.37538%5D%2C%20%5B-75.4847%2C%206.37554%5D%2C%20%5B-75.48446%2C%206.37581%5D%2C%20%5B-75.48429%2C%206.37609%5D%2C%20%5B-75.4842%2C%206.37622%5D%2C%20%5B-75.48398%2C%206.3766%5D%2C%20%5B-75.48351%2C%206.37737%5D%2C%20%5B-75.4829%2C%206.37841%5D%2C%20%5B-75.4827%2C%206.37866%5D%2C%20%5B-75.48242%2C%206.37895%5D%2C%20%5B-75.48211%2C%206.37926%5D%2C%20%5B-75.48159%2C%206.37964%5D%2C%20%5B-75.48128%2C%206.37981%5D%2C%20%5B-75.48113%2C%206.37988%5D%2C%20%5B-75.48073%2C%206.38004%5D%2C%20%5B-75.48043%2C%206.38013%5D%2C%20%5B-75.47987%2C%206.3803%5D%2C%20%5B-75.47876%2C%206.38062%5D%2C%20%5B-75.47842%2C%206.38071%5D%2C%20%5B-75.47617%2C%206.38135%5D%2C%20%5B-75.47319%2C%206.38224%5D%2C%20%5B-75.47237%2C%206.38247%5D%2C%20%5B-75.47197%2C%206.38257%5D%2C%20%5B-75.47137%2C%206.38271%5D%2C%20%5B-75.47115%2C%206.38274%5D%2C%20%5B-75.4706%2C%206.38282%5D%2C%20%5B-75.47023%2C%206.38286%5D%2C%20%5B-75.46978%2C%206.38292%5D%2C%20%5B-75.46905%2C%206.38301%5D%2C%20%5B-75.46817%2C%206.38311%5D%2C%20%5B-75.46804%2C%206.38313%5D%2C%20%5B-75.46743%2C%206.3832%5D%2C%20%5B-75.46679%2C%206.38328%5D%2C%20%5B-75.46626%2C%206.38341%5D%2C%20%5B-75.46436%2C%206.38389%5D%2C%20%5B-75.46389%2C%206.38398%5D%2C%20%5B-75.46306%2C%206.38404%5D%2C%20%5B-75.46184%2C%206.38405%5D%2C%20%5B-75.46144%2C%206.38405%5D%2C%20%5B-75.46036%2C%206.38406%5D%2C%20%5B-75.45908%2C%206.38406%5D%2C%20%5B-75.45857%2C%206.38406%5D%2C%20%5B-75.45786%2C%206.38407%5D%2C%20%5B-75.45713%2C%206.38409%5D%2C%20%5B-75.45695%2C%206.38412%5D%2C%20%5B-75.4567%2C%206.38419%5D%2C%20%5B-75.45651%2C%206.38429%5D%2C%20%5B-75.45582%2C%206.38472%5D%2C%20%5B-75.45558%2C%206.38486%5D%2C%20%5B-75.45535%2C%206.38495%5D%2C%20%5B-75.45522%2C%206.38498%5D%2C%20%5B-75.45498%2C%206.38502%5D%2C%20%5B-75.45485%2C%206.38504%5D%2C%20%5B-75.4547%2C%206.38508%5D%2C%20%5B-75.45452%2C%206.38515%5D%2C%20%5B-75.45435%2C%206.38524%5D%2C%20%5B-75.45418%2C%206.38535%5D%2C%20%5B-75.45392%2C%206.38555%5D%2C%20%5B-75.45286%2C%206.38636%5D%2C%20%5B-75.45228%2C%206.38671%5D%2C%20%5B-75.44997%2C%206.38764%5D%2C%20%5B-75.44961%2C%206.38781%5D%2C%20%5B-75.44956%2C%206.38784%5D%2C%20%5B-75.44927%2C%206.38803%5D%2C%20%5B-75.44869%2C%206.38846%5D%2C%20%5B-75.44721%2C%206.38953%5D%2C%20%5B-75.44713%2C%206.3896%5D%2C%20%5B-75.44672%2C%206.38992%5D%2C%20%5B-75.44631%2C%206.3903%5D%2C%20%5B-75.44408%2C%206.39255%5D%2C%20%5B-75.44391%2C%206.3927%5D%2C%20%5B-75.44374%2C%206.39283%5D%2C%20%5B-75.44357%2C%206.39294%5D%2C%20%5B-75.44337%2C%206.39305%5D%2C%20%5B-75.44074%2C%206.3943%5D%2C%20%5B-75.43989%2C%206.39477%5D%2C%20%5B-75.4386%2C%206.39555%5D%2C%20%5B-75.43804%2C%206.39587%5D%2C%20%5B-75.43803%2C%206.39588%5D%2C%20%5B-75.43736%2C%206.39628%5D%2C%20%5B-75.43667%2C%206.3967%5D%2C%20%5B-75.4364%2C%206.39686%5D%2C%20%5B-75.43614%2C%206.39702%5D%2C%20%5B-75.43592%2C%206.39715%5D%2C%20%5B-75.43544%2C%206.3974%5D%2C%20%5B-75.43485%2C%206.39776%5D%2C%20%5B-75.43453%2C%206.39798%5D%2C%20%5B-75.43439%2C%206.39811%5D%2C%20%5B-75.43396%2C%206.39853%5D%2C%20%5B-75.43352%2C%206.39904%5D%2C%20%5B-75.43312%2C%206.39945%5D%2C%20%5B-75.43293%2C%206.39962%5D%2C%20%5B-75.43214%2C%206.40019%5D%2C%20%5B-75.43165%2C%206.40056%5D%2C%20%5B-75.43112%2C%206.40103%5D%2C%20%5B-75.43033%2C%206.40181%5D%2C%20%5B-75.42984%2C%206.40225%5D%2C%20%5B-75.42924%2C%206.40288%5D%2C%20%5B-75.4286%2C%206.4035%5D%2C%20%5B-75.42802%2C%206.40403%5D%2C%20%5B-75.42733%2C%206.40473%5D%2C%20%5B-75.42591%2C%206.40622%5D%2C%20%5B-75.42533%2C%206.40679%5D%2C%20%5B-75.42508%2C%206.40703%5D%2C%20%5B-75.42438%2C%206.40769%5D%2C%20%5B-75.42403%2C%206.40804%5D%2C%20%5B-75.42351%2C%206.40852%5D%2C%20%5B-75.4232%2C%206.40874%5D%2C%20%5B-75.423%2C%206.40885%5D%2C%20%5B-75.42284%2C%206.40894%5D%2C%20%5B-75.42267%2C%206.40902%5D%2C%20%5B-75.42248%2C%206.40908%5D%2C%20%5B-75.42215%2C%206.40919%5D%2C%20%5B-75.42191%2C%206.40927%5D%2C%20%5B-75.41535%2C%206.41145%5D%2C%20%5B-75.41502%2C%206.41153%5D%2C%20%5B-75.41398%2C%206.41161%5D%2C%20%5B-75.4139%2C%206.41162%5D%2C%20%5B-75.41376%2C%206.41164%5D%2C%20%5B-75.4135%2C%206.41169%5D%2C%20%5B-75.41332%2C%206.41176%5D%2C%20%5B-75.41319%2C%206.41182%5D%2C%20%5B-75.41311%2C%206.41185%5D%2C%20%5B-75.41203%2C%206.41242%5D%2C%20%5B-75.41161%2C%206.41255%5D%2C%20%5B-75.40881%2C%206.41311%5D%2C%20%5B-75.40847%2C%206.41318%5D%2C%20%5B-75.40791%2C%206.41331%5D%2C%20%5B-75.40758%2C%206.41341%5D%2C%20%5B-75.40735%2C%206.41351%5D%2C%20%5B-75.40179%2C%206.41631%5D%2C%20%5B-75.40158%2C%206.4164%5D%2C%20%5B-75.40136%2C%206.41647%5D%2C%20%5B-75.40115%2C%206.41652%5D%2C%20%5B-75.40092%2C%206.41655%5D%2C%20%5B-75.40067%2C%206.41655%5D%2C%20%5B-75.40044%2C%206.41652%5D%2C%20%5B-75.3997%2C%206.41639%5D%2C%20%5B-75.39956%2C%206.41634%5D%2C%20%5B-75.39898%2C%206.4161%5D%2C%20%5B-75.39866%2C%206.41601%5D%2C%20%5B-75.39845%2C%206.41599%5D%2C%20%5B-75.39825%2C%206.41598%5D%2C%20%5B-75.39738%2C%206.41608%5D%2C%20%5B-75.39733%2C%206.41609%5D%2C%20%5B-75.39696%2C%206.41615%5D%2C%20%5B-75.39658%2C%206.41619%5D%2C%20%5B-75.39581%2C%206.41622%5D%2C%20%5B-75.39407%2C%206.41626%5D%2C%20%5B-75.3937%2C%206.41628%5D%2C%20%5B-75.39255%2C%206.41633%5D%2C%20%5B-75.39229%2C%206.41632%5D%2C%20%5B-75.39202%2C%206.4163%5D%2C%20%5B-75.3918%2C%206.41626%5D%2C%20%5B-75.39083%2C%206.41603%5D%2C%20%5B-75.39063%2C%206.416%5D%2C%20%5B-75.39042%2C%206.416%5D%2C%20%5B-75.3902%2C%206.41601%5D%2C%20%5B-75.39001%2C%206.41604%5D%2C%20%5B-75.38982%2C%206.41609%5D%2C%20%5B-75.38947%2C%206.41621%5D%2C%20%5B-75.38865%2C%206.41655%5D%2C%20%5B-75.38528%2C%206.41797%5D%2C%20%5B-75.38482%2C%206.41815%5D%2C%20%5B-75.38457%2C%206.4182%5D%2C%20%5B-75.38434%2C%206.41822%5D%2C%20%5B-75.38415%2C%206.41821%5D%2C%20%5B-75.38396%2C%206.41817%5D%2C%20%5B-75.38261%2C%206.41765%5D%2C%20%5B-75.38232%2C%206.41761%5D%2C%20%5B-75.38204%2C%206.41761%5D%2C%20%5B-75.38181%2C%206.41765%5D%2C%20%5B-75.38164%2C%206.41771%5D%2C%20%5B-75.38102%2C%206.41798%5D%2C%20%5B-75.38081%2C%206.41804%5D%2C%20%5B-75.3806%2C%206.41807%5D%2C%20%5B-75.38037%2C%206.41808%5D%2C%20%5B-75.38013%2C%206.41804%5D%2C%20%5B-75.37885%2C%206.41761%5D%2C%20%5B-75.37816%2C%206.4174%5D%2C%20%5B-75.37787%2C%206.41737%5D%2C%20%5B-75.37777%2C%206.41736%5D%2C%20%5B-75.37748%2C%206.41737%5D%2C%20%5B-75.37724%2C%206.41741%5D%2C%20%5B-75.37712%2C%206.41744%5D%2C%20%5B-75.37603%2C%206.41779%5D%2C%20%5B-75.37573%2C%206.41783%5D%2C%20%5B-75.37488%2C%206.41786%5D%2C%20%5B-75.37448%2C%206.4179%5D%2C%20%5B-75.37425%2C%206.41795%5D%2C%20%5B-75.37321%2C%206.41825%5D%2C%20%5B-75.37303%2C%206.41826%5D%2C%20%5B-75.37279%2C%206.41825%5D%2C%20%5B-75.37213%2C%206.41818%5D%2C%20%5B-75.37196%2C%206.41819%5D%2C%20%5B-75.37176%2C%206.41822%5D%2C%20%5B-75.37151%2C%206.41831%5D%2C%20%5B-75.37116%2C%206.4185%5D%2C%20%5B-75.37051%2C%206.41899%5D%2C%20%5B-75.37%2C%206.4195%5D%2C%20%5B-75.36981%2C%206.41967%5D%2C%20%5B-75.36961%2C%206.41978%5D%2C%20%5B-75.36915%2C%206.41998%5D%2C%20%5B-75.36885%2C%206.42012%5D%2C%20%5B-75.36838%2C%206.42048%5D%2C%20%5B-75.36809%2C%206.42066%5D%2C%20%5B-75.36773%2C%206.42078%5D%2C%20%5B-75.36732%2C%206.42084%5D%2C%20%5B-75.3672%2C%206.42087%5D%2C%20%5B-75.36701%2C%206.42091%5D%2C%20%5B-75.36683%2C%206.42098%5D%2C%20%5B-75.36663%2C%206.42109%5D%2C%20%5B-75.36647%2C%206.42122%5D%2C%20%5B-75.366%2C%206.42164%5D%2C%20%5B-75.36585%2C%206.42175%5D%2C%20%5B-75.36566%2C%206.42186%5D%2C%20%5B-75.36545%2C%206.42193%5D%2C%20%5B-75.36524%2C%206.42199%5D%2C%20%5B-75.36492%2C%206.42202%5D%2C%20%5B-75.36483%2C%206.42203%5D%2C%20%5B-75.36461%2C%206.42207%5D%2C%20%5B-75.36441%2C%206.42213%5D%2C%20%5B-75.36394%2C%206.42236%5D%2C%20%5B-75.36379%2C%206.42244%5D%2C%20%5B-75.36373%2C%206.42247%5D%2C%20%5B-75.36358%2C%206.42257%5D%2C%20%5B-75.3633%2C%206.42278%5D%2C%20%5B-75.3631%2C%206.42299%5D%2C%20%5B-75.36278%2C%206.42332%5D%2C%20%5B-75.36249%2C%206.42356%5D%2C%20%5B-75.3618%2C%206.42392%5D%2C%20%5B-75.36164%2C%206.42403%5D%2C%20%5B-75.36147%2C%206.42417%5D%2C%20%5B-75.36134%2C%206.4243%5D%2C%20%5B-75.36077%2C%206.42502%5D%2C%20%5B-75.36037%2C%206.42551%5D%2C%20%5B-75.36029%2C%206.42562%5D%2C%20%5B-75.36016%2C%206.42583%5D%2C%20%5B-75.36005%2C%206.42605%5D%2C%20%5B-75.35991%2C%206.42686%5D%2C%20%5B-75.35986%2C%206.42702%5D%2C%20%5B-75.35977%2C%206.42721%5D%2C%20%5B-75.35966%2C%206.42734%5D%2C%20%5B-75.3595%2C%206.4275%5D%2C%20%5B-75.3593%2C%206.4276%5D%2C%20%5B-75.35913%2C%206.42765%5D%2C%20%5B-75.35893%2C%206.42768%5D%2C%20%5B-75.35857%2C%206.42765%5D%2C%20%5B-75.35746%2C%206.42726%5D%2C%20%5B-75.35727%2C%206.42721%5D%2C%20%5B-75.35701%2C%206.42722%5D%2C%20%5B-75.35678%2C%206.42726%5D%2C%20%5B-75.35653%2C%206.42738%5D%2C%20%5B-75.35638%2C%206.42749%5D%2C%20%5B-75.35621%2C%206.42766%5D%2C%20%5B-75.35581%2C%206.42826%5D%2C%20%5B-75.35567%2C%206.4284%5D%2C%20%5B-75.35549%2C%206.4285%5D%2C%20%5B-75.35529%2C%206.42858%5D%2C%20%5B-75.35472%2C%206.42871%5D%2C%20%5B-75.35447%2C%206.42879%5D%2C%20%5B-75.35425%2C%206.42888%5D%2C%20%5B-75.35395%2C%206.42907%5D%2C%20%5B-75.35362%2C%206.42931%5D%2C%20%5B-75.35344%2C%206.42947%5D%2C%20%5B-75.35321%2C%206.42978%5D%2C%20%5B-75.35296%2C%206.43021%5D%2C%20%5B-75.35284%2C%206.43038%5D%2C%20%5B-75.35267%2C%206.43053%5D%2C%20%5B-75.35241%2C%206.43066%5D%2C%20%5B-75.35168%2C%206.43091%5D%2C%20%5B-75.35149%2C%206.43099%5D%2C%20%5B-75.35135%2C%206.43107%5D%2C%20%5B-75.3512%2C%206.4312%5D%2C%20%5B-75.35084%2C%206.43163%5D%2C%20%5B-75.35072%2C%206.43175%5D%2C%20%5B-75.35058%2C%206.43185%5D%2C%20%5B-75.35039%2C%206.43192%5D%2C%20%5B-75.35021%2C%206.43197%5D%2C%20%5B-75.35006%2C%206.43198%5D%2C%20%5B-75.34921%2C%206.4319%5D%2C%20%5B-75.34899%2C%206.43192%5D%2C%20%5B-75.34882%2C%206.43197%5D%2C%20%5B-75.34864%2C%206.43204%5D%2C%20%5B-75.3485%2C%206.43213%5D%2C%20%5B-75.34788%2C%206.43257%5D%2C%20%5B-75.3476%2C%206.43284%5D%2C%20%5B-75.34749%2C%206.43303%5D%2C%20%5B-75.34724%2C%206.43352%5D%2C%20%5B-75.34716%2C%206.43364%5D%2C%20%5B-75.34704%2C%206.43377%5D%2C%20%5B-75.34632%2C%206.43433%5D%2C%20%5B-75.34585%2C%206.43484%5D%2C%20%5B-75.3457%2C%206.43499%5D%2C%20%5B-75.34553%2C%206.4351%5D%2C%20%5B-75.34537%2C%206.43517%5D%2C%20%5B-75.34516%2C%206.43525%5D%2C%20%5B-75.34499%2C%206.43528%5D%2C%20%5B-75.34469%2C%206.43529%5D%2C%20%5B-75.34441%2C%206.43527%5D%2C%20%5B-75.34386%2C%206.43518%5D%2C%20%5B-75.34352%2C%206.43509%5D%2C%20%5B-75.34306%2C%206.43492%5D%2C%20%5B-75.34287%2C%206.43488%5D%2C%20%5B-75.34269%2C%206.43486%5D%2C%20%5B-75.34247%2C%206.43486%5D%2C%20%5B-75.34224%2C%206.43488%5D%2C%20%5B-75.34199%2C%206.43496%5D%2C%20%5B-75.34169%2C%206.43506%5D%2C%20%5B-75.34136%2C%206.43519%5D%2C%20%5B-75.34132%2C%206.43521%5D%2C%20%5B-75.34117%2C%206.4353%5D%2C%20%5B-75.34089%2C%206.43555%5D%2C%20%5B-75.34073%2C%206.43574%5D%2C%20%5B-75.34033%2C%206.4363%5D%2C%20%5B-75.34008%2C%206.43656%5D%2C%20%5B-75.33988%2C%206.43671%5D%2C%20%5B-75.33971%2C%206.43681%5D%2C%20%5B-75.33908%2C%206.43712%5D%2C%20%5B-75.33892%2C%206.43723%5D%2C%20%5B-75.33875%2C%206.43739%5D%2C%20%5B-75.33861%2C%206.43754%5D%2C%20%5B-75.33848%2C%206.43774%5D%2C%20%5B-75.33839%2C%206.43796%5D%2C%20%5B-75.33807%2C%206.43877%5D%2C%20%5B-75.33799%2C%206.43912%5D%2C%20%5B-75.33798%2C%206.43945%5D%2C%20%5B-75.33801%2C%206.43967%5D%2C%20%5B-75.3383%2C%206.44079%5D%2C%20%5B-75.33833%2C%206.44095%5D%2C%20%5B-75.33834%2C%206.4412%5D%2C%20%5B-75.33833%2C%206.44347%5D%2C%20%5B-75.3383%2C%206.4438%5D%2C%20%5B-75.33824%2C%206.44402%5D%2C%20%5B-75.33817%2C%206.44419%5D%2C%20%5B-75.33808%2C%206.44437%5D%2C%20%5B-75.33796%2C%206.44455%5D%2C%20%5B-75.3378%2C%206.44471%5D%2C%20%5B-75.33756%2C%206.44491%5D%2C%20%5B-75.33688%2C%206.4454%5D%2C%20%5B-75.33657%2C%206.44562%5D%2C%20%5B-75.3365%2C%206.44567%5D%2C%20%5B-75.3362%2C%206.44589%5D%2C%20%5B-75.33428%2C%206.44727%5D%2C%20%5B-75.33232%2C%206.44878%5D%2C%20%5B-75.33212%2C%206.4489%5D%2C%20%5B-75.33198%2C%206.449%5D%2C%20%5B-75.33172%2C%206.44916%5D%2C%20%5B-75.33095%2C%206.44954%5D%2C%20%5B-75.33091%2C%206.44956%5D%2C%20%5B-75.33039%2C%206.44981%5D%2C%20%5B-75.33024%2C%206.44989%5D%2C%20%5B-75.32899%2C%206.45062%5D%2C%20%5B-75.32863%2C%206.45084%5D%2C%20%5B-75.32774%2C%206.45145%5D%2C%20%5B-75.32737%2C%206.45183%5D%2C%20%5B-75.3257%2C%206.45423%5D%2C%20%5B-75.32515%2C%206.45493%5D%2C%20%5B-75.3249%2C%206.45517%5D%2C%20%5B-75.32468%2C%206.45532%5D%2C%20%5B-75.32429%2C%206.45549%5D%2C%20%5B-75.32411%2C%206.45556%5D%2C%20%5B-75.32387%2C%206.45559%5D%2C%20%5B-75.32352%2C%206.45561%5D%2C%20%5B-75.32322%2C%206.45558%5D%2C%20%5B-75.3205%2C%206.45491%5D%2C%20%5B-75.32019%2C%206.45489%5D%2C%20%5B-75.31583%2C%206.455%5D%2C%20%5B-75.31552%2C%206.45494%5D%2C%20%5B-75.31409%2C%206.45452%5D%2C%20%5B-75.31346%2C%206.45444%5D%2C%20%5B-75.31281%2C%206.45454%5D%2C%20%5B-75.31228%2C%206.45476%5D%2C%20%5B-75.31113%2C%206.45564%5D%2C%20%5B-75.31078%2C%206.45583%5D%2C%20%5B-75.31031%2C%206.456%5D%2C%20%5B-75.30971%2C%206.45612%5D%2C%20%5B-75.30921%2C%206.45625%5D%2C%20%5B-75.3087%2C%206.4565%5D%2C%20%5B-75.30845%2C%206.45673%5D%2C%20%5B-75.3083%2C%206.45686%5D%2C%20%5B-75.30749%2C%206.45758%5D%2C%20%5B-75.30709%2C%206.45779%5D%2C%20%5B-75.30592%2C%206.45826%5D%2C%20%5B-75.30539%2C%206.45849%5D%2C%20%5B-75.30476%2C%206.45877%5D%2C%20%5B-75.30363%2C%206.45953%5D%2C%20%5B-75.30306%2C%206.45976%5D%2C%20%5B-75.30236%2C%206.45995%5D%2C%20%5B-75.30189%2C%206.45996%5D%2C%20%5B-75.3013%2C%206.45987%5D%2C%20%5B-75.30125%2C%206.45986%5D%2C%20%5B-75.30043%2C%206.45972%5D%2C%20%5B-75.29977%2C%206.45977%5D%2C%20%5B-75.2992%2C%206.46003%5D%2C%20%5B-75.29911%2C%206.46007%5D%2C%20%5B-75.29849%2C%206.46057%5D%2C%20%5B-75.29587%2C%206.46307%5D%2C%20%5B-75.29545%2C%206.4633%5D%2C%20%5B-75.29502%2C%206.46345%5D%2C%20%5B-75.2934%2C%206.46388%5D%2C%20%5B-75.29281%2C%206.46418%5D%2C%20%5B-75.29247%2C%206.46447%5D%2C%20%5B-75.29229%2C%206.46461%5D%2C%20%5B-75.29174%2C%206.46531%5D%2C%20%5B-75.2903%2C%206.46735%5D%2C%20%5B-75.28898%2C%206.46874%5D%2C%20%5B-75.2887%2C%206.4691%5D%2C%20%5B-75.28851%2C%206.46948%5D%2C%20%5B-75.28739%2C%206.4726%5D%2C%20%5B-75.28722%2C%206.47301%5D%2C%20%5B-75.28697%2C%206.47342%5D%2C%20%5B-75.28531%2C%206.47597%5D%2C%20%5B-75.28494%2C%206.47642%5D%2C%20%5B-75.28447%2C%206.47679%5D%2C%20%5B-75.28396%2C%206.47701%5D%2C%20%5B-75.28205%2C%206.47743%5D%2C%20%5B-75.28147%2C%206.47752%5D%2C%20%5B-75.28027%2C%206.47766%5D%2C%20%5B-75.27971%2C%206.4778%5D%2C%20%5B-75.27941%2C%206.47791%5D%2C%20%5B-75.27927%2C%206.47796%5D%2C%20%5B-75.27904%2C%206.47809%5D%2C%20%5B-75.27881%2C%206.47822%5D%2C%20%5B-75.27764%2C%206.47924%5D%2C%20%5B-75.27704%2C%206.47968%5D%2C%20%5B-75.27569%2C%206.48062%5D%2C%20%5B-75.27508%2C%206.48111%5D%2C%20%5B-75.27484%2C%206.4815%5D%2C%20%5B-75.27464%2C%206.48202%5D%2C%20%5B-75.27455%2C%206.48267%5D%2C%20%5B-75.27452%2C%206.48315%5D%2C%20%5B-75.27431%2C%206.48386%5D%2C%20%5B-75.27415%2C%206.48421%5D%2C%20%5B-75.27284%2C%206.48625%5D%2C%20%5B-75.27158%2C%206.4884%5D%2C%20%5B-75.27105%2C%206.4891%5D%2C%20%5B-75.27085%2C%206.48934%5D%2C%20%5B-75.26989%2C%206.49021%5D%2C%20%5B-75.26955%2C%206.49052%5D%2C%20%5B-75.26907%2C%206.49094%5D%2C%20%5B-75.26882%2C%206.49117%5D%2C%20%5B-75.26844%2C%206.49162%5D%2C%20%5B-75.26827%2C%206.49191%5D%2C%20%5B-75.26793%2C%206.49251%5D%2C%20%5B-75.2668%2C%206.49447%5D%2C%20%5B-75.26654%2C%206.49517%5D%2C%20%5B-75.26637%2C%206.4958%5D%2C%20%5B-75.26603%2C%206.49704%5D%2C%20%5B-75.26578%2C%206.49793%5D%2C%20%5B-75.26555%2C%206.49845%5D%2C%20%5B-75.26537%2C%206.4988%5D%2C%20%5B-75.26447%2C%206.49994%5D%2C%20%5B-75.26428%2C%206.50048%5D%2C%20%5B-75.2642%2C%206.50088%5D%2C%20%5B-75.26431%2C%206.5023%5D%2C%20%5B-75.26432%2C%206.50259%5D%2C%20%5B-75.26432%2C%206.50285%5D%2C%20%5B-75.26415%2C%206.50329%5D%2C%20%5B-75.26358%2C%206.50458%5D%2C%20%5B-75.2632%2C%206.50509%5D%2C%20%5B-75.26299%2C%206.50533%5D%2C%20%5B-75.26209%2C%206.50636%5D%2C%20%5B-75.26166%2C%206.50678%5D%2C%20%5B-75.26093%2C%206.5073%5D%2C%20%5B-75.26079%2C%206.50743%5D%2C%20%5B-75.26072%2C%206.50749%5D%2C%20%5B-75.26055%2C%206.50769%5D%2C%20%5B-75.26046%2C%206.50784%5D%2C%20%5B-75.26025%2C%206.50826%5D%2C%20%5B-75.26022%2C%206.50837%5D%2C%20%5B-75.26014%2C%206.50876%5D%2C%20%5B-75.26014%2C%206.50891%5D%2C%20%5B-75.26013%2C%206.50925%5D%2C%20%5B-75.26019%2C%206.50947%5D%2C%20%5B-75.26025%2C%206.50961%5D%2C%20%5B-75.26091%2C%206.51048%5D%2C%20%5B-75.26102%2C%206.51059%5D%2C%20%5B-75.26106%2C%206.51067%5D%2C%20%5B-75.26109%2C%206.51075%5D%2C%20%5B-75.26111%2C%206.51087%5D%2C%20%5B-75.26112%2C%206.51105%5D%2C%20%5B-75.26111%2C%206.5112%5D%2C%20%5B-75.26106%2C%206.51137%5D%2C%20%5B-75.26095%2C%206.51162%5D%2C%20%5B-75.26049%2C%206.51202%5D%2C%20%5B-75.26037%2C%206.51211%5D%2C%20%5B-75.26023%2C%206.51218%5D%2C%20%5B-75.25984%2C%206.51231%5D%2C%20%5B-75.25973%2C%206.51238%5D%2C%20%5B-75.25964%2C%206.51246%5D%2C%20%5B-75.25903%2C%206.51317%5D%2C%20%5B-75.25887%2C%206.51341%5D%2C%20%5B-75.25881%2C%206.51356%5D%2C%20%5B-75.25874%2C%206.51364%5D%2C%20%5B-75.25866%2C%206.51369%5D%2C%20%5B-75.25837%2C%206.51382%5D%2C%20%5B-75.25822%2C%206.51396%5D%2C%20%5B-75.25813%2C%206.51408%5D%2C%20%5B-75.25765%2C%206.51487%5D%2C%20%5B-75.25754%2C%206.51498%5D%2C%20%5B-75.25741%2C%206.51507%5D%2C%20%5B-75.25693%2C%206.51534%5D%2C%20%5B-75.25682%2C%206.51549%5D%2C%20%5B-75.25674%2C%206.51569%5D%2C%20%5B-75.25665%2C%206.51585%5D%2C%20%5B-75.25656%2C%206.51592%5D%2C%20%5B-75.25632%2C%206.51602%5D%2C%20%5B-75.25559%2C%206.51614%5D%2C%20%5B-75.25512%2C%206.51625%5D%2C%20%5B-75.25515%2C%206.51639%5D%2C%20%5B-75.25521%2C%206.51674%5D%2C%20%5B-75.25527%2C%206.51715%5D%5D%2C%20%22type%22%3A%20%22LineString%22%7D%2C%20%22properties%22%3A%20%7B%22color%22%3A%20%22blue%22%2C%20%22highlight%22%3A%20%7B%7D%2C%20%22style%22%3A%20%7B%22color%22%3A%20%22blue%22%7D%7D%2C%20%22type%22%3A%20%22Feature%22%7D%5D%2C%20%22type%22%3A%20%22FeatureCollection%22%7D%2C%0A%20%20%20%20%20%20%20%20%20%20%20%20%7B%0A%20%20%20%20%20%20%20%20%20%20%20%20%7D%0A%20%20%20%20%20%20%20%20%29.addTo%28map_f8c6d5f91bf24b6898c58b8220516932%20%29%3B%0A%20%20%20%20%20%20%20%20geo_json_c7d6a10de9d74ed8a0840f39bfd60dea.setStyle%28function%28feature%29%20%7Breturn%20feature.properties.style%3B%7D%29%3B%0A%20%20%20%20%20%20%20%20%0A%20%20%20%20%0A%20%20%20%20%20%20%20%20geo_json_c7d6a10de9d74ed8a0840f39bfd60dea.bindTooltip%28%0A%20%20%20%20%20%20%20%20%20%20%20%20%60%3Cdiv%3E%60%0A%20%20%20%20%20%20%20%20%20%20%20%20%2B%20%60%3Ch4%3EVeh%C3%ADculo%202%3C/h4%3E%0A%20%20%20%20%20%20%20%20%3Cb%3EDistancia%3A%3C/b%3E%20109566%20m%20%3Cbr%3E%0A%20%20%20%20%20%20%20%20%3Cb%3EDuraci%C3%B3n%3A%3C/b%3E%206326%20secs%0A%20%20%20%20%20%20%20%20%60%20%2B%20%60%3C/div%3E%60%2C%0A%20%20%20%20%20%20%20%20%20%20%20%20%7B%22sticky%22%3A%20true%7D%0A%20%20%20%20%20%20%20%20%29%3B%0A%20%20%20%20%20%20%20%20%0A%20%20%20%20%0A%20%20%20%20%20%20%20%20%20%20%20%20var%20layer_control_447d154484014970b191b512184dd40d%20%3D%20%7B%0A%20%20%20%20%20%20%20%20%20%20%20%20%20%20%20%20base_layers%20%3A%20%7B%20%22openstreetmap%22%20%3A%20tile_layer_04f35c260a3546baa7bae4d936e9156d%2C%20%7D%2C%0A%20%20%20%20%20%20%20%20%20%20%20%20%20%20%20%20overlays%20%3A%20%7B%20%22Veh%C3%ADculo%200%22%20%3A%20geo_json_43e250002a804e2c90bb7499608dca40%2C%22Veh%C3%ADculo%201%22%20%3A%20geo_json_b4cb4e8c17bd419bb1fed02430f7cf9f%2C%22Veh%C3%ADculo%202%22%20%3A%20geo_json_c7d6a10de9d74ed8a0840f39bfd60dea%2C%20%7D%0A%20%20%20%20%20%20%20%20%20%20%20%20%20%20%20%20%7D%3B%0A%20%20%20%20%20%20%20%20%20%20%20%20L.control.layers%28%0A%20%20%20%20%20%20%20%20%20%20%20%20%20%20%20%20layer_control_447d154484014970b191b512184dd40d.base_layers%2C%0A%20%20%20%20%20%20%20%20%20%20%20%20%20%20%20%20layer_control_447d154484014970b191b512184dd40d.overlays%2C%0A%20%20%20%20%20%20%20%20%20%20%20%20%20%20%20%20%7Bposition%3A%20%27topright%27%2C%0A%20%20%20%20%20%20%20%20%20%20%20%20%20%20%20%20%20collapsed%3A%20true%2C%0A%20%20%20%20%20%20%20%20%20%20%20%20%20%20%20%20%20autoZIndex%3A%20true%0A%20%20%20%20%20%20%20%20%20%20%20%20%20%20%20%20%7D%29.addTo%28map_f8c6d5f91bf24b6898c58b8220516932%29%3B%0A%20%20%20%20%20%20%20%20%20%20%20%20%0A%20%20%20%20%20%20%20%20%0A%3C/script%3E onload=\"this.contentDocument.open();this.contentDocument.write(    decodeURIComponent(this.getAttribute('data-html')));this.contentDocument.close();\" allowfullscreen webkitallowfullscreen mozallowfullscreen></iframe></div></div>"
            ],
            "text/plain": [
              "<folium.folium.Map at 0x7f5374964250>"
            ]
          },
          "metadata": {},
          "execution_count": 21
        }
      ],
      "source": [
        "# Agregar el resultado al mapa\n",
        "\n",
        "for color, route in zip(['red','green','blue'], result['routes']):\n",
        "    decoded = ors.convert.decode_polyline(route['geometry'])  # La geometría de la ruta está codificada\n",
        "    gj = fm.GeoJson(\n",
        "        name='Vehículo {}'.format(route['vehicle']),\n",
        "        data={\"type\": \"FeatureCollection\", \"features\": [{\"type\": \"Feature\",\n",
        "                                                         \"geometry\": decoded,\n",
        "                                                         \"properties\": {\"color\": color}\n",
        "                                                         }]},\n",
        "        style_function=lambda x: {\"color\": x['properties']['color']}\n",
        "    )\n",
        "    gj.add_child(fm.Tooltip(\n",
        "        \"\"\"<h4>Vehículo {vehicle}</h4>\n",
        "        <b>Distancia:</b> {distance} m <br>\n",
        "        <b>Duración:</b> {duration} secs\n",
        "        \"\"\".format(**route)\n",
        "    ))\n",
        "    gj.add_to(m1)\n",
        "\n",
        "fm.LayerControl().add_to(m1)\n",
        "m1.save('mapa_vrp_ors+vroom.html')\n",
        "m1"
      ]
    }
  ],
  "metadata": {
    "interpreter": {
      "hash": "3146da6329585787a6a31e827d73712b882c3fe1f7fe69da628ecf2a74b29508"
    },
    "kernelspec": {
      "display_name": "Python 3.9.7 64-bit",
      "language": "python",
      "name": "python3"
    },
    "language_info": {
      "codemirror_mode": {
        "name": "ipython",
        "version": 3
      },
      "file_extension": ".py",
      "mimetype": "text/x-python",
      "name": "python",
      "nbconvert_exporter": "python",
      "pygments_lexer": "ipython3",
      "version": "3.9.7"
    },
    "orig_nbformat": 4,
    "colab": {
      "name": "VRP ORS+VROOM V1.1.ipynb",
      "provenance": [],
      "include_colab_link": true
    }
  },
  "nbformat": 4,
  "nbformat_minor": 0
}